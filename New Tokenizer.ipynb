{
 "cells": [
  {
   "cell_type": "code",
   "execution_count": 45,
   "metadata": {
    "collapsed": true,
    "deletable": true,
    "editable": true
   },
   "outputs": [],
   "source": [
    "import string\n",
    "import re\n",
    "\n",
    "word = \"This is python testing on jupyter. This is Nayeon's Testing page? hoho! Haha!!!\" + u'\\U0001f602'\n",
    "char = 'anaconda is nice!!! Wow. a' + u'\\U0001f602'"
   ]
  },
  {
   "cell_type": "code",
   "execution_count": 105,
   "metadata": {
    "collapsed": false,
    "deletable": true,
    "editable": true
   },
   "outputs": [],
   "source": [
    "def word_filtering(inputStr, includePunct, includeSpace=True):\n",
    "    whitelistStr = string.ascii_letters + string.digits\n",
    "    whitelistStr = (whitelistStr + string.punctuation) if includePunct else whitelistStr\n",
    "    whitelistStr = (whitelistStr + string.whitespace) if includeSpace else whitelistStr\n",
    "    \n",
    "    whitelist = set(whitelistStr)\n",
    "    processedStr = ''.join(filter(whitelist.__contains__, inputStr))\n",
    "\n",
    "    return processedStr\n",
    "\n",
    "# to_words\n",
    "# options = {\"padStart\": integer, \"padEnd\": integer, \"includePunct\":boolean, \"filterNonAlphaNumPun\":boolean}\n",
    "def to_words(inputStr, options={}):\n",
    "    includePunct = True if \"includePunct\" not in options else options[\"includePunct\"]\n",
    "    filterNonAlphaNumPun = True if \"filterNonAlphaNumPun\" not in options else options[\"filterNonAlphaNumPun\"]\n",
    "    padStart = 0 if \"padStart\" not in options else options[\"padStart\"]\n",
    "    padEnd = 0 if \"padEnd\" not in options else options[\"padEnd\"]\n",
    "\n",
    "    word_list = [];\n",
    "    #insert <start> tokens if any\n",
    "    word_list.extend(['<start>'] * padStart)\n",
    "    \n",
    "    processedInputStr = ''\n",
    "    \n",
    "    # filter non-alpha-num\n",
    "    if filterNonAlphaNumPun:\n",
    "        processedInputStr = word_filtering(inputStr, includePunct)\n",
    "    else:\n",
    "        processedInputStr = inputStr\n",
    "    \n",
    "    # space-splitting punctuation\n",
    "    if includePunct:\n",
    "        processedInputStr = re.sub(\"([.,!'?()])\", r' \\1 ', processedInputStr)\n",
    "        \n",
    "    word_list += processedInputStr.split()\n",
    "\n",
    "    #insert <end> tokens if any\n",
    "    word_list.extend(['<end>'] * padEnd)\n",
    "\n",
    "    return word_list"
   ]
  },
  {
   "cell_type": "code",
   "execution_count": 110,
   "metadata": {
    "collapsed": false,
    "deletable": true,
    "editable": true
   },
   "outputs": [
    {
     "name": "stdout",
     "output_type": "stream",
     "text": [
      "['This', 'is', 'python', 'testing', 'on', 'jupyter', '.', 'This', 'is', 'Nayeon', \"'\", 's', 'Testing', 'page', '?', 'hoho', '!', 'Haha', '!', '!', '!']\n",
      "['This', 'is', 'python', 'testing', 'on', 'jupyter', 'This', 'is', 'Nayeons', 'Testing', 'page', 'hoho', 'Haha']\n",
      "['This', 'is', 'python', 'testing', 'on', 'jupyter', '.', 'This', 'is', 'Nayeon', \"'\", 's', 'Testing', 'page', '?', 'hoho', '!', 'Haha', '!', '!', '!', '😂']\n",
      "['This', 'is', 'python', 'testing', 'on', 'jupyter.', 'This', 'is', \"Nayeon's\", 'Testing', 'page?', 'hoho!', 'Haha!!!😂']\n"
     ]
    }
   ],
   "source": [
    "print(to_words(word, options={\"includePunct\":True}))\n",
    "print(to_words(word, options={\"includePunct\":False}))\n",
    "print(to_words(word, options={\"includePunct\":True, \"filterNonAlphaNumPun\": False}))\n",
    "print(to_words(word, options={\"includePunct\":False, \"filterNonAlphaNumPun\": False}))"
   ]
  },
  {
   "cell_type": "code",
   "execution_count": 225,
   "metadata": {
    "collapsed": false
   },
   "outputs": [],
   "source": [
    "def to_chars(inputStr, options={}):\n",
    "    filterNonAlphaNumPun = True if \"filterNonAlphaNumPun\" not in options else options[\"filterNonAlphaNumPun\"]\n",
    "    includePunct = True if \"includePunct\" not in options else options[\"includePunct\"]\n",
    "    includeSpace = False if \"includeSpace\" not in options else options[\"includeSpace\"]\n",
    "\n",
    "    char_list = [];\n",
    "    \n",
    "    # filter non-alpha-num & handle punc\n",
    "    if filterNonAlphaNumPun:\n",
    "        inputStr = word_filtering(inputStr, includePunct)\n",
    "    else:\n",
    "        inputStr = inputStr if includePunct else inputStr.translate(str.maketrans('', '', string.punctuation))\n",
    "    \n",
    "    word_tokens = inputStr.split()\n",
    "\n",
    "    for word_token in word_tokens:\n",
    "        token_list = list(word_token)\n",
    "        char_list += ([\" \"] + token_list) if includeSpace else token_list\n",
    "\n",
    "    return char_list"
   ]
  },
  {
   "cell_type": "code",
   "execution_count": 231,
   "metadata": {
    "collapsed": false
   },
   "outputs": [
    {
     "name": "stdout",
     "output_type": "stream",
     "text": [
      "['a', 'n', 'a', 'c', 'o', 'n', 'd', 'a', 'i', 's', 'n', 'i', 'c', 'e', '!', '!', '!', 'W', 'o', 'w', '.', 'a']\n",
      "[' ', 'a', 'n', 'a', 'c', 'o', 'n', 'd', 'a', ' ', 'i', 's', ' ', 'n', 'i', 'c', 'e', '!', '!', '!', ' ', 'W', 'o', 'w', '.', ' ', 'a']\n"
     ]
    }
   ],
   "source": [
    "# print(to_chars(char, options={\"filterNonAlphaNumPun\": True, \"includeSpace\": False, \"includePunct\":True}))\n",
    "# print(to_chars(char, options={\"filterNonAlphaNumPun\": True, \"includeSpace\": False, \"includePunct\":False}))\n",
    "print(to_chars(char, options={\"filterNonAlphaNumPun\": True, \"includeSpace\": False, \"includePunct\":True}))\n",
    "print(to_chars(char, options={\"filterNonAlphaNumPun\": True, \"includeSpace\": True, \"includePunct\":True}))"
   ]
  },
  {
   "cell_type": "code",
   "execution_count": null,
   "metadata": {
    "collapsed": true
   },
   "outputs": [],
   "source": []
  },
  {
   "cell_type": "code",
   "execution_count": null,
   "metadata": {
    "collapsed": true
   },
   "outputs": [],
   "source": []
  }
 ],
 "metadata": {
  "kernelspec": {
   "display_name": "Python 3",
   "language": "python",
   "name": "python3"
  },
  "language_info": {
   "codemirror_mode": {
    "name": "ipython",
    "version": 3
   },
   "file_extension": ".py",
   "mimetype": "text/x-python",
   "name": "python",
   "nbconvert_exporter": "python",
   "pygments_lexer": "ipython3",
   "version": "3.4.5"
  }
 },
 "nbformat": 4,
 "nbformat_minor": 2
}
