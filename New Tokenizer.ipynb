{
 "cells": [
  {
   "cell_type": "code",
   "execution_count": 1,
   "metadata": {
    "collapsed": true
   },
   "outputs": [],
   "source": [
    "import string\n",
    "import re"
   ]
  },
  {
   "cell_type": "code",
   "execution_count": 26,
   "metadata": {
    "collapsed": true
   },
   "outputs": [],
   "source": [
    "#filter_non_alphanum_punc\n",
    "def filter_non_alphanum_punc(inputStr):\n",
    "    emoji_pattern = re.compile(\"[\"\n",
    "            u\"\\U0001F600-\\U0001F64F\"  # emoticons\n",
    "            u\"\\U0001F300-\\U0001F5FF\"  # symbols & pictographs\n",
    "            u\"\\U0001F680-\\U0001F6FF\"  # transport & map symbols\n",
    "            u\"\\U0001F1E0-\\U0001F1FF\"  # flags (iOS)\n",
    "                               \"]+\", flags=re.UNICODE)\n",
    "    return emoji_pattern.sub(r'', inputStr)\n",
    "\n",
    "\n",
    "# to_words\n",
    "# options = {\"padStart\": integer, \"padEnd\": integer, \"includePunct\":boolean, \"filterNonAlphaNumPun\":boolean}\n",
    "def to_words(inputStr, options={}):\n",
    "    includePunct = True if \"includePunct\" not in options else options[\"includePunct\"]\n",
    "    filterNonAlphaNumPun = True if \"filterNonAlphaNumPun\" not in options else options[\"filterNonAlphaNumPun\"]\n",
    "    padStart = 0 if \"padStart\" not in options else options[\"padStart\"]\n",
    "    padEnd = 0 if \"padEnd\" not in options else options[\"padEnd\"]\n",
    "\n",
    "    word_list = [];\n",
    "\n",
    "    #append <start> tokens if any\n",
    "    word_list.extend(['<start>'] * padStart)\n",
    "    \n",
    "    if filterNonAlphaNumPun:\n",
    "        inputStr = filter_non_alphanum_punc(inputStr)\n",
    "\n",
    "    processedInputStr = ''\n",
    "    if includePunct:\n",
    "        processedInputStr = re.sub(\"([.,!'?()])\", r' \\1 ', inputStr)\n",
    "    else:\n",
    "        processedInputStr = inputStr.translate(str.maketrans('', '', string.punctuation))\n",
    "\n",
    "    word_list += processedInputStr.split()\n",
    "\n",
    "    #append <end> tokens if any\n",
    "    word_list.extend(['<end>'] * padEnd)\n",
    "\n",
    "    return word_list\n",
    "\n",
    "# to_chars\n",
    "# options = {\"includeSpace\": boolean, \"includePunct\": boolean, \"filterNonAlphaNumPun\":boolean}\n",
    "def to_chars(inputStr, options={}):\n",
    "    includePunct = True if \"includePunct\" not in options else options[\"includePunct\"]\n",
    "    includeSpace = False if \"includeSpace\" not in options else options[\"includeSpace\"]\n",
    "    filterNonAlphaNumPun = True if \"filterNonAlphaNumPun\" not in options else options[\"filterNonAlphaNumPun\"]\n",
    "\n",
    "    char_list = [];\n",
    "    \n",
    "    if filterNonAlphaNumPun:\n",
    "        inputStr = filter_non_alphanum_punc(inputStr)\n",
    "\n",
    "    puncHandledStr = inputStr\n",
    "    if not includePunct:\n",
    "        puncHandledStr = inputStr.translate(str.maketrans('', '', string.punctuation))\n",
    "\n",
    "    word_tokens = puncHandledStr.split()\n",
    "\n",
    "    for word_token in word_tokens:\n",
    "            processed = \" \".join(word_token)\n",
    "            char_list += processed.split()\n",
    "            char_list += \" \"\n",
    "\n",
    "    del char_list[-1]\n",
    "    return char_list"
   ]
  },
  {
   "cell_type": "code",
   "execution_count": 32,
   "metadata": {
    "collapsed": true
   },
   "outputs": [],
   "source": [
    "word = \"This is python testing on jupyter. This is Nayeon's Testing page? hoho! Haha!!!\" + u'\\U0001f602'\n",
    "char = 'anaconda is nice!!! Wow. a' + u'\\U0001f602'"
   ]
  },
  {
   "cell_type": "code",
   "execution_count": 34,
   "metadata": {
    "collapsed": false
   },
   "outputs": [
    {
     "name": "stdout",
     "output_type": "stream",
     "text": [
      "['This', 'is', 'python', 'testing', 'on', 'jupyter', '.', 'This', 'is', 'Nayeon', \"'\", 's', 'Testing', 'page', '?', 'hoho', '!', 'Haha', '!', '!', '!']\n",
      "...\n",
      "['This', 'is', 'python', 'testing', 'on', 'jupyter', '.', 'This', 'is', 'Nayeon', \"'\", 's', 'Testing', 'page', '?', 'hoho', '!', 'Haha', '!', '!', '!', '😂']\n",
      "...\n",
      "['a', 'n', 'a', 'c', 'o', 'n', 'd', 'a', ' ', 'i', 's', ' ', 'n', 'i', 'c', 'e', '!', '!', '!', ' ', 'W', 'o', 'w', '.', ' ', 'a']\n",
      "...\n",
      "['a', 'n', 'a', 'c', 'o', 'n', 'd', 'a', ' ', 'i', 's', ' ', 'n', 'i', 'c', 'e', '!', '!', '!', ' ', 'W', 'o', 'w', '.', ' ', 'a', '😂']\n"
     ]
    }
   ],
   "source": [
    "print(to_words(word))\n",
    "print(\"...\")\n",
    "print(to_words(word, options={\"filterNonAlphaNumPun\": False}))\n",
    "print(\"...\")\n",
    "print(to_chars(char))\n",
    "print(\"...\")\n",
    "print(to_chars(char, options={\"filterNonAlphaNumPun\": False}))"
   ]
  },
  {
   "cell_type": "code",
   "execution_count": 21,
   "metadata": {
    "collapsed": false
   },
   "outputs": [
    {
     "name": "stdout",
     "output_type": "stream",
     "text": [
      "😂haha!! hoho....\n"
     ]
    }
   ],
   "source": [
    "text = u'\\U0001f602' + 'haha!! hoho....'\n",
    "print(text) # with emoji"
   ]
  },
  {
   "cell_type": "code",
   "execution_count": 23,
   "metadata": {
    "collapsed": false
   },
   "outputs": [
    {
     "name": "stdout",
     "output_type": "stream",
     "text": [
      "haha!! hoho....\n"
     ]
    }
   ],
   "source": [
    "print(filter_non_alphanum_punc(text))"
   ]
  },
  {
   "cell_type": "code",
   "execution_count": null,
   "metadata": {
    "collapsed": false
   },
   "outputs": [],
   "source": []
  },
  {
   "cell_type": "code",
   "execution_count": null,
   "metadata": {
    "collapsed": true
   },
   "outputs": [],
   "source": []
  }
 ],
 "metadata": {
  "kernelspec": {
   "display_name": "Python 3",
   "language": "python",
   "name": "python3"
  },
  "language_info": {
   "codemirror_mode": {
    "name": "ipython",
    "version": 3
   },
   "file_extension": ".py",
   "mimetype": "text/x-python",
   "name": "python",
   "nbconvert_exporter": "python",
   "pygments_lexer": "ipython3",
   "version": "3.4.5"
  }
 },
 "nbformat": 4,
 "nbformat_minor": 2
}
