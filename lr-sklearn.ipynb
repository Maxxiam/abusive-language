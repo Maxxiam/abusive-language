{
 "cells": [
  {
   "cell_type": "code",
   "execution_count": 1,
   "metadata": {
    "collapsed": false
   },
   "outputs": [
    {
     "name": "stderr",
     "output_type": "stream",
     "text": [
      "Using TensorFlow backend.\n"
     ]
    }
   ],
   "source": [
    "import numpy as np\n",
    "from model.helper import calculate_metrics\n",
    "from sklearn.linear_model import LinearRegression\n",
    "from data.preprocess import load_preprocessed_data\n",
    "from sklearn.feature_extraction.text import CountVectorizer"
   ]
  },
  {
   "cell_type": "code",
   "execution_count": 2,
   "metadata": {
    "collapsed": false
   },
   "outputs": [
    {
     "name": "stdout",
     "output_type": "stream",
     "text": [
      "preprocessed file already exists in /home/homes/jhpark/hate-speech/data/preprocessed/\n",
      "(11401,)\n",
      "(11401,)\n",
      "(2445,)\n",
      "(2445,)\n",
      "(2446,)\n",
      "(2446,)\n"
     ]
    }
   ],
   "source": [
    "data1 = load_preprocessed_data(\"sexism_binary\")\n",
    "\n",
    "print(data1[\"x_train\"].shape)\n",
    "print(data1[\"y_train\"].shape)\n",
    "print(data1[\"x_valid\"].shape)\n",
    "print(data1[\"y_valid\"].shape)\n",
    "print(data1[\"x_test\"].shape)\n",
    "print(data1[\"y_test\"].shape)"
   ]
  },
  {
   "cell_type": "code",
   "execution_count": 3,
   "metadata": {
    "collapsed": false
   },
   "outputs": [
    {
     "name": "stdout",
     "output_type": "stream",
     "text": [
      "preprocessed file already exists in /home/homes/jhpark/hate-speech/data/preprocessed/\n",
      "(10138,)\n",
      "(10138,)\n",
      "(2174,)\n",
      "(2174,)\n",
      "(2175,)\n",
      "(2175,)\n"
     ]
    }
   ],
   "source": [
    "data2 = load_preprocessed_data(\"racism_binary\")\n",
    "\n",
    "print(data2[\"x_train\"].shape)\n",
    "print(data2[\"y_train\"].shape)\n",
    "print(data2[\"x_valid\"].shape)\n",
    "print(data2[\"y_valid\"].shape)\n",
    "print(data2[\"x_test\"].shape)\n",
    "print(data2[\"y_test\"].shape)"
   ]
  },
  {
   "cell_type": "code",
   "execution_count": 17,
   "metadata": {
    "collapsed": false
   },
   "outputs": [],
   "source": [
    "def evaluate(pred_scores, target):\n",
    "    pred = list(map(lambda x: 1 if x >= 0.5 else 0, pred_scores))\n",
    "    precision, recall, f1 = calculate_metrics(target, pred)\n",
    "    print(\"Training: Precision=%.2f Recall=%.2f, F1=%.2f\" %(precision, recall, f1))\n",
    "    return f1"
   ]
  },
  {
   "cell_type": "code",
   "execution_count": 5,
   "metadata": {
    "collapsed": false
   },
   "outputs": [],
   "source": [
    "def ngram_test(ngram_type, data):\n",
    "    lr = LinearRegression()\n",
    "\n",
    "    best_param = -1\n",
    "    best = 0\n",
    "\n",
    "    for param in [(1, 2), (1, 3), (1, 4), (1, 5), (2, 3), (2, 4), (2, 5)]:\n",
    "        print(\"ngram-counts=\" + str(param))\n",
    "    \n",
    "        print(\"\\nTraining:\")\n",
    "        vect = CountVectorizer(ngram_range=param, analyzer=ngram_type)\n",
    "        X_train_counts = vect.fit_transform(data[\"x_train\"])\n",
    "        print(X_train_counts.shape)\n",
    "        \n",
    "        lr.fit(X_train_counts, data[\"y_train\"])\n",
    "        evaluate(lr.predict(X_train_counts), data[\"y_train\"])\n",
    "    \n",
    "        print(\"\\nValidation:\")\n",
    "        X_valid_counts = vect.transform(data[\"x_valid\"])\n",
    "        f1 = evaluate(lr.predict(X_valid_counts), data[\"y_valid\"])\n",
    "    \n",
    "        if f1 > best[2]:\n",
    "            best = (precision, recall, f1)\n",
    "            best_param = param\n",
    "        \n",
    "    print(\"\\n\\nBEST parameter for %s is %s\" % (ngram_type, str(best_param)))        \n",
    "    print(\"Validation F1 score=%.4f\" % best)"
   ]
  },
  {
   "cell_type": "markdown",
   "metadata": {},
   "source": [
    "## Word-ngram"
   ]
  },
  {
   "cell_type": "markdown",
   "metadata": {},
   "source": [
    "### Sexism"
   ]
  },
  {
   "cell_type": "code",
   "execution_count": 6,
   "metadata": {
    "collapsed": false
   },
   "outputs": [
    {
     "name": "stdout",
     "output_type": "stream",
     "text": [
      "ngram-counts=(1, 2)\n",
      "\n",
      "Training:\n",
      "(11401, 94151)\n",
      "Training: Precision=0.99 Recall=0.98, F1=0.99\n",
      "\n",
      "Validation:\n",
      "Training: Precision=0.65 Recall=0.54, F1=0.59\n",
      "ngram-counts=(1, 3)\n",
      "\n",
      "Training:\n",
      "(11401, 206414)\n",
      "Training: Precision=0.99 Recall=0.99, F1=0.99\n",
      "\n",
      "Validation:\n",
      "Training: Precision=0.66 Recall=0.53, F1=0.59\n",
      "ngram-counts=(1, 4)\n",
      "\n",
      "Training:\n",
      "(11401, 317519)\n",
      "Training: Precision=0.98 Recall=0.99, F1=0.99\n",
      "\n",
      "Validation:\n",
      "Training: Precision=0.67 Recall=0.52, F1=0.59\n",
      "ngram-counts=(1, 5)\n",
      "\n",
      "Training:\n",
      "(11401, 420433)\n",
      "Training: Precision=0.98 Recall=0.99, F1=0.99\n",
      "\n",
      "Validation:\n",
      "Training: Precision=0.67 Recall=0.51, F1=0.58\n",
      "ngram-counts=(2, 3)\n",
      "\n",
      "Training:\n",
      "(11401, 192342)\n",
      "Training: Precision=0.98 Recall=0.99, F1=0.98\n",
      "\n",
      "Validation:\n",
      "Training: Precision=0.70 Recall=0.31, F1=0.43\n",
      "ngram-counts=(2, 4)\n",
      "\n",
      "Training:\n",
      "(11401, 303447)\n",
      "Training: Precision=0.99 Recall=0.98, F1=0.98\n",
      "\n",
      "Validation:\n",
      "Training: Precision=0.71 Recall=0.28, F1=0.40\n",
      "ngram-counts=(2, 5)\n",
      "\n",
      "Training:\n",
      "(11401, 406361)\n",
      "Training: Precision=0.99 Recall=0.98, F1=0.98\n",
      "\n",
      "Validation:\n",
      "Training: Precision=0.71 Recall=0.25, F1=0.37\n",
      "\n",
      "\n",
      "BEST parameter for word is (1, 2)\n",
      "Validation F1 score=0.5923\n"
     ]
    }
   ],
   "source": [
    "ngram_test(\"word\", data1)"
   ]
  },
  {
   "cell_type": "markdown",
   "metadata": {},
   "source": [
    "### Racism"
   ]
  },
  {
   "cell_type": "code",
   "execution_count": 7,
   "metadata": {
    "collapsed": false
   },
   "outputs": [
    {
     "name": "stdout",
     "output_type": "stream",
     "text": [
      "ngram-counts=(1, 2)\n",
      "\n",
      "Training:\n",
      "(10138, 85960)\n",
      "Training: Precision=1.00 Recall=1.00, F1=1.00\n",
      "\n",
      "Validation:\n",
      "Training: Precision=0.79 Recall=0.57, F1=0.66\n",
      "ngram-counts=(1, 3)\n",
      "\n",
      "Training:\n",
      "(10138, 187925)\n",
      "Training: Precision=1.00 Recall=1.00, F1=1.00\n",
      "\n",
      "Validation:\n",
      "Training: Precision=0.81 Recall=0.55, F1=0.66\n",
      "ngram-counts=(1, 4)\n",
      "\n",
      "Training:\n",
      "(10138, 288810)\n",
      "Training: Precision=1.00 Recall=1.00, F1=1.00\n",
      "\n",
      "Validation:\n",
      "Training: Precision=0.83 Recall=0.53, F1=0.65\n",
      "ngram-counts=(1, 5)\n",
      "\n",
      "Training:\n",
      "(10138, 382131)\n",
      "Training: Precision=1.00 Recall=1.00, F1=1.00\n",
      "\n",
      "Validation:\n",
      "Training: Precision=0.83 Recall=0.51, F1=0.63\n",
      "ngram-counts=(2, 3)\n",
      "\n",
      "Training:\n",
      "(10138, 175018)\n",
      "Training: Precision=1.00 Recall=1.00, F1=1.00\n",
      "\n",
      "Validation:\n",
      "Training: Precision=0.79 Recall=0.31, F1=0.45\n",
      "ngram-counts=(2, 4)\n",
      "\n",
      "Training:\n",
      "(10138, 275903)\n",
      "Training: Precision=1.00 Recall=1.00, F1=1.00\n",
      "\n",
      "Validation:\n",
      "Training: Precision=0.82 Recall=0.29, F1=0.43\n",
      "ngram-counts=(2, 5)\n",
      "\n",
      "Training:\n",
      "(10138, 369224)\n",
      "Training: Precision=1.00 Recall=1.00, F1=1.00\n",
      "\n",
      "Validation:\n",
      "Training: Precision=0.83 Recall=0.25, F1=0.38\n",
      "\n",
      "\n",
      "BEST parameter for word is (1, 2)\n",
      "Validation F1 score=0.6629\n"
     ]
    }
   ],
   "source": [
    "ngram_test(\"word\", data2)"
   ]
  },
  {
   "cell_type": "markdown",
   "metadata": {},
   "source": [
    "## Char ngram"
   ]
  },
  {
   "cell_type": "markdown",
   "metadata": {},
   "source": [
    "### Sexism"
   ]
  },
  {
   "cell_type": "code",
   "execution_count": 9,
   "metadata": {
    "collapsed": false
   },
   "outputs": [
    {
     "name": "stdout",
     "output_type": "stream",
     "text": [
      "ngram-counts=(1, 2)\n",
      "\n",
      "Training:\n",
      "(11401, 2643)\n",
      "Training: Precision=0.88 Recall=0.63, F1=0.73\n",
      "\n",
      "Validation:\n",
      "Training: Precision=0.71 Recall=0.53, F1=0.60\n",
      "ngram-counts=(1, 3)\n",
      "\n",
      "Training:\n",
      "(11401, 17602)\n",
      "Training: Precision=0.99 Recall=0.97, F1=0.98\n",
      "\n",
      "Validation:\n",
      "Training: Precision=0.35 Recall=0.55, F1=0.43\n",
      "ngram-counts=(1, 4)\n",
      "\n",
      "Training:\n",
      "(11401, 70131)\n",
      "Training: Precision=0.99 Recall=0.99, F1=0.99\n",
      "\n",
      "Validation:\n",
      "Training: Precision=0.53 Recall=0.61, F1=0.57\n",
      "ngram-counts=(1, 5)\n",
      "\n",
      "Training:\n",
      "(11401, 195501)\n",
      "Training: Precision=0.98 Recall=0.99, F1=0.99\n",
      "\n",
      "Validation:\n",
      "Training: Precision=0.66 Recall=0.62, F1=0.64\n",
      "ngram-counts=(2, 3)\n",
      "\n",
      "Training:\n",
      "(11401, 17375)\n",
      "Training: Precision=0.99 Recall=0.97, F1=0.98\n",
      "\n",
      "Validation:\n",
      "Training: Precision=0.35 Recall=0.55, F1=0.43\n",
      "ngram-counts=(2, 4)\n",
      "\n",
      "Training:\n",
      "(11401, 69904)\n",
      "Training: Precision=0.99 Recall=0.98, F1=0.99\n",
      "\n",
      "Validation:\n",
      "Training: Precision=0.54 Recall=0.62, F1=0.57\n",
      "ngram-counts=(2, 5)\n",
      "\n",
      "Training:\n",
      "(11401, 195274)\n",
      "Training: Precision=0.98 Recall=0.99, F1=0.99\n",
      "\n",
      "Validation:\n",
      "Training: Precision=0.65 Recall=0.62, F1=0.63\n",
      "\n",
      "\n",
      "BEST parameter for char is (1, 5)\n",
      "Validation F1 score=0.6377\n"
     ]
    }
   ],
   "source": [
    "ngram_test(\"char\", data1)"
   ]
  },
  {
   "cell_type": "markdown",
   "metadata": {},
   "source": [
    "### Racism"
   ]
  },
  {
   "cell_type": "code",
   "execution_count": 10,
   "metadata": {
    "collapsed": false
   },
   "outputs": [
    {
     "name": "stdout",
     "output_type": "stream",
     "text": [
      "ngram-counts=(1, 2)\n",
      "\n",
      "Training:\n",
      "(10138, 2577)\n",
      "Training: Precision=0.87 Recall=0.67, F1=0.76\n",
      "\n",
      "Validation:\n",
      "Training: Precision=0.71 Recall=0.56, F1=0.63\n",
      "ngram-counts=(1, 3)\n",
      "\n",
      "Training:\n",
      "(10138, 16615)\n",
      "Training: Precision=1.00 Recall=1.00, F1=1.00\n",
      "\n",
      "Validation:\n",
      "Training: Precision=0.24 Recall=0.58, F1=0.34\n",
      "ngram-counts=(1, 4)\n",
      "\n",
      "Training:\n",
      "(10138, 64916)\n",
      "Training: Precision=1.00 Recall=1.00, F1=1.00\n",
      "\n",
      "Validation:\n",
      "Training: Precision=0.51 Recall=0.60, F1=0.55\n",
      "ngram-counts=(1, 5)\n",
      "\n",
      "Training:\n",
      "(10138, 179045)\n",
      "Training: Precision=1.00 Recall=1.00, F1=1.00\n",
      "\n",
      "Validation:\n",
      "Training: Precision=0.71 Recall=0.63, F1=0.67\n",
      "ngram-counts=(2, 3)\n",
      "\n",
      "Training:\n",
      "(10138, 16378)\n",
      "Training: Precision=1.00 Recall=1.00, F1=1.00\n",
      "\n",
      "Validation:\n",
      "Training: Precision=0.24 Recall=0.57, F1=0.34\n",
      "ngram-counts=(2, 4)\n",
      "\n",
      "Training:\n",
      "(10138, 64679)\n",
      "Training: Precision=1.00 Recall=1.00, F1=1.00\n",
      "\n",
      "Validation:\n",
      "Training: Precision=0.51 Recall=0.60, F1=0.55\n",
      "ngram-counts=(2, 5)\n",
      "\n",
      "Training:\n",
      "(10138, 178808)\n",
      "Training: Precision=1.00 Recall=1.00, F1=1.00\n",
      "\n",
      "Validation:\n",
      "Training: Precision=0.71 Recall=0.63, F1=0.67\n",
      "\n",
      "\n",
      "BEST parameter for char is (2, 5)\n",
      "Validation F1 score=0.6701\n"
     ]
    }
   ],
   "source": [
    "ngram_test(\"char\", data2)"
   ]
  },
  {
   "cell_type": "markdown",
   "metadata": {},
   "source": [
    "## Combining results"
   ]
  },
  {
   "cell_type": "code",
   "execution_count": 19,
   "metadata": {
    "collapsed": true
   },
   "outputs": [],
   "source": [
    "def get_best(data):\n",
    "    lr = LinearRegression()\n",
    "    vect = CountVectorizer(ngram_range=(2,5), analyzer=\"char\")\n",
    "    X_train_counts = vect.fit_transform(data[\"x_train\"])\n",
    "    print(X_train_counts.shape)\n",
    "        \n",
    "    lr.fit(X_train_counts, data[\"y_train\"])\n",
    "    evaluate(lr.predict(X_train_counts), data[\"y_train\"])\n",
    "    \n",
    "    print(\"\\nValidation:\")\n",
    "    X_valid_counts = vect.transform(data[\"x_valid\"])\n",
    "    pred_scores = lr.predict(X_valid_counts)\n",
    "    evaluate(pred_scores, data[\"y_valid\"])\n",
    "    return lr, pred_scores"
   ]
  },
  {
   "cell_type": "code",
   "execution_count": 20,
   "metadata": {
    "collapsed": false
   },
   "outputs": [
    {
     "name": "stdout",
     "output_type": "stream",
     "text": [
      "(11401, 195274)\n",
      "Training: Precision=0.98 Recall=0.99, F1=0.99\n",
      "\n",
      "Validation:\n",
      "Training: Precision=0.65 Recall=0.62, F1=0.63\n",
      "(10138, 178808)\n",
      "Training: Precision=1.00 Recall=1.00, F1=1.00\n",
      "\n",
      "Validation:\n",
      "Training: Precision=0.71 Recall=0.63, F1=0.67\n"
     ]
    }
   ],
   "source": [
    "s_lr, s_pred = get_best(data1)\n",
    "r_lr, r_pred = get_best(data2)"
   ]
  },
  {
   "cell_type": "code",
   "execution_count": 21,
   "metadata": {
    "collapsed": true
   },
   "outputs": [],
   "source": [
    "s_pred = list(map(lambda x: 1 if x >= 0.5 else 0, s_pred))\n",
    "r_pred = list(map(lambda x: 1 if x >= 0.5 else 0, r_pred))\n"
   ]
  },
  {
   "cell_type": "code",
   "execution_count": 45,
   "metadata": {
    "collapsed": false
   },
   "outputs": [],
   "source": [
    "def count(data, pred, truth):\n",
    "    assert len(pred) == len(truth)\n",
    "    true_positive = 0\n",
    "    false_positive = 0\n",
    "    false_negative = 0\n",
    "    \n",
    "    for i in range(len(pred)):\n",
    "        if truth[i] == 1:\n",
    "            if pred[i] == 1:\n",
    "                true_positive += 1\n",
    "            if pred[i] == 0:\n",
    "                false_negative += 1\n",
    "        else:\n",
    "            if pred[i] == 1:\n",
    "                print(data[\"x_valid\"][i] + \"\\n\")\n",
    "                false_positive += 1\n",
    "    return true_positive, false_positive, false_negative\n"
   ]
  },
  {
   "cell_type": "code",
   "execution_count": 46,
   "metadata": {
    "collapsed": false
   },
   "outputs": [
    {
     "name": "stdout",
     "output_type": "stream",
     "text": [
      "yesallwomen are going to shout over wastes of carbon material like until they are heard. you are a drop in the ocean, pal.\n",
      "\n",
      "stan got this a+ last word before blocking me: ever heard of caustic sarcasm? rename yourself thanks awfully *mwah!* xxx\n",
      "\n",
      "apparently walking a catwalk involves putting one foot in front of the other...you know, like walking mkr\n",
      "\n",
      "really a cat walk that's so ridiculous mkr\n",
      "\n",
      "i believe so. should be a client-side option (blocks processing happens client side as well)\n",
      "\n",
      "calls for a march of a million tomorrow to remove jordan from coalition, but some mourners say this is not the time or p…\n",
      "\n",
      "my latest re patricia arquette. | the road to structural erasure is paved with good-intentioned white ladies ablc http…\n",
      "\n",
      "yay. i went last year and had to make new friends. i hate making new friends. i didn't know anyone else going.\n",
      "\n",
      "i hate racism comment on blameonenotall: do men who don't hurt women actually need to be congratulated?\n",
      "\n",
      "watching \"india's daughter\", horrifying. lawyer defending rapists: \"we have the best culture. in our culture there's no…\n",
      "\n",
      "iraq's fm says the country's fight against terror is an example for the arab world. suliforum\n",
      "\n",
      "feminists that call themselves \"feminists\" yet are racist or homophobic, can you fuck right off please, bye feminazi\n",
      "\n",
      "apparently walking a catwalk involves putting one foot in front of the other...you know, like walking mkr\n",
      "\n",
      "oh my gosh they played \"ready to run\" on mkr tonight!! i was soo happy!!\n",
      "\n",
      "isn't it weird that protesting irl has more protection (for whilte ppl at least) than saying things online?\n",
      "\n",
      "because i made sure i wasn't alone, and had multiple witnesses, before firing a male colleague. yesallwomen\n",
      "\n",
      "28 peshmerga killed during last night clashes with isis in 3 battle fronts inc. kirkuk, mosul and makhmour, and tens of isi…\n",
      "\n",
      "also, tfa is an example of an unintentional dos, so thanks for playing better luck next time.\n",
      "\n",
      "etsy bans use of washington nfl team name and logo:\n",
      "\n",
      "nixon kat kater cat maine coon no filter sweet love apeldoorn\n",
      "\n",
      "for the ukrainians who bamdera is a hero he only holds that status for fighting the soviets in ukr\n",
      "\n",
      "logie for most disgusting person on tv - kat - so much joy in winning by playing unfairly mkr\n",
      "\n",
      "just shot a piece a garlic across my flat in an attempt to peel it. still a better cook than kat. adventuresincooking mkr\n",
      "\n",
      "anyone who uses the term feminazi has already lost the argument imo.\n",
      "\n",
      "ladies and gentlemen, we interrupt your regular tirade to remind you that thor was once a frog.\n",
      "\n",
      "your crying is not about caring for humanity. it is simply propagandizing your agenda.\n",
      "\n",
      "can a camper please push katandandre into that lake? wash that smug look of their face mkr\n",
      "\n",
      "tweetstats.hashtag.notyourshield.mention._roguestar_.rt quickly, create a shield from the person that posted women's addresses on twitter!\n",
      "\n",
      "hashtag killerblondes is the dickiest hashtag in all mkr history... seriously... why not butcherthemodels\n",
      "\n",
      "you lying pos, they lived as third class citizens with no legal rights.\n",
      "\n",
      "she wants the attention. she's admitted she's a \"sellout\". but a lot of good women are helping her write this book.\n",
      "\n",
      "it's game on...skulls another beer mkr\n",
      "\n",
      "quaran 3.151 soon shall we cast terror into the hearts of the unbelievers and infidels http…\n",
      "\n",
      "i... i cut my own bangs the other day. that's as adventurous as i'm willing to get when it comes to doing stuff myself.\n",
      "\n",
      "\"feminazi\" are you referring to feminists as nazis? nazis killed 4mill people, unlike feminists who're making the world better\n",
      "\n",
      "time to call my mom and be like mom did you read nytimes yet cuz they think i'm rad\n",
      "\n",
      "al final me pondrán el nombre de \"sara odia-hombres feminazi\" sin razón,ya veréis.\n",
      "\n",
      "cool i feel petty but also he rly did take the side of someone calling me a feminazi that time so.......\n",
      "\n",
      "no am not sexist! but is diezani alison that brilliant? to be president of opec? or is her coochie that bomb?\n",
      "\n",
      "oh, i see. you're another useless gg supporter. lol. go away.\n",
      "\n",
      "\"i believe in equality except when i'm drunk and mad at women.\" &lt;-- why i don't trust male feminists\n",
      "\n",
      "so if a girl fights for women's rights you call her a feminazi but if someone fights for their race's rights, you shut up. see…\n",
      "\n",
      "when is my stupid selfie camera going to drop ffs\n",
      "\n",
      "you are in fact stupid. marxists don't believe that democracy is an answer.\n",
      "\n",
      "\"yeah, i'm a feminazi\"-my favorite (feminist) mom ever\n",
      "\n",
      "seriously. if \"just saying hello\" or \"just saying 'have a nice day'\" was so innocent, why don't men say it to random me…\n",
      "\n",
      "but let's go on to the hadith that refers back to 2.282.\n",
      "\n",
      "the claims she has made are... not something someone in their right mind would do.\n",
      "\n",
      "i am not a feminist or feminazi just because i don't think female characters need sexy outfit in every game.\n",
      "\n",
      "i need to sit down with one and figure out how to be a better pm at my life. ;)\n",
      "\n",
      "bitch, whore, slut, cunt, i am sick of these words. change your speech, change your mind.\n",
      "\n",
      "have you ever wondered where the idea of the 72 virgins comes from in islam. here is the hadith describing it.\n",
      "\n",
      "exploitation for financial gain. just another day that ends in y.\n",
      "\n",
      "not with my leasing company. and it's worth it to move - my rent will be over $1k less in pdx.\n",
      "\n",
      "interesting description of heaven. not much mention of what the women get, norway girl.\n",
      "\n",
      "great 'shot a deer in my underwear' joke, robert! now tell us the one about the guy with a wooden leg named smith. mkr\n",
      "\n",
      "ran it by lawyer as well as far as me promoting my personal funding sources in the meanwhile. being very cautious to keep it legal.\n",
      "\n",
      "devastated that kat is still there, wasn't the biggest fan of the blondes but liked them much more than kat mkr\n",
      "\n",
      "she's friends with weev, an actual neo-nazi that has harassed and driven women like kathy sierra out of the industry.\n",
      "\n",
      "we too often permit a moral logic that argues the real or perceived trappings of fame/success are a licence to harass.\n",
      "\n",
      "in the words of former contestant , katie and nikki need to calm their farm. mkr\n",
      "\n",
      "yo, appreciate the shout out for ggautoblocker, but article is technically incorrect.\n",
      "\n",
      "iraq's fm says the country's fight against terror is an example for the arab world. suliforum\n",
      "\n",
      "call me sexist , a misogynist, this will never go down well with me, your thoughts?\n",
      "\n",
      "\"women should let the boys have their social media, while they save the world.” ~@wadhwa enough said. thanks\n",
      "\n",
      "oh, i see. some of the tweets. so your point still stands. aren't you tired of being an abusive jerk?\n",
      "\n",
      "140, man. was hard enough fitting the joke in...accurate historical accounts hit the cutting room floor most times.\n",
      "\n",
      "mkr katie.. trusting your instincts is like trusting the instincts of the titanic captain.\n",
      "\n",
      "guess one of em isn't too bad ;) mkr\n",
      "\n",
      "i can facetime myself from my ipad to find my iphone???? game changing\n",
      "\n",
      "it's even more annoying that you exist past high school.\n",
      "\n",
      "oh you have no idea what its like to be set upon by the bunnyarmy you really want to see that …\n",
      "\n",
      "breakfast tostadas with no mexican seasoning and extra arrogance = 😛#mkr\n",
      "\n",
      "yesallwomen know men hate us, and try to carve a life out from what remains when you subtract our daily fear, rage, despair.\n",
      "\n",
      "if only this sasquatch had wings to help these girls fly out of the whole they've dug for themselves mkr\n",
      "\n",
      "so it's fair for kat and andre to score the girls a 1 even though they deserved more? you kept most hard to watch couple in the comp mkr\n",
      "\n",
      "the japanese macaque is an omnivorous animal sexistfacts\n",
      "\n",
      "duvido vc posta isso no face de uma feminazi\n",
      "\n",
      "feminism should be inclusive. what rosie is doing just blows my mind. weaponizing \"feminism\" against woc... holy crap.\n",
      "\n",
      "i'm going to lug my macbook air, my ipad, my 3ds, and my surface pro 2 with me. i need my battle station. this will suffice.\n",
      "\n",
      "a 12-years old ezidi girl died after raped mutlipe times by isis terrorist in mosul, iraq ministry of human rights repor…\n",
      "\n",
      "\"well behaved women seldom make history.\" - laurel thatcher ulrich\n",
      "\n",
      "kat's face..the only thing worse than her cooking mkr\n",
      "\n",
      "o_o that's appreciated greatly. going to be releasing some financial info soon.\n",
      "\n",
      "kat's absolutely delusional if she thinks it was \"strategic scoring\" that put them on the bottom of the leaderboard!! mkr\n",
      "\n",
      "trying, but it's a 2 lane rd. and pretty much everything is fucked.\n",
      "\n",
      "i think so. but there is still a black meteor fragment in the kabba. so it's about, \"my idols are okay, yours are not\".\n",
      "\n",
      "mkr is such a drag...my gosh\n",
      "\n",
      "dumb dumb dumb dumb mkr mkr2015\n",
      "\n",
      "notice in that last tweet how \"people\" doesn't make sense unless it''s actually \"men.\"\n",
      "\n",
      "kat and andre fuck up you're both oxygen thiefs mkr\n",
      "\n",
      "massive attacks sign of weakness not strength kirkuk sinai mosul iraq is\n",
      "\n",
      "drunk on duck fat and vodka and whatever the fuck these fruits are.\n",
      "\n",
      "setting up dns and mail forwards and twitter accounts and analytics and trying to do my eye makeup at the same time why is life so hard\n",
      "\n",
      "it's 4am if you want to call someone a feminazi then do it later why is my floor so gross u g h\n",
      "\n",
      "the atmosphere moves with the plane. if you throw an object straight up it already has radial momentum. even though...\n",
      "\n",
      "yes i want coloring books please please please\n",
      "\n",
      "i thought that this article would give examples of how isis behavior contradicted islam. there were non\n",
      "\n",
      "no, just dead poor people and people standing in line at a soup kitchen.\n",
      "\n",
      "hot singles are in your area &gt;go west the hot singles are circling &gt;go south the hot singles can smell your fear &gt;go so…\n",
      "\n",
      "shares australia pm announces new counterterror measures: tony abbott says st... by arab\n",
      "\n",
      "seeing these cute women in my tl tweeting about how they are into chicks &amp; i just want to be the most unsmooth person ever like hey laydeez\n",
      "\n",
      "football logic for girls notsexist\n",
      "\n",
      "a break from your regularly scheduled programming. to all the grad students out there:\n",
      "\n",
      "to deconstruct it...they're going to deconstruct it...what do you think they are going to do strap it to a kite and fly it? mkr\n",
      "\n",
      "feeling quite sorry for the nsw promo bitches! mkr\n",
      "\n",
      "in a video with anita, the ag of ca said that police here didn't have email until fairly recently. in the bay area!\n",
      "\n",
      "nice interface! much prettier than the grafana setup that i'm using.\n",
      "\n",
      "blameonenotall wouldn't have to exist if stupid people didn't reinforce the corrupt narrative that men are born rapists and misogynists\n",
      "\n",
      "what restaurant around here isn't overwhelmed by gdc traffic? i require fuel in the form of gin.\n",
      "\n",
      "phone  idea isn't perfect (it's easy enough to grab a phone  from gv), but it's an extra step - good deterrent for majority of abuse.\n",
      "\n",
      "and he will teach you murder, rape and pedophilia as well.\n",
      "\n",
      "that's just it though.... it's not even a book, it's the rejected first draft of to kill a mockingbird befor…\n",
      "\n",
      "she didn't do squat to make the us a more decent place. she is one more criminal that belongs in jail.\n",
      "\n",
      "oh, is the witcher 3 a game that let's you play as a lesbian of colour? that is remarkable!\n",
      "\n",
      "users want transparency in abuse systems, but there's a difficulty in this. it can allow people to game the system.\n",
      "\n",
      "oh colin....calm my beating heart 😍😍😍 mkr\n",
      "\n",
      "because your target demographic is 1950s businessmen apparently. fun fact: don draper fucking loves tea\n",
      "\n",
      "states should not let unvaccinated crumb-snatchers into schools. and the best part? it's legal if they don't.\n",
      "\n",
      "i have no intent on linking to the articles where he stated he was backing out. they were an attempt to save face, not an apology.\n",
      "\n",
      "i only carry 5 of these things, none of which is pantyhose. ladylike\n",
      "\n",
      "so disappointed. i wasn't the biggest fan of the blondes, but liked them so much more than kat mkr\n",
      "\n",
      "blameonenotall: do men who don't hurt women actually need to be congratulated?\n",
      "\n",
      "are these the arab citizens that cheered and joined isis when they were exterminating ezidis?\n",
      "\n",
      "of course they were happy with it! they're happy with themselves full stop. mkr\n",
      "\n",
      "if i look too fancy, it'll be out of place. plus i've got facial piercings and bright hair, so, y'know. personal style.\n",
      "\n",
      "go team sheri and emilie you girls rule mkr mykitchenrules\n",
      "\n",
      "then again, no more animal print fisherman's pants, so win mkr\n",
      "\n",
      "they are all pretty much synonyms. cigarette, pencil, skinny, etc.\n",
      "\n",
      "haha kate, wiped the smile off your face too mkr\n",
      "\n",
      "everyone's face at the table on hearing kat's strategic scoring delusion. mkr\n",
      "\n",
      "gotta love that \"we determine the good feminists, and it's men\" mentality that gg has. zero self-awareness.\n",
      "\n",
      "just be careful who you align yourself with. she sounds an awful lot like based mom.\n",
      "\n",
      "always pleased to be a feminazi godmother... i take my duties seriously\n",
      "\n",
      "\"they don't relate to these women on social media. these activists, these feminists. they don't relate to them. they are more humble.\"\n",
      "\n",
      "guy seeks legal advice about creepy notes, commenter correctly guesses bizarre, sinister twist http:/…\n",
      "\n",
      "mkr qldbesties sheri i give you a 10 as eating otgans doesnt scare you.i like you to try new things and i take you to your happy place\n",
      "\n",
      "how have i never heard of ball culture? this sounds amazing.\n",
      "\n",
      "or else we will lose 's begrudging acceptance of our human rights!\n",
      "\n",
      "all those damn uppity women, demanding a better quality of life, always causing problems.\n",
      "\n",
      "you can't mute hashtags. that's a violation of twitter developer policy, which is why it's only implemented in older clients\n",
      "\n",
      "nope, not sexist in the slightest!\n",
      "\n",
      "none of this dish makes sense, it's bits and pieces of crap put together to make on big bowl of shit mkr\n",
      "\n",
      "weird. guessing that she'll be back. i don't really understand why people delete their accts vs just closing twitter app.\n",
      "\n",
      "jfc kat do you have no morals???? carnt mkr2015 mkr\n",
      "\n",
      "good lord. read this entire thread - incognito if you use ggautoblocker\n",
      "\n",
      "everytime i see a camera now i shy away 📷🎥 camerashy mainecoon instafamous cats coon catstagram catsofinstag…\n",
      "\n",
      "i'm quite a fan of leaning in. it's how i operate. but the cost is high, and it's not for everyone. feminism is about choices.\n",
      "\n",
      "\"@ohmyloz: katie, nikki and pete evans are everything that is wrong with society. mkr\" hard to argue with that\n",
      "\n",
      "kat vs annie in sudden death! please mkr\n",
      "\n",
      "when 14 year old boys use the term feminazi and u gotta school em in class 😔\n",
      "\n",
      "why are women so mad at wadhwa? maybe instead of calling them crazy and dramatic, you ask them. stopwadhwa2015 http:/…\n",
      "\n",
      "notice how no one ever gives male gymnasts shit for being less flexible than female gymnasts, or says men can't play piccolo or some shit\n",
      "\n",
      "kat is actually neville wrans daughter, she's found another use for those knives... mkr mkr2015\n",
      "\n",
      "\"i understand that some women are angry at me, but they [...] don't understand how journalism works.\" uh, hi. i'm in newsweek, too.\n",
      "\n",
      "\"i'm being attacked by black feminist twitter\" loosely translates to \"i said something terrible &amp; women are explaining wh…\n",
      "\n",
      "killerblondes ?? have the producers lost the plot or have my eyes failed? in what universe are they even remotely hot in?? mkr\n",
      "\n",
      "what about pink but not like a girl pink like a manly face straining with effort pink? or like a man's eternally flapping lips?\n",
      "\n",
      "watching people like further fygm culture. that's... unfortunate.\n",
      "\n",
      "because if elliot rodger had killed just one woman who had rejected him for a date, it would not be national news. yesallwomen\n",
      "\n",
      "if it takes so long to make then why did you bother...? mkr\n",
      "\n",
      "\"[women] don't understand how journalism works. that i have given women a platform.\"\n",
      "\n",
      "nope. i had to manually block her.\n",
      "\n",
      "i wanted to show my mom her ted talk. mom saw the search results and started to get what the fuss was about.\n",
      "\n",
      "kat and andre still being disgusting human beings mkr\n",
      "\n",
      "i fucking love her. she is hot as shit.\n",
      "\n",
      "i would rather lose 100k followers by standing up for others in a bad position than gain 100 by keeping my mouth shut fo…\n",
      "\n",
      "people like you are what give feminists a bad name. gamergate is wrong, but the best defense is not alwa…\n",
      "\n",
      "in adelaide for adelaidefringe? get your excellent self in2c comedy + feminism via\n",
      "\n",
      "kat is showing her true colours mkr\n",
      "\n",
      "the current system is inadequate. some of us are experienced at navigating these pitfalls, and we can help you.\n",
      "\n",
      "when i see young angry feminists being so much better at this than i was at their age it just makes my heart swell.\n",
      "\n",
      "yesallwomen because once at a louis c.k. show he said \"how do you make an old woman? you take a young woman and just ruin her.\"\n",
      "\n",
      "pretty? er......no. mkr\n",
      "\n",
      "which is still better than living as refugees in turkey.\n",
      "\n",
      "a low userid doesn't give you any special insight from atop a pulpit of privilege. abuse-free living shouldn't have a premium.\n",
      "\n",
      "ms bardot sees what is happening and boldly declares. the marxist / feminazi in this country wouldn't dare.\n",
      "\n",
      "ahaha there is a piece of cake they made out of this duck tape\n",
      "\n",
      "annie's reaction when lloyd said disney land is why i hate her mkr\n",
      "\n",
      "someone said they were not going to attend supernova, but instead donate the money for their ticket towards an anti-bullying org. do this.\n",
      "\n",
      "uh. \"get her side\" by sending a mob against her. i've been watching her get threatened. this isn't helping.\n",
      "\n",
      "plus, you know, she's one of the big feminazi boogeywomen. i bet lil'sarg had quite a strong opinion on her before\n",
      "\n",
      "why does your twitter name have testicles?\n",
      "\n",
      "wait esports are excluding trans and lesbian players? jesus christ can we go one fucking day without the industry being r…\n",
      "\n",
      "daily civilians death toll in ukraine clashes is 4 times more than middle east death toll at the moment v twitte…\n",
      "\n",
      "for victims of abuse, it's often not discussed because of a feeling of shame. victim assumes fault, then public assigns blame.\n",
      "\n",
      "wow. i really don't like those blondes but i'd like to see kat go down slowly and painfully. mkr\n",
      "\n",
      "i don't know anyone that can afford to buy a house anymore. that wasn't a problem 20 years ago.\n",
      "\n",
      "if you talk the talk, you gotta walk the walk!! do the girls know the recipe for humble pie??? mkr\n",
      "\n"
     ]
    }
   ],
   "source": [
    "tp_1, fp_1, fn_1 = count(data1, s_pred, data1[\"y_valid\"])"
   ]
  },
  {
   "cell_type": "code",
   "execution_count": 32,
   "metadata": {
    "collapsed": false
   },
   "outputs": [],
   "source": [
    "tp_2, fp_2, fn_2 = count(r_pred, data2[\"y_valid\"])"
   ]
  },
  {
   "cell_type": "code",
   "execution_count": 34,
   "metadata": {
    "collapsed": false
   },
   "outputs": [
    {
     "name": "stdout",
     "output_type": "stream",
     "text": [
      "0.6727493917274939\n"
     ]
    }
   ],
   "source": [
    "precision = (tp_1 + tp_2) / (tp_1 + tp_2 + fp_1 + fp_2)\n",
    "print(precision)"
   ]
  },
  {
   "cell_type": "code",
   "execution_count": 35,
   "metadata": {
    "collapsed": false
   },
   "outputs": [
    {
     "name": "stdout",
     "output_type": "stream",
     "text": [
      "0.6220472440944882\n"
     ]
    }
   ],
   "source": [
    "recall = (tp_1 + tp_2) / (tp_1 + tp_2 + fn_1 + fn_2)\n",
    "print(recall)"
   ]
  },
  {
   "cell_type": "code",
   "execution_count": 36,
   "metadata": {
    "collapsed": false
   },
   "outputs": [
    {
     "name": "stdout",
     "output_type": "stream",
     "text": [
      "0.6464056107539452\n"
     ]
    }
   ],
   "source": [
    "print(2*precision*recall/(precision+recall))"
   ]
  },
  {
   "cell_type": "code",
   "execution_count": null,
   "metadata": {
    "collapsed": true
   },
   "outputs": [],
   "source": []
  }
 ],
 "metadata": {
  "kernelspec": {
   "display_name": "Python 3",
   "language": "python",
   "name": "python3"
  },
  "language_info": {
   "codemirror_mode": {
    "name": "ipython",
    "version": 3
   },
   "file_extension": ".py",
   "mimetype": "text/x-python",
   "name": "python",
   "nbconvert_exporter": "python",
   "pygments_lexer": "ipython3",
   "version": "3.4.5"
  }
 },
 "nbformat": 4,
 "nbformat_minor": 2
}
