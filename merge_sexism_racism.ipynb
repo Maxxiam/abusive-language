{
 "cells": [
  {
   "cell_type": "markdown",
   "metadata": {},
   "source": [
    "# Sexism + Racisim"
   ]
  },
  {
   "cell_type": "code",
   "execution_count": 1,
   "metadata": {
    "collapsed": true
   },
   "outputs": [],
   "source": [
    "import numpy as np\n",
    "import os\n",
    "from data.preprocess import load_from_file\n"
   ]
  },
  {
   "cell_type": "code",
   "execution_count": 2,
   "metadata": {
    "collapsed": false
   },
   "outputs": [],
   "source": [
    "data_sexism = load_from_file(\"sexism_binary\")\n",
    "data_racism = load_from_file(\"racism_binary\")\n"
   ]
  },
  {
   "cell_type": "code",
   "execution_count": 15,
   "metadata": {
    "collapsed": false
   },
   "outputs": [],
   "source": [
    "x_abusive_train = []\n",
    "x_abusive_valid = []\n",
    "x_abusive_test = []\n",
    "\n",
    "y_abusive_train = []\n",
    "y_abusive_valid = []\n",
    "real_y_abusive_valid = []\n",
    "y_abusive_test = []\n",
    "real_y_abusive_test = []"
   ]
  },
  {
   "cell_type": "code",
   "execution_count": 13,
   "metadata": {
    "collapsed": true
   },
   "outputs": [],
   "source": [
    "def put_into_abusive(x_sex, y_sex, x_race, y_race, x, y, _y=None):\n",
    "    assert len(x_sex) == len(y_sex)\n",
    "    assert len(x_race) == len(y_race)\n",
    "    if _y == None:\n",
    "        _y = []\n",
    "    for i in range(len(x_sex)):\n",
    "        if y_sex[i] == 1:\n",
    "            x.append(x_sex[i])\n",
    "            y.append(y_sex[i])\n",
    "            _y.append(1)\n",
    "    for i in range(len(x_race)):\n",
    "        x.append(x_race[i])\n",
    "        y.append(y_race[i])\n",
    "        if y_race[i] == 1:\n",
    "            _y.append(2)\n",
    "        else:\n",
    "            _y.append(0)"
   ]
  },
  {
   "cell_type": "markdown",
   "metadata": {},
   "source": [
    "## abusive training"
   ]
  },
  {
   "cell_type": "code",
   "execution_count": 5,
   "metadata": {
    "collapsed": true
   },
   "outputs": [],
   "source": [
    "put_into_abusive(data_sexism[\"x_train\"], data_sexism[\"y_train\"], data_racism[\"x_train\"], data_racism[\"y_train\"], x_abusive_train, y_abusive_train)"
   ]
  },
  {
   "cell_type": "code",
   "execution_count": 6,
   "metadata": {
    "collapsed": false
   },
   "outputs": [
    {
     "data": {
      "text/plain": [
       "8697"
      ]
     },
     "execution_count": 6,
     "metadata": {},
     "output_type": "execute_result"
    }
   ],
   "source": [
    "len(list(filter(lambda x: x == 0, y_abusive_train)))"
   ]
  },
  {
   "cell_type": "code",
   "execution_count": 7,
   "metadata": {
    "collapsed": false
   },
   "outputs": [
    {
     "data": {
      "text/plain": [
       "4145"
      ]
     },
     "execution_count": 7,
     "metadata": {},
     "output_type": "execute_result"
    }
   ],
   "source": [
    "len(list(filter(lambda x: x == 1, y_abusive_train)))"
   ]
  },
  {
   "cell_type": "markdown",
   "metadata": {},
   "source": [
    "## abusive valid"
   ]
  },
  {
   "cell_type": "code",
   "execution_count": 16,
   "metadata": {
    "collapsed": true
   },
   "outputs": [],
   "source": [
    "put_into_abusive(data_sexism[\"x_valid\"], data_sexism[\"y_valid\"], data_racism[\"x_valid\"], data_racism[\"y_valid\"], x_abusive_valid, y_abusive_valid, _y=real_y_abusive_valid)"
   ]
  },
  {
   "cell_type": "code",
   "execution_count": 9,
   "metadata": {
    "collapsed": false
   },
   "outputs": [
    {
     "data": {
      "text/plain": [
       "1865"
      ]
     },
     "execution_count": 9,
     "metadata": {},
     "output_type": "execute_result"
    }
   ],
   "source": [
    "len(list(filter(lambda x: x == 0, y_abusive_valid)))"
   ]
  },
  {
   "cell_type": "code",
   "execution_count": 10,
   "metadata": {
    "collapsed": false
   },
   "outputs": [
    {
     "data": {
      "text/plain": [
       "889"
      ]
     },
     "execution_count": 10,
     "metadata": {},
     "output_type": "execute_result"
    }
   ],
   "source": [
    "len(list(filter(lambda x: x == 1, y_abusive_valid)))"
   ]
  },
  {
   "cell_type": "code",
   "execution_count": 17,
   "metadata": {
    "collapsed": false
   },
   "outputs": [
    {
     "data": {
      "text/plain": [
       "2754"
      ]
     },
     "execution_count": 17,
     "metadata": {},
     "output_type": "execute_result"
    }
   ],
   "source": [
    "len(real_y_abusive_valid)"
   ]
  },
  {
   "cell_type": "markdown",
   "metadata": {},
   "source": [
    "## abusive test"
   ]
  },
  {
   "cell_type": "code",
   "execution_count": 19,
   "metadata": {
    "collapsed": false
   },
   "outputs": [],
   "source": [
    "put_into_abusive(data_sexism[\"x_test\"], data_sexism[\"y_test\"], data_racism[\"x_test\"], data_racism[\"y_test\"], x_abusive_test, y_abusive_test, _y=real_y_abusive_test)"
   ]
  },
  {
   "cell_type": "code",
   "execution_count": 12,
   "metadata": {
    "collapsed": false
   },
   "outputs": [
    {
     "data": {
      "text/plain": [
       "1866"
      ]
     },
     "execution_count": 12,
     "metadata": {},
     "output_type": "execute_result"
    }
   ],
   "source": [
    "len(list(filter(lambda x: x == 0, y_abusive_test)))"
   ]
  },
  {
   "cell_type": "code",
   "execution_count": 13,
   "metadata": {
    "collapsed": false
   },
   "outputs": [
    {
     "data": {
      "text/plain": [
       "889"
      ]
     },
     "execution_count": 13,
     "metadata": {},
     "output_type": "execute_result"
    }
   ],
   "source": [
    "len(list(filter(lambda x: x == 1, y_abusive_test)))"
   ]
  },
  {
   "cell_type": "code",
   "execution_count": 21,
   "metadata": {
    "collapsed": false
   },
   "outputs": [
    {
     "data": {
      "text/plain": [
       "2755"
      ]
     },
     "execution_count": 21,
     "metadata": {},
     "output_type": "execute_result"
    }
   ],
   "source": [
    "len(real_y_abusive_test)"
   ]
  },
  {
   "cell_type": "markdown",
   "metadata": {},
   "source": [
    "## save dataset "
   ]
  },
  {
   "cell_type": "code",
   "execution_count": 14,
   "metadata": {
    "collapsed": true
   },
   "outputs": [],
   "source": [
    "from data.preprocess import save_preprocessed_data"
   ]
  },
  {
   "cell_type": "code",
   "execution_count": 29,
   "metadata": {
    "collapsed": false
   },
   "outputs": [
    {
     "name": "stdout",
     "output_type": "stream",
     "text": [
      "Wrote on train_abusive_valid_binary.txt\n",
      "Wrote on test_abusive_valid_binary.txt\n"
     ]
    }
   ],
   "source": [
    "save_preprocessed_data(\"abusive_valid_binary\", hasValid=False, data_={\"train\": (x_abusive_train, y_abusive_train), \"test\": (x_abusive_valid, y_abusive_valid)})"
   ]
  },
  {
   "cell_type": "code",
   "execution_count": 31,
   "metadata": {
    "collapsed": false
   },
   "outputs": [
    {
     "data": {
      "text/plain": [
       "15596"
      ]
     },
     "execution_count": 31,
     "metadata": {},
     "output_type": "execute_result"
    }
   ],
   "source": [
    "len(np.concatenate((x_abusive_train, x_abusive_valid)))"
   ]
  },
  {
   "cell_type": "code",
   "execution_count": 32,
   "metadata": {
    "collapsed": false
   },
   "outputs": [
    {
     "data": {
      "text/plain": [
       "15596"
      ]
     },
     "execution_count": 32,
     "metadata": {},
     "output_type": "execute_result"
    }
   ],
   "source": [
    "len(np.concatenate((y_abusive_train, y_abusive_valid)))"
   ]
  },
  {
   "cell_type": "code",
   "execution_count": 33,
   "metadata": {
    "collapsed": false
   },
   "outputs": [
    {
     "name": "stdout",
     "output_type": "stream",
     "text": [
      "Wrote on train_abusive_evaluation_binary.txt\n",
      "Wrote on test_abusive_evaluation_binary.txt\n"
     ]
    }
   ],
   "source": [
    "save_preprocessed_data(\"abusive_evaluation_binary\", hasValid=False, data_={\"train\": (np.concatenate((x_abusive_train, x_abusive_valid)), np.concatenate((y_abusive_train, y_abusive_valid))), \"test\": (x_abusive_test, y_abusive_test)})"
   ]
  },
  {
   "cell_type": "markdown",
   "metadata": {},
   "source": [
    "## Test Loading "
   ]
  },
  {
   "cell_type": "code",
   "execution_count": 34,
   "metadata": {
    "collapsed": false
   },
   "outputs": [
    {
     "name": "stdout",
     "output_type": "stream",
     "text": [
      "test_abusive_evaluation_binary.txt   train_abusive_final_binary.txt\r\n",
      "test_abusive_final_binary.txt        train_abusive_valid_binary.txt\r\n",
      "test_abusive_valid_binary.txt        train_racism_binary.txt\r\n",
      "test_racism_binary.txt               train_racism_final2_binary.txt\r\n",
      "test_racism_final2_binary.txt        train_racism_final_binary.txt\r\n",
      "test_racism_final_binary.txt         train_racism_hashtag_no.txt\r\n",
      "test_racism_hashtag_no.txt           train_racism_hashtag_yes.txt\r\n",
      "test_racism_hashtag_yes.txt          train_sexism_binary.txt\r\n",
      "test_sexism_binary.txt               train_sexism_final2_binary.txt\r\n",
      "test_sexism_final2_binary.txt        train_sexism_final_binary.txt\r\n",
      "test_sexism_final_binary.txt         train_sexism_hashtag_no.txt\r\n",
      "test_sexism_hashtag_no.txt           train_sexism_hashtag_yes.txt\r\n",
      "test_sexism_hashtag_yes.txt          train_sexism_no_ht_binary.txt\r\n",
      "test_sexism_no_ht_binary.txt         valid_racism_binary.txt\r\n",
      "train_abusive_evaluation_binary.txt  valid_sexism_binary.txt\r\n"
     ]
    }
   ],
   "source": [
    "%ls data/preprocessed"
   ]
  },
  {
   "cell_type": "code",
   "execution_count": 35,
   "metadata": {
    "collapsed": false
   },
   "outputs": [],
   "source": [
    "data = load_from_file(\"abusive_valid_binary\")"
   ]
  },
  {
   "cell_type": "code",
   "execution_count": 36,
   "metadata": {
    "collapsed": false
   },
   "outputs": [
    {
     "data": {
      "text/plain": [
       "(12842,)"
      ]
     },
     "execution_count": 36,
     "metadata": {},
     "output_type": "execute_result"
    }
   ],
   "source": [
    "data[\"x_train\"].shape"
   ]
  },
  {
   "cell_type": "code",
   "execution_count": 37,
   "metadata": {
    "collapsed": false
   },
   "outputs": [
    {
     "data": {
      "text/plain": [
       "(2754,)"
      ]
     },
     "execution_count": 37,
     "metadata": {},
     "output_type": "execute_result"
    }
   ],
   "source": [
    "data[\"x_test\"].shape"
   ]
  },
  {
   "cell_type": "markdown",
   "metadata": {},
   "source": [
    "# Sexism vs. Racism"
   ]
  },
  {
   "cell_type": "code",
   "execution_count": 45,
   "metadata": {
    "collapsed": true
   },
   "outputs": [],
   "source": [
    "x_combined_train = []\n",
    "y_combined_train = []\n",
    "x_combined_valid = []\n",
    "y_combined_valid = []\n",
    "x_combined_test = []\n",
    "y_combined_test = []"
   ]
  },
  {
   "cell_type": "code",
   "execution_count": 46,
   "metadata": {
    "collapsed": true
   },
   "outputs": [],
   "source": [
    "def combine(x_sex, y_sex, x_race, y_race, x, y):\n",
    "    for i in range(len(x_sex)):\n",
    "        if y_sex[i] == 1:\n",
    "            x.append(x_sex[i])\n",
    "            y.append(0)\n",
    "    for i in range(len(x_race)):\n",
    "        if y_sex[i] == 1:\n",
    "            x.append(x_race[i])\n",
    "            y.append(1)"
   ]
  },
  {
   "cell_type": "markdown",
   "metadata": {},
   "source": [
    "## training"
   ]
  },
  {
   "cell_type": "code",
   "execution_count": 47,
   "metadata": {
    "collapsed": true
   },
   "outputs": [],
   "source": [
    "combine(data_sexism[\"x_train\"], data_sexism[\"y_train\"], data_racism[\"x_train\"], data_racism[\"y_train\"], x_combined_train, y_combined_train)"
   ]
  },
  {
   "cell_type": "code",
   "execution_count": 48,
   "metadata": {
    "collapsed": false
   },
   "outputs": [
    {
     "data": {
      "text/plain": [
       "4145"
      ]
     },
     "execution_count": 48,
     "metadata": {},
     "output_type": "execute_result"
    }
   ],
   "source": [
    "len(x_combined_train)"
   ]
  },
  {
   "cell_type": "code",
   "execution_count": 49,
   "metadata": {
    "collapsed": false
   },
   "outputs": [
    {
     "data": {
      "text/plain": [
       "2704"
      ]
     },
     "execution_count": 49,
     "metadata": {},
     "output_type": "execute_result"
    }
   ],
   "source": [
    "len(list(filter(lambda y: y==0, y_combined_train)))"
   ]
  },
  {
   "cell_type": "code",
   "execution_count": 50,
   "metadata": {
    "collapsed": false
   },
   "outputs": [
    {
     "data": {
      "text/plain": [
       "1441"
      ]
     },
     "execution_count": 50,
     "metadata": {},
     "output_type": "execute_result"
    }
   ],
   "source": [
    "len(list(filter(lambda y: y==1, y_combined_train)))"
   ]
  },
  {
   "cell_type": "markdown",
   "metadata": {},
   "source": [
    "## valid"
   ]
  },
  {
   "cell_type": "code",
   "execution_count": 51,
   "metadata": {
    "collapsed": true
   },
   "outputs": [],
   "source": [
    "combine(data_sexism[\"x_valid\"], data_sexism[\"y_valid\"], data_racism[\"x_valid\"], data_racism[\"y_valid\"], x_combined_valid, y_combined_valid)"
   ]
  },
  {
   "cell_type": "code",
   "execution_count": 52,
   "metadata": {
    "collapsed": false
   },
   "outputs": [
    {
     "data": {
      "text/plain": [
       "889"
      ]
     },
     "execution_count": 52,
     "metadata": {},
     "output_type": "execute_result"
    }
   ],
   "source": [
    "len(x_combined_valid)"
   ]
  },
  {
   "cell_type": "code",
   "execution_count": 53,
   "metadata": {
    "collapsed": false
   },
   "outputs": [
    {
     "data": {
      "text/plain": [
       "580"
      ]
     },
     "execution_count": 53,
     "metadata": {},
     "output_type": "execute_result"
    }
   ],
   "source": [
    "len(list(filter(lambda y: y==0, y_combined_valid)))"
   ]
  },
  {
   "cell_type": "code",
   "execution_count": 54,
   "metadata": {
    "collapsed": false
   },
   "outputs": [
    {
     "data": {
      "text/plain": [
       "309"
      ]
     },
     "execution_count": 54,
     "metadata": {},
     "output_type": "execute_result"
    }
   ],
   "source": [
    "len(list(filter(lambda y: y==1, y_combined_valid)))"
   ]
  },
  {
   "cell_type": "markdown",
   "metadata": {},
   "source": [
    "## test"
   ]
  },
  {
   "cell_type": "code",
   "execution_count": 55,
   "metadata": {
    "collapsed": true
   },
   "outputs": [],
   "source": [
    "combine(data_sexism[\"x_test\"], data_sexism[\"y_test\"], data_racism[\"x_test\"], data_racism[\"y_test\"], x_combined_test, y_combined_test)"
   ]
  },
  {
   "cell_type": "code",
   "execution_count": 56,
   "metadata": {
    "collapsed": false
   },
   "outputs": [
    {
     "data": {
      "text/plain": [
       "889"
      ]
     },
     "execution_count": 56,
     "metadata": {},
     "output_type": "execute_result"
    }
   ],
   "source": [
    "len(x_combined_test)"
   ]
  },
  {
   "cell_type": "code",
   "execution_count": 57,
   "metadata": {
    "collapsed": false
   },
   "outputs": [
    {
     "data": {
      "text/plain": [
       "580"
      ]
     },
     "execution_count": 57,
     "metadata": {},
     "output_type": "execute_result"
    }
   ],
   "source": [
    "len(list(filter(lambda y: y==0, y_combined_test)))"
   ]
  },
  {
   "cell_type": "code",
   "execution_count": 58,
   "metadata": {
    "collapsed": false
   },
   "outputs": [
    {
     "data": {
      "text/plain": [
       "309"
      ]
     },
     "execution_count": 58,
     "metadata": {},
     "output_type": "execute_result"
    }
   ],
   "source": [
    "len(list(filter(lambda y: y==1, y_combined_test)))"
   ]
  },
  {
   "cell_type": "markdown",
   "metadata": {},
   "source": [
    "## save dataset"
   ]
  },
  {
   "cell_type": "code",
   "execution_count": 59,
   "metadata": {
    "collapsed": false
   },
   "outputs": [
    {
     "name": "stdout",
     "output_type": "stream",
     "text": [
      "Wrote on train_combined_valid_binary.txt\n",
      "Wrote on test_combined_valid_binary.txt\n"
     ]
    }
   ],
   "source": [
    "save_preprocessed_data(\"combined_valid_binary\", hasValid=False, data_={\"train\": (x_combined_train, y_combined_train), \"test\": (x_combined_valid, y_combined_valid)})"
   ]
  },
  {
   "cell_type": "code",
   "execution_count": 60,
   "metadata": {
    "collapsed": false
   },
   "outputs": [
    {
     "data": {
      "text/plain": [
       "5034"
      ]
     },
     "execution_count": 60,
     "metadata": {},
     "output_type": "execute_result"
    }
   ],
   "source": [
    "len(np.concatenate((x_combined_train, x_combined_valid)))"
   ]
  },
  {
   "cell_type": "code",
   "execution_count": 61,
   "metadata": {
    "collapsed": false
   },
   "outputs": [
    {
     "data": {
      "text/plain": [
       "5034"
      ]
     },
     "execution_count": 61,
     "metadata": {},
     "output_type": "execute_result"
    }
   ],
   "source": [
    "len(np.concatenate((y_combined_train, y_combined_valid)))"
   ]
  },
  {
   "cell_type": "code",
   "execution_count": 62,
   "metadata": {
    "collapsed": false
   },
   "outputs": [
    {
     "name": "stdout",
     "output_type": "stream",
     "text": [
      "Wrote on train_combined_evaluation_binary.txt\n",
      "Wrote on test_combined_evaluation_binary.txt\n"
     ]
    }
   ],
   "source": [
    "save_preprocessed_data(\"combined_evaluation_binary\", hasValid=False, data_={\"train\": (np.concatenate((x_combined_train, x_combined_valid)), np.concatenate((y_combined_train, y_combined_valid))), \"test\": (x_combined_test, y_combined_test)})"
   ]
  },
  {
   "cell_type": "markdown",
   "metadata": {
    "collapsed": true
   },
   "source": [
    "## adding unlabelled dataset to training"
   ]
  },
  {
   "cell_type": "code",
   "execution_count": null,
   "metadata": {
    "collapsed": true
   },
   "outputs": [],
   "source": [
    "unlabelled_tweets = []\n",
    "with open(\"./data/crawled/unlabelled_tweets.txt\", \"r\"):\n",
    "    for line in f:\n",
    "        tweet = line.rsplit()\n"
   ]
  }
 ],
 "metadata": {
  "anaconda-cloud": {},
  "kernelspec": {
   "display_name": "Python 3",
   "language": "python",
   "name": "python3"
  },
  "language_info": {
   "codemirror_mode": {
    "name": "ipython",
    "version": 3
   },
   "file_extension": ".py",
   "mimetype": "text/x-python",
   "name": "python",
   "nbconvert_exporter": "python",
   "pygments_lexer": "ipython3",
   "version": "3.4.5"
  }
 },
 "nbformat": 4,
 "nbformat_minor": 2
}
