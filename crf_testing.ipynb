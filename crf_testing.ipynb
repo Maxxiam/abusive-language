{
 "cells": [
  {
   "cell_type": "markdown",
   "metadata": {},
   "source": [
    "# Training & Testing CRF model on abusive language dataset\n",
    "\n",
    "Referenced:\n",
    "https://rajmak.wordpress.com/tag/crfsuite/\n"
   ]
  },
  {
   "cell_type": "code",
   "execution_count": 1,
   "metadata": {
    "collapsed": false
   },
   "outputs": [
    {
     "name": "stdout",
     "output_type": "stream",
     "text": [
      "[nltk_data] Downloading package averaged_perceptron_tagger to\n",
      "[nltk_data]     /homes/jhpark/nltk_data...\n",
      "[nltk_data]   Package averaged_perceptron_tagger is already up-to-\n",
      "[nltk_data]       date!\n",
      "preprocessed file already exists in /home/homes/jhpark/hate-speech/data/preprocessed/\n",
      "preprocessed file already exists in /home/homes/jhpark/hate-speech/data/preprocessed/\n"
     ]
    }
   ],
   "source": [
    "from data.preprocess import load_preprocessed_data\n",
    "from data.tokenizer import tokenize_with_dictionary\n",
    "import nltk\n",
    "\n",
    "nltk.download('averaged_perceptron_tagger')\n",
    "\n",
    "sexism_binary = load_preprocessed_data(\"sexism_binary\")\n",
    "racism_binary = load_preprocessed_data(\"racism_binary\")\n"
   ]
  },
  {
   "cell_type": "code",
   "execution_count": 11,
   "metadata": {
    "collapsed": true
   },
   "outputs": [],
   "source": [
    "def preprocess_for_crf(tweets, labels, file_name):\n",
    "    # tokenize tweet and add pos tag\n",
    "    x_data = list(map(lambda x: nltk.pos_tag(tokenize_with_dictionary(x)), tweets))\n",
    "    \n",
    "    # change label [0,1] to [\"neg\" ,\"pos\"]\n",
    "    labels = [\"neg\" if y == 0 else \"pos\" for y in labels]\n",
    "    \n",
    "    with open(\"%s.tsv\" % file_name, \"w\") as f:\n",
    "        for i, x in enumerate(x_data):\n",
    "            for j in range(len(x) - 1):\n",
    "                f.write(\"%s\\t%s\\t%s\\n\" % (x[j][0], x[j][1], \".\"))\n",
    "            # label the last token of the sentence\n",
    "            f.write(\"%s\\t%s\\t%s\\n\\n\" % (x[len(x) - 1][0], x[len(x) - 1][1], labels[i]))\n",
    "    print(\"Data Written into %s for CRFsuite\" % (file_name + \".tsv\"))"
   ]
  },
  {
   "cell_type": "code",
   "execution_count": 4,
   "metadata": {
    "collapsed": false
   },
   "outputs": [
    {
     "name": "stdout",
     "output_type": "stream",
     "text": [
      "[[('we', 'PRP'), ('can', 'MD'), ('see', 'VB'), ('that', 'IN'), ('by', 'IN'), ('the', 'DT'), ('dae', 'NN'), ('sh', 'NN'), ('fleeing', 'VBG'), ('ko', 'JJ'), ('bane', 'NN'), ('and', 'CC'), ('the', 'DT'), ('mosul', 'NN'), ('e', 'NN'), ('countryside', 'NN'), ('.', '.')], [('people', 'NNS'), ('say', 'VBP'), ('im', 'VB'), ('a', 'DT'), ('public', 'JJ'), ('figure', 'NN'), ('but', 'CC'), ('ewww', 'JJ'), ('twitter', 'NN'), (\"hasn't\", 'NN'), ('verified', 'VBD'), ('me', 'PRP'), ('yet', 'RB'), ('so', 'RB'), ('all', 'PDT'), ('these', 'DT'), ('nasty', 'JJ'), ('plebs', 'NN'), ('think', 'VBP'), ('they', 'PRP'), ('are', 'VBP'), ('on', 'IN'), ('equal', 'JJ'), ('ground', 'NN'), ('to', 'TO'), ('me', 'PRP'), ('.', '.')], [('actually', 'RB'), ('compared', 'VBN'), ('to', 'TO'), ('muslim', 'VB'), ('slaughter', 'NN'), ('of', 'IN'), ('muslims', 'NNS'), ('christians', 'NNS'), ('v', 'VBP'), ('few', 'JJ'), ('.', '.'), ('far', 'RB'), ('more', 'RBR'), ('killed', 'JJ'), ('eg', 'NN'), ('in', 'IN'), ('syria', 'NN'), ('http', 'NN')], [('wadhwa', 'NN'), ('only', 'RB'), ('cares', 'VBZ'), ('about', 'IN'), ('wadhwa', 'NN'), ('not', 'RB'), ('women', 'NNS'), ('in', 'IN'), ('tech', 'NN'), ('.', '.'), ('stop', 'VB'), ('wadhwa', 'NN'), ('2015', 'CD')], [('there', 'EX'), ('are', 'VBP'), ('half', 'PDT'), ('a', 'DT'), ('dozen', 'NN'), ('books', 'NNS'), ('that', 'WDT'), ('clearly', 'RB'), ('document', 'NN'), ('put', 'VBD'), ('ins', 'NNS'), ('criminality', 'NN'), ('.', '.'), ('good', 'JJ'), ('night', 'NN'), ('igor', 'NN'), ('.', '.')], [('nah', 'JJ'), (\"it's\", 'NN'), ('just', 'RB'), ('them', 'PRP'), ('they', 'PRP'), ('are', 'VBP'), ('shit', 'JJ'), ('try', 'NN'), ('for', 'IN'), ('the', 'DT'), ('good', 'JJ'), ('stuff', 'NN'), ('mkr', 'NN')], [('there', 'EX'), ('are', 'VBP'), ('legitimate', 'JJ'), ('criticisms', 'NNS'), ('of', 'IN'), (\"valentine's\", 'JJ'), ('day', 'NN'), ('but', 'CC'), ('women', 'NNS'), ('have', 'VBP'), ('too', 'RB'), ('much', 'JJ'), ('power', 'NN'), ('on', 'IN'), ('this', 'DT'), ('day', 'NN'), ('is', 'VBZ'), ('not', 'RB'), ('one', 'CD'), ('of', 'IN'), ('them', 'PRP'), ('.', '.')], [('i', 'NN'), (\"don't\", 'VBP'), ('wanna', 'NN'), ('dev', 'NN'), ('ops', 'VBZ'), ('this', 'DT'), ('.', '.'), ('i', 'VB'), ('just', 'RB'), ('want', 'VB'), ('it', 'PRP'), ('to', 'TO'), ('work', 'VB'), ('so', 'RB'), ('i', 'JJ'), ('can', 'MD'), ('do', 'VB'), ('other', 'JJ'), ('things', 'NNS'), ('.', '.'), ('i', 'NNS'), ('need', 'VBP'), ('a', 'DT'), ('dev', 'JJ'), ('ops', 'NN'), ('.', '.')], [('maybe', 'RB'), ('im', 'NN'), ('staying', 'VBG'), ('up', 'RP'), ('in', 'IN'), ('bellingham', 'NNS'), ('so', 'RB'), (\"it's\", 'VB'), ('a', 'DT'), ('little', 'JJ'), ('bit', 'NN'), ('of', 'IN'), ('a', 'DT'), ('drive', 'NN'), ('.', '.')], [('while', 'IN'), ('you', 'PRP'), ('can', 'MD'), ('hire', 'VB'), ('a', 'DT'), ('lawyer', 'NN'), ('to', 'TO'), ('help', 'VB'), ('you', 'PRP'), ('speak', 'VB'), ('to', 'TO'), ('the', 'DT'), ('police', 'NN'), (\"that's\", 'VBD'), ('kind', 'NN'), ('of', 'IN'), ('where', 'WRB'), ('their', 'PRP$'), ('and', 'CC'), ('your', 'PRP$'), ('involvement', 'NN'), ('ends', 'NNS'), ('.', '.')]]\n",
      "Data Written into sexism_train.tsv for CRFsuite\n"
     ]
    }
   ],
   "source": [
    "preprocess_for_crf(sexism_binary[\"x_train\"], sexism_binary[\"y_train\"], \"sexism_train\")"
   ]
  },
  {
   "cell_type": "code",
   "execution_count": 3,
   "metadata": {
    "collapsed": false
   },
   "outputs": [
    {
     "name": "stdout",
     "output_type": "stream",
     "text": [
      "[[('mkr', 'NN'), ('chicken', 'NN'), ('liver', 'NN'), ('is', 'VBZ'), ('a', 'DT'), ('baaad', 'NN'), ('choice', 'NN')], [('apple', 'NN'), ('did', 'VBD'), ('hire', 'VB'), ('a', 'DT'), ('lot', 'NN'), ('of', 'IN'), ('foss', 'NN'), ('devs', 'NN'), ('.', '.'), ('one', 'CD'), ('of', 'IN'), ('the', 'DT'), ('original', 'JJ'), ('creators', 'NNS'), ('of', 'IN'), ('freebsd', 'NN'), ('became', 'VBD'), ('a', 'DT'), ('director', 'NN'), ('at', 'IN'), ('apple', 'NN'), ('.', '.')], [('i', 'NN'), ('think', 'VBP'), ('the', 'DT'), ('biggest', 'JJS'), ('problem', 'NN'), ('i', 'NN'), ('have', 'VBP'), ('with', 'IN'), ('it', 'PRP'), ('is', 'VBZ'), ('that', 'IN'), (\"there's\", 'VB'), ('too', 'RB'), ('much', 'JJ'), ('of', 'IN'), ('a', 'DT'), ('reliance', 'NN'), ('on', 'IN'), ('wow', 'NN'), ('services', 'NNS'), ('for', 'IN'), ('an', 'DT'), ('external', 'JJ'), ('mechanism', 'NN'), ('.', '.')], [('well', 'RB'), ('damn', 'RB'), ('.', '.'), ('marking', 'VBG'), ('you', 'PRP'), ('off', 'IN'), ('my', 'PRP$'), ('potential', 'JJ'), ('partner', 'NN'), ('list', 'NN'), ('.', '.')], [('the', 'DT'), ('data', 'NN'), ('raises', 'VBZ'), ('interesting', 'JJ'), ('points', 'NNS'), ('on', 'IN'), ('trust', 'NN'), ('in', 'IN'), ('a', 'DT'), ('network', 'NN'), ('.', '.'), (\"it's\", 'NN'), ('gross', 'JJ'), ('to', 'TO'), ('see', 'VB'), ('ob', 'JJ')], [('and', 'CC'), ('the', 'DT'), ('majority', 'NN'), ('of', 'IN'), ('jews', 'NNS'), ('are', 'VBP'), ('secular', 'JJ'), ('and', 'CC'), (\"don't\", 'JJ'), ('care', 'NN'), ('about', 'IN'), ('tala', 'NN'), ('mud', 'NN'), ('.', '.')], [('you', 'PRP'), (\"don't\", 'VBP'), ('understand', 'VB'), ('the', 'DT'), ('things', 'NNS'), ('i', 'NN'), ('would', 'MD'), ('do', 'VB'), ('for', 'IN'), ('a', 'DT'), ('waffle', 'NN'), ('house', 'NN'), ('right', 'RB'), ('now', 'RB'), ('.', '.')], [('yeah', 'VB'), ('the', 'DT'), ('nights', 'NNS'), ('been', 'VBN'), ('shit', 'VBN'), ('so', 'RB'), ('far', 'RB'), ('...', ':'), (\"let's\", 'JJ'), ('make', 'VBP'), ('it', 'PRP'), ('worse', 'JJR'), ('mkr', 'NN')], [('mkr', 'NN'), ('standby', 'NN'), ('for', 'IN'), ('200', 'CD'), ('people', 'NNS'), ('becoming', 'VBG'), ('sick', 'NN'), ('from', 'IN'), ('the', 'DT'), ('dodgy', 'NN'), ('eggs', 'NNS'), ('bad', 'JJ'), ('hollandaise', 'NN'), ('and', 'CC'), ('stupid', 'JJ'), ('puns', 'NNS')], [('i', 'NN'), ('thought', 'VBD'), ('you', 'PRP'), ('had', 'VBD'), ('the', 'DT'), ('trolley', 'NN'), ('mate', 'NN'), ('im', 'NN'), ('crossing', 'VBG'), ('off', 'RP'), ('the', 'DT'), ('list', 'NN'), ('mate', 'NN'), ('hahaha', 'NN'), ('gotta', 'NN'), ('love', 'NN'), ('jac', 'NN'), ('and', 'CC'), ('shaz', 'NN'), ('mkr', 'NN')]]\n",
      "Data Written into sexism_valid.tsv for CRFsuite\n"
     ]
    }
   ],
   "source": [
    "preprocess_for_crf(sexism_binary[\"x_valid\"], sexism_binary[\"y_valid\"], \"sexism_valid\")"
   ]
  },
  {
   "cell_type": "code",
   "execution_count": 12,
   "metadata": {
    "collapsed": false
   },
   "outputs": [
    {
     "name": "stdout",
     "output_type": "stream",
     "text": [
      "Data Written into racism_train.tsv for CRFsuite\n"
     ]
    }
   ],
   "source": [
    "preprocess_for_crf(racism_binary[\"x_train\"], racism_binary[\"y_train\"], \"racism_train\")"
   ]
  },
  {
   "cell_type": "code",
   "execution_count": 13,
   "metadata": {
    "collapsed": false
   },
   "outputs": [
    {
     "name": "stdout",
     "output_type": "stream",
     "text": [
      "Data Written into racism_valid.tsv for CRFsuite\n"
     ]
    }
   ],
   "source": [
    "preprocess_for_crf(racism_binary[\"x_valid\"], racism_binary[\"y_valid\"], \"racism_valid\")"
   ]
  },
  {
   "cell_type": "markdown",
   "metadata": {},
   "source": [
    "After cloning CRFSuite repository (https://github.com/chokkan/crfsuite), use the existing scrip to convert tsv to a format CRFSuite can read by executing the following command. (file path can be different of course)\n",
    "\n",
    "cat \"sexism_train.tsv\" | python /homes/jhpark/crfsuite/example/chunking.py -s $'\\t' > sexism_train.txt \n",
    "cat \"sexism_valid.tsv\" | python /homes/jhpark/crfsuite/example/chunking.py -s $'\\t' > sexism_valid.txt \n",
    "\n",
    "cat \"racism_train.tsv\" | python /homes/jhpark/crfsuite/example/chunking.py -s $'\\t' > racism_train.txt \n",
    "cat \"racism_valid.tsv\" | python /homes/jhpark/crfsuite/example/chunking.py -s $'\\t' > racism_valid.txt \n",
    "\n"
   ]
  },
  {
   "cell_type": "markdown",
   "metadata": {},
   "source": [
    "## running the CRFSuite"
   ]
  },
  {
   "cell_type": "markdown",
   "metadata": {},
   "source": [
    "Download the CRFSuite binary from (http://www.chokkan.org/software/crfsuite/) and train & test the model\n"
   ]
  },
  {
   "cell_type": "markdown",
   "metadata": {},
   "source": [
    "### training\n",
    "to set different training hyperparameter see http://www.chokkan.org/software/crfsuite/manual.html"
   ]
  },
  {
   "cell_type": "markdown",
   "metadata": {},
   "source": [
    "crfsuite-0.12/bin/crfsuite learn -m sexism_binary sexism_train.txt\n",
    "\n",
    "crfsuite-0.12/bin/crfsuite learn -m racism_binary racism_train.txt"
   ]
  },
  {
   "cell_type": "markdown",
   "metadata": {},
   "source": [
    "### testing\n",
    "using nohup to save the output of the crfsuite"
   ]
  },
  {
   "cell_type": "markdown",
   "metadata": {},
   "source": [
    "crfsuite-0.12/bin/crfsuite tag -qt -m sexism_binary sexism_valid.txt\n",
    "\n",
    "crfsuite-0.12/bin/crfsuite tag -qt -m racism_binary racism_valid.txt"
   ]
  },
  {
   "cell_type": "code",
   "execution_count": null,
   "metadata": {
    "collapsed": true
   },
   "outputs": [],
   "source": []
  }
 ],
 "metadata": {
  "kernelspec": {
   "display_name": "Python 3",
   "language": "python",
   "name": "python3"
  },
  "language_info": {
   "codemirror_mode": {
    "name": "ipython",
    "version": 3
   },
   "file_extension": ".py",
   "mimetype": "text/x-python",
   "name": "python",
   "nbconvert_exporter": "python",
   "pygments_lexer": "ipython3",
   "version": "3.4.5"
  }
 },
 "nbformat": 4,
 "nbformat_minor": 2
}
