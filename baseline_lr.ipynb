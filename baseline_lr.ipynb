{
 "cells": [
  {
   "cell_type": "code",
   "execution_count": 1,
   "metadata": {
    "collapsed": false
   },
   "outputs": [
    {
     "name": "stderr",
     "output_type": "stream",
     "text": [
      "Using TensorFlow backend.\n"
     ]
    }
   ],
   "source": [
    "import numpy as np\n",
    "from model.helper import calculate_metrics\n",
    "from sklearn.linear_model import LinearRegression\n",
    "from data.preprocess import load_from_file\n",
    "from sklearn.feature_extraction.text import CountVectorizer, TfidfTransformer"
   ]
  },
  {
   "cell_type": "code",
   "execution_count": 2,
   "metadata": {
    "collapsed": false
   },
   "outputs": [
    {
     "name": "stdout",
     "output_type": "stream",
     "text": [
      "(13033,)\n",
      "(13033,)\n",
      "(3259,)\n",
      "(3259,)\n"
     ]
    }
   ],
   "source": [
    "sexism_data = load_from_file(\"sexism_final_binary\")\n",
    "\n",
    "print(sexism_data[\"x_train\"].shape)\n",
    "print(sexism_data[\"y_train\"].shape)\n",
    "print(sexism_data[\"x_test\"].shape)\n",
    "print(sexism_data[\"y_test\"].shape)"
   ]
  },
  {
   "cell_type": "code",
   "execution_count": 3,
   "metadata": {
    "collapsed": false
   },
   "outputs": [
    {
     "name": "stdout",
     "output_type": "stream",
     "text": [
      "(11589,)\n",
      "(11589,)\n",
      "(2898,)\n",
      "(2898,)\n"
     ]
    }
   ],
   "source": [
    "racism_data = load_from_file(\"racism_final_binary\")\n",
    "\n",
    "print(racism_data[\"x_train\"].shape)\n",
    "print(racism_data[\"y_train\"].shape)\n",
    "print(racism_data[\"x_test\"].shape)\n",
    "print(racism_data[\"y_test\"].shape)"
   ]
  },
  {
   "cell_type": "code",
   "execution_count": 4,
   "metadata": {
    "collapsed": false
   },
   "outputs": [
    {
     "name": "stdout",
     "output_type": "stream",
     "text": [
      "(14558,)\n",
      "(14558,)\n",
      "(3642,)\n",
      "(3642,)\n"
     ]
    }
   ],
   "source": [
    "abusive_data = load_from_file(\"abusive_final_binary\")\n",
    "\n",
    "print(abusive_data[\"x_train\"].shape)\n",
    "print(abusive_data[\"y_train\"].shape)\n",
    "print(abusive_data[\"x_test\"].shape)\n",
    "print(abusive_data[\"y_test\"].shape)"
   ]
  },
  {
   "cell_type": "code",
   "execution_count": 5,
   "metadata": {
    "collapsed": false
   },
   "outputs": [],
   "source": [
    "def evaluate(pred_scores, target):\n",
    "    pred = list(map(lambda x: 1 if x >= 0.5 else 0, pred_scores))\n",
    "    precision, recall, f1 = calculate_metrics(target, pred)\n",
    "    print(\"Training: Precision=%.2f Recall=%.2f, F1=%.2f\" %(precision, recall, f1))\n",
    "    return f1"
   ]
  },
  {
   "cell_type": "code",
   "execution_count": 8,
   "metadata": {
    "collapsed": true
   },
   "outputs": [],
   "source": [
    "def lr_with_occur(data):\n",
    "    vect = CountVectorizer(ngram_range=(2,5), analyzer=\"char\")\n",
    "    X_train_counts = vect.fit_transform(data[\"x_train\"])\n",
    "    print(X_train_counts.shape)\n",
    "    \n",
    "    lr = LinearRegression().fit(X_train_counts, data[\"y_train\"])\n",
    "    evaluate(lr.predict(X_train_counts), data[\"y_train\"])\n",
    "    \n",
    "    X_test_counts = vect.transform(data[\"x_test\"])\n",
    "    pred_scores = lr.predict(X_test_counts)\n",
    "    evaluate(pred_scores, data[\"y_test\"])\n",
    "    return lr, pred_scores"
   ]
  },
  {
   "cell_type": "code",
   "execution_count": 9,
   "metadata": {
    "collapsed": false
   },
   "outputs": [],
   "source": [
    "def lr_with_freq(data):\n",
    "    vect = CountVectorizer(ngram_range=(2,5), analyzer=\"char\")\n",
    "    X_train_counts = vect.fit_transform(data[\"x_train\"])\n",
    "    print(X_train_counts.shape)\n",
    "    \n",
    "    tfidf_transformer = TfidfTransformer()\n",
    "    X_train_tfidf = tfidf_transformer.fit_transform(X_train_counts)\n",
    "    \n",
    "    lr = LinearRegression().fit(X_train_tfidf, data[\"y_train\"])\n",
    "    evaluate(lr.predict(X_train_tfidf), data[\"y_train\"])\n",
    "    \n",
    "    X_test_counts = vect.transform(data[\"x_test\"])\n",
    "    pred_scores = lr.predict(tfidf_transformer.transform(X_test_counts))\n",
    "    evaluate(pred_scores, data[\"y_test\"])\n",
    "    return lr, pred_scores"
   ]
  },
  {
   "cell_type": "markdown",
   "metadata": {},
   "source": [
    "## Char-ngram Logistic Regression"
   ]
  },
  {
   "cell_type": "markdown",
   "metadata": {},
   "source": [
    "### Sexism"
   ]
  },
  {
   "cell_type": "code",
   "execution_count": 10,
   "metadata": {
    "collapsed": false
   },
   "outputs": [
    {
     "name": "stdout",
     "output_type": "stream",
     "text": [
      "(13033, 209248)\n",
      "Training: Precision=0.99 Recall=0.98, F1=0.98\n",
      "Training: Precision=0.68 Recall=0.65, F1=0.66\n"
     ]
    },
    {
     "data": {
      "text/plain": [
       "(LinearRegression(copy_X=True, fit_intercept=True, n_jobs=1, normalize=False),\n",
       " array([-0.26742584,  0.08863401, -0.36218095, ...,  0.99999999,\n",
       "         0.6603459 ,  0.54225431]))"
      ]
     },
     "execution_count": 10,
     "metadata": {},
     "output_type": "execute_result"
    }
   ],
   "source": [
    "lr_with_occur(sexism_data)"
   ]
  },
  {
   "cell_type": "code",
   "execution_count": 11,
   "metadata": {
    "collapsed": false
   },
   "outputs": [
    {
     "name": "stdout",
     "output_type": "stream",
     "text": [
      "(13033, 209248)\n",
      "Training: Precision=0.98 Recall=0.98, F1=0.98\n",
      "Training: Precision=0.74 Recall=0.65, F1=0.69\n"
     ]
    },
    {
     "data": {
      "text/plain": [
       "(LinearRegression(copy_X=True, fit_intercept=True, n_jobs=1, normalize=False),\n",
       " array([-0.19096738,  0.33023047,  0.10044193, ...,  0.99999996,\n",
       "         0.56496723,  0.29963298]))"
      ]
     },
     "execution_count": 11,
     "metadata": {},
     "output_type": "execute_result"
    }
   ],
   "source": [
    "lr_with_freq(sexism_data)"
   ]
  },
  {
   "cell_type": "markdown",
   "metadata": {},
   "source": [
    "### Racism"
   ]
  },
  {
   "cell_type": "code",
   "execution_count": 12,
   "metadata": {
    "collapsed": false
   },
   "outputs": [
    {
     "name": "stdout",
     "output_type": "stream",
     "text": [
      "(11589, 190590)\n",
      "Training: Precision=1.00 Recall=1.00, F1=1.00\n",
      "Training: Precision=0.70 Recall=0.63, F1=0.66\n"
     ]
    },
    {
     "data": {
      "text/plain": [
       "(LinearRegression(copy_X=True, fit_intercept=True, n_jobs=1, normalize=False),\n",
       " array([ 0.31047233,  0.11712028, -0.05471729, ...,  0.5017374 ,\n",
       "         0.585294  ,  0.9479977 ]))"
      ]
     },
     "execution_count": 12,
     "metadata": {},
     "output_type": "execute_result"
    }
   ],
   "source": [
    "lr_with_occur(racism_data)"
   ]
  },
  {
   "cell_type": "code",
   "execution_count": 13,
   "metadata": {
    "collapsed": false
   },
   "outputs": [
    {
     "name": "stdout",
     "output_type": "stream",
     "text": [
      "(11589, 190590)\n",
      "Training: Precision=1.00 Recall=1.00, F1=1.00\n",
      "Training: Precision=0.74 Recall=0.64, F1=0.69\n"
     ]
    },
    {
     "data": {
      "text/plain": [
       "(LinearRegression(copy_X=True, fit_intercept=True, n_jobs=1, normalize=False),\n",
       " array([ 0.37266129,  0.03311203,  0.02875123, ...,  0.49127743,\n",
       "         0.71657175,  0.8544037 ]))"
      ]
     },
     "execution_count": 13,
     "metadata": {},
     "output_type": "execute_result"
    }
   ],
   "source": [
    "lr_with_freq(racism_data)"
   ]
  },
  {
   "cell_type": "markdown",
   "metadata": {},
   "source": [
    "### Abusive (combined)"
   ]
  },
  {
   "cell_type": "code",
   "execution_count": 11,
   "metadata": {
    "collapsed": false
   },
   "outputs": [
    {
     "name": "stdout",
     "output_type": "stream",
     "text": [
      "(14558, 217026)\n",
      "Training: Precision=0.99 Recall=0.99, F1=0.99\n",
      "Training: Precision=0.63 Recall=0.63, F1=0.63\n"
     ]
    },
    {
     "data": {
      "text/plain": [
       "(LinearRegression(copy_X=True, fit_intercept=True, n_jobs=1, normalize=False),\n",
       " array([ 0.07642635,  0.35287011,  0.96663645, ...,  0.2848371 ,\n",
       "         0.89408181,  1.31403683]))"
      ]
     },
     "execution_count": 11,
     "metadata": {},
     "output_type": "execute_result"
    }
   ],
   "source": [
    "lr_with_occur(abusive_data)"
   ]
  },
  {
   "cell_type": "code",
   "execution_count": 14,
   "metadata": {
    "collapsed": false
   },
   "outputs": [
    {
     "name": "stdout",
     "output_type": "stream",
     "text": [
      "(14558, 217026)\n",
      "Training: Precision=0.99 Recall=0.99, F1=0.99\n",
      "Training: Precision=0.66 Recall=0.64, F1=0.65\n"
     ]
    },
    {
     "data": {
      "text/plain": [
       "(LinearRegression(copy_X=True, fit_intercept=True, n_jobs=1, normalize=False),\n",
       " array([-0.01216694,  0.6522212 ,  0.66981284, ...,  0.22203411,\n",
       "         0.84068746,  0.98236891]))"
      ]
     },
     "execution_count": 14,
     "metadata": {},
     "output_type": "execute_result"
    }
   ],
   "source": [
    "lr_with_freq(abusive_data)"
   ]
  }
 ],
 "metadata": {
  "kernelspec": {
   "display_name": "Python 3",
   "language": "python",
   "name": "python3"
  },
  "language_info": {
   "codemirror_mode": {
    "name": "ipython",
    "version": 3
   },
   "file_extension": ".py",
   "mimetype": "text/x-python",
   "name": "python",
   "nbconvert_exporter": "python",
   "pygments_lexer": "ipython3",
   "version": "3.4.5"
  }
 },
 "nbformat": 4,
 "nbformat_minor": 2
}
