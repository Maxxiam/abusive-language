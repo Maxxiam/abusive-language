{
 "cells": [
  {
   "cell_type": "code",
   "execution_count": 26,
   "metadata": {
    "collapsed": true
   },
   "outputs": [],
   "source": [
    "import numpy as np\n",
    "import os\n",
    "from data.preprocess import load_from_file\n"
   ]
  },
  {
   "cell_type": "markdown",
   "metadata": {},
   "source": [
    "## Sexism binary test"
   ]
  },
  {
   "cell_type": "code",
   "execution_count": 30,
   "metadata": {
    "collapsed": false
   },
   "outputs": [
    {
     "name": "stdout",
     "output_type": "stream",
     "text": [
      "(13846,)\n",
      "(2446,)\n"
     ]
    }
   ],
   "source": [
    "result = load_from_file(\"sexism_binary\")\n",
    "x_train = np.concatenate((result[\"x_train\"], result[\"x_valid\"]))\n",
    "x_test = result[\"x_test\"]\n",
    "y_train = np.concatenate((result[\"y_train\"], result[\"y_valid\"]))\n",
    "y_test = result[\"y_test\"]\n",
    "print(x_train.shape)\n",
    "print(x_test.shape)\n"
   ]
  },
  {
   "cell_type": "code",
   "execution_count": 31,
   "metadata": {
    "collapsed": false
   },
   "outputs": [
    {
     "name": "stdout",
     "output_type": "stream",
     "text": [
      "Wrote on train_sexism_final2_binary.txt\n",
      "Wrote on test_sexism_final2_binary.txt\n"
     ]
    }
   ],
   "source": [
    "save_preprocessed_data(\"sexism_final2_binary\", hasValid=False, data_={\"train\": (x_train, y_train), \"test\": (x_test, y_test)})"
   ]
  },
  {
   "cell_type": "markdown",
   "metadata": {},
   "source": [
    "## Racism Binary test"
   ]
  },
  {
   "cell_type": "code",
   "execution_count": 32,
   "metadata": {
    "collapsed": false
   },
   "outputs": [
    {
     "name": "stdout",
     "output_type": "stream",
     "text": [
      "(12312,)\n",
      "(2175,)\n"
     ]
    }
   ],
   "source": [
    "result = load_from_file(\"racism_binary\")\n",
    "x_train = np.concatenate((result[\"x_train\"], result[\"x_valid\"]))\n",
    "x_test = result[\"x_test\"]\n",
    "y_train = np.concatenate((result[\"y_train\"], result[\"y_valid\"]))\n",
    "y_test = result[\"y_test\"]\n",
    "print(x_train.shape)\n",
    "print(x_test.shape)"
   ]
  },
  {
   "cell_type": "code",
   "execution_count": 33,
   "metadata": {
    "collapsed": false
   },
   "outputs": [
    {
     "name": "stdout",
     "output_type": "stream",
     "text": [
      "Wrote on train_racism_final2_binary.txt\n",
      "Wrote on test_racism_final2_binary.txt\n"
     ]
    }
   ],
   "source": [
    "save_preprocessed_data(\"racism_final2_binary\", hasValid=False, data_={\"train\": (x_train, y_train), \"test\": (x_test, y_test)})"
   ]
  },
  {
   "cell_type": "markdown",
   "metadata": {},
   "source": [
    "## Test Loading "
   ]
  },
  {
   "cell_type": "code",
   "execution_count": 34,
   "metadata": {
    "collapsed": false
   },
   "outputs": [
    {
     "name": "stdout",
     "output_type": "stream",
     "text": [
      "test_abusive_final_binary.txt   train_racism_binary.txt\r\n",
      "test_racism_binary.txt          train_racism_final2_binary.txt\r\n",
      "test_racism_final2_binary.txt   train_racism_final_binary.txt\r\n",
      "test_racism_final_binary.txt    train_sexism_binary.txt\r\n",
      "test_sexism_binary.txt          train_sexism_final2_binary.txt\r\n",
      "test_sexism_final2_binary.txt   train_sexism_final_binary.txt\r\n",
      "test_sexism_final_binary.txt    valid_racism_binary.txt\r\n",
      "train_abusive_final_binary.txt  valid_sexism_binary.txt\r\n"
     ]
    }
   ],
   "source": [
    "%ls data/preprocessed"
   ]
  },
  {
   "cell_type": "code",
   "execution_count": 14,
   "metadata": {
    "collapsed": true
   },
   "outputs": [],
   "source": []
  },
  {
   "cell_type": "code",
   "execution_count": 15,
   "metadata": {
    "collapsed": false
   },
   "outputs": [],
   "source": [
    "data = load_from_file(\"abusive_final_binary\")"
   ]
  },
  {
   "cell_type": "code",
   "execution_count": 19,
   "metadata": {
    "collapsed": false
   },
   "outputs": [
    {
     "data": {
      "text/plain": [
       "(14558,)"
      ]
     },
     "execution_count": 19,
     "metadata": {},
     "output_type": "execute_result"
    }
   ],
   "source": [
    "data[\"x_train\"].shape"
   ]
  },
  {
   "cell_type": "code",
   "execution_count": 20,
   "metadata": {
    "collapsed": false
   },
   "outputs": [
    {
     "data": {
      "text/plain": [
       "(3642,)"
      ]
     },
     "execution_count": 20,
     "metadata": {},
     "output_type": "execute_result"
    }
   ],
   "source": [
    "data[\"x_test\"].shape"
   ]
  },
  {
   "cell_type": "code",
   "execution_count": null,
   "metadata": {
    "collapsed": true
   },
   "outputs": [],
   "source": []
  }
 ],
 "metadata": {
  "kernelspec": {
   "display_name": "Python 3",
   "language": "python",
   "name": "python3"
  },
  "language_info": {
   "codemirror_mode": {
    "name": "ipython",
    "version": 3
   },
   "file_extension": ".py",
   "mimetype": "text/x-python",
   "name": "python",
   "nbconvert_exporter": "python",
   "pygments_lexer": "ipython3",
   "version": "3.4.5"
  }
 },
 "nbformat": 4,
 "nbformat_minor": 2
}
