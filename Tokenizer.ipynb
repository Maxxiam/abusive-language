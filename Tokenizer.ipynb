{
 "cells": [
  {
   "cell_type": "code",
   "execution_count": 33,
   "metadata": {
    "collapsed": true
   },
   "outputs": [],
   "source": [
    "# imports and static test dataset\n",
    "import string\n",
    "import re\n",
    "\n",
    "word = \"This is python testing on jupyter. This is Nayeon's Testing page? hoho! Haha!!!\"\n",
    "char = 'anaconda is nice!!! Wow. a'\n"
   ]
  },
  {
   "cell_type": "code",
   "execution_count": 5,
   "metadata": {
    "collapsed": false
   },
   "outputs": [],
   "source": [
    "def to_words(inputStr, padStart=0, padEnd=0, includePunct=True):\n",
    "    word_list = [];\n",
    "    \n",
    "    #append <start> tokens if any\n",
    "    word_list.extend(['<start>'] * padStart) \n",
    "    \n",
    "    processedInputStr = ''\n",
    "    if includePunct:\n",
    "        processedInputStr = re.sub(\"([.,!'?()])\", r' \\1 ', inputStr)\n",
    "        # processedInputStr = re.sub('\\s{2,}', ' ', processedInputStr)\n",
    "    else:\n",
    "        processedInputStr = inputStr.translate(None, string.punctuation)\n",
    "\n",
    "    word_list += processedInputStr.split()\n",
    "    \n",
    "    #append <end> tokens if any\n",
    "    word_list.extend(['<end>'] * padEnd)\n",
    "    \n",
    "    return word_list"
   ]
  },
  {
   "cell_type": "code",
   "execution_count": 6,
   "metadata": {
    "collapsed": false
   },
   "outputs": [
    {
     "data": {
      "text/plain": [
       "['<start>',\n",
       " '<start>',\n",
       " 'This',\n",
       " 'is',\n",
       " 'python',\n",
       " 'testing',\n",
       " 'on',\n",
       " 'jupyter',\n",
       " '.',\n",
       " 'This',\n",
       " 'is',\n",
       " 'Nayeon',\n",
       " \"'\",\n",
       " 's',\n",
       " 'Testing',\n",
       " 'page',\n",
       " '?',\n",
       " 'hoho',\n",
       " '!',\n",
       " 'Haha',\n",
       " '!',\n",
       " '!',\n",
       " '!',\n",
       " '<end>',\n",
       " '<end>',\n",
       " '<end>']"
      ]
     },
     "execution_count": 6,
     "metadata": {},
     "output_type": "execute_result"
    }
   ],
   "source": [
    "to_words(word,2,3, True)"
   ]
  },
  {
   "cell_type": "code",
   "execution_count": 31,
   "metadata": {
    "collapsed": false
   },
   "outputs": [],
   "source": [
    "def to_chars(inputStr, includeSpace=False, includePunct=True):\n",
    "    char_list = [];\n",
    "    \n",
    "    puncHandledStr = inputStr\n",
    "    if not includePunct:\n",
    "        puncHandledStr = inputStr.translate(None, string.punctuation)\n",
    "    \n",
    "    word_tokens = puncHandledStr.split()\n",
    "    \n",
    "    for word_token in word_tokens:\n",
    "            processed = \" \".join(word_token)\n",
    "            char_list += processed.split()\n",
    "            char_list += \" \"\n",
    "    \n",
    "    del char_list[-1]\n",
    "    return char_list"
   ]
  },
  {
   "cell_type": "code",
   "execution_count": 34,
   "metadata": {
    "collapsed": false
   },
   "outputs": [
    {
     "data": {
      "text/plain": [
       "['a',\n",
       " 'n',\n",
       " 'a',\n",
       " 'c',\n",
       " 'o',\n",
       " 'n',\n",
       " 'd',\n",
       " 'a',\n",
       " ' ',\n",
       " 'i',\n",
       " 's',\n",
       " ' ',\n",
       " 'n',\n",
       " 'i',\n",
       " 'c',\n",
       " 'e',\n",
       " '!',\n",
       " '!',\n",
       " '!',\n",
       " ' ',\n",
       " 'W',\n",
       " 'o',\n",
       " 'w',\n",
       " '.',\n",
       " ' ',\n",
       " 'a']"
      ]
     },
     "execution_count": 34,
     "metadata": {},
     "output_type": "execute_result"
    }
   ],
   "source": [
    "to_chars(char, False, True)"
   ]
  },
  {
   "cell_type": "code",
   "execution_count": null,
   "metadata": {
    "collapsed": true
   },
   "outputs": [],
   "source": []
  }
 ],
 "metadata": {
  "kernelspec": {
   "display_name": "Python 3",
   "language": "python",
   "name": "python3"
  },
  "language_info": {
   "codemirror_mode": {
    "name": "ipython",
    "version": 3
   },
   "file_extension": ".py",
   "mimetype": "text/x-python",
   "name": "python",
   "nbconvert_exporter": "python",
   "pygments_lexer": "ipython3",
   "version": "3.4.5"
  }
 },
 "nbformat": 4,
 "nbformat_minor": 2
}
