{
 "cells": [
  {
   "cell_type": "markdown",
   "metadata": {},
   "source": [
    "# Error analysis"
   ]
  },
  {
   "cell_type": "markdown",
   "metadata": {},
   "source": [
    "## Load Pretrained model"
   ]
  },
  {
   "cell_type": "code",
   "execution_count": 1,
   "metadata": {
    "collapsed": true
   },
   "outputs": [],
   "source": [
    "import tensorflow as tf\n",
    "import numpy as np"
   ]
  },
  {
   "cell_type": "code",
   "execution_count": 2,
   "metadata": {
    "collapsed": true
   },
   "outputs": [],
   "source": [
    "saver_paths = [\"./logs/rf2/char/ckpt\", \"./logs/rf2/word/ckpt\", \"./logs/rf2/hybrid/ckpt\"]\n",
    "checkpoint_files = list(map(tf.train.get_checkpoint_state, saver_paths))"
   ]
  },
  {
   "cell_type": "code",
   "execution_count": 3,
   "metadata": {
    "collapsed": false
   },
   "outputs": [
    {
     "data": {
      "text/plain": [
       "[model_checkpoint_path: \"/home/homes/jhpark/hate-speech/logs/rf2/char/ckpt/model-final.ckpt\"\n",
       " all_model_checkpoint_paths: \"/home/homes/jhpark/hate-speech/logs/rf2/char/ckpt/model-final.ckpt\",\n",
       " model_checkpoint_path: \"/home/homes/jhpark/hate-speech/logs/rf2/word/ckpt/model-final.ckpt\"\n",
       " all_model_checkpoint_paths: \"/home/homes/jhpark/hate-speech/logs/rf2/word/ckpt/model-final.ckpt\",\n",
       " model_checkpoint_path: \"/home/homes/jhpark/hate-speech/logs/rf2/hybrid/ckpt/model-final.ckpt\"\n",
       " all_model_checkpoint_paths: \"/home/homes/jhpark/hate-speech/logs/rf2/hybrid/ckpt/model-final.ckpt\"]"
      ]
     },
     "execution_count": 3,
     "metadata": {},
     "output_type": "execute_result"
    }
   ],
   "source": [
    "checkpoint_files"
   ]
  },
  {
   "cell_type": "code",
   "execution_count": 4,
   "metadata": {
    "collapsed": true
   },
   "outputs": [],
   "source": [
    "# create session for evaluation\n",
    "gpu_options = tf.GPUOptions(per_process_gpu_memory_fraction=0.9)\n",
    "session_conf = tf.ConfigProto(allow_soft_placement=True, gpu_options=gpu_options)\n"
   ]
  },
  {
   "cell_type": "code",
   "execution_count": 5,
   "metadata": {
    "collapsed": false
   },
   "outputs": [
    {
     "name": "stdout",
     "output_type": "stream",
     "text": [
      "\n",
      "Data Summary:\n",
      "Train: Total Positive Labels=1750 (0.1421)\n",
      "Test: Total Positive Labels=309 (0.1421)\n",
      "\n",
      "dataset passed the assertion test\n"
     ]
    }
   ],
   "source": [
    "from data.hybrid import load_data_from_file\n",
    "\n",
    "(x_train, y_train, x_test, y_test, initW, vocab) = load_data_from_file(\"racism_final2_binary\")\n",
    "word_text_len = x_train[0][\"word\"].shape[0]\n",
    "word_vocab_size = len(vocab.vocabulary_)\n",
    "char_text_len = x_train[0][\"char\"].shape[0]\n",
    "char_vocab_size = x_train[0][\"char\"].shape[1]\n"
   ]
  },
  {
   "cell_type": "code",
   "execution_count": 6,
   "metadata": {
    "collapsed": false
   },
   "outputs": [],
   "source": [
    "from data.hybrid import extract_from_batch\n",
    "\n",
    "batchW, batchC = extract_from_batch(x_test)\n",
    "feed_dicts = []\n",
    "feed_dicts.append({\"input/Placeholder_1:0\": y_test, \"input/Placeholder:0\": batchC, \"nn-layers/fully-connected-layer-0/dropout_1/keras_learning_phase:0\": 0})\n",
    "feed_dicts.append({\"input/labels:0\": y_test, \"input/X:0\": batchW, \"dropout_keep_prob:0\": 1})\n",
    "feed_dicts.append({\"input/labels:0\": y_test, \"input/X_word:0\": batchW, \"input/X_char:0\": batchC, \"dropout_keep_prob:0\": 1})\n",
    "\n",
    "output_names = [\"prediction/prediction\", \"output/prediction\", \"output/prediction\"]"
   ]
  },
  {
   "cell_type": "code",
   "execution_count": 7,
   "metadata": {
    "collapsed": false
   },
   "outputs": [
    {
     "name": "stdout",
     "output_type": "stream",
     "text": [
      "/home/homes/jhpark/hate-speech/logs/rf2/char/ckpt/model-final.ckpt\n",
      "(2175,)\n",
      "/home/homes/jhpark/hate-speech/logs/rf2/word/ckpt/model-final.ckpt\n",
      "(2175,)\n",
      "/home/homes/jhpark/hate-speech/logs/rf2/hybrid/ckpt/model-final.ckpt\n",
      "(2175,)\n"
     ]
    }
   ],
   "source": [
    "preds = []\n",
    "for i, ckpt in enumerate(checkpoint_files):\n",
    "    print(ckpt.all_model_checkpoint_paths[0])\n",
    "    tf.reset_default_graph()\n",
    "    saver = tf.train.import_meta_graph(\"{}.meta\".format(ckpt.all_model_checkpoint_paths[0]))\n",
    "\n",
    "    with tf.Session(config=session_conf) as sess:\n",
    "        saver.restore(sess, ckpt.model_checkpoint_path)\n",
    "        graph = tf.get_default_graph()\n",
    "        pred = sess.run(output_names[i] + \":0\", feed_dicts[i])\n",
    "        print(pred.shape)\n",
    "        preds.append(pred)"
   ]
  },
  {
   "cell_type": "code",
   "execution_count": 8,
   "metadata": {
    "collapsed": false
   },
   "outputs": [
    {
     "name": "stdout",
     "output_type": "stream",
     "text": [
      "precision=0.6667 recall=0.7832 f1=0.7202\n",
      "precision=0.7110 recall=0.7961 f1=0.7511\n",
      "precision=0.7086 recall=0.8026 f1=0.7527\n"
     ]
    },
    {
     "name": "stderr",
     "output_type": "stream",
     "text": [
      "Using TensorFlow backend.\n"
     ]
    }
   ],
   "source": [
    "from model.helper import calculate_metrics\n",
    "for pred in preds:\n",
    "    precision, recall, f1 = calculate_metrics(y_test, pred)\n",
    "    print(\"precision=%.4f recall=%.4f f1=%.4f\" % (precision, recall, f1))"
   ]
  },
  {
   "cell_type": "markdown",
   "metadata": {},
   "source": [
    "since the metrics are same as the final output, we can validate that the pre-trained model has been loaded successfully"
   ]
  },
  {
   "cell_type": "markdown",
   "metadata": {},
   "source": [
    "## Load original test data"
   ]
  },
  {
   "cell_type": "code",
   "execution_count": 16,
   "metadata": {
    "collapsed": true
   },
   "outputs": [],
   "source": [
    "from data.preprocess import load_from_file\n",
    "data = load_from_file(\"racism_final2_binary\")"
   ]
  },
  {
   "cell_type": "code",
   "execution_count": 17,
   "metadata": {
    "collapsed": false
   },
   "outputs": [
    {
     "data": {
      "text/plain": [
       "array([ 'there are no ukr nazis. get an education. bandera did not hold a nazi ideaology.',\n",
       "       'yep - karlie kloss et al are shaking in their boots. mkr',\n",
       "       'miles of nothing but farmland in either direction, here stands a lone palm tree. california.',\n",
       "       'anonymous hacker group claims to have taken down more than 1,000 isis sites and emails. opisis',\n",
       "       'and now mods of ghazi are under fire by a mob that appears to have been led by you. :(',\n",
       "       \"it's official: the fcc will motion to have the internet filed under title ii as a utility.\",\n",
       "       'so i can sympathize and understand where this is all coming from.',\n",
       "       'thank you',\n",
       "       \"how's colin and these rounds working for you.. pretty crap i'd say from the tweets.. needarethinkinformat mkr\",\n",
       "       'it was sunny out today! :p i went to the dog park for an hour.'], \n",
       "      dtype='<U157')"
      ]
     },
     "execution_count": 17,
     "metadata": {},
     "output_type": "execute_result"
    }
   ],
   "source": [
    "data[\"x_test\"][:10]"
   ]
  },
  {
   "cell_type": "code",
   "execution_count": 18,
   "metadata": {
    "collapsed": false
   },
   "outputs": [
    {
     "data": {
      "text/plain": [
       "['therearenoukrnazis.getaneducation.banderadidnotholdanaziideaology.',\n",
       " 'yep-karlieklossetalareshakingintheirboots.mkr',\n",
       " 'milesofnothingbutfarmlandineitherdirection,herestandsalonepalmtree.california.',\n",
       " 'anonymoushackergroupclaimstohavetakendownmorethan1,000isissitesandemails.opisis',\n",
       " 'andnowmodsofghaziareunderfirebyamobthatappearstohavebeenledbyyou.:(',\n",
       " 'itsofficial:thefccwillmotiontohavetheinternetfiledundertitleiiasautility.',\n",
       " 'soicansympathizeandunderstandwherethisisallcomingfrom.',\n",
       " 'thankyou',\n",
       " 'howscolinandtheseroundsworkingforyou..prettycrapidsayfromthetweets..needarethinkinformatmkr',\n",
       " 'itwassunnyouttoday!:piwenttothedogparkforanhour.']"
      ]
     },
     "execution_count": 18,
     "metadata": {},
     "output_type": "execute_result"
    }
   ],
   "source": [
    "from data.char import one_hot_to_chars\n",
    "[\"\".join(one_hot_to_chars(x)) for x in batchC[:10]]"
   ]
  },
  {
   "cell_type": "markdown",
   "metadata": {},
   "source": [
    "## Loading Baseline"
   ]
  },
  {
   "cell_type": "code",
   "execution_count": 19,
   "metadata": {
    "collapsed": true
   },
   "outputs": [],
   "source": [
    "import numpy as np\n",
    "from sklearn.linear_model import LinearRegression\n",
    "from data.preprocess import load_from_file\n",
    "from sklearn.feature_extraction.text import CountVectorizer, TfidfTransformer"
   ]
  },
  {
   "cell_type": "code",
   "execution_count": 20,
   "metadata": {
    "collapsed": true
   },
   "outputs": [],
   "source": [
    "def evaluate(pred_scores, target):\n",
    "    pred = list(map(lambda x: 1 if x >= 0.5 else 0, pred_scores))\n",
    "    precision, recall, f1 = calculate_metrics(target, pred)\n",
    "    print(\"Training: Precision=%.2f Recall=%.2f, F1=%.2f\" %(precision, recall, f1))\n",
    "    return f1"
   ]
  },
  {
   "cell_type": "code",
   "execution_count": 21,
   "metadata": {
    "collapsed": true
   },
   "outputs": [],
   "source": [
    "def lr_with_freq(data):\n",
    "    vect = CountVectorizer(ngram_range=(2,5), analyzer=\"char\")\n",
    "    X_train_counts = vect.fit_transform(data[\"x_train\"])\n",
    "    print(X_train_counts.shape)\n",
    "    \n",
    "    tfidf_transformer = TfidfTransformer()\n",
    "    X_train_tfidf = tfidf_transformer.fit_transform(X_train_counts)\n",
    "    \n",
    "    lr = LinearRegression().fit(X_train_tfidf, data[\"y_train\"])\n",
    "    evaluate(lr.predict(X_train_tfidf), data[\"y_train\"])\n",
    "    \n",
    "    X_test_counts = vect.transform(data[\"x_test\"])\n",
    "    pred_scores = lr.predict(tfidf_transformer.transform(X_test_counts))\n",
    "    evaluate(pred_scores, data[\"y_test\"])\n",
    "    return lr, pred_scores"
   ]
  },
  {
   "cell_type": "code",
   "execution_count": 22,
   "metadata": {
    "collapsed": false
   },
   "outputs": [
    {
     "name": "stdout",
     "output_type": "stream",
     "text": [
      "(12312, 195567)\n",
      "Training: Precision=1.00 Recall=1.00, F1=1.00\n",
      "Training: Precision=0.73 Recall=0.64, F1=0.68\n"
     ]
    }
   ],
   "source": [
    "_, baseline_pred = lr_with_freq(data)"
   ]
  },
  {
   "cell_type": "code",
   "execution_count": 23,
   "metadata": {
    "collapsed": true
   },
   "outputs": [],
   "source": [
    "baseline_pred = list(map(lambda x: 1 if x >= 0.5 else 0, baseline_pred))"
   ]
  },
  {
   "cell_type": "code",
   "execution_count": 25,
   "metadata": {
    "collapsed": false
   },
   "outputs": [
    {
     "data": {
      "text/plain": [
       "2175"
      ]
     },
     "execution_count": 25,
     "metadata": {},
     "output_type": "execute_result"
    }
   ],
   "source": [
    "len(baseline_pred)"
   ]
  },
  {
   "cell_type": "markdown",
   "metadata": {},
   "source": [
    "## Baseline vs CNN"
   ]
  },
  {
   "cell_type": "markdown",
   "metadata": {},
   "source": [
    "### Char vs Word"
   ]
  },
  {
   "cell_type": "code",
   "execution_count": 41,
   "metadata": {
    "collapsed": true
   },
   "outputs": [],
   "source": [
    "char_pred = preds[0]\n",
    "word_pred = preds[1]\n",
    "hybrid_pred = preds[2]\n"
   ]
  },
  {
   "cell_type": "code",
   "execution_count": 49,
   "metadata": {
    "collapsed": false
   },
   "outputs": [],
   "source": [
    "word_right = []\n",
    "word_wrong = []\n",
    "for i in range(len(baseline_pred)):\n",
    "    if char_pred[i] == 0 and word_pred[i] == 1 and y_test[i] == 1:\n",
    "        word_right.append(data[\"x_test\"][i])\n",
    "    if char_pred[i] == 1 and word_pred[i] == 0  and y_test[i] == 1:\n",
    "        word_wrong.append(data[\"x_test\"][i])\n",
    "    \n",
    "                             "
   ]
  },
  {
   "cell_type": "code",
   "execution_count": 50,
   "metadata": {
    "collapsed": false
   },
   "outputs": [
    {
     "data": {
      "text/plain": [
       "21"
      ]
     },
     "execution_count": 50,
     "metadata": {},
     "output_type": "execute_result"
    }
   ],
   "source": [
    "len(word_right)"
   ]
  },
  {
   "cell_type": "code",
   "execution_count": 51,
   "metadata": {
    "collapsed": false
   },
   "outputs": [
    {
     "data": {
      "text/plain": [
       "17"
      ]
     },
     "execution_count": 51,
     "metadata": {},
     "output_type": "execute_result"
    }
   ],
   "source": [
    "len(word_wrong)"
   ]
  },
  {
   "cell_type": "code",
   "execution_count": 52,
   "metadata": {
    "collapsed": false
   },
   "outputs": [
    {
     "data": {
      "text/plain": [
       "['our journalists watch isis burn a man in a cage, and they respond with the same tired cliche about \"hijacking the religion\" bs! it\\'s islam',\n",
       " 'if someone is going to die getting isis out of tikrit, it may as well be the shia militia. that is all good. islam daesh',\n",
       " 'the holocaust was by nazis. and the people who fought, killed and stopped them where christian westerners.',\n",
       " \"it's not about satire or free speech. pretending it is will solve nothing. the problem is that the quran is full of incitement for murder.\",\n",
       " \"the reason these politically correct idiots will never solve problem is because they won't acknowledge that it's islam\",\n",
       " 'baby you can drive my car asian juicyasian sex nsfw adult xxx',\n",
       " 'the question is not about people doing bad things, it is about the religion supporting and demanding those things.',\n",
       " 'sambo coon',\n",
       " 'have they told the tribe yet that their daughters would become whores for sexual jihad?',\n",
       " 'wrong. apostacy is the equivalent of leaving america and becoming a citizen of another country. there is no penalty.',\n",
       " 'mohammed told women to cover up and stay home. isis tells women to cover up and stay home.',\n",
       " 'stay off my page coon',\n",
       " 'where is your evidence that they are furious goat fucker?',\n",
       " 'i have three qurans. and the only few peaceful verses were later abrogated by dozens of violent verses.',\n",
       " 'nice to see bigots like blumenthal fight for people that practice honor killing, beating women, child marriage, homophobia.',\n",
       " 'a religion that declares war on humanity has no respect for anyone and is hypocritical to ask for respect.',\n",
       " 'look at the data, dipwad, 1/3 think that people who leave islam should be killed.',\n",
       " 'dude yours was the worst coon',\n",
       " 'england and wales child rape cases up 37% in five years we all know why',\n",
       " \"in the wake of the parisshooting it pisses me off to hear politicians, celebrities &amp; the like,trying to lessen islam's role…\",\n",
       " 'why do you think israel is most technological country in that part of world']"
      ]
     },
     "execution_count": 52,
     "metadata": {},
     "output_type": "execute_result"
    }
   ],
   "source": [
    "word_right"
   ]
  },
  {
   "cell_type": "code",
   "execution_count": 53,
   "metadata": {
    "collapsed": false
   },
   "outputs": [
    {
     "data": {
      "text/plain": [
       "[\"women did't lead squat. a woman can never be caliph. her testimony is half that of a man. she get's nothing for jihad.\",\n",
       " 'islam is a believe system based mainly on illusion. overlooking gross barbarity is necessary.',\n",
       " 'socialists and moslems - working together to destroy australia.',\n",
       " 'wrong, microbrain, she was 6, and you, like your prophet, are a liar. here is the proof',\n",
       " 'the kurds clean up the isis islamofascist trash in kobane. kobane is the graveyard of isis. via',\n",
       " \"at least i don't follow pedophile prophets or believe in mythical creatures of fire called jinn.\",\n",
       " 'yes, if we just sit on our butts and let them murder and enslave ezidis and christians, ...',\n",
       " 'yes, they tried to murder their way to heaven. a total idiot would believe in such an allah.',\n",
       " 'arab man arrested trying to enter same nuclear facility warned: islamic_terror_bomb_waiting_to_go_off.php',\n",
       " 'looks like a slum, as people are forced to go to mosque at gun point. daesh are creating hundreds of thousands of atheists.',\n",
       " \"saudis regard isis as a threat. it's who is defeating them that they have a problem with.\",\n",
       " 'you only have to count the corpses to see that islamic extremism is widespread.jewish not',\n",
       " 'objecting to this is what the pc zombies at salon call racism.',\n",
       " 'this is an idiotic study made with an objective in mind. terrorism is not included in the murder rate.',\n",
       " 'are you so stupid? your prophet explicitly stated his sexism.',\n",
       " 'mohammed hid behind a trench in medina when the meccan army showed up. so i guess he was a coward for that also.',\n",
       " 'good. by marching on israeli checkpoint the women were obviously trying to create a confrontation.']"
      ]
     },
     "execution_count": 53,
     "metadata": {},
     "output_type": "execute_result"
    }
   ],
   "source": [
    "word_wrong"
   ]
  },
  {
   "cell_type": "markdown",
   "metadata": {},
   "source": [
    "### Word vs Hybrid"
   ]
  },
  {
   "cell_type": "code",
   "execution_count": 55,
   "metadata": {
    "collapsed": true
   },
   "outputs": [],
   "source": [
    "hybrid_right = []\n",
    "hybrid_wrong = []\n",
    "for i in range(len(baseline_pred)):\n",
    "    if word_pred[i] == 0 and hybrid_pred[i] == 1 and y_test[i] == 1:\n",
    "        hybrid_right.append(data[\"x_test\"][i])\n",
    "    if word_pred[i] == 1 and hybrid_pred[i] == 0  and y_test[i] == 1:\n",
    "        hybrid_wrong.append(data[\"x_test\"][i])\n",
    "    \n",
    "                             "
   ]
  },
  {
   "cell_type": "code",
   "execution_count": 56,
   "metadata": {
    "collapsed": false
   },
   "outputs": [
    {
     "data": {
      "text/plain": [
       "['wheras the arabs really are behaving people and you scum are ignoring it.',\n",
       " 'wrong, microbrain, she was 6, and you, like your prophet, are a liar. here is the proof',\n",
       " \"at least i don't follow pedophile prophets or believe in mythical creatures of fire called jinn.\",\n",
       " 'yes, they tried to murder their way to heaven. a total idiot would believe in such an allah.',\n",
       " 'looks like a slum, as people are forced to go to mosque at gun point. daesh are creating hundreds of thousands of atheists.',\n",
       " 'you only have to count the corpses to see that islamic extremism is widespread.jewish not',\n",
       " 'watching shia militia beat a peshmerga to death, i thought, \"praying to allah 5 times a day certainly peaks the level of fanatical hatred\"',\n",
       " 'men and women are divided by propaganda, pushed by homosexuals, on behalf of zionist jews &gt;&gt; &lt;&lt; mgtow feminazi',\n",
       " \"you don't guarantee them protection, you guarantee them third class citizenship and extortion.\"]"
      ]
     },
     "execution_count": 56,
     "metadata": {},
     "output_type": "execute_result"
    }
   ],
   "source": [
    "hybrid_right"
   ]
  },
  {
   "cell_type": "code",
   "execution_count": 57,
   "metadata": {
    "collapsed": false
   },
   "outputs": [
    {
     "data": {
      "text/plain": [
       "['the holocaust was by nazis. and the people who fought, killed and stopped them where christian westerners.',\n",
       " 'muslim found guilty of plotting to behead british soldiers-cases like this need the death penalty',\n",
       " 'in the uk like idiots we give jihadis rehabilitation, jordan execute them. we are a joke',\n",
       " 'where is your evidence that they are furious goat fucker?',\n",
       " \"i don't care what they retracted. the no go zones are there. here is an example.\",\n",
       " 'allah the terrorist can stick what he wants up his giant ass.',\n",
       " 'why do you think israel is most technological country in that part of world']"
      ]
     },
     "execution_count": 57,
     "metadata": {},
     "output_type": "execute_result"
    }
   ],
   "source": [
    "hybrid_wrong"
   ]
  },
  {
   "cell_type": "code",
   "execution_count": null,
   "metadata": {
    "collapsed": true
   },
   "outputs": [],
   "source": []
  }
 ],
 "metadata": {
  "anaconda-cloud": {},
  "kernelspec": {
   "display_name": "Python 3",
   "language": "python",
   "name": "python3"
  },
  "language_info": {
   "codemirror_mode": {
    "name": "ipython",
    "version": 3
   },
   "file_extension": ".py",
   "mimetype": "text/x-python",
   "name": "python",
   "nbconvert_exporter": "python",
   "pygments_lexer": "ipython3",
   "version": "3.4.5"
  }
 },
 "nbformat": 4,
 "nbformat_minor": 2
}
