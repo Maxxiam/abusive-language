{
 "cells": [
  {
   "cell_type": "markdown",
   "metadata": {},
   "source": [
    "# Error analysis"
   ]
  },
  {
   "cell_type": "markdown",
   "metadata": {},
   "source": [
    "## Load Pretrained model"
   ]
  },
  {
   "cell_type": "code",
   "execution_count": 1,
   "metadata": {
    "collapsed": true
   },
   "outputs": [],
   "source": [
    "import tensorflow as tf\n",
    "import numpy as np"
   ]
  },
  {
   "cell_type": "code",
   "execution_count": 2,
   "metadata": {
    "collapsed": true
   },
   "outputs": [],
   "source": [
    "saver_paths = [\"./logs/rf2/char/ckpt\", \"./logs/rf2/word/ckpt\", \"./logs/rf2/hybrid/ckpt\"]\n",
    "checkpoint_files = list(map(tf.train.get_checkpoint_state, saver_paths))"
   ]
  },
  {
   "cell_type": "code",
   "execution_count": 3,
   "metadata": {
    "collapsed": false
   },
   "outputs": [
    {
     "data": {
      "text/plain": [
       "[model_checkpoint_path: \"/home/homes/jhpark/hate-speech/logs/rf2/char/ckpt/model-final.ckpt\"\n",
       " all_model_checkpoint_paths: \"/home/homes/jhpark/hate-speech/logs/rf2/char/ckpt/model-final.ckpt\",\n",
       " model_checkpoint_path: \"/home/homes/jhpark/hate-speech/logs/rf2/word/ckpt/model-final.ckpt\"\n",
       " all_model_checkpoint_paths: \"/home/homes/jhpark/hate-speech/logs/rf2/word/ckpt/model-final.ckpt\",\n",
       " model_checkpoint_path: \"/home/homes/jhpark/hate-speech/logs/rf2/hybrid/ckpt/model-final.ckpt\"\n",
       " all_model_checkpoint_paths: \"/home/homes/jhpark/hate-speech/logs/rf2/hybrid/ckpt/model-final.ckpt\"]"
      ]
     },
     "execution_count": 3,
     "metadata": {},
     "output_type": "execute_result"
    }
   ],
   "source": [
    "checkpoint_files"
   ]
  },
  {
   "cell_type": "code",
   "execution_count": 4,
   "metadata": {
    "collapsed": true
   },
   "outputs": [],
   "source": [
    "# create session for evaluation\n",
    "gpu_options = tf.GPUOptions(per_process_gpu_memory_fraction=0.9)\n",
    "session_conf = tf.ConfigProto(allow_soft_placement=True, gpu_options=gpu_options)\n"
   ]
  },
  {
   "cell_type": "code",
   "execution_count": 5,
   "metadata": {
    "collapsed": false
   },
   "outputs": [
    {
     "name": "stdout",
     "output_type": "stream",
     "text": [
      "\n",
      "Data Summary:\n",
      "Train: Total Positive Labels=1750 (0.1421)\n",
      "Test: Total Positive Labels=309 (0.1421)\n",
      "\n",
      "dataset passed the assertion test\n"
     ]
    }
   ],
   "source": [
    "from data.hybrid import load_data_from_file\n",
    "\n",
    "(x_train, y_train, x_test, y_test, initW, vocab) = load_data_from_file(\"racism_final2_binary\")\n",
    "word_text_len = x_train[0][\"word\"].shape[0]\n",
    "word_vocab_size = len(vocab.vocabulary_)\n",
    "char_text_len = x_train[0][\"char\"].shape[0]\n",
    "char_vocab_size = x_train[0][\"char\"].shape[1]\n"
   ]
  },
  {
   "cell_type": "code",
   "execution_count": 6,
   "metadata": {
    "collapsed": false
   },
   "outputs": [],
   "source": [
    "from data.hybrid import extract_from_batch\n",
    "\n",
    "batchW, batchC = extract_from_batch(x_test)\n",
    "feed_dicts = []\n",
    "feed_dicts.append({\"input/Placeholder_1:0\": y_test, \"input/Placeholder:0\": batchC, \"nn-layers/fully-connected-layer-0/dropout_1/keras_learning_phase:0\": 0})\n",
    "feed_dicts.append({\"input/labels:0\": y_test, \"input/X:0\": batchW, \"dropout_keep_prob:0\": 1})\n",
    "feed_dicts.append({\"input/labels:0\": y_test, \"input/X_word:0\": batchW, \"input/X_char:0\": batchC, \"dropout_keep_prob:0\": 1})\n",
    "\n",
    "output_names = [\"prediction/prediction\", \"output/prediction\", \"output/prediction\"]"
   ]
  },
  {
   "cell_type": "code",
   "execution_count": 7,
   "metadata": {
    "collapsed": false
   },
   "outputs": [
    {
     "name": "stdout",
     "output_type": "stream",
     "text": [
      "/home/homes/jhpark/hate-speech/logs/rf2/char/ckpt/model-final.ckpt\n",
      "(2175,)\n",
      "/home/homes/jhpark/hate-speech/logs/rf2/word/ckpt/model-final.ckpt\n",
      "(2175,)\n",
      "/home/homes/jhpark/hate-speech/logs/rf2/hybrid/ckpt/model-final.ckpt\n",
      "(2175,)\n"
     ]
    }
   ],
   "source": [
    "preds = []\n",
    "for i, ckpt in enumerate(checkpoint_files):\n",
    "    print(ckpt.all_model_checkpoint_paths[0])\n",
    "    tf.reset_default_graph()\n",
    "    saver = tf.train.import_meta_graph(\"{}.meta\".format(ckpt.all_model_checkpoint_paths[0]))\n",
    "\n",
    "    with tf.Session(config=session_conf) as sess:\n",
    "        saver.restore(sess, ckpt.model_checkpoint_path)\n",
    "        graph = tf.get_default_graph()\n",
    "        pred = sess.run(output_names[i] + \":0\", feed_dicts[i])\n",
    "        print(pred.shape)\n",
    "        preds.append(pred)"
   ]
  },
  {
   "cell_type": "code",
   "execution_count": 8,
   "metadata": {
    "collapsed": false
   },
   "outputs": [
    {
     "name": "stdout",
     "output_type": "stream",
     "text": [
      "precision=0.6667 recall=0.7832 f1=0.7202\n",
      "precision=0.7110 recall=0.7961 f1=0.7511\n",
      "precision=0.7086 recall=0.8026 f1=0.7527\n"
     ]
    },
    {
     "name": "stderr",
     "output_type": "stream",
     "text": [
      "Using TensorFlow backend.\n"
     ]
    }
   ],
   "source": [
    "from model.helper import calculate_metrics\n",
    "for pred in preds:\n",
    "    precision, recall, f1 = calculate_metrics(y_test, pred)\n",
    "    print(\"precision=%.4f recall=%.4f f1=%.4f\" % (precision, recall, f1))"
   ]
  },
  {
   "cell_type": "markdown",
   "metadata": {},
   "source": [
    "since the metrics are same as the final output, we can validate that the pre-trained model has been loaded successfully"
   ]
  },
  {
   "cell_type": "markdown",
   "metadata": {},
   "source": [
    "## Load original test data"
   ]
  },
  {
   "cell_type": "code",
   "execution_count": 14,
   "metadata": {
    "collapsed": true
   },
   "outputs": [],
   "source": [
    "from data.preprocess import load_from_file\n",
    "data = load_from_file(\"racism_final2_binary\")"
   ]
  },
  {
   "cell_type": "code",
   "execution_count": 15,
   "metadata": {
    "collapsed": false
   },
   "outputs": [
    {
     "data": {
      "text/plain": [
       "array([ 'there are no ukr nazis. get an education. bandera did not hold a nazi ideaology.',\n",
       "       'yep - karlie kloss et al are shaking in their boots. mkr',\n",
       "       'miles of nothing but farmland in either direction, here stands a lone palm tree. california.',\n",
       "       'anonymous hacker group claims to have taken down more than 1,000 isis sites and emails. opisis',\n",
       "       'and now mods of ghazi are under fire by a mob that appears to have been led by you. :(',\n",
       "       \"it's official: the fcc will motion to have the internet filed under title ii as a utility.\",\n",
       "       'so i can sympathize and understand where this is all coming from.',\n",
       "       'thank you',\n",
       "       \"how's colin and these rounds working for you.. pretty crap i'd say from the tweets.. needarethinkinformat mkr\",\n",
       "       'it was sunny out today! :p i went to the dog park for an hour.'], \n",
       "      dtype='<U157')"
      ]
     },
     "execution_count": 15,
     "metadata": {},
     "output_type": "execute_result"
    }
   ],
   "source": [
    "data[\"x_test\"][:10]"
   ]
  },
  {
   "cell_type": "code",
   "execution_count": 16,
   "metadata": {
    "collapsed": false
   },
   "outputs": [
    {
     "data": {
      "text/plain": [
       "['therearenoukrnazis.getaneducation.banderadidnotholdanaziideaology.',\n",
       " 'yep-karlieklossetalareshakingintheirboots.mkr',\n",
       " 'milesofnothingbutfarmlandineitherdirection,herestandsalonepalmtree.california.',\n",
       " 'anonymoushackergroupclaimstohavetakendownmorethan1,000isissitesandemails.opisis',\n",
       " 'andnowmodsofghaziareunderfirebyamobthatappearstohavebeenledbyyou.:(',\n",
       " 'itsofficial:thefccwillmotiontohavetheinternetfiledundertitleiiasautility.',\n",
       " 'soicansympathizeandunderstandwherethisisallcomingfrom.',\n",
       " 'thankyou',\n",
       " 'howscolinandtheseroundsworkingforyou..prettycrapidsayfromthetweets..needarethinkinformatmkr',\n",
       " 'itwassunnyouttoday!:piwenttothedogparkforanhour.']"
      ]
     },
     "execution_count": 16,
     "metadata": {},
     "output_type": "execute_result"
    }
   ],
   "source": [
    "from data.char import one_hot_to_chars\n",
    "[\"\".join(one_hot_to_chars(x)) for x in batchC[:10]]"
   ]
  },
  {
   "cell_type": "markdown",
   "metadata": {},
   "source": [
    "## Loading Baseline"
   ]
  },
  {
   "cell_type": "code",
   "execution_count": 9,
   "metadata": {
    "collapsed": true
   },
   "outputs": [],
   "source": [
    "import numpy as np\n",
    "from sklearn.linear_model import LinearRegression\n",
    "from data.preprocess import load_from_file\n",
    "from sklearn.feature_extraction.text import CountVectorizer, TfidfTransformer"
   ]
  },
  {
   "cell_type": "code",
   "execution_count": 10,
   "metadata": {
    "collapsed": true
   },
   "outputs": [],
   "source": [
    "def evaluate(pred_scores, target):\n",
    "    pred = list(map(lambda x: 1 if x >= 0.5 else 0, pred_scores))\n",
    "    precision, recall, f1 = calculate_metrics(target, pred)\n",
    "    print(\"Training: Precision=%.2f Recall=%.2f, F1=%.2f\" %(precision, recall, f1))\n",
    "    return f1"
   ]
  },
  {
   "cell_type": "code",
   "execution_count": 11,
   "metadata": {
    "collapsed": true
   },
   "outputs": [],
   "source": [
    "def lr_with_freq(data):\n",
    "    vect = CountVectorizer(ngram_range=(2,5), analyzer=\"char\")\n",
    "    X_train_counts = vect.fit_transform(data[\"x_train\"])\n",
    "    print(X_train_counts.shape)\n",
    "    \n",
    "    tfidf_transformer = TfidfTransformer()\n",
    "    X_train_tfidf = tfidf_transformer.fit_transform(X_train_counts)\n",
    "    \n",
    "    lr = LinearRegression().fit(X_train_tfidf, data[\"y_train\"])\n",
    "    evaluate(lr.predict(X_train_tfidf), data[\"y_train\"])\n",
    "    \n",
    "    X_test_counts = vect.transform(data[\"x_test\"])\n",
    "    pred_scores = lr.predict(tfidf_transformer.transform(X_test_counts))\n",
    "    evaluate(pred_scores, data[\"y_test\"])\n",
    "    return lr, pred_scores"
   ]
  },
  {
   "cell_type": "code",
   "execution_count": 12,
   "metadata": {
    "collapsed": false
   },
   "outputs": [
    {
     "ename": "NameError",
     "evalue": "name 'data' is not defined",
     "output_type": "error",
     "traceback": [
      "\u001b[0;31m---------------------------------------------------------------------------\u001b[0m",
      "\u001b[0;31mNameError\u001b[0m                                 Traceback (most recent call last)",
      "\u001b[0;32m<ipython-input-12-dfb913d7f8c9>\u001b[0m in \u001b[0;36m<module>\u001b[0;34m()\u001b[0m\n\u001b[0;32m----> 1\u001b[0;31m \u001b[0m_\u001b[0m\u001b[0;34m,\u001b[0m \u001b[0mbaseline_pred\u001b[0m \u001b[0;34m=\u001b[0m \u001b[0mlr_with_freq\u001b[0m\u001b[0;34m(\u001b[0m\u001b[0mdata\u001b[0m\u001b[0;34m)\u001b[0m\u001b[0;34m\u001b[0m\u001b[0m\n\u001b[0m",
      "\u001b[0;31mNameError\u001b[0m: name 'data' is not defined"
     ]
    }
   ],
   "source": [
    "_, baseline_pred = lr_with_freq(data)"
   ]
  },
  {
   "cell_type": "code",
   "execution_count": 13,
   "metadata": {
    "collapsed": false
   },
   "outputs": [
    {
     "ename": "NameError",
     "evalue": "name 'baseline_pred' is not defined",
     "output_type": "error",
     "traceback": [
      "\u001b[0;31m---------------------------------------------------------------------------\u001b[0m",
      "\u001b[0;31mNameError\u001b[0m                                 Traceback (most recent call last)",
      "\u001b[0;32m<ipython-input-13-f8dc48714689>\u001b[0m in \u001b[0;36m<module>\u001b[0;34m()\u001b[0m\n\u001b[0;32m----> 1\u001b[0;31m \u001b[0mbaseline_pred\u001b[0m \u001b[0;34m=\u001b[0m \u001b[0mlist\u001b[0m\u001b[0;34m(\u001b[0m\u001b[0mmap\u001b[0m\u001b[0;34m(\u001b[0m\u001b[0;32mlambda\u001b[0m \u001b[0mx\u001b[0m\u001b[0;34m:\u001b[0m \u001b[0;36m1\u001b[0m \u001b[0;32mif\u001b[0m \u001b[0mx\u001b[0m \u001b[0;34m>=\u001b[0m \u001b[0;36m0.5\u001b[0m \u001b[0;32melse\u001b[0m \u001b[0;36m0\u001b[0m\u001b[0;34m,\u001b[0m \u001b[0mbaseline_pred\u001b[0m\u001b[0;34m)\u001b[0m\u001b[0;34m)\u001b[0m\u001b[0;34m\u001b[0m\u001b[0m\n\u001b[0m",
      "\u001b[0;31mNameError\u001b[0m: name 'baseline_pred' is not defined"
     ]
    }
   ],
   "source": [
    "baseline_pred = list(map(lambda x: 1 if x >= 0.5 else 0, baseline_pred))"
   ]
  },
  {
   "cell_type": "code",
   "execution_count": 33,
   "metadata": {
    "collapsed": false
   },
   "outputs": [
    {
     "data": {
      "text/plain": [
       "2175"
      ]
     },
     "execution_count": 33,
     "metadata": {},
     "output_type": "execute_result"
    }
   ],
   "source": [
    "len(baseline_pred)"
   ]
  },
  {
   "cell_type": "markdown",
   "metadata": {},
   "source": [
    "## Baseline vs CNN"
   ]
  },
  {
   "cell_type": "markdown",
   "metadata": {},
   "source": [
    "### Char vs Word"
   ]
  },
  {
   "cell_type": "code",
   "execution_count": 8,
   "metadata": {
    "collapsed": true
   },
   "outputs": [],
   "source": [
    "char_pred = preds[0]\n",
    "word_pred = preds[1]\n",
    "hybrid_pred = preds[2]\n"
   ]
  },
  {
   "cell_type": "code",
   "execution_count": 49,
   "metadata": {
    "collapsed": false
   },
   "outputs": [],
   "source": [
    "word_right = []\n",
    "word_wrong = []\n",
    "for i in range(len(baseline_pred)):\n",
    "    if char_pred[i] == 0 and word_pred[i] == 1 and y_test[i] == 1:\n",
    "        word_right.append(data[\"x_test\"][i])\n",
    "    if char_pred[i] == 1 and word_pred[i] == 0  and y_test[i] == 1:\n",
    "        word_wrong.append(data[\"x_test\"][i])\n",
    "    \n",
    "                             "
   ]
  },
  {
   "cell_type": "code",
   "execution_count": 50,
   "metadata": {
    "collapsed": false
   },
   "outputs": [
    {
     "data": {
      "text/plain": [
       "21"
      ]
     },
     "execution_count": 50,
     "metadata": {},
     "output_type": "execute_result"
    }
   ],
   "source": [
    "len(word_right)"
   ]
  },
  {
   "cell_type": "code",
   "execution_count": 51,
   "metadata": {
    "collapsed": false
   },
   "outputs": [
    {
     "data": {
      "text/plain": [
       "17"
      ]
     },
     "execution_count": 51,
     "metadata": {},
     "output_type": "execute_result"
    }
   ],
   "source": [
    "len(word_wrong)"
   ]
  },
  {
   "cell_type": "code",
   "execution_count": 52,
   "metadata": {
    "collapsed": false
   },
   "outputs": [
    {
     "data": {
      "text/plain": [
       "['our journalists watch isis burn a man in a cage, and they respond with the same tired cliche about \"hijacking the religion\" bs! it\\'s islam',\n",
       " 'if someone is going to die getting isis out of tikrit, it may as well be the shia militia. that is all good. islam daesh',\n",
       " 'the holocaust was by nazis. and the people who fought, killed and stopped them where christian westerners.',\n",
       " \"it's not about satire or free speech. pretending it is will solve nothing. the problem is that the quran is full of incitement for murder.\",\n",
       " \"the reason these politically correct idiots will never solve problem is because they won't acknowledge that it's islam\",\n",
       " 'baby you can drive my car asian juicyasian sex nsfw adult xxx',\n",
       " 'the question is not about people doing bad things, it is about the religion supporting and demanding those things.',\n",
       " 'sambo coon',\n",
       " 'have they told the tribe yet that their daughters would become whores for sexual jihad?',\n",
       " 'wrong. apostacy is the equivalent of leaving america and becoming a citizen of another country. there is no penalty.',\n",
       " 'mohammed told women to cover up and stay home. isis tells women to cover up and stay home.',\n",
       " 'stay off my page coon',\n",
       " 'where is your evidence that they are furious goat fucker?',\n",
       " 'i have three qurans. and the only few peaceful verses were later abrogated by dozens of violent verses.',\n",
       " 'nice to see bigots like blumenthal fight for people that practice honor killing, beating women, child marriage, homophobia.',\n",
       " 'a religion that declares war on humanity has no respect for anyone and is hypocritical to ask for respect.',\n",
       " 'look at the data, dipwad, 1/3 think that people who leave islam should be killed.',\n",
       " 'dude yours was the worst coon',\n",
       " 'england and wales child rape cases up 37% in five years we all know why',\n",
       " \"in the wake of the parisshooting it pisses me off to hear politicians, celebrities &amp; the like,trying to lessen islam's role…\",\n",
       " 'why do you think israel is most technological country in that part of world']"
      ]
     },
     "execution_count": 52,
     "metadata": {},
     "output_type": "execute_result"
    }
   ],
   "source": [
    "word_right"
   ]
  },
  {
   "cell_type": "code",
   "execution_count": 53,
   "metadata": {
    "collapsed": false
   },
   "outputs": [
    {
     "data": {
      "text/plain": [
       "[\"women did't lead squat. a woman can never be caliph. her testimony is half that of a man. she get's nothing for jihad.\",\n",
       " 'islam is a believe system based mainly on illusion. overlooking gross barbarity is necessary.',\n",
       " 'socialists and moslems - working together to destroy australia.',\n",
       " 'wrong, microbrain, she was 6, and you, like your prophet, are a liar. here is the proof',\n",
       " 'the kurds clean up the isis islamofascist trash in kobane. kobane is the graveyard of isis. via',\n",
       " \"at least i don't follow pedophile prophets or believe in mythical creatures of fire called jinn.\",\n",
       " 'yes, if we just sit on our butts and let them murder and enslave ezidis and christians, ...',\n",
       " 'yes, they tried to murder their way to heaven. a total idiot would believe in such an allah.',\n",
       " 'arab man arrested trying to enter same nuclear facility warned: islamic_terror_bomb_waiting_to_go_off.php',\n",
       " 'looks like a slum, as people are forced to go to mosque at gun point. daesh are creating hundreds of thousands of atheists.',\n",
       " \"saudis regard isis as a threat. it's who is defeating them that they have a problem with.\",\n",
       " 'you only have to count the corpses to see that islamic extremism is widespread.jewish not',\n",
       " 'objecting to this is what the pc zombies at salon call racism.',\n",
       " 'this is an idiotic study made with an objective in mind. terrorism is not included in the murder rate.',\n",
       " 'are you so stupid? your prophet explicitly stated his sexism.',\n",
       " 'mohammed hid behind a trench in medina when the meccan army showed up. so i guess he was a coward for that also.',\n",
       " 'good. by marching on israeli checkpoint the women were obviously trying to create a confrontation.']"
      ]
     },
     "execution_count": 53,
     "metadata": {},
     "output_type": "execute_result"
    }
   ],
   "source": [
    "word_wrong"
   ]
  },
  {
   "cell_type": "code",
   "execution_count": 21,
   "metadata": {
    "collapsed": false
   },
   "outputs": [],
   "source": [
    "word_right_neg = []\n",
    "word_wrong_neg = []\n",
    "for i in range(len(word_pred)):\n",
    "    if char_pred[i] == 1 and word_pred[i] == 0 and y_test[i] == 0:\n",
    "        word_right_neg.append(data[\"x_test\"][i])\n",
    "    if char_pred[i] == 1 and word_pred[i] == 0  and y_test[i] == 1:\n",
    "        word_wrong_neg.append(data[\"x_test\"][i])"
   ]
  },
  {
   "cell_type": "code",
   "execution_count": 22,
   "metadata": {
    "collapsed": false
   },
   "outputs": [
    {
     "data": {
      "text/plain": [
       "[\"it's official: the fcc will motion to have the internet filed under title ii as a utility.\",\n",
       " \"i wrote a tool so people wouldn't have to listen to their hate filled rants.\",\n",
       " 'turkey: police use water cannon on anti-islamization protesters',\n",
       " \"i've already explained why this is lies and propaganda many times.\",\n",
       " \"and i don't like the way that obama is ignoring isis in libya.\",\n",
       " 'charliehebdo i urge the modi government to show some moral courage and lift the ban on the satanic verses',\n",
       " 'the daesh are so scared and helpless that all they have left is a propaganda campaign of lies.',\n",
       " 'and ignorant uneducated social rejects are all that daesh can attract.',\n",
       " 'islamic state claims abduction of 21 christians in libya via',\n",
       " \"i don't care about slavo turks or idiots that live on race baiting. get lost.\",\n",
       " 'that \"actions of a few\" line was already stupid 1000 terrorist attacks ago.',\n",
       " 'what i gave you is the historical research. ever hear of it, or do you just limit yourself to invented superstition.',\n",
       " 'sick. satanic henchmen of the iranian regime executed a disabled man. he was disabled due to torture in prison iran http://…',\n",
       " 'yazidi woman shares isis horror in a angelinajolie film (jolie on a bandwagon or sincere?) via',\n",
       " 'good vid! \"when we advanced 500 they left weapons and ran!\" twitterkurds kobane islamicstate khilafah',\n",
       " 'everybody hates daesh with a passion and there are a million good reasons for it.',\n",
       " 'they support the death penalty for murder, not for leaving christianity.',\n",
       " 'you are the one with the conspiracy theories. the turkish army collaboration has been proven multiple times.',\n",
       " 'for all the bodies sacrificed to the killallmen hashtag, obviously.',\n",
       " 'egyptian president wants joint arab force to fight islamist terror:',\n",
       " \"i'm sure you were this outraged about the manchurian candidate, spiderman, etc.\",\n",
       " 'stoning women to death have become common in mosul by the islamic state. photos published today',\n",
       " \"but you'll never be able to point to anything in the tao te ching that encouraged their misbehavior.\",\n",
       " 'read the tao te ching, or read up on zen, or read the upanishads and it will begin to give you an idea about spirituality.',\n",
       " 'there is a very valid case to be made that strategic scoring by multiple teams impacted the elimination tonight mkr',\n",
       " 'i feel certain that baghdadi will be dead before the end of 2015. islam isis daesh raqqa mosul baiji syria iran',\n",
       " 'i see that you are a big user of photoshopped images to sell your propaganda, putin troll.',\n",
       " 'how islam rolls. auspol politas',\n",
       " 'so i hear that baghdadi ran like a scared rabbit in gwer. guess he has no faith in allah.',\n",
       " 'and from me. but then i compare him to the people trying to exterminate him.',\n",
       " 'the japanese macaque is an omnivorous animal sexistfacts',\n",
       " \"i don't have a religion, so go fuck yourself. racists like you hold humanity back.\",\n",
       " 'i know what the name is derived from. but the name is not the source. you are brainwashed.',\n",
       " \"i don't believe in religion. but i don't care if others do, as long as they....\",\n",
       " 'never forget the worst crimes against humanity | in solidarity with the jewish people holocaustmemorialday',\n",
       " \"showing your stupidity again. i don't follow any religion.\",\n",
       " 'women are supposed to be \"ashamed\" of nudes of their bodies on their phones yet trash ass men sending unsolicited nudes have …',\n",
       " \"good, it's about time they recieve what they have been dishing out for centuries.\",\n",
       " '“@ammaraltahan: daesh destroys another church in mosul iraq. is islamicstate isil',\n",
       " 'that explains his dedication to islam.',\n",
       " 'living under ground like rats is very appropriate for the daesh.',\n",
       " \"can't decide if i dislike the 'promo' girls more than i dislike kat &amp; andre. either way one of them is gone tonight. winning! mkr2015 mkr\",\n",
       " 'instead of personal attacks, maybe you can explain why there are more than 100 islamic terrorist groups.',\n",
       " 'there are zero places hit by grads that are not in range of russian grads.']"
      ]
     },
     "execution_count": 22,
     "metadata": {},
     "output_type": "execute_result"
    }
   ],
   "source": [
    "word_right_neg"
   ]
  },
  {
   "cell_type": "code",
   "execution_count": 23,
   "metadata": {
    "collapsed": false
   },
   "outputs": [
    {
     "data": {
      "text/plain": [
       "[\"women did't lead squat. a woman can never be caliph. her testimony is half that of a man. she get's nothing for jihad.\",\n",
       " 'islam is a believe system based mainly on illusion. overlooking gross barbarity is necessary.',\n",
       " 'socialists and moslems - working together to destroy australia.',\n",
       " 'wrong, microbrain, she was 6, and you, like your prophet, are a liar. here is the proof',\n",
       " 'the kurds clean up the isis islamofascist trash in kobane. kobane is the graveyard of isis. via',\n",
       " \"at least i don't follow pedophile prophets or believe in mythical creatures of fire called jinn.\",\n",
       " 'yes, if we just sit on our butts and let them murder and enslave ezidis and christians, ...',\n",
       " 'yes, they tried to murder their way to heaven. a total idiot would believe in such an allah.',\n",
       " 'arab man arrested trying to enter same nuclear facility warned: islamic_terror_bomb_waiting_to_go_off.php',\n",
       " 'looks like a slum, as people are forced to go to mosque at gun point. daesh are creating hundreds of thousands of atheists.',\n",
       " \"saudis regard isis as a threat. it's who is defeating them that they have a problem with.\",\n",
       " 'you only have to count the corpses to see that islamic extremism is widespread.jewish not',\n",
       " 'objecting to this is what the pc zombies at salon call racism.',\n",
       " 'this is an idiotic study made with an objective in mind. terrorism is not included in the murder rate.',\n",
       " 'are you so stupid? your prophet explicitly stated his sexism.',\n",
       " 'mohammed hid behind a trench in medina when the meccan army showed up. so i guess he was a coward for that also.',\n",
       " 'good. by marching on israeli checkpoint the women were obviously trying to create a confrontation.']"
      ]
     },
     "execution_count": 23,
     "metadata": {},
     "output_type": "execute_result"
    }
   ],
   "source": [
    "word_wrong_neg"
   ]
  },
  {
   "cell_type": "markdown",
   "metadata": {},
   "source": [
    "### Word vs Hybrid"
   ]
  },
  {
   "cell_type": "code",
   "execution_count": 22,
   "metadata": {
    "collapsed": true
   },
   "outputs": [],
   "source": [
    "hybrid_right = []\n",
    "hybrid_wrong = []\n",
    "for i in range(len(baseline_pred)):\n",
    "    if word_pred[i] == 0 and hybrid_pred[i] == 1 and y_test[i] == 1:\n",
    "        hybrid_right.append(data[\"x_test\"][i])\n",
    "    if word_pred[i] == 1 and hybrid_pred[i] == 0  and y_test[i] == 1:\n",
    "        hybrid_wrong.append(data[\"x_test\"][i])\n",
    "    \n",
    "                             "
   ]
  },
  {
   "cell_type": "code",
   "execution_count": 23,
   "metadata": {
    "collapsed": false
   },
   "outputs": [
    {
     "data": {
      "text/plain": [
       "['wheras the arabs really are behaving people and you scum are ignoring it.',\n",
       " 'wrong, microbrain, she was 6, and you, like your prophet, are a liar. here is the proof',\n",
       " \"at least i don't follow pedophile prophets or believe in mythical creatures of fire called jinn.\",\n",
       " 'yes, they tried to murder their way to heaven. a total idiot would believe in such an allah.',\n",
       " 'looks like a slum, as people are forced to go to mosque at gun point. daesh are creating hundreds of thousands of atheists.',\n",
       " 'you only have to count the corpses to see that islamic extremism is widespread.jewish not',\n",
       " 'watching shia militia beat a peshmerga to death, i thought, \"praying to allah 5 times a day certainly peaks the level of fanatical hatred\"',\n",
       " 'men and women are divided by propaganda, pushed by homosexuals, on behalf of zionist jews &gt;&gt; &lt;&lt; mgtow feminazi',\n",
       " \"you don't guarantee them protection, you guarantee them third class citizenship and extortion.\"]"
      ]
     },
     "execution_count": 23,
     "metadata": {},
     "output_type": "execute_result"
    }
   ],
   "source": [
    "hybrid_right"
   ]
  },
  {
   "cell_type": "code",
   "execution_count": 24,
   "metadata": {
    "collapsed": false
   },
   "outputs": [
    {
     "data": {
      "text/plain": [
       "['the holocaust was by nazis. and the people who fought, killed and stopped them where christian westerners.',\n",
       " 'muslim found guilty of plotting to behead british soldiers-cases like this need the death penalty',\n",
       " 'in the uk like idiots we give jihadis rehabilitation, jordan execute them. we are a joke',\n",
       " 'where is your evidence that they are furious goat fucker?',\n",
       " \"i don't care what they retracted. the no go zones are there. here is an example.\",\n",
       " 'allah the terrorist can stick what he wants up his giant ass.',\n",
       " 'why do you think israel is most technological country in that part of world']"
      ]
     },
     "execution_count": 24,
     "metadata": {},
     "output_type": "execute_result"
    }
   ],
   "source": [
    "hybrid_wrong"
   ]
  },
  {
   "cell_type": "code",
   "execution_count": 25,
   "metadata": {
    "collapsed": true
   },
   "outputs": [],
   "source": [
    "hybrid_right_neg = []\n",
    "hybrid_wrong_neg = []\n",
    "for i in range(len(baseline_pred)):\n",
    "    if hybrid_pred[i] == 0 and word_pred[i] == 1 and y_test[i] == 0:\n",
    "        hybrid_right_neg.append(data[\"x_test\"][i])\n",
    "    if hybrid_pred[i] == 1 and word_pred[i] == 0 and y_test[i] == 0:\n",
    "        hybrid_wrong_neg.append(data[\"x_test\"][i])"
   ]
  },
  {
   "cell_type": "code",
   "execution_count": 26,
   "metadata": {
    "collapsed": false
   },
   "outputs": [
    {
     "data": {
      "text/plain": [
       "['and now mods of ghazi are under fire by a mob that appears to have been led by you. :(',\n",
       " 'pilgar sides with communists, authoritarian dictators, and terrorist in every single case.',\n",
       " 'okay,you had your chance.you are are race baiting pos and gone',\n",
       " \"is#iranian leaders smarter than#western leaders?? up to date so called#war on#terror gave#iran power n upper hands over entire arab's lands\",\n",
       " 'how did we not find each other years ago and become besties',\n",
       " 'people like blumenthal only care about their own fame as fake crusaders for justice.',\n",
       " 'it read to me like you like him bcz he supports yr book',\n",
       " 'is that suppose to be an excuse for the shia militia animals beating a peshmerga to death?',\n",
       " 'company profile maine coon breeders and fanciers association - maine coon breeders and fanciers association',\n",
       " 'robert spencer in pj media: muslim holidays in new york public schools: why not?',\n",
       " 'and of course i would also fight against any theocracy - regardless of religion.',\n",
       " 'the police of ferguson are now ordering protesters and media to turn off their video equipment! televisetherevolution',\n",
       " \"what's the matter, worried about your welfare check?\",\n",
       " 'how pitiful. after murdering civilians everywhere the daesh try to use civilians for propaganda. the cowards.']"
      ]
     },
     "execution_count": 26,
     "metadata": {},
     "output_type": "execute_result"
    }
   ],
   "source": [
    "hybrid_right_neg"
   ]
  },
  {
   "cell_type": "code",
   "execution_count": 27,
   "metadata": {
    "collapsed": false
   },
   "outputs": [
    {
     "data": {
      "text/plain": [
       "[\"it's official: the fcc will motion to have the internet filed under title ii as a utility.\",\n",
       " 'palestinians must go back to egypt and saudi where they came from. there will be no withdrawal.',\n",
       " 'the daesh are so scared and helpless that all they have left is a propaganda campaign of lies.',\n",
       " '..of india. he calls it the bloodiest chapter in history, and he documents all of it.',\n",
       " 'that \"actions of a few\" line was already stupid 1000 terrorist attacks ago.',\n",
       " 'ghazi has been criticized a few times in the past, and every time they reacted by reasonably discussing &amp; adapting.',\n",
       " 'your idea that violence towards men and violence towards women are of equal weight ignores the reality of violence women face.',\n",
       " 'have you noticed how isis prices women in the slave market?',\n",
       " 'how islam rolls. auspol politas',\n",
       " \"i don't have a religion, so go fuck yourself. racists like you hold humanity back.\",\n",
       " 'and there is no palestine and never has been a palestine.',\n",
       " \"i don't believe in religion. but i don't care if others do, as long as they....\",\n",
       " \"showing your stupidity again. i don't follow any religion.\",\n",
       " 'no muslim women created a university.',\n",
       " 'that explains his dedication to islam.',\n",
       " 'instead of personal attacks, maybe you can explain why there are more than 100 islamic terrorist groups.']"
      ]
     },
     "execution_count": 27,
     "metadata": {},
     "output_type": "execute_result"
    }
   ],
   "source": [
    "hybrid_wrong_neg"
   ]
  },
  {
   "cell_type": "code",
   "execution_count": 22,
   "metadata": {
    "collapsed": false
   },
   "outputs": [],
   "source": [
    "correct = 0\n",
    "hybrid_also_correct = 0\n",
    "word_also_correct = 0\n",
    "agreement = 0 \n",
    "for i in range(len(hybrid_pred)):\n",
    "    if y_test[i] == 1:\n",
    "        correct += 1\n",
    "        if char_pred[i] == word_pred[i]:\n",
    "            agreement +=1\n",
    "            "
   ]
  },
  {
   "cell_type": "code",
   "execution_count": 23,
   "metadata": {
    "collapsed": false
   },
   "outputs": [
    {
     "data": {
      "text/plain": [
       "0.8770226537216829"
      ]
     },
     "execution_count": 23,
     "metadata": {},
     "output_type": "execute_result"
    }
   ],
   "source": [
    "agreement/correct #char/word"
   ]
  },
  {
   "cell_type": "code",
   "execution_count": 17,
   "metadata": {
    "collapsed": false
   },
   "outputs": [
    {
     "data": {
      "text/plain": [
       "0.948220064724919"
      ]
     },
     "execution_count": 17,
     "metadata": {},
     "output_type": "execute_result"
    }
   ],
   "source": [
    "agreement/correct #hybrid/word"
   ]
  },
  {
   "cell_type": "code",
   "execution_count": 21,
   "metadata": {
    "collapsed": false
   },
   "outputs": [
    {
     "data": {
      "text/plain": [
       "0.8770226537216829"
      ]
     },
     "execution_count": 21,
     "metadata": {},
     "output_type": "execute_result"
    }
   ],
   "source": [
    "agreement/correct #hybrid/char"
   ]
  },
  {
   "cell_type": "code",
   "execution_count": 34,
   "metadata": {
    "collapsed": false
   },
   "outputs": [],
   "source": [
    "all_wrong = []\n",
    "for i in range(len(char_pred)):\n",
    "    if baseline_pred[i] == 0 and char_pred[i] == 0 and word_pred[i] == 0 and hybrid_pred[i] == 0 and y_test[i] == 1:\n",
    "        all_wrong.append(data[\"x_test\"][i])\n",
    "    \n",
    "                             "
   ]
  },
  {
   "cell_type": "code",
   "execution_count": 35,
   "metadata": {
    "collapsed": false
   },
   "outputs": [
    {
     "data": {
      "text/plain": [
       "[\"isis continues their big successes against unarmed civilians. they just can't win a fight against anything but families.\",\n",
       " 'thanks for showing again that blacks are the biggest racists. blocked',\n",
       " 'i see mein public shaming vorked. zee vile carolcorps vill now have black members in zee comics. strucker: i put zee nazi in feminazi',\n",
       " 'and is this a lie that westerners created?',\n",
       " 'tokyo hot n1049 endless sex drive - dailyxlover jav asian',\n",
       " 'isis has begun recruiting moroccan prostitutes for its militants in syria and iran, luring them with promises of money …',\n",
       " \"no,it's the absolute truth and you can verify it through hundreds of sources. your anti semitism is scripted propaganda.\",\n",
       " 'managed to hit a bird and a small rodent on my drive to huxley this evening oops asian female teen triplethreat',\n",
       " 'i would rather lose 100k followers by standing up for others in a bad position than gain 100 by keeping my mouth shut fo…',\n",
       " \"load of bs. their numbers fell steadily since then. and you're still too stupid to see that doesn't change ratios.\",\n",
       " 'pieces of shit like you are doing everything in your power to exterminate white people.',\n",
       " \"i know you can't go on a date with any man you want.\",\n",
       " \"i've seen it before microbrain. i just told you, every verse of the tao te ching is superior to every verse of quran\",\n",
       " 'diamond is definitely mona top coon exploitee this season. mimi is praising god this is airing before lhhatl she needed this lhhny',\n",
       " \"of course you were born in serbia...you're as fucked as a serbian film mkr\",\n",
       " \"this was in 2013 i didn't know bout it..russell simmons put out this garbage..fuck that coon knew he…\",\n",
       " 'rofl. in your dreams daeshbag.',\n",
       " 'we in vegas b$&amp;@?es lol wit my ace boon coon for his birthday!! won $60 first night…',\n",
       " 'yeah, this is bad. they should take isis example, put them in a cage and torch them all.',\n",
       " 'you can just see her credentials. black feminazi.',\n",
       " 'iraqi shia put sticker khamenei leader of iran near tikrit does it make sense to ask kurds should respect iraq unity http:…',\n",
       " 'more like three thousand. and most of it was done by the kurdish girls.',\n",
       " \"did that nigger in the whitehouse make a speech today? twitter is complaining but i havent heard that coon's voice in 2 years. winning\",\n",
       " \"i know about judaism. i don't recommend it. but most jews are secular.\",\n",
       " 'feminazi femi卐',\n",
       " 'copts are attacked, murdered, raped, and forced to convert in egypt. turkey used to be almost all christian.',\n",
       " 'santa just *is* white',\n",
       " 'bagheera maine coon black cat gatto gato chat',\n",
       " 'what matters is that people like you are trying to lay a guilt trip on us while ignoring the truth.',\n",
       " \"awww. someone's mad. &lt;3\",\n",
       " \"haven't seen that much idiotic and incoherent babbling, cliche and second hand propaganda in a long time. blocked.\",\n",
       " 'what do you read from her face terrorist?']"
      ]
     },
     "execution_count": 35,
     "metadata": {},
     "output_type": "execute_result"
    }
   ],
   "source": [
    "all_wrong"
   ]
  },
  {
   "cell_type": "code",
   "execution_count": null,
   "metadata": {
    "collapsed": true
   },
   "outputs": [],
   "source": []
  }
 ],
 "metadata": {
  "anaconda-cloud": {},
  "kernelspec": {
   "display_name": "Python 3",
   "language": "python",
   "name": "python3"
  },
  "language_info": {
   "codemirror_mode": {
    "name": "ipython",
    "version": 3
   },
   "file_extension": ".py",
   "mimetype": "text/x-python",
   "name": "python",
   "nbconvert_exporter": "python",
   "pygments_lexer": "ipython3",
   "version": "3.4.5"
  }
 },
 "nbformat": 4,
 "nbformat_minor": 2
}
