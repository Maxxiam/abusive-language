{
 "cells": [
  {
   "cell_type": "code",
   "execution_count": 1,
   "metadata": {
    "collapsed": true
   },
   "outputs": [],
   "source": [
    "import numpy as np\n",
    "import random\n",
    "\n",
    "from data.utils import split_dataset_binary\n",
    "from data.preprocess import concat_unshared_task_datasets, save_preprocessed_data"
   ]
  },
  {
   "cell_type": "code",
   "execution_count": 2,
   "metadata": {
    "collapsed": false
   },
   "outputs": [
    {
     "name": "stdout",
     "output_type": "stream",
     "text": [
      "Unshared task dataset concat done.\n",
      "Label Count: Sexism-3864, Racism-2059, None-12428\n"
     ]
    }
   ],
   "source": [
    "data = concat_unshared_task_datasets()"
   ]
  },
  {
   "cell_type": "code",
   "execution_count": 3,
   "metadata": {
    "collapsed": false
   },
   "outputs": [],
   "source": [
    "random.shuffle(data[\"none\"])\n",
    "random.shuffle(data[\"sexism\"])\n",
    "random.shuffle(data[\"racism\"])"
   ]
  },
  {
   "cell_type": "markdown",
   "metadata": {},
   "source": [
    "## Sexism binary test"
   ]
  },
  {
   "cell_type": "code",
   "execution_count": 4,
   "metadata": {
    "collapsed": false
   },
   "outputs": [
    {
     "name": "stdout",
     "output_type": "stream",
     "text": [
      "split index\n",
      "[2485, 4970, 7455, 9940]\n",
      "divided into chunk shape _x: (2485,), _y: (2485,)\n",
      "divided into chunk shape _x: (2485,), _y: (2485,)\n",
      "divided into chunk shape _x: (2485,), _y: (2485,)\n",
      "divided into chunk shape _x: (2485,), _y: (2485,)\n",
      "divided into chunk shape _x: (2488,), _y: (2488,)\n",
      "concatenating chunks\n",
      "merged and splitted to shape x_train:(9942,), y_train:(9942,), x_test:(2486,), y_test:(2486,)\n",
      "Training set size:13033 (neg:9942/pos:3091)\n",
      "\n",
      "sample neg - feeling quite sorry for the nsw promo bitches! mkr\n",
      "sample pos - sweden and the eu...\n",
      "Valid set size:1629 (neg:1243/pos:386)\n",
      "\n",
      "sample neg - what high level of customer service? stealing customer electricity and bandwidth with xfinitywifi?\n",
      "sample pos - gov frames it as a 'pay' gap yet knows its simply an 'earning' gap. a distraction from real economi…\n",
      "Test set size:1630 (neg:1243/pos:387)\n",
      "\n",
      "sample neg - “we took people on a journey. to a special place. should’ve stuck to that instead of this cooking bullshit” mkr\n",
      "sample pos - yes call me sexist if you want, but i don't like female comedians. don't know what to tell ya. are they funny?\n"
     ]
    }
   ],
   "source": [
    "x_train, y_train, x_valid, y_valid, x_test, y_test = split_dataset_binary(x_neg=data[\"none\"], x_pos=data[\"sexism\"], split=[0.8, 0.1, 0.1])"
   ]
  },
  {
   "cell_type": "code",
   "execution_count": 5,
   "metadata": {
    "collapsed": false
   },
   "outputs": [
    {
     "name": "stdout",
     "output_type": "stream",
     "text": [
      "(3259,)\n",
      "(3259,)\n"
     ]
    }
   ],
   "source": [
    "x_test = np.concatenate((x_valid, x_test))\n",
    "y_test = np.concatenate((y_valid, y_test))\n",
    "print(x_test.shape)\n",
    "print(y_test.shape)"
   ]
  },
  {
   "cell_type": "code",
   "execution_count": 6,
   "metadata": {
    "collapsed": false
   },
   "outputs": [
    {
     "name": "stdout",
     "output_type": "stream",
     "text": [
      "preprocessed file already exists in /home/homes/jhpark/hate-speech/data/preprocessed/\n"
     ]
    }
   ],
   "source": [
    "save_preprocessed_data(\"sexism_final_binary\", hasValid=False, data_={\"train\": (x_train, y_train), \"test\": (x_test, y_test)})"
   ]
  },
  {
   "cell_type": "markdown",
   "metadata": {},
   "source": [
    "## Racism Binary test"
   ]
  },
  {
   "cell_type": "code",
   "execution_count": 7,
   "metadata": {
    "collapsed": false
   },
   "outputs": [
    {
     "name": "stdout",
     "output_type": "stream",
     "text": [
      "split index\n",
      "[2485, 4970, 7455, 9940]\n",
      "divided into chunk shape _x: (2485,), _y: (2485,)\n",
      "divided into chunk shape _x: (2485,), _y: (2485,)\n",
      "divided into chunk shape _x: (2485,), _y: (2485,)\n",
      "divided into chunk shape _x: (2485,), _y: (2485,)\n",
      "divided into chunk shape _x: (2488,), _y: (2488,)\n",
      "concatenating chunks\n",
      "merged and splitted to shape x_train:(9942,), y_train:(9942,), x_test:(2486,), y_test:(2486,)\n",
      "Training set size:11589 (neg:9942/pos:1647)\n",
      "\n",
      "sample neg - mkr2015 mkr bye bye my kitchen rules!!! helloooo the block!!! theblock\n",
      "sample pos - there was no muslim golden age. those states were always slave states.\n",
      "Valid set size:1449 (neg:1243/pos:206)\n",
      "\n",
      "sample neg - at one point, a kid called my name for a point of clarity-- the point of clarity? \"is feminazi an actual word with a denot…\n",
      "sample pos - 71 christian churches looted and burned by muslim mobs.\n",
      "Test set size:1449 (neg:1243/pos:206)\n",
      "\n",
      "sample neg - this boy at coles looks uncomfortable mkr\n",
      "sample pos - .@hillaryguess most stupid comment. hitler wasn't religious, that's a muslim lie. truth is hitler admired muslims\n"
     ]
    }
   ],
   "source": [
    "x_train, y_train, x_valid, y_valid, x_test, y_test = split_dataset_binary(x_neg=data[\"none\"], x_pos=data[\"racism\"], split=[0.8, 0.1, 0.1])"
   ]
  },
  {
   "cell_type": "code",
   "execution_count": 8,
   "metadata": {
    "collapsed": false
   },
   "outputs": [
    {
     "name": "stdout",
     "output_type": "stream",
     "text": [
      "(2898,)\n",
      "(2898,)\n"
     ]
    }
   ],
   "source": [
    "x_test = np.concatenate((x_valid, x_test))\n",
    "y_test = np.concatenate((y_valid, y_test))\n",
    "print(x_test.shape)\n",
    "print(y_test.shape)"
   ]
  },
  {
   "cell_type": "code",
   "execution_count": 9,
   "metadata": {
    "collapsed": false
   },
   "outputs": [
    {
     "name": "stdout",
     "output_type": "stream",
     "text": [
      "preprocessed file already exists in /home/homes/jhpark/hate-speech/data/preprocessed/\n"
     ]
    }
   ],
   "source": [
    "save_preprocessed_data(\"racism_final_binary\", hasValid=False, data_={\"train\": (x_train, y_train), \"test\": (x_test, y_test)})"
   ]
  },
  {
   "cell_type": "markdown",
   "metadata": {},
   "source": [
    "## Abusive Binary test"
   ]
  },
  {
   "cell_type": "code",
   "execution_count": 10,
   "metadata": {
    "collapsed": false
   },
   "outputs": [],
   "source": [
    "x_abusive = list(set(data[\"racism\"] + data[\"sexism\"]))"
   ]
  },
  {
   "cell_type": "code",
   "execution_count": 11,
   "metadata": {
    "collapsed": false
   },
   "outputs": [
    {
     "name": "stdout",
     "output_type": "stream",
     "text": [
      "split index\n",
      "[2485, 4970, 7455, 9940]\n",
      "divided into chunk shape _x: (2485,), _y: (2485,)\n",
      "divided into chunk shape _x: (2485,), _y: (2485,)\n",
      "divided into chunk shape _x: (2485,), _y: (2485,)\n",
      "divided into chunk shape _x: (2485,), _y: (2485,)\n",
      "divided into chunk shape _x: (2488,), _y: (2488,)\n",
      "concatenating chunks\n",
      "merged and splitted to shape x_train:(9942,), y_train:(9942,), x_test:(2486,), y_test:(2486,)\n",
      "split index\n",
      "[1154, 2308, 3462, 4616]\n",
      "divided into chunk shape _x: (1154,), _y: (1154,)\n",
      "divided into chunk shape _x: (1154,), _y: (1154,)\n",
      "divided into chunk shape _x: (1154,), _y: (1154,)\n",
      "divided into chunk shape _x: (1154,), _y: (1154,)\n",
      "divided into chunk shape _x: (1156,), _y: (1156,)\n",
      "concatenating chunks\n",
      "merged and splitted to shape x_train:(4616,), y_train:(4616,), x_test:(1156,), y_test:(1156,)\n",
      "Training set size:14558 (neg:9942/pos:4616)\n",
      "\n",
      "sample neg - i haven't used it. &gt;.&gt;\n",
      "sample pos - islam according to ex-muslim: not me this guy: pakistaniguydonthugmemysuicidejacketmigh tgooff and i think t... http://…\n",
      "Valid set size:1821 (neg:1243/pos:578)\n",
      "\n",
      "sample neg - why are people still working with woody allen. the same people who said we had to believe survivors when it came to cos…\n",
      "sample pos - is this lang? not sexist but sports women is the worst thing what's ever happened to sky sports news! thatswhatloosewomensfor\n",
      "Test set size:1821 (neg:1243/pos:578)\n",
      "\n",
      "sample neg - retweet every last threat so the world will finally see what we live with.\n",
      "sample pos - feminazi blog reminds liberals today is “national day of appreciation for abortion providers”… via\n"
     ]
    }
   ],
   "source": [
    "x_train, y_train, x_valid, y_valid, x_test, y_test = split_dataset_binary(x_neg=data[\"none\"], x_pos=x_abusive, split=[0.8, 0.1, 0.1])"
   ]
  },
  {
   "cell_type": "code",
   "execution_count": 12,
   "metadata": {
    "collapsed": false
   },
   "outputs": [
    {
     "name": "stdout",
     "output_type": "stream",
     "text": [
      "(3642,)\n",
      "(3642,)\n"
     ]
    }
   ],
   "source": [
    "x_test = np.concatenate((x_valid, x_test))\n",
    "y_test = np.concatenate((y_valid, y_test))\n",
    "print(x_test.shape)\n",
    "print(y_test.shape)"
   ]
  },
  {
   "cell_type": "code",
   "execution_count": 13,
   "metadata": {
    "collapsed": false
   },
   "outputs": [
    {
     "name": "stdout",
     "output_type": "stream",
     "text": [
      "preprocessed file already exists in /home/homes/jhpark/hate-speech/data/preprocessed/\n"
     ]
    }
   ],
   "source": [
    "save_preprocessed_data(\"abusive_final_binary\", hasValid=False, data_={\"train\": (x_train, y_train), \"test\": (x_test, y_test)})"
   ]
  },
  {
   "cell_type": "markdown",
   "metadata": {},
   "source": [
    "## Test Loading "
   ]
  },
  {
   "cell_type": "code",
   "execution_count": 21,
   "metadata": {
    "collapsed": false
   },
   "outputs": [
    {
     "name": "stdout",
     "output_type": "stream",
     "text": [
      "test_abusive_final_binary.txt   train_racism_binary.txt\r\n",
      "test_racism_binary.txt          train_racism_final_binary.txt\r\n",
      "test_racism_final_binary.txt    train_sexism_binary.txt\r\n",
      "test_sexism_binary.txt          train_sexism_final_binary.txt\r\n",
      "test_sexism_final_binary.txt    valid_racism_binary.txt\r\n",
      "train_abusive_final_binary.txt  valid_sexism_binary.txt\r\n"
     ]
    }
   ],
   "source": [
    "%ls data/preprocessed"
   ]
  },
  {
   "cell_type": "code",
   "execution_count": 14,
   "metadata": {
    "collapsed": true
   },
   "outputs": [],
   "source": [
    "from data.preprocess import load_from_file"
   ]
  },
  {
   "cell_type": "code",
   "execution_count": 15,
   "metadata": {
    "collapsed": false
   },
   "outputs": [],
   "source": [
    "data = load_from_file(\"abusive_final_binary\")"
   ]
  },
  {
   "cell_type": "code",
   "execution_count": 19,
   "metadata": {
    "collapsed": false
   },
   "outputs": [
    {
     "data": {
      "text/plain": [
       "(14558,)"
      ]
     },
     "execution_count": 19,
     "metadata": {},
     "output_type": "execute_result"
    }
   ],
   "source": [
    "data[\"x_train\"].shape"
   ]
  },
  {
   "cell_type": "code",
   "execution_count": 20,
   "metadata": {
    "collapsed": false
   },
   "outputs": [
    {
     "data": {
      "text/plain": [
       "(3642,)"
      ]
     },
     "execution_count": 20,
     "metadata": {},
     "output_type": "execute_result"
    }
   ],
   "source": [
    "data[\"x_test\"].shape"
   ]
  },
  {
   "cell_type": "code",
   "execution_count": null,
   "metadata": {
    "collapsed": true
   },
   "outputs": [],
   "source": []
  }
 ],
 "metadata": {
  "kernelspec": {
   "display_name": "Python 3",
   "language": "python",
   "name": "python3"
  },
  "language_info": {
   "codemirror_mode": {
    "name": "ipython",
    "version": 3
   },
   "file_extension": ".py",
   "mimetype": "text/x-python",
   "name": "python",
   "nbconvert_exporter": "python",
   "pygments_lexer": "ipython3",
   "version": "3.4.5"
  }
 },
 "nbformat": 4,
 "nbformat_minor": 2
}
