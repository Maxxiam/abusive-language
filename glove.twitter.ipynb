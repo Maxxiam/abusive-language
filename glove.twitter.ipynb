{
 "cells": [
  {
   "cell_type": "code",
   "execution_count": 8,
   "metadata": {
    "collapsed": true
   },
   "outputs": [],
   "source": [
    "import pickle"
   ]
  },
  {
   "cell_type": "code",
   "execution_count": 10,
   "metadata": {
    "collapsed": false
   },
   "outputs": [],
   "source": [
    "glove = {}\n",
    "f = open(\"../glove.twitter.27B.200d.txt\")\n",
    "for line in f:\n",
    "    values = line.split()\n",
    "    word = values[0]\n",
    "    coefs = np.asarray(values[1:], dtype='float32')\n",
    "    glove[word] = coefs\n",
    "f.close()\n",
    "\n",
    "print('Found %s word vectors.' % len(glove))"
   ]
  },
  {
   "cell_type": "code",
   "execution_count": 38,
   "metadata": {
    "collapsed": false
   },
   "outputs": [
    {
     "name": "stdout",
     "output_type": "stream",
     "text": [
      "vocabulary loaded with 13481 words\n"
     ]
    }
   ],
   "source": [
    "with open(\"./data/word_outputs/vocab.pkl\", \"rb\") as f:\n",
    "    vocab = pickle.load(f)\n",
    "    vocab_size = len(vocab[\"word2id\"].keys())\n",
    "    print(\"vocabulary loaded with %s words\" % vocab_size)"
   ]
  },
  {
   "cell_type": "code",
   "execution_count": 39,
   "metadata": {
    "collapsed": false
   },
   "outputs": [
    {
     "data": {
      "text/plain": [
       "612"
      ]
     },
     "execution_count": 39,
     "metadata": {},
     "output_type": "execute_result"
    }
   ],
   "source": [
    "out_of_v = list(filter(lambda word: word not in glove, vocab[\"word2id\"].keys()))  \n",
    "len(out_of_v)"
   ]
  },
  {
   "cell_type": "code",
   "execution_count": 41,
   "metadata": {
    "collapsed": true
   },
   "outputs": [],
   "source": [
    "import numpy as np"
   ]
  },
  {
   "cell_type": "code",
   "execution_count": 47,
   "metadata": {
    "collapsed": true
   },
   "outputs": [],
   "source": [
    "embedding_matrix = np.zeros((vocab_size, 200))"
   ]
  },
  {
   "cell_type": "code",
   "execution_count": 51,
   "metadata": {
    "collapsed": true
   },
   "outputs": [],
   "source": [
    "np.save(\"./data/word_outputs/glove_embedding.npy\", embedding_matrix)"
   ]
  },
  {
   "cell_type": "code",
   "execution_count": 52,
   "metadata": {
    "collapsed": false
   },
   "outputs": [
    {
     "name": "stderr",
     "output_type": "stream",
     "text": [
      "Using TensorFlow backend.\n"
     ]
    }
   ],
   "source": [
    "import data_helper"
   ]
  },
  {
   "cell_type": "code",
   "execution_count": 63,
   "metadata": {
    "collapsed": false
   },
   "outputs": [
    {
     "name": "stdout",
     "output_type": "stream",
     "text": [
      "added relabel to training set\n",
      "split:train, label:none, data shape:(14236, 40)\n",
      "split:train, label:abusive, data shape:(35590, 40)\n",
      "split:valid, label:none, data shape:(1713, 40)\n",
      "split:valid, label:abusive, data shape:(4375, 40)\n",
      "split:test, label:none, data shape:(1714, 40)\n",
      "split:test, label:abusive, data shape:(4378, 40)\n"
     ]
    }
   ],
   "source": [
    "data_word_d, labels = data_helper.load_abusive_binary(\"word\", True)"
   ]
  },
  {
   "cell_type": "code",
   "execution_count": 61,
   "metadata": {
    "collapsed": false
   },
   "outputs": [],
   "source": [
    "_data = data_word_d\n",
    "splits = [\"x_train\", \"x_valid\", \"x_test\"]\n",
    "for split in splits:\n",
    "    x = np.zeros((len(_data[split]), len(row), 200))\n",
    "    for i, row in enumerate(_data[split]):\n",
    "        m = np.zeros((len(row), 200))\n",
    "        for j, word ixn enumerate(row):\n",
    "            m[j] = embedding_matrix[word]\n",
    "        x[i] = m\n",
    "    _data[split] = x"
   ]
  },
  {
   "cell_type": "code",
   "execution_count": 62,
   "metadata": {
    "collapsed": false
   },
   "outputs": [
    {
     "data": {
      "text/plain": [
       "((35590, 40, 200), (4378, 40, 200))"
      ]
     },
     "execution_count": 62,
     "metadata": {},
     "output_type": "execute_result"
    }
   ],
   "source": [
    "_data[\"x_train\"].shape, _data[\"x_test\"].shape "
   ]
  },
  {
   "cell_type": "code",
   "execution_count": 64,
   "metadata": {
    "collapsed": false
   },
   "outputs": [
    {
     "data": {
      "text/plain": [
       "(35590, 40)"
      ]
     },
     "execution_count": 64,
     "metadata": {},
     "output_type": "execute_result"
    }
   ],
   "source": [
    "data_word_d[\"x_train\"].shape"
   ]
  },
  {
   "cell_type": "code",
   "execution_count": null,
   "metadata": {
    "collapsed": true
   },
   "outputs": [],
   "source": []
  }
 ],
 "metadata": {
  "kernelspec": {
   "display_name": "Python 3",
   "language": "python",
   "name": "python3"
  },
  "language_info": {
   "codemirror_mode": {
    "name": "ipython",
    "version": 3
   },
   "file_extension": ".py",
   "mimetype": "text/x-python",
   "name": "python",
   "nbconvert_exporter": "python",
   "pygments_lexer": "ipython3",
   "version": "3.4.5"
  }
 },
 "nbformat": 4,
 "nbformat_minor": 2
}
