{
 "cells": [
  {
   "cell_type": "code",
   "execution_count": 2,
   "metadata": {
    "collapsed": true
   },
   "outputs": [],
   "source": [
    "import os\n",
    "from data.char import preprocess_char_cnn\n",
    "from data.preprocess import load_from_file\n",
    "from tqdm import tqdm_notebook as tqdm"
   ]
  },
  {
   "cell_type": "code",
   "execution_count": 3,
   "metadata": {
    "collapsed": false
   },
   "outputs": [],
   "source": [
    "name_format = \"fcv-%s\"\n",
    "\n",
    "data = []\n",
    "for i in range(10):\n",
    "    data.append(load_from_file(name_format % i))"
   ]
  },
  {
   "cell_type": "code",
   "execution_count": 4,
   "metadata": {
    "collapsed": false
   },
   "outputs": [
    {
     "name": "stdout",
     "output_type": "stream",
     "text": [
      "\n",
      "\n",
      "Creating Character 1-hot matrix for data=fcv-0\n",
      "data already processed\n",
      "\n",
      "\n",
      "Creating Character 1-hot matrix for data=fcv-1\n",
      "data already processed\n",
      "\n",
      "\n",
      "Creating Character 1-hot matrix for data=fcv-2\n",
      "eek. i can't stand split keyboards. doesn't work well with mmos.\n",
      "would have added \"be eaten by your cats\" but...140.\n",
      "\n",
      "test Texts to 1hot_matrix\n",
      "saved to /home/homes/jhpark/hate-speech/data/char_outputs/fcv-2/test_data.npy\n",
      "saved to /home/homes/jhpark/hate-speech/data/char_outputs/fcv-2/test_labels.npy\n",
      "as long as women have a biological advantage, that sport or activity will be undervalued and ridiculed.\n",
      "feminazi blog reminds liberals today is “national day of appreciation for abortion providers”… cnrapp\n",
      "\n",
      "train Texts to 1hot_matrix\n",
      "saved to /home/homes/jhpark/hate-speech/data/char_outputs/fcv-2/train_data.npy\n",
      "saved to /home/homes/jhpark/hate-speech/data/char_outputs/fcv-2/train_labels.npy\n",
      "\n",
      "\n",
      "Creating Character 1-hot matrix for data=fcv-3\n",
      "i am probably not answering email tonight. i have other work to catch up on. this weekend = = gobs of email.\n",
      "tbh i have know idea what half the words the feminazi's say mean but i know i just hate them\n",
      "\n",
      "test Texts to 1hot_matrix\n",
      "saved to /home/homes/jhpark/hate-speech/data/char_outputs/fcv-3/test_data.npy\n",
      "saved to /home/homes/jhpark/hate-speech/data/char_outputs/fcv-3/test_labels.npy\n",
      "as long as women have a biological advantage, that sport or activity will be undervalued and ridiculed.\n",
      "feminazi blog reminds liberals today is “national day of appreciation for abortion providers”… cnrapp\n",
      "\n",
      "train Texts to 1hot_matrix\n",
      "saved to /home/homes/jhpark/hate-speech/data/char_outputs/fcv-3/train_data.npy\n",
      "saved to /home/homes/jhpark/hate-speech/data/char_outputs/fcv-3/train_labels.npy\n",
      "\n",
      "\n",
      "Creating Character 1-hot matrix for data=fcv-4\n",
      "money quote: \"it's as if you put a shoe on each t*t\"\n",
      "not sexist but come on why ? ghostbusting is a job for men lol\n",
      "\n",
      "test Texts to 1hot_matrix\n",
      "saved to /home/homes/jhpark/hate-speech/data/char_outputs/fcv-4/test_data.npy\n",
      "saved to /home/homes/jhpark/hate-speech/data/char_outputs/fcv-4/test_labels.npy\n",
      "as long as women have a biological advantage, that sport or activity will be undervalued and ridiculed.\n",
      "feminazi blog reminds liberals today is “national day of appreciation for abortion providers”… cnrapp\n",
      "\n",
      "train Texts to 1hot_matrix\n",
      "saved to /home/homes/jhpark/hate-speech/data/char_outputs/fcv-4/train_data.npy\n",
      "saved to /home/homes/jhpark/hate-speech/data/char_outputs/fcv-4/train_labels.npy\n",
      "\n",
      "\n",
      "Creating Character 1-hot matrix for data=fcv-5\n",
      "muslims have blasphemy laws to impose such.\n",
      "omg kat! calling them suckers? i can't wait to see what they said about your slop... who's the suckers now? ha-ha!!! mkr...\n",
      "\n",
      "test Texts to 1hot_matrix\n",
      "saved to /home/homes/jhpark/hate-speech/data/char_outputs/fcv-5/test_data.npy\n",
      "saved to /home/homes/jhpark/hate-speech/data/char_outputs/fcv-5/test_labels.npy\n",
      "as long as women have a biological advantage, that sport or activity will be undervalued and ridiculed.\n",
      "feminazi blog reminds liberals today is “national day of appreciation for abortion providers”… cnrapp\n",
      "\n",
      "train Texts to 1hot_matrix\n",
      "saved to /home/homes/jhpark/hate-speech/data/char_outputs/fcv-5/train_data.npy\n",
      "saved to /home/homes/jhpark/hate-speech/data/char_outputs/fcv-5/train_labels.npy\n",
      "\n",
      "\n",
      "Creating Character 1-hot matrix for data=fcv-6\n",
      "twitter is more likely to act on threats to come to your house than they are someone handing out the address.\n",
      "separate conversations. she told a guy concerned about circumcision that he can't get laid. exactly what she whined about.\n",
      "\n",
      "test Texts to 1hot_matrix\n",
      "saved to /home/homes/jhpark/hate-speech/data/char_outputs/fcv-6/test_data.npy\n",
      "saved to /home/homes/jhpark/hate-speech/data/char_outputs/fcv-6/test_labels.npy\n",
      "as long as women have a biological advantage, that sport or activity will be undervalued and ridiculed.\n",
      "feminazi blog reminds liberals today is “national day of appreciation for abortion providers”… cnrapp\n",
      "\n",
      "train Texts to 1hot_matrix\n",
      "saved to /home/homes/jhpark/hate-speech/data/char_outputs/fcv-6/train_data.npy\n",
      "saved to /home/homes/jhpark/hate-speech/data/char_outputs/fcv-6/train_labels.npy\n",
      "\n",
      "\n",
      "Creating Character 1-hot matrix for data=fcv-7\n",
      "someone flunked freshman year biology\n",
      "lol okay. you hate islam but i can't use a word to call you what you are. so was the guy who created \"feminazi\" a fascist?\n",
      "\n",
      "test Texts to 1hot_matrix\n",
      "saved to /home/homes/jhpark/hate-speech/data/char_outputs/fcv-7/test_data.npy\n",
      "saved to /home/homes/jhpark/hate-speech/data/char_outputs/fcv-7/test_labels.npy\n",
      "as long as women have a biological advantage, that sport or activity will be undervalued and ridiculed.\n",
      "feminazi blog reminds liberals today is “national day of appreciation for abortion providers”… cnrapp\n",
      "\n",
      "train Texts to 1hot_matrix\n",
      "saved to /home/homes/jhpark/hate-speech/data/char_outputs/fcv-7/train_data.npy\n",
      "saved to /home/homes/jhpark/hate-speech/data/char_outputs/fcv-7/train_labels.npy\n",
      "\n",
      "\n",
      "Creating Character 1-hot matrix for data=fcv-8\n",
      "who is blaming these innocents? who said all men have raped, all uncles are creepy, all teachers grope students? blameonenotall\n",
      "i'm not sexist, but personal opinions shouldn't be considered sexist remarks (in almost all cases)\n",
      "\n",
      "test Texts to 1hot_matrix\n",
      "saved to /home/homes/jhpark/hate-speech/data/char_outputs/fcv-8/test_data.npy\n",
      "saved to /home/homes/jhpark/hate-speech/data/char_outputs/fcv-8/test_labels.npy\n",
      "as long as women have a biological advantage, that sport or activity will be undervalued and ridiculed.\n",
      "feminazi blog reminds liberals today is “national day of appreciation for abortion providers”… cnrapp\n",
      "\n",
      "train Texts to 1hot_matrix\n",
      "saved to /home/homes/jhpark/hate-speech/data/char_outputs/fcv-8/train_data.npy\n",
      "saved to /home/homes/jhpark/hate-speech/data/char_outputs/fcv-8/train_labels.npy\n",
      "\n",
      "\n",
      "Creating Character 1-hot matrix for data=fcv-9\n",
      "kind of sad to see the girls go 😐 kind of mkr mkr2015\n",
      "feminazi blog reminds liberals today is “national day of appreciation for abortion providers”… cnrapp\n",
      "\n",
      "test Texts to 1hot_matrix\n",
      "saved to /home/homes/jhpark/hate-speech/data/char_outputs/fcv-9/test_data.npy\n",
      "saved to /home/homes/jhpark/hate-speech/data/char_outputs/fcv-9/test_labels.npy\n",
      "as long as women have a biological advantage, that sport or activity will be undervalued and ridiculed.\n",
      "i'm not sexist, but personal opinions shouldn't be considered sexist remarks (in almost all cases)\n",
      "\n",
      "train Texts to 1hot_matrix\n",
      "saved to /home/homes/jhpark/hate-speech/data/char_outputs/fcv-9/train_data.npy\n",
      "saved to /home/homes/jhpark/hate-speech/data/char_outputs/fcv-9/train_labels.npy\n",
      "\n"
     ]
    }
   ],
   "source": [
    "for i in tqdm(range(10)):\n",
    "    preprocess_char_cnn(data[i], name_format % i)"
   ]
  },
  {
   "cell_type": "code",
   "execution_count": null,
   "metadata": {
    "collapsed": true
   },
   "outputs": [],
   "source": []
  }
 ],
 "metadata": {
  "kernelspec": {
   "display_name": "Python 3",
   "language": "python",
   "name": "python3"
  },
  "language_info": {
   "codemirror_mode": {
    "name": "ipython",
    "version": 3
   },
   "file_extension": ".py",
   "mimetype": "text/x-python",
   "name": "python",
   "nbconvert_exporter": "python",
   "pygments_lexer": "ipython3",
   "version": "3.4.5"
  },
  "widgets": {
   "state": {
    "1d1cb07dad084f6898eaa5d45fcb0988": {
     "views": [
      {
       "cell_index": 2
      }
     ]
    }
   },
   "version": "1.2.0"
  }
 },
 "nbformat": 4,
 "nbformat_minor": 2
}
