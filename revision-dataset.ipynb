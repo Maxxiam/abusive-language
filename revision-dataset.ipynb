{
 "cells": [
  {
   "cell_type": "code",
   "execution_count": 1,
   "metadata": {
    "collapsed": false
   },
   "outputs": [],
   "source": [
    "import numpy as np\n",
    "import random\n",
    "import os\n",
    "\n",
    "from data.utils import split_dataset_binary\n",
    "from data.preprocess import concat_unshared_task_datasets, save_preprocessed_data, preprocess_tweet"
   ]
  },
  {
   "cell_type": "code",
   "execution_count": 2,
   "metadata": {
    "collapsed": true
   },
   "outputs": [],
   "source": [
    "from sklearn.model_selection import StratifiedKFold\n"
   ]
  },
  {
   "cell_type": "code",
   "execution_count": 3,
   "metadata": {
    "collapsed": false
   },
   "outputs": [
    {
     "name": "stdout",
     "output_type": "stream",
     "text": [
      "Unshared task dataset concat done.\n",
      "Label Count: Sexism-3864, Racism-2059, None-12428\n"
     ]
    }
   ],
   "source": [
    "data = concat_unshared_task_datasets()"
   ]
  },
  {
   "cell_type": "code",
   "execution_count": 4,
   "metadata": {
    "collapsed": true
   },
   "outputs": [],
   "source": [
    "random.shuffle(data[\"none\"])\n",
    "random.shuffle(data[\"racism\"])\n",
    "random.shuffle(data[\"sexism\"])"
   ]
  },
  {
   "cell_type": "code",
   "execution_count": 5,
   "metadata": {
    "collapsed": false
   },
   "outputs": [],
   "source": [
    "instances = np.array(data[\"none\"] + data[\"racism\"] + data[\"sexism\"])"
   ]
  },
  {
   "cell_type": "code",
   "execution_count": 6,
   "metadata": {
    "collapsed": false
   },
   "outputs": [],
   "source": [
    "labels = np.concatenate([np.zeros_like(data[\"none\"], dtype=np.int), np.ones_like(data[\"racism\"], dtype=np.int), np.full_like(data[\"sexism\"], 2, dtype=np.int)])"
   ]
  },
  {
   "cell_type": "code",
   "execution_count": 7,
   "metadata": {
    "collapsed": false
   },
   "outputs": [],
   "source": [
    "assert len(instances) == len(labels)"
   ]
  },
  {
   "cell_type": "code",
   "execution_count": 8,
   "metadata": {
    "collapsed": true
   },
   "outputs": [],
   "source": [
    "def save_file(data_name, x_train, y_train, x_test, y_test):\n",
    "    assert len(x_train) == len(y_train)\n",
    "    assert len(x_test) == len(y_test)\n",
    "    \n",
    "    path = \"./data/preprocessed/\"\n",
    "    if not os.path.exists(path):\n",
    "        os.makedirs(path)\n",
    "    \n",
    "    file_name = \"train_%s.txt\" % data_name\n",
    "    with open(path + file_name, \"w\") as f:\n",
    "        for i in range(len(x_train)):\n",
    "            try:\n",
    "                f.write(\"%s\\t%s\\n\" % (x_train[i], y_train[i]))\n",
    "            except UnicodeEncodeError:\n",
    "                print(\"unicode encode error. skipping line\")\n",
    "    print(\"Wrote on %s\" % file_name)\n",
    "    \n",
    "    file_name = \"test_%s.txt\" % data_name\n",
    "    with open(path + file_name, \"w\") as f:\n",
    "        for i in range(len(x_test)):\n",
    "            try:\n",
    "                f.write(\"%s\\t%s\\n\" % (x_test[i], y_test[i]))\n",
    "            except UnicodeEncodeError:\n",
    "                print(\"unicode encode error. skipping line\")\n",
    "    print(\"Wrote on %s\" % file_name)"
   ]
  },
  {
   "cell_type": "code",
   "execution_count": 9,
   "metadata": {
    "collapsed": false
   },
   "outputs": [
    {
     "name": "stdout",
     "output_type": "stream",
     "text": [
      "Wrote on train_fcv-0.txt\n",
      "Wrote on test_fcv-0.txt\n",
      "Wrote on train_fcv-1.txt\n",
      "Wrote on test_fcv-1.txt\n",
      "Wrote on train_fcv-2.txt\n",
      "Wrote on test_fcv-2.txt\n",
      "Wrote on train_fcv-3.txt\n",
      "Wrote on test_fcv-3.txt\n",
      "Wrote on train_fcv-4.txt\n",
      "Wrote on test_fcv-4.txt\n",
      "Wrote on train_fcv-5.txt\n",
      "Wrote on test_fcv-5.txt\n",
      "Wrote on train_fcv-6.txt\n",
      "Wrote on test_fcv-6.txt\n",
      "Wrote on train_fcv-7.txt\n",
      "Wrote on test_fcv-7.txt\n",
      "Wrote on train_fcv-8.txt\n",
      "Wrote on test_fcv-8.txt\n",
      "Wrote on train_fcv-9.txt\n",
      "Wrote on test_fcv-9.txt\n"
     ]
    }
   ],
   "source": [
    "skf = StratifiedKFold(n_splits=10)\n",
    "for i, (train_idx, test_idx) in enumerate(skf.split(instances, labels)):\n",
    "    save_file(\"fcv-%s\" % i, instances[train_idx], labels[train_idx], instances[test_idx], labels[test_idx])"
   ]
  },
  {
   "cell_type": "code",
   "execution_count": null,
   "metadata": {
    "collapsed": true
   },
   "outputs": [],
   "source": []
  }
 ],
 "metadata": {
  "kernelspec": {
   "display_name": "Python 3",
   "language": "python",
   "name": "python3"
  },
  "language_info": {
   "codemirror_mode": {
    "name": "ipython",
    "version": 3
   },
   "file_extension": ".py",
   "mimetype": "text/x-python",
   "name": "python",
   "nbconvert_exporter": "python",
   "pygments_lexer": "ipython3",
   "version": "3.4.5"
  }
 },
 "nbformat": 4,
 "nbformat_minor": 2
}
