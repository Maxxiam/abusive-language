{
 "cells": [
  {
   "cell_type": "markdown",
   "metadata": {},
   "source": [
    "# ALW1: 1st Workshop on Abusive Language Online \n",
    "to be held at the annual meeting of the Association of Computational Linguistics (ACL) 2017 (Vancouver, Canada),\n",
    "https://sites.google.com/site/abusivelanguageworkshop2017/home\n",
    "\n",
    "## Important dates\n",
    "\n",
    "Submission due: April 27th\n",
    "Author Notification: May 17th\n",
    "Camera Ready: May 26th\n",
    "Workshop Date: August 4th\n",
    "\n",
    "## Unshared Task Dataset Analysis"
   ]
  },
  {
   "cell_type": "markdown",
   "metadata": {},
   "source": [
    "### 1. Waseem and Hovy, NAACL 2016"
   ]
  },
  {
   "cell_type": "code",
   "execution_count": 1,
   "metadata": {
    "collapsed": true
   },
   "outputs": [],
   "source": [
    "import pandas as pd\n",
    "pd.set_option('display.max_colwidth', -1)"
   ]
  },
  {
   "cell_type": "code",
   "execution_count": 2,
   "metadata": {
    "collapsed": false
   },
   "outputs": [],
   "source": [
    "df = pd.read_csv('./data/crawled/wassem_hovy_naacl.csv',\n",
    "                     sep=\"\\t\",\n",
    "                     header=None,\n",
    "                     skiprows=[0],\n",
    "                     names=[\"Tweet_ID\", \"Previous\", \"User_ID\", \"Text\", \"Label\"],\n",
    "                     error_bad_lines=False)"
   ]
  },
  {
   "cell_type": "code",
   "execution_count": 3,
   "metadata": {
    "collapsed": false
   },
   "outputs": [
    {
     "data": {
      "text/html": [
       "<div>\n",
       "<table border=\"1\" class=\"dataframe\">\n",
       "  <thead>\n",
       "    <tr style=\"text-align: right;\">\n",
       "      <th></th>\n",
       "      <th>Tweet_ID</th>\n",
       "      <th>Previous</th>\n",
       "      <th>User_ID</th>\n",
       "      <th>Text</th>\n",
       "      <th>Label</th>\n",
       "    </tr>\n",
       "  </thead>\n",
       "  <tbody>\n",
       "    <tr>\n",
       "      <th>count</th>\n",
       "      <td>1.620200e+04</td>\n",
       "      <td>7.687000e+03</td>\n",
       "      <td>1.620200e+04</td>\n",
       "      <td>16202</td>\n",
       "      <td>16202</td>\n",
       "    </tr>\n",
       "    <tr>\n",
       "      <th>unique</th>\n",
       "      <td>NaN</td>\n",
       "      <td>NaN</td>\n",
       "      <td>NaN</td>\n",
       "      <td>16202</td>\n",
       "      <td>3</td>\n",
       "    </tr>\n",
       "    <tr>\n",
       "      <th>top</th>\n",
       "      <td>NaN</td>\n",
       "      <td>NaN</td>\n",
       "      <td>NaN</td>\n",
       "      <td>@Sir5000 not sure. was sent screencap</td>\n",
       "      <td>none</td>\n",
       "    </tr>\n",
       "    <tr>\n",
       "      <th>freq</th>\n",
       "      <td>NaN</td>\n",
       "      <td>NaN</td>\n",
       "      <td>NaN</td>\n",
       "      <td>1</td>\n",
       "      <td>11115</td>\n",
       "    </tr>\n",
       "    <tr>\n",
       "      <th>mean</th>\n",
       "      <td>5.570068e+17</td>\n",
       "      <td>5.538049e+17</td>\n",
       "      <td>1.347147e+09</td>\n",
       "      <td>NaN</td>\n",
       "      <td>NaN</td>\n",
       "    </tr>\n",
       "    <tr>\n",
       "      <th>std</th>\n",
       "      <td>3.764030e+16</td>\n",
       "      <td>3.975646e+16</td>\n",
       "      <td>1.277989e+09</td>\n",
       "      <td>NaN</td>\n",
       "      <td>NaN</td>\n",
       "    </tr>\n",
       "    <tr>\n",
       "      <th>min</th>\n",
       "      <td>3.193999e+17</td>\n",
       "      <td>3.241139e+17</td>\n",
       "      <td>2.105021e+06</td>\n",
       "      <td>NaN</td>\n",
       "      <td>NaN</td>\n",
       "    </tr>\n",
       "    <tr>\n",
       "      <th>25%</th>\n",
       "      <td>5.627451e+17</td>\n",
       "      <td>5.597213e+17</td>\n",
       "      <td>1.970792e+07</td>\n",
       "      <td>NaN</td>\n",
       "      <td>NaN</td>\n",
       "    </tr>\n",
       "    <tr>\n",
       "      <th>50%</th>\n",
       "      <td>5.696500e+17</td>\n",
       "      <td>5.659425e+17</td>\n",
       "      <td>9.306205e+08</td>\n",
       "      <td>NaN</td>\n",
       "      <td>NaN</td>\n",
       "    </tr>\n",
       "    <tr>\n",
       "      <th>75%</th>\n",
       "      <td>5.750016e+17</td>\n",
       "      <td>5.723631e+17</td>\n",
       "      <td>2.941146e+09</td>\n",
       "      <td>NaN</td>\n",
       "      <td>NaN</td>\n",
       "    </tr>\n",
       "    <tr>\n",
       "      <th>max</th>\n",
       "      <td>6.183671e+17</td>\n",
       "      <td>5.767807e+17</td>\n",
       "      <td>3.079113e+09</td>\n",
       "      <td>NaN</td>\n",
       "      <td>NaN</td>\n",
       "    </tr>\n",
       "  </tbody>\n",
       "</table>\n",
       "</div>"
      ],
      "text/plain": [
       "            Tweet_ID      Previous       User_ID  \\\n",
       "count   1.620200e+04  7.687000e+03  1.620200e+04   \n",
       "unique NaN           NaN           NaN             \n",
       "top    NaN           NaN           NaN             \n",
       "freq   NaN           NaN           NaN             \n",
       "mean    5.570068e+17  5.538049e+17  1.347147e+09   \n",
       "std     3.764030e+16  3.975646e+16  1.277989e+09   \n",
       "min     3.193999e+17  3.241139e+17  2.105021e+06   \n",
       "25%     5.627451e+17  5.597213e+17  1.970792e+07   \n",
       "50%     5.696500e+17  5.659425e+17  9.306205e+08   \n",
       "75%     5.750016e+17  5.723631e+17  2.941146e+09   \n",
       "max     6.183671e+17  5.767807e+17  3.079113e+09   \n",
       "\n",
       "                                         Text  Label  \n",
       "count   16202                                  16202  \n",
       "unique  16202                                  3      \n",
       "top     @Sir5000 not sure. was sent screencap  none   \n",
       "freq    1                                      11115  \n",
       "mean    NaN                                    NaN    \n",
       "std     NaN                                    NaN    \n",
       "min     NaN                                    NaN    \n",
       "25%     NaN                                    NaN    \n",
       "50%     NaN                                    NaN    \n",
       "75%     NaN                                    NaN    \n",
       "max     NaN                                    NaN    "
      ]
     },
     "execution_count": 3,
     "metadata": {},
     "output_type": "execute_result"
    }
   ],
   "source": [
    "df.describe(include='all')"
   ]
  },
  {
   "cell_type": "code",
   "execution_count": 4,
   "metadata": {
    "collapsed": false
   },
   "outputs": [
    {
     "data": {
      "text/plain": [
       "<matplotlib.axes._subplots.AxesSubplot at 0x7fdcfd892c50>"
      ]
     },
     "execution_count": 4,
     "metadata": {},
     "output_type": "execute_result"
    },
    {
     "data": {
      "image/png": "[encoded data removed]",
      "text/plain": [
       "<matplotlib.figure.Figure at 0x7fdcfe7a95f8>"
      ]
     },
     "metadata": {},
     "output_type": "display_data"
    }
   ],
   "source": [
    "import matplotlib.pyplot as plt\n",
    "\n",
    "%matplotlib inline\n",
    "df['Label'].value_counts().plot(kind=\"bar\")"
   ]
  },
  {
   "cell_type": "markdown",
   "metadata": {},
   "source": [
    "#### Label: Sexism "
   ]
  },
  {
   "cell_type": "code",
   "execution_count": 5,
   "metadata": {
    "collapsed": false
   },
   "outputs": [
    {
     "data": {
      "text/plain": [
       "2545    You're a horrible parent. @jrdrury13 Call me sexist but my son can do whatever he wants lol my daughter not so much                         \n",
       "4583    RT @Tcrawford714 Call me sexist, but I don't like watching football with a female commentator                                               \n",
       "2125    RT @Jay_Vizzy: @shanmcgowan_ Im not sexist, im just saying its wrong to lower the standards because those standards are implemented for com…\n",
       "4440    RT @sports2inflatio: Must put words in dead man;s mouth and claim all his work as #feminism 's #adviceforyoungfeminists ex:@HuffPostCanada …\n",
       "3763    Boyfriend just said , have a look on the thighs on that , she could play fullback #Nikki #mkr 😂😂😂                                           \n",
       "2074    RT @FeministFailure: #QuestionsForMen Are you aware that feminism is teaching women that men cannot experience sexism or discrimination? ht…\n",
       "1974    Karma is a b i t c h #mkr &gt; Kat                                                                                                          \n",
       "4151    RT @mykitchenrules: Come on #Barbie, let's go party! #KillerBlondes #MKR                                                                    \n",
       "2935    RT @Shermertron: Have you ever had a female judge outraged at you for not paying child support for someone else's kid?http://t.co/wdEv96Lr3…\n",
       "4854    @TheShujaatAli @PsychScientists Me, too. It was going perfect. Got him on record when he thought it was just women before showing him truth.\n",
       "Name: Text, dtype: object"
      ]
     },
     "execution_count": 5,
     "metadata": {},
     "output_type": "execute_result"
    }
   ],
   "source": [
    "df[df['Label'] == 'sexism'].sample(n=10)['Text']"
   ]
  },
  {
   "cell_type": "markdown",
   "metadata": {},
   "source": [
    "#### Label: Racism"
   ]
  },
  {
   "cell_type": "code",
   "execution_count": 6,
   "metadata": {
    "collapsed": false
   },
   "outputs": [
    {
     "data": {
      "text/plain": [
       "785     @sweden In fact many Muslim countries have the same odious laws as Daesh. This shows sex slaves are approved in KSA. http://t.co/rlwz0BqUBs\n",
       "1095    @MaxBlumenthal Here are the verses from Quran and Hadith proving genocidal aim of the Muslim biggots. http://t.co/pF8iwpdb1d               \n",
       "150     @NNdabbour64 I know the truth. It is 280 million citizens of the earth murdered by scum shouting \"Allahu Akbar\".                           \n",
       "1477    @buellerishere @KellyTurner99 @brushyblues So what is god's problem that he needs your submission? Is he an egotistical jerk?              \n",
       "1544    @buellerishere @KellyTurner99 The Muslim citizens of Raqqa enjoying a peaceful day of beating three men to death. http://t.co/ki4tdL3IDR   \n",
       "1345    RT @PhxKen: SIR WINSTON CHURCHHILL: \"ISLAM IS A DANGEROUS IN A MAN AS RABIES IN A DOG\" http://t.co/kCXgKD70SK                              \n",
       "684     @Hesiod2k11 @MaxBlumenthal @BlueDuPage If they were aligned with neo Nazis, the Muslims would love them.                                   \n",
       "343     @iAmCaticorn @CherguiaMbark The Hadiths are the Sunnah of the Prophet, microbrain. So you can't throw out the ones you don't like.         \n",
       "1420    @AlalamChannel ISIS continues their big successes against unarmed civilians. They just can't win a fight against anything but families.    \n",
       "492     @peymaneh123 @AnasMechch I don't see any burning civilians, and the picture is not even of a burning house.                                \n",
       "Name: Text, dtype: object"
      ]
     },
     "execution_count": 6,
     "metadata": {},
     "output_type": "execute_result"
    }
   ],
   "source": [
    "df[df['Label'] == 'racism'].sample(n=10)['Text']"
   ]
  },
  {
   "cell_type": "markdown",
   "metadata": {},
   "source": [
    "#### Label: None"
   ]
  },
  {
   "cell_type": "code",
   "execution_count": 7,
   "metadata": {
    "collapsed": false
   },
   "outputs": [
    {
     "data": {
      "text/plain": [
       "10910    Kat just loving the negative reviews. #MKR                                                                                                    \n",
       "14850    Kat &amp; André your PATHETIC #nomoresoseforyou #fuckwits #mkr                                                                                \n",
       "11063    Go Manu! #mkr                                                                                                                                 \n",
       "15498    @watan71969 @s_rsantorini630 @pari_passu Seen that crap. It's lies. For example, there were never more than 5 million American Imdians.       \n",
       "11626    17? as much as i didn't like katie &amp; nikki in their first episode, i've begun to hate kat &amp; andre so much more over the last week #mkr\n",
       "12251    http://t.co/vSObneH81v                                                                                                                        \n",
       "6738     RT @tyres2u I'm not sexist but couldn't help laugh at this #sorryladies http://t.co/OfpxSA8smT                                                \n",
       "11056    RT @jlgimenez85: #mkr Annie- go ahead, punch her in the ovaries!                                                                              \n",
       "10352    Things I hate: Installers that require a restart and then trigger the restart when I hit finish. No I do not want to restart right now tyvm   \n",
       "10797    @daarulislam_com Racism in Islam. http://t.co/c897nnkBMO                                                                                      \n",
       "Name: Text, dtype: object"
      ]
     },
     "execution_count": 7,
     "metadata": {},
     "output_type": "execute_result"
    }
   ],
   "source": [
    "df[df['Label'] == 'none'].sample(n=10)['Text']"
   ]
  },
  {
   "cell_type": "markdown",
   "metadata": {},
   "source": [
    "### 2. Waseem, NLP and CSS 2016"
   ]
  },
  {
   "cell_type": "code",
   "execution_count": 8,
   "metadata": {
    "collapsed": false
   },
   "outputs": [],
   "source": [
    "df2 = pd.read_csv('./data/crawled/wassem_css.csv',\n",
    "                     sep=\"\\t\",\n",
    "                     header=None,\n",
    "                     skiprows=[0],\n",
    "                     names=[\"Tweet_ID\", \"Previous\", \"User_ID\", \"Text\", \"Expert_Label\", \"Amateur_Label\"],\n",
    "                     error_bad_lines=False)"
   ]
  },
  {
   "cell_type": "code",
   "execution_count": 9,
   "metadata": {
    "collapsed": false
   },
   "outputs": [
    {
     "data": {
      "text/html": [
       "<div>\n",
       "<table border=\"1\" class=\"dataframe\">\n",
       "  <thead>\n",
       "    <tr style=\"text-align: right;\">\n",
       "      <th></th>\n",
       "      <th>Tweet_ID</th>\n",
       "      <th>Previous</th>\n",
       "      <th>User_ID</th>\n",
       "      <th>Text</th>\n",
       "      <th>Expert_Label</th>\n",
       "      <th>Amateur_Label</th>\n",
       "    </tr>\n",
       "  </thead>\n",
       "  <tbody>\n",
       "    <tr>\n",
       "      <th>count</th>\n",
       "      <td>6.667000e+03</td>\n",
       "      <td>3.564000e+03</td>\n",
       "      <td>6.667000e+03</td>\n",
       "      <td>6667</td>\n",
       "      <td>6667</td>\n",
       "      <td>6667</td>\n",
       "    </tr>\n",
       "    <tr>\n",
       "      <th>unique</th>\n",
       "      <td>NaN</td>\n",
       "      <td>NaN</td>\n",
       "      <td>NaN</td>\n",
       "      <td>6667</td>\n",
       "      <td>4</td>\n",
       "      <td>150</td>\n",
       "    </tr>\n",
       "    <tr>\n",
       "      <th>top</th>\n",
       "      <td>NaN</td>\n",
       "      <td>NaN</td>\n",
       "      <td>NaN</td>\n",
       "      <td>@thricedotted I started getting my period after *years* of not having it and I thought I was dying. Buying tampons confuses me too.</td>\n",
       "      <td>neither</td>\n",
       "      <td>[neither,neither,neither]</td>\n",
       "    </tr>\n",
       "    <tr>\n",
       "      <th>freq</th>\n",
       "      <td>NaN</td>\n",
       "      <td>NaN</td>\n",
       "      <td>NaN</td>\n",
       "      <td>1</td>\n",
       "      <td>5729</td>\n",
       "      <td>4215</td>\n",
       "    </tr>\n",
       "    <tr>\n",
       "      <th>mean</th>\n",
       "      <td>5.770472e+17</td>\n",
       "      <td>5.768513e+17</td>\n",
       "      <td>2.585746e+08</td>\n",
       "      <td>NaN</td>\n",
       "      <td>NaN</td>\n",
       "      <td>NaN</td>\n",
       "    </tr>\n",
       "    <tr>\n",
       "      <th>std</th>\n",
       "      <td>1.447716e+16</td>\n",
       "      <td>1.369519e+16</td>\n",
       "      <td>6.929351e+08</td>\n",
       "      <td>NaN</td>\n",
       "      <td>NaN</td>\n",
       "      <td>NaN</td>\n",
       "    </tr>\n",
       "    <tr>\n",
       "      <th>min</th>\n",
       "      <td>3.193999e+17</td>\n",
       "      <td>3.241139e+17</td>\n",
       "      <td>8.577610e+05</td>\n",
       "      <td>NaN</td>\n",
       "      <td>NaN</td>\n",
       "      <td>NaN</td>\n",
       "    </tr>\n",
       "    <tr>\n",
       "      <th>25%</th>\n",
       "      <td>5.682742e+17</td>\n",
       "      <td>5.670718e+17</td>\n",
       "      <td>1.385734e+07</td>\n",
       "      <td>NaN</td>\n",
       "      <td>NaN</td>\n",
       "      <td>NaN</td>\n",
       "    </tr>\n",
       "    <tr>\n",
       "      <th>50%</th>\n",
       "      <td>5.723475e+17</td>\n",
       "      <td>5.728788e+17</td>\n",
       "      <td>1.385734e+07</td>\n",
       "      <td>NaN</td>\n",
       "      <td>NaN</td>\n",
       "      <td>NaN</td>\n",
       "    </tr>\n",
       "    <tr>\n",
       "      <th>75%</th>\n",
       "      <td>5.895577e+17</td>\n",
       "      <td>5.944008e+17</td>\n",
       "      <td>1.385734e+07</td>\n",
       "      <td>NaN</td>\n",
       "      <td>NaN</td>\n",
       "      <td>NaN</td>\n",
       "    </tr>\n",
       "    <tr>\n",
       "      <th>max</th>\n",
       "      <td>6.183671e+17</td>\n",
       "      <td>6.036935e+17</td>\n",
       "      <td>3.294745e+09</td>\n",
       "      <td>NaN</td>\n",
       "      <td>NaN</td>\n",
       "      <td>NaN</td>\n",
       "    </tr>\n",
       "  </tbody>\n",
       "</table>\n",
       "</div>"
      ],
      "text/plain": [
       "            Tweet_ID      Previous       User_ID  \\\n",
       "count   6.667000e+03  3.564000e+03  6.667000e+03   \n",
       "unique NaN           NaN           NaN             \n",
       "top    NaN           NaN           NaN             \n",
       "freq   NaN           NaN           NaN             \n",
       "mean    5.770472e+17  5.768513e+17  2.585746e+08   \n",
       "std     1.447716e+16  1.369519e+16  6.929351e+08   \n",
       "min     3.193999e+17  3.241139e+17  8.577610e+05   \n",
       "25%     5.682742e+17  5.670718e+17  1.385734e+07   \n",
       "50%     5.723475e+17  5.728788e+17  1.385734e+07   \n",
       "75%     5.895577e+17  5.944008e+17  1.385734e+07   \n",
       "max     6.183671e+17  6.036935e+17  3.294745e+09   \n",
       "\n",
       "                                                                                                                                       Text  \\\n",
       "count   6667                                                                                                                                  \n",
       "unique  6667                                                                                                                                  \n",
       "top     @thricedotted I started getting my period after *years* of not having it and I thought I was dying. Buying tampons confuses me too.   \n",
       "freq    1                                                                                                                                     \n",
       "mean    NaN                                                                                                                                   \n",
       "std     NaN                                                                                                                                   \n",
       "min     NaN                                                                                                                                   \n",
       "25%     NaN                                                                                                                                   \n",
       "50%     NaN                                                                                                                                   \n",
       "75%     NaN                                                                                                                                   \n",
       "max     NaN                                                                                                                                   \n",
       "\n",
       "       Expert_Label              Amateur_Label  \n",
       "count   6667         6667                       \n",
       "unique  4            150                        \n",
       "top     neither      [neither,neither,neither]  \n",
       "freq    5729         4215                       \n",
       "mean    NaN          NaN                        \n",
       "std     NaN          NaN                        \n",
       "min     NaN          NaN                        \n",
       "25%     NaN          NaN                        \n",
       "50%     NaN          NaN                        \n",
       "75%     NaN          NaN                        \n",
       "max     NaN          NaN                        "
      ]
     },
     "execution_count": 9,
     "metadata": {},
     "output_type": "execute_result"
    }
   ],
   "source": [
    "df2.describe(include='all')"
   ]
  },
  {
   "cell_type": "code",
   "execution_count": 10,
   "metadata": {
    "collapsed": false
   },
   "outputs": [
    {
     "data": {
      "text/plain": [
       "neither    5729\n",
       "sexism     815 \n",
       "racism     88  \n",
       "both       35  \n",
       "Name: Expert_Label, dtype: int64"
      ]
     },
     "execution_count": 10,
     "metadata": {},
     "output_type": "execute_result"
    }
   ],
   "source": [
    "%matplotlib inline\n",
    "df2['Expert_Label'].value_counts()"
   ]
  },
  {
   "cell_type": "markdown",
   "metadata": {},
   "source": [
    "#### Label: Sexism"
   ]
  },
  {
   "cell_type": "code",
   "execution_count": 11,
   "metadata": {
    "collapsed": false
   },
   "outputs": [
    {
     "data": {
      "text/plain": [
       "584    Feminazi Blog Reminds Liberals Today Is “National Day of Appreciation for Abortion Providers”… http://t.co/s6TAAOT8rp via @WeaselZippers    \n",
       "506    Everytime I see someone share a Feminazi post I get one step closer to having a heart attack 🌋 You need to CHECK YOURSELF                   \n",
       "357    @ChrisWarcraft @alexlifschitz prove it. WHERE IS THE PROOF???                                                                               \n",
       "397    @mymenarche @McIncount2 @LeighDrunkClown @CHOBITCOIN @keozeo According to who? The feminazi gestapo?                                        \n",
       "488    What? #NotAllMen is evolving! #NotAllMen evolved into #BlameOneNotAll!                                                                      \n",
       "866    #feminismisawful #feminazi Why are #feminists obsessed with penises and rape? Is this Penis Envy writ large?                                \n",
       "701    I know this isn't a popular opinion among the femiNAZI PC police, but I think women should get equal pay for equal work.                    \n",
       "921    @keck1157 @SahilCDesai @TooSexist His name is #Feminazi                                                                                     \n",
       "187    RT @11thEarl: Priceless that #BringBackClarkson got more petitioners in a day than #feminazi - led #NoMorePage3 got in 3 years...oh the del…\n",
       "731    RT @jimdwrench: @lindarutter Feminazi?                                                                                                      \n",
       "Name: Text, dtype: object"
      ]
     },
     "execution_count": 11,
     "metadata": {},
     "output_type": "execute_result"
    }
   ],
   "source": [
    "df2[df2['Expert_Label'] == 'sexism'].sample(n=10)['Text']"
   ]
  },
  {
   "cell_type": "markdown",
   "metadata": {},
   "source": [
    "#### Label: Racism"
   ]
  },
  {
   "cell_type": "code",
   "execution_count": 12,
   "metadata": {
    "collapsed": false
   },
   "outputs": [
    {
     "data": {
      "text/plain": [
       "37     #beachbodyready http://t.co/nTAnxTG50h                                                                                                      \n",
       "64     RT @SwiftOnSecurity: Kids these days will never know open WiFi with everything going over HTTP. And net send. Oh my god. net send. What glo…\n",
       "87     @Lilcruz2 you really tryna get me in trouble on twitter😂😂😂 #coon                                                                            \n",
       "55     don't try to turn this into an immigration issue. we could care less where he's from. we don't want him to speak for us. @triggerasaurus    \n",
       "118    RT @BigCouzsRevenge: @DCHiCO23 #TommySotomayor is a suicidal self hating #coon who wanted to kill himself when his white woman dumped him   \n",
       "59     RT @vex0rian: #BlameOneNotAll because the problem is clearly not systemic at all. That's why all problems ended 1000 years ago when the onl…\n",
       "48     They warned me Australians were racist. Who knew they were this bad!! #wtf #coles #coon… https://t.co/tMgTG8hD5J                            \n",
       "60     This was in 2013 I didn't know bout it..Russell Simmons put out this garbage..fuck that #coon knew he… https://t.co/GZYG5GYRXb              \n",
       "114    @Dustin___Lee when you find him let me know so I can hunt him #coon                                                                         \n",
       "106    #Coon style #supercoon he said I work with some funny folks #coonstyle @Kettstyles71 https://t.co/shAENr6vFy                                \n",
       "Name: Text, dtype: object"
      ]
     },
     "execution_count": 12,
     "metadata": {},
     "output_type": "execute_result"
    }
   ],
   "source": [
    "df2[df2['Expert_Label'] == 'racism'].sample(n=10)['Text']"
   ]
  },
  {
   "cell_type": "markdown",
   "metadata": {},
   "source": [
    "#### Label: Both"
   ]
  },
  {
   "cell_type": "code",
   "execution_count": 13,
   "metadata": {
    "collapsed": false
   },
   "outputs": [
    {
     "data": {
      "text/plain": [
       "9     Whoever you're TOLD you're #persecuting, are persecuting YOU. eg #LGBT #Feminazi, Ashkenazi fake Jews [#JEWFS] http://t.co/GCMR2KgIWA            \n",
       "16    @Amb_MSteiner #GermanProfessor gives meaning to term FemiNazi.Doesn't hire Indian Men bcz of Indias's Rape Problem. http://t.co/zyvMzmeEA6 …     \n",
       "22    If you're a #Masochist #StayAndEndure #Feminazi #Fags #Pigs &amp; #Paedophiles, whilst #Jewfs #Genocide you http://t.co/bbVLXjmyGE               \n",
       "24    Erol exposes the #Feminazi groomed by Zionist Jews to join them in hell, for eternity, as #misery craves company &gt;&gt; https://t.co/2ootOyI4gj\n",
       "17    @Xander756 To sum it up. I hate twitter. But only reason to come on is to try and get SJW's/feminazi's to think about the things they say.       \n",
       "34    That Moment When A Female Call You A #Coon .. With A Head Full Of Fμ©k¡N #Weave 󾌭󾌭󾌭                                                              \n",
       "21    @BrownBagPantry I get your frustrations. Really, I do. I deal with the same stuff every day on my own account.                                   \n",
       "1     @ThelmaSleaze uh... did you watch the video? one of the women talked about how it's assumed she's angry because she's latina.                    \n",
       "30    Someone that will be like, \"Randi, put down the toffee. You're going to get a stomach ache.\" I have a stomach ache.                              \n",
       "15    &lt;tsui-ji&gt; gyl: go into #asian and tell em you are white, have muscles and drive a nice car and mad chicks will msg you                     \n",
       "Name: Text, dtype: object"
      ]
     },
     "execution_count": 13,
     "metadata": {},
     "output_type": "execute_result"
    }
   ],
   "source": [
    "df2[df2['Expert_Label'] == 'both'].sample(n=10)['Text']"
   ]
  },
  {
   "cell_type": "code",
   "execution_count": 14,
   "metadata": {
    "collapsed": false
   },
   "outputs": [
    {
     "data": {
      "text/plain": [
       "1426    Y'know, I get the appeal of group acceptance. Most people need attention, but some go to shady places to get it.     \n",
       "4033    countdown to more companies following suit after seeing the way that was handled.                                    \n",
       "2345    @jonrosenberg what are your thoughts on attaching a comic as a image to tweet, with attribution to source url/author?\n",
       "1533    RT @Popehat: @sarahjeong wtf is going on                                                                             \n",
       "3204    @andykhouri mad props to @comicsalliance. Well done.                                                                 \n",
       "1795    Nikki...Kermit the frog called and he wants his voice back #MKR #MKR2015 #KillerBlondes @mykitchenrules              \n",
       "5227    @RaikonL @finaleve @mja333 heheheh. literal wrangling of butts.                                                      \n",
       "1038    RT @jilevin: Here's where Rush Limbaugh is wrong in his use of the term, \"feminazi\": http://t.co/5pjX7nC96h          \n",
       "5986    What if my skin is so white it glows, and I've got blue hair? #ladylike http://t.co/s2FphAPE9S                       \n",
       "6647    Got called a FemiNazi today... Is it so wrong to want gender equality? #feminist                                     \n",
       "Name: Text, dtype: object"
      ]
     },
     "execution_count": 14,
     "metadata": {},
     "output_type": "execute_result"
    }
   ],
   "source": [
    "df2[df2['Expert_Label'] == 'neither'].sample(n=10)['Text']"
   ]
  },
  {
   "cell_type": "code",
   "execution_count": 15,
   "metadata": {
    "collapsed": false
   },
   "outputs": [
    {
     "data": {
      "text/plain": [
       "3998"
      ]
     },
     "execution_count": 15,
     "metadata": {},
     "output_type": "execute_result"
    }
   ],
   "source": [
    "df[df['Label'] == 'sexism'][\"Text\"].count() + df2[df2['Expert_Label'] == 'sexism'][\"Text\"].count() + df2[df2['Expert_Label'] == 'both'][\"Text\"].count()"
   ]
  },
  {
   "cell_type": "code",
   "execution_count": 16,
   "metadata": {
    "collapsed": false
   },
   "outputs": [
    {
     "data": {
      "text/plain": [
       "2062"
      ]
     },
     "execution_count": 16,
     "metadata": {},
     "output_type": "execute_result"
    }
   ],
   "source": [
    "df[df['Label'] == 'racism'][\"Text\"].count() + df2[df2['Expert_Label'] == 'racism'][\"Text\"].count() + df2[df2['Expert_Label'] == 'both'][\"Text\"].count()"
   ]
  },
  {
   "cell_type": "code",
   "execution_count": 17,
   "metadata": {
    "collapsed": false
   },
   "outputs": [
    {
     "data": {
      "text/plain": [
       "16844"
      ]
     },
     "execution_count": 17,
     "metadata": {},
     "output_type": "execute_result"
    }
   ],
   "source": [
    "df[df['Label'] == 'none'][\"Text\"].count() + df2[df2['Expert_Label'] == 'neither'][\"Text\"].count()"
   ]
  },
  {
   "cell_type": "markdown",
   "metadata": {
    "collapsed": true
   },
   "source": [
    "## Preprocessing"
   ]
  },
  {
   "cell_type": "code",
   "execution_count": 18,
   "metadata": {
    "collapsed": false
   },
   "outputs": [
    {
     "ename": "ImportError",
     "evalue": "No module named 'preprocess'",
     "output_type": "error",
     "traceback": [
      "\u001b[0;31m---------------------------------------------------------------------------\u001b[0m",
      "\u001b[0;31mImportError\u001b[0m                               Traceback (most recent call last)",
      "\u001b[0;32m<ipython-input-18-55d46a8995ff>\u001b[0m in \u001b[0;36m<module>\u001b[0;34m()\u001b[0m\n\u001b[0;32m----> 1\u001b[0;31m \u001b[0;32mfrom\u001b[0m \u001b[0mpreprocess\u001b[0m \u001b[0;32mimport\u001b[0m \u001b[0mpreprocess_tweet\u001b[0m\u001b[0;34m\u001b[0m\u001b[0m\n\u001b[0m",
      "\u001b[0;31mImportError\u001b[0m: No module named 'preprocess'"
     ]
    }
   ],
   "source": [
    "from preprocess import preprocess_tweet"
   ]
  },
  {
   "cell_type": "code",
   "execution_count": null,
   "metadata": {
    "collapsed": false
   },
   "outputs": [],
   "source": [
    "samples = df.sample(n=100)\n",
    "\n",
    "for i, row in samples.iterrows():\n",
    "    tweet = row['Text']\n",
    "    print(tweet)\n",
    "    print(preprocess_tweet(tweet) + \"\\n\")"
   ]
  },
  {
   "cell_type": "code",
   "execution_count": null,
   "metadata": {
    "collapsed": false
   },
   "outputs": [],
   "source": [
    "l = pd.concat([df[df['Label'] == 'sexism']['Text'], df2[df2['Expert_Label'] == 'sexism']['Text'], df2[df2['Expert_Label'] == 'both']['Text']])"
   ]
  },
  {
   "cell_type": "code",
   "execution_count": null,
   "metadata": {
    "collapsed": false
   },
   "outputs": [],
   "source": [
    "def dataframe_to_list(df):\n",
    "    df = df.drop_duplicates()\n",
    "    result = list(map(lambda x: preprocess_tweet(x), df.tolist()))\n",
    "    return list(filter(lambda x: x, result)) # filter out empty string"
   ]
  },
  {
   "cell_type": "code",
   "execution_count": null,
   "metadata": {
    "collapsed": false
   },
   "outputs": [],
   "source": [
    "l = l.sample(n=10)"
   ]
  },
  {
   "cell_type": "code",
   "execution_count": null,
   "metadata": {
    "collapsed": false
   },
   "outputs": [],
   "source": [
    "l"
   ]
  },
  {
   "cell_type": "code",
   "execution_count": null,
   "metadata": {
    "collapsed": false
   },
   "outputs": [],
   "source": [
    "dataframe_to_list(l)"
   ]
  },
  {
   "cell_type": "code",
   "execution_count": null,
   "metadata": {
    "collapsed": true
   },
   "outputs": [],
   "source": []
  }
 ],
 "metadata": {
  "anaconda-cloud": {},
  "kernelspec": {
   "display_name": "Python 3",
   "language": "python",
   "name": "python3"
  },
  "language_info": {
   "codemirror_mode": {
    "name": "ipython",
    "version": 3
   },
   "file_extension": ".py",
   "mimetype": "text/x-python",
   "name": "python",
   "nbconvert_exporter": "python",
   "pygments_lexer": "ipython3",
   "version": "3.4.5"
  }
 },
 "nbformat": 4,
 "nbformat_minor": 1
}
