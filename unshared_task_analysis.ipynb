{
 "cells": [
  {
   "cell_type": "markdown",
   "metadata": {},
   "source": [
    "# ALW1: 1st Workshop on Abusive Language Online \n",
    "to be held at the annual meeting of the Association of Computational Linguistics (ACL) 2017 (Vancouver, Canada),\n",
    "https://sites.google.com/site/abusivelanguageworkshop2017/home\n",
    "\n",
    "## Important dates\n",
    "\n",
    "Submission due: April 27th\n",
    "Author Notification: May 17th\n",
    "Camera Ready: May 26th\n",
    "Workshop Date: August 4th\n",
    "\n",
    "## Unshared Task Dataset Analysis"
   ]
  },
  {
   "cell_type": "markdown",
   "metadata": {},
   "source": [
    "### 1. Waseem and Hovy, NAACL 2016"
   ]
  },
  {
   "cell_type": "code",
   "execution_count": 1,
   "metadata": {
    "collapsed": true
   },
   "outputs": [],
   "source": [
    "import pandas as pd\n",
    "pd.set_option('display.max_colwidth', -1)"
   ]
  },
  {
   "cell_type": "code",
   "execution_count": 2,
   "metadata": {
    "collapsed": false
   },
   "outputs": [],
   "source": [
    "df = pd.read_csv('./data/crawled/wassem_hovy_naacl.csv',\n",
    "                     sep=\"\\t\",\n",
    "                     header=None,\n",
    "                     skiprows=[0],\n",
    "                     names=[\"Tweet_ID\", \"Previous\", \"User_ID\", \"Text\", \"Label\"],\n",
    "                     error_bad_lines=False)"
   ]
  },
  {
   "cell_type": "code",
   "execution_count": 3,
   "metadata": {
    "collapsed": false
   },
   "outputs": [
    {
     "data": {
      "text/html": [
       "<div>\n",
       "<table border=\"1\" class=\"dataframe\">\n",
       "  <thead>\n",
       "    <tr style=\"text-align: right;\">\n",
       "      <th></th>\n",
       "      <th>Tweet_ID</th>\n",
       "      <th>Previous</th>\n",
       "      <th>User_ID</th>\n",
       "      <th>Text</th>\n",
       "      <th>Label</th>\n",
       "    </tr>\n",
       "  </thead>\n",
       "  <tbody>\n",
       "    <tr>\n",
       "      <th>count</th>\n",
       "      <td>1.620200e+04</td>\n",
       "      <td>7.687000e+03</td>\n",
       "      <td>1.620200e+04</td>\n",
       "      <td>16202</td>\n",
       "      <td>16202</td>\n",
       "    </tr>\n",
       "    <tr>\n",
       "      <th>unique</th>\n",
       "      <td>NaN</td>\n",
       "      <td>NaN</td>\n",
       "      <td>NaN</td>\n",
       "      <td>16202</td>\n",
       "      <td>3</td>\n",
       "    </tr>\n",
       "    <tr>\n",
       "      <th>top</th>\n",
       "      <td>NaN</td>\n",
       "      <td>NaN</td>\n",
       "      <td>NaN</td>\n",
       "      <td>\"Do you think the other teams are going to pick on the pretty girls tonight?\" Are there some other girls coming to dinner? #MKR</td>\n",
       "      <td>none</td>\n",
       "    </tr>\n",
       "    <tr>\n",
       "      <th>freq</th>\n",
       "      <td>NaN</td>\n",
       "      <td>NaN</td>\n",
       "      <td>NaN</td>\n",
       "      <td>1</td>\n",
       "      <td>11115</td>\n",
       "    </tr>\n",
       "    <tr>\n",
       "      <th>mean</th>\n",
       "      <td>5.570068e+17</td>\n",
       "      <td>5.538049e+17</td>\n",
       "      <td>1.347147e+09</td>\n",
       "      <td>NaN</td>\n",
       "      <td>NaN</td>\n",
       "    </tr>\n",
       "    <tr>\n",
       "      <th>std</th>\n",
       "      <td>3.764030e+16</td>\n",
       "      <td>3.975646e+16</td>\n",
       "      <td>1.277989e+09</td>\n",
       "      <td>NaN</td>\n",
       "      <td>NaN</td>\n",
       "    </tr>\n",
       "    <tr>\n",
       "      <th>min</th>\n",
       "      <td>3.193999e+17</td>\n",
       "      <td>3.241139e+17</td>\n",
       "      <td>2.105021e+06</td>\n",
       "      <td>NaN</td>\n",
       "      <td>NaN</td>\n",
       "    </tr>\n",
       "    <tr>\n",
       "      <th>25%</th>\n",
       "      <td>5.627451e+17</td>\n",
       "      <td>5.597213e+17</td>\n",
       "      <td>1.970792e+07</td>\n",
       "      <td>NaN</td>\n",
       "      <td>NaN</td>\n",
       "    </tr>\n",
       "    <tr>\n",
       "      <th>50%</th>\n",
       "      <td>5.696500e+17</td>\n",
       "      <td>5.659425e+17</td>\n",
       "      <td>9.306205e+08</td>\n",
       "      <td>NaN</td>\n",
       "      <td>NaN</td>\n",
       "    </tr>\n",
       "    <tr>\n",
       "      <th>75%</th>\n",
       "      <td>5.750016e+17</td>\n",
       "      <td>5.723631e+17</td>\n",
       "      <td>2.941146e+09</td>\n",
       "      <td>NaN</td>\n",
       "      <td>NaN</td>\n",
       "    </tr>\n",
       "    <tr>\n",
       "      <th>max</th>\n",
       "      <td>6.183671e+17</td>\n",
       "      <td>5.767807e+17</td>\n",
       "      <td>3.079113e+09</td>\n",
       "      <td>NaN</td>\n",
       "      <td>NaN</td>\n",
       "    </tr>\n",
       "  </tbody>\n",
       "</table>\n",
       "</div>"
      ],
      "text/plain": [
       "            Tweet_ID      Previous       User_ID  \\\n",
       "count   1.620200e+04  7.687000e+03  1.620200e+04   \n",
       "unique NaN           NaN           NaN             \n",
       "top    NaN           NaN           NaN             \n",
       "freq   NaN           NaN           NaN             \n",
       "mean    5.570068e+17  5.538049e+17  1.347147e+09   \n",
       "std     3.764030e+16  3.975646e+16  1.277989e+09   \n",
       "min     3.193999e+17  3.241139e+17  2.105021e+06   \n",
       "25%     5.627451e+17  5.597213e+17  1.970792e+07   \n",
       "50%     5.696500e+17  5.659425e+17  9.306205e+08   \n",
       "75%     5.750016e+17  5.723631e+17  2.941146e+09   \n",
       "max     6.183671e+17  5.767807e+17  3.079113e+09   \n",
       "\n",
       "                                                                                                                                   Text  \\\n",
       "count   16202                                                                                                                             \n",
       "unique  16202                                                                                                                             \n",
       "top     \"Do you think the other teams are going to pick on the pretty girls tonight?\" Are there some other girls coming to dinner? #MKR   \n",
       "freq    1                                                                                                                                 \n",
       "mean    NaN                                                                                                                               \n",
       "std     NaN                                                                                                                               \n",
       "min     NaN                                                                                                                               \n",
       "25%     NaN                                                                                                                               \n",
       "50%     NaN                                                                                                                               \n",
       "75%     NaN                                                                                                                               \n",
       "max     NaN                                                                                                                               \n",
       "\n",
       "        Label  \n",
       "count   16202  \n",
       "unique  3      \n",
       "top     none   \n",
       "freq    11115  \n",
       "mean    NaN    \n",
       "std     NaN    \n",
       "min     NaN    \n",
       "25%     NaN    \n",
       "50%     NaN    \n",
       "75%     NaN    \n",
       "max     NaN    "
      ]
     },
     "execution_count": 3,
     "metadata": {},
     "output_type": "execute_result"
    }
   ],
   "source": [
    "df.describe(include='all')"
   ]
  },
  {
   "cell_type": "code",
   "execution_count": 4,
   "metadata": {
    "collapsed": false
   },
   "outputs": [
    {
     "data": {
      "text/plain": [
       "<matplotlib.axes._subplots.AxesSubplot at 0x7f8ff8b3c0b8>"
      ]
     },
     "execution_count": 4,
     "metadata": {},
     "output_type": "execute_result"
    },
    {
     "data": {
      "image/png": "[encoded data removed]",
      "text/plain": [
       "<matplotlib.figure.Figure at 0x7f9002a78a58>"
      ]
     },
     "metadata": {},
     "output_type": "display_data"
    }
   ],
   "source": [
    "import matplotlib.pyplot as plt\n",
    "\n",
    "%matplotlib inline\n",
    "df['Label'].value_counts().plot(kind=\"bar\")"
   ]
  },
  {
   "cell_type": "markdown",
   "metadata": {},
   "source": [
    "#### Label: Sexism "
   ]
  },
  {
   "cell_type": "code",
   "execution_count": 5,
   "metadata": {
    "collapsed": false
   },
   "outputs": [
    {
     "data": {
      "text/plain": [
       "3620    RT @randomfox: #ManSpreading #FeminismIsAwful #WomenAgainstFeminism http://t.co/fuQj7C0Wbt                                      \n",
       "4765    RT @pmb527: #GamerGate obviously Madden is a sexist video game series that refuses to add female characters. #TweetLikeAFeminist\n",
       "2861    Fuck cat u are even uglier when u smile u bbbbitch #mkr                                                                         \n",
       "2866    RT @ThanhLachowsky call me sexist, but i hate to hear girls argue bout sports                                                   \n",
       "4454    RT @Masterbatker: I hate her so much RT @Mini_Khoza: Masterbatker I'm not sexist, but fuck that lady. She's awful.              \n",
       "4533    I think it was Nikki and Katie's modesty that made them so appealing #mkr                                                       \n",
       "3077    #katandandre need to stop. Kat can't cook, and her personality is shit. #mkr #mkr2015                                           \n",
       "4032    I HATE KAT SO MUCH #mkr                                                                                                         \n",
       "2849    @NotThelastMAybe No idea. I just collect them randomly as I find them.                                                          \n",
       "2725    What’s more important your looks or your food? #mkr                                                                             \n",
       "Name: Text, dtype: object"
      ]
     },
     "execution_count": 5,
     "metadata": {},
     "output_type": "execute_result"
    }
   ],
   "source": [
    "df[df['Label'] == 'sexism'].sample(n=10)['Text']"
   ]
  },
  {
   "cell_type": "markdown",
   "metadata": {},
   "source": [
    "#### Label: Racism"
   ]
  },
  {
   "cell_type": "code",
   "execution_count": 6,
   "metadata": {
    "collapsed": false
   },
   "outputs": [
    {
     "data": {
      "text/plain": [
       "1358    RT @stardust193: Australian Preacher Incites to Jihad against the Jews: \"They Are the Most Evil Creatures of Allah\" #Australia #Islam https…\n",
       "1641    @Don_Omar_Ar One of the vile things about Islam is that it murders people for exercising their freedom of speech.                           \n",
       "280     @Qoloob4 @Vandaliser @sajid_fairooz @IsraeliRegime Muslims rape and enslave 3000 Ezidi women who did nothing and you give me this?          \n",
       "454     RT @BenCohenOpinion: Neo-Nazis and Holocaust deniers adore @MaxBlumenthal because he thinks just like them. More @tabletmag http://t.co/bnO…\n",
       "1530    @harmlesstree2 The Muslim societies that managed to survive were brutal slave societies where they lived off the labor of slaves and women. \n",
       "976     @halalcunty @biebervalue @liamxkiwi @greenlinerzjm @halalflaws I dont have to live there to know you can't leave house without male relative\n",
       "1458    @hal2012 @GerardGeorges4 @PentagonPresSec Still, my preference is to outlaw Islam globally, not to kill all Muslims.                        \n",
       "39      @DrHaque @MaxBlumenthal @NYCJulieNYC @mehdirhasan @tnr Yes, ISIS defames Islam by following it to the letter. http://t.co/DoNlOQYGYJ        \n",
       "1192    @discerningmumin Islam has Hadiths that tell you what hand to use to wipe your ass. There is zero room for individualism in it.             \n",
       "332     @Qoloob4 @Vandaliser @sajid_fairooz @IsraeliRegime You only have to count the corpses to see that Islamic extremism is widespread.Jewish not\n",
       "Name: Text, dtype: object"
      ]
     },
     "execution_count": 6,
     "metadata": {},
     "output_type": "execute_result"
    }
   ],
   "source": [
    "df[df['Label'] == 'racism'].sample(n=10)['Text']"
   ]
  },
  {
   "cell_type": "markdown",
   "metadata": {},
   "source": [
    "#### Label: None"
   ]
  },
  {
   "cell_type": "code",
   "execution_count": 7,
   "metadata": {
    "collapsed": false
   },
   "outputs": [
    {
     "data": {
      "text/plain": [
       "10821    @Ammaawah @jm111t We are talking about what Mohammed believed and is therefore a part of Islam.                                             \n",
       "7126     @faheem394 You are a Taquiyya liar. Islam means submission, not peace.                                                                      \n",
       "6441     @JWYoder sent to my reading list for later. Thank you :)                                                                                    \n",
       "9828     RT @mshaysoul: Haha http://t.co/nEammrwdEX                                                                                                  \n",
       "9184     Sorry #killerblondes but you are a long LONG way from refined. #mkr                                                                         \n",
       "5582     I try to make a habit out of not responding to their conspiracy theories, but that one was too funny not to share. :)                       \n",
       "10623    Since I'm joining the startup scene, it seems like a bad thing that I'm looking forward to season 2 of Silicon Valley. But it looks SO GOOD.\n",
       "10247    Kat and Andre are f@&amp;$ing wankers!!! Hope they burn themselves next round! Revenge is a dish best served cold! #mkr #Reallyaone         \n",
       "13451    @themanclaw ...and yet...                                                                                                                   \n",
       "5947     Dave and Rob playing it safe #mkr @mkr #ShakeNBake http://t.co/zDpbAMhxr4                                                                   \n",
       "Name: Text, dtype: object"
      ]
     },
     "execution_count": 7,
     "metadata": {},
     "output_type": "execute_result"
    }
   ],
   "source": [
    "df[df['Label'] == 'none'].sample(n=10)['Text']"
   ]
  },
  {
   "cell_type": "markdown",
   "metadata": {},
   "source": [
    "### 2. Waseem, NLP and CSS 2016"
   ]
  },
  {
   "cell_type": "code",
   "execution_count": 8,
   "metadata": {
    "collapsed": false
   },
   "outputs": [],
   "source": [
    "df2 = pd.read_csv('./data/crawled/wassem_css.csv',\n",
    "                     sep=\"\\t\",\n",
    "                     header=None,\n",
    "                     skiprows=[0],\n",
    "                     names=[\"Tweet_ID\", \"Previous\", \"User_ID\", \"Text\", \"Expert_Label\", \"Amateur_Label\"],\n",
    "                     error_bad_lines=False)"
   ]
  },
  {
   "cell_type": "code",
   "execution_count": 9,
   "metadata": {
    "collapsed": false
   },
   "outputs": [
    {
     "data": {
      "text/html": [
       "<div>\n",
       "<table border=\"1\" class=\"dataframe\">\n",
       "  <thead>\n",
       "    <tr style=\"text-align: right;\">\n",
       "      <th></th>\n",
       "      <th>Tweet_ID</th>\n",
       "      <th>Previous</th>\n",
       "      <th>User_ID</th>\n",
       "      <th>Text</th>\n",
       "      <th>Expert_Label</th>\n",
       "      <th>Amateur_Label</th>\n",
       "    </tr>\n",
       "  </thead>\n",
       "  <tbody>\n",
       "    <tr>\n",
       "      <th>count</th>\n",
       "      <td>6.667000e+03</td>\n",
       "      <td>3.564000e+03</td>\n",
       "      <td>6.667000e+03</td>\n",
       "      <td>6667</td>\n",
       "      <td>6667</td>\n",
       "      <td>6667</td>\n",
       "    </tr>\n",
       "    <tr>\n",
       "      <th>unique</th>\n",
       "      <td>NaN</td>\n",
       "      <td>NaN</td>\n",
       "      <td>NaN</td>\n",
       "      <td>6667</td>\n",
       "      <td>4</td>\n",
       "      <td>150</td>\n",
       "    </tr>\n",
       "    <tr>\n",
       "      <th>top</th>\n",
       "      <td>NaN</td>\n",
       "      <td>NaN</td>\n",
       "      <td>NaN</td>\n",
       "      <td>and i used to be a tech evangelist. i have some idea of how the press works, but thanks for the clear examples of mansplaining.</td>\n",
       "      <td>neither</td>\n",
       "      <td>[neither,neither,neither]</td>\n",
       "    </tr>\n",
       "    <tr>\n",
       "      <th>freq</th>\n",
       "      <td>NaN</td>\n",
       "      <td>NaN</td>\n",
       "      <td>NaN</td>\n",
       "      <td>1</td>\n",
       "      <td>5729</td>\n",
       "      <td>4215</td>\n",
       "    </tr>\n",
       "    <tr>\n",
       "      <th>mean</th>\n",
       "      <td>5.770472e+17</td>\n",
       "      <td>5.768513e+17</td>\n",
       "      <td>2.585746e+08</td>\n",
       "      <td>NaN</td>\n",
       "      <td>NaN</td>\n",
       "      <td>NaN</td>\n",
       "    </tr>\n",
       "    <tr>\n",
       "      <th>std</th>\n",
       "      <td>1.447716e+16</td>\n",
       "      <td>1.369519e+16</td>\n",
       "      <td>6.929351e+08</td>\n",
       "      <td>NaN</td>\n",
       "      <td>NaN</td>\n",
       "      <td>NaN</td>\n",
       "    </tr>\n",
       "    <tr>\n",
       "      <th>min</th>\n",
       "      <td>3.193999e+17</td>\n",
       "      <td>3.241139e+17</td>\n",
       "      <td>8.577610e+05</td>\n",
       "      <td>NaN</td>\n",
       "      <td>NaN</td>\n",
       "      <td>NaN</td>\n",
       "    </tr>\n",
       "    <tr>\n",
       "      <th>25%</th>\n",
       "      <td>5.682742e+17</td>\n",
       "      <td>5.670718e+17</td>\n",
       "      <td>1.385734e+07</td>\n",
       "      <td>NaN</td>\n",
       "      <td>NaN</td>\n",
       "      <td>NaN</td>\n",
       "    </tr>\n",
       "    <tr>\n",
       "      <th>50%</th>\n",
       "      <td>5.723475e+17</td>\n",
       "      <td>5.728788e+17</td>\n",
       "      <td>1.385734e+07</td>\n",
       "      <td>NaN</td>\n",
       "      <td>NaN</td>\n",
       "      <td>NaN</td>\n",
       "    </tr>\n",
       "    <tr>\n",
       "      <th>75%</th>\n",
       "      <td>5.895577e+17</td>\n",
       "      <td>5.944008e+17</td>\n",
       "      <td>1.385734e+07</td>\n",
       "      <td>NaN</td>\n",
       "      <td>NaN</td>\n",
       "      <td>NaN</td>\n",
       "    </tr>\n",
       "    <tr>\n",
       "      <th>max</th>\n",
       "      <td>6.183671e+17</td>\n",
       "      <td>6.036935e+17</td>\n",
       "      <td>3.294745e+09</td>\n",
       "      <td>NaN</td>\n",
       "      <td>NaN</td>\n",
       "      <td>NaN</td>\n",
       "    </tr>\n",
       "  </tbody>\n",
       "</table>\n",
       "</div>"
      ],
      "text/plain": [
       "            Tweet_ID      Previous       User_ID  \\\n",
       "count   6.667000e+03  3.564000e+03  6.667000e+03   \n",
       "unique NaN           NaN           NaN             \n",
       "top    NaN           NaN           NaN             \n",
       "freq   NaN           NaN           NaN             \n",
       "mean    5.770472e+17  5.768513e+17  2.585746e+08   \n",
       "std     1.447716e+16  1.369519e+16  6.929351e+08   \n",
       "min     3.193999e+17  3.241139e+17  8.577610e+05   \n",
       "25%     5.682742e+17  5.670718e+17  1.385734e+07   \n",
       "50%     5.723475e+17  5.728788e+17  1.385734e+07   \n",
       "75%     5.895577e+17  5.944008e+17  1.385734e+07   \n",
       "max     6.183671e+17  6.036935e+17  3.294745e+09   \n",
       "\n",
       "                                                                                                                                   Text  \\\n",
       "count   6667                                                                                                                              \n",
       "unique  6667                                                                                                                              \n",
       "top     and i used to be a tech evangelist. i have some idea of how the press works, but thanks for the clear examples of mansplaining.   \n",
       "freq    1                                                                                                                                 \n",
       "mean    NaN                                                                                                                               \n",
       "std     NaN                                                                                                                               \n",
       "min     NaN                                                                                                                               \n",
       "25%     NaN                                                                                                                               \n",
       "50%     NaN                                                                                                                               \n",
       "75%     NaN                                                                                                                               \n",
       "max     NaN                                                                                                                               \n",
       "\n",
       "       Expert_Label              Amateur_Label  \n",
       "count   6667         6667                       \n",
       "unique  4            150                        \n",
       "top     neither      [neither,neither,neither]  \n",
       "freq    5729         4215                       \n",
       "mean    NaN          NaN                        \n",
       "std     NaN          NaN                        \n",
       "min     NaN          NaN                        \n",
       "25%     NaN          NaN                        \n",
       "50%     NaN          NaN                        \n",
       "75%     NaN          NaN                        \n",
       "max     NaN          NaN                        "
      ]
     },
     "execution_count": 9,
     "metadata": {},
     "output_type": "execute_result"
    }
   ],
   "source": [
    "df2.describe(include='all')"
   ]
  },
  {
   "cell_type": "code",
   "execution_count": 10,
   "metadata": {
    "collapsed": false
   },
   "outputs": [
    {
     "data": {
      "text/plain": [
       "neither    5729\n",
       "sexism     815 \n",
       "racism     88  \n",
       "both       35  \n",
       "Name: Expert_Label, dtype: int64"
      ]
     },
     "execution_count": 10,
     "metadata": {},
     "output_type": "execute_result"
    }
   ],
   "source": [
    "%matplotlib inline\n",
    "df2['Expert_Label'].value_counts()"
   ]
  },
  {
   "cell_type": "markdown",
   "metadata": {},
   "source": [
    "#### Label: Sexism"
   ]
  },
  {
   "cell_type": "code",
   "execution_count": 11,
   "metadata": {
    "collapsed": false
   },
   "outputs": [
    {
     "data": {
      "text/plain": [
       "433    RT @firex21566: When feminazi/anti-gg cry about video game's being bad and GG is a hate group i'm like....#GamerGate http://t.co/9ZO2ZUWj1n \n",
       "434    @yercuntiness @Anne_Starling @CHSommers she is the Neo of the feminazi matrix.                                                              \n",
       "693    @Valesband Totally! I'd never considered you guys a 'feminazi' band but now my eyes have been opened...                                     \n",
       "596    @mosqeptiq @hale_razor if she picks @SenWarren to be her VP, I will take comfort in the collective implosion of feminazi vaginas everywhere.\n",
       "931    @Norse_Gamer @Mykeru @Brad_D80 If you're currently living in Scandinavia, my condolences for living at Feminazi ground zero.                \n",
       "304    @RemingtonWild @TheMercedesXXX i agree, nobody should use the term \"feminazi\" because it is degrading to actual nazis                       \n",
       "929    in any serious forum, i will fully support feminism. feminazi's, however, are a real thing and in their presence i will be a #meninist      \n",
       "731    RT @jimdwrench: @lindarutter Feminazi?                                                                                                      \n",
       "577    @HPluckrose @Feminazi_Front ok. Might have used the wrong word, but you see my point                                                        \n",
       "812    @NHLhistorygirl 'Feminazi'! I like that word! When can we start to castigate (or castrate works too) the weaker gender?                     \n",
       "Name: Text, dtype: object"
      ]
     },
     "execution_count": 11,
     "metadata": {},
     "output_type": "execute_result"
    }
   ],
   "source": [
    "df2[df2['Expert_Label'] == 'sexism'].sample(n=10)['Text']"
   ]
  },
  {
   "cell_type": "markdown",
   "metadata": {},
   "source": [
    "#### Label: Racism"
   ]
  },
  {
   "cell_type": "code",
   "execution_count": 12,
   "metadata": {
    "collapsed": false
   },
   "outputs": [
    {
     "data": {
      "text/plain": [
       "96     A new low for extremist #Qatari @AJArabic . Iran is behind terror attack on Shia #Arab mosque in #Qatif http://t.co/XgVcN62i0R @StateDept       \n",
       "121    Someday, I'm going to drink &amp; start submitting pull requests to various FOSS projects' Makefiles to play fitting theme music during a build.\n",
       "64     RT @SwiftOnSecurity: Kids these days will never know open WiFi with everything going over HTTP. And net send. Oh my god. net send. What glo…    \n",
       "104    “@EW: #EWCommunity rates #coon #glee @EmpireFOX: http://t.co/mH9yWfRNkK http://t.co/6QvRKyDiFX”                                                 \n",
       "69     @DKinchenFOX29 Ur a disgrace to ur race, sucking up2 whites on da streets of philly like that, the evidence is clear, gray was kilt, #coon      \n",
       "84     Automotive Service Manager - COON RAPIDS, MN, 55433 #jobs #COON RAPIDS pls RT: **Overview:**Tires Plus Total Car… http://t.co/OHuNGr39zv        \n",
       "102    Company profile NKC COON HUNTING, INCORPORATED - http://t.co/YK1TMdLgTj #NKC #COON #HUNTING, #INCORPORATED                                      \n",
       "50     Another #Arab car #terror attack in #Jerusalem #Israel. Will #Obama call it random traffic infringement? http://t.co/XrxajfBXKF @Ostrov_A       \n",
       "78     #isis #isil #terror #terrorism #terrorist #terrorists #israel #islam #islamic #zion #zionist #arab https://t.co/T5Aqhn10TS                      \n",
       "85     @ThisGuy_Trey I am begging them to never give him a mic again. #Coon                                                                            \n",
       "Name: Text, dtype: object"
      ]
     },
     "execution_count": 12,
     "metadata": {},
     "output_type": "execute_result"
    }
   ],
   "source": [
    "df2[df2['Expert_Label'] == 'racism'].sample(n=10)['Text']"
   ]
  },
  {
   "cell_type": "markdown",
   "metadata": {},
   "source": [
    "#### Label: Both"
   ]
  },
  {
   "cell_type": "code",
   "execution_count": 13,
   "metadata": {
    "collapsed": false
   },
   "outputs": [
    {
     "data": {
      "text/plain": [
       "7     #BlameOneNotAll is bad because I should be able to hate entire demographics of people for the bad things individuals do to me! #racismyall  \n",
       "2     Managed to hit a bird and a small rodent on my drive to Huxley this evening #Oops #Asian #Female #Teen #TripleThreat                        \n",
       "33    @SwarajyaMag #GermanProfessor gives meaning to term FemiNazi.Doesn't hire \"Indian Men\" bcz of \"Indias's Rape Problem\" http://t.co/zyvMzmeEA6\n",
       "23    Abandon #HateBritain, the #JewfnitedState &amp; their #LGBT, #Feminazi, #Pigs &amp; #PaedophileRing http://t.co/OmAmKf6SHS                  \n",
       "21    @BrownBagPantry I get your frustrations. Really, I do. I deal with the same stuff every day on my own account.                              \n",
       "5     “@UberFacts: KFC Japan has created a fried chicken keyboard, mouse, and USB drive.” #asian @TomCatKiefer                                    \n",
       "29    @VestryHouse You can just see her credentials. Black FemiNazi.                                                                              \n",
       "18    #GermanProfessor gives meaning to term FemiNazi.Doesn't hire \"Indian Men\" bcz of \"Indias's Rape Problem\" http://t.co/zyvMzmeEA6 @TarekFatah \n",
       "34    That Moment When A Female Call You A #Coon .. With A Head Full Of Fμ©k¡N #Weave 󾌭󾌭󾌭                                                         \n",
       "27    #Retweet: My famous post exposing #Zionist Jews, EVIL #Gay &amp; #Feminazi behind genocide http://t.co/TLZGlfdYEo http://t.co/Ig82cZpURC    \n",
       "Name: Text, dtype: object"
      ]
     },
     "execution_count": 13,
     "metadata": {},
     "output_type": "execute_result"
    }
   ],
   "source": [
    "df2[df2['Expert_Label'] == 'both'].sample(n=10)['Text']"
   ]
  },
  {
   "cell_type": "code",
   "execution_count": 14,
   "metadata": {
    "collapsed": false
   },
   "outputs": [
    {
     "data": {
      "text/plain": [
       "6455    @limbclock if you only want 3 people to use it.                                                                                             \n",
       "3574    @HardLuckRabbit i'm really short. That has appeal.                                                                                          \n",
       "3569    @StephenAtWar I'll add them to our doc. I understand applying for grants is an art, so it'll likely take a while for us to get it right.    \n",
       "2555    @cigardubey chrome now supports having user profiles as well. i switch back and forth for a few different things. it's useful.              \n",
       "5662    I'd be happy to get an adult, but leo wouldn't adjust well. He thinks he is dominant to everything. Can't have a big dog, he gets protective\n",
       "1839    @voiceofrae @TheQuinnspiracy @Spacekatgal BUT HERE'S MY NUMBER                                                                              \n",
       "6270    @amberdawn @ivey I do that. COME AT ME BRUH                                                                                                 \n",
       "2559    Grummz realized that no one would pat him on the back for not being an asshole, but GG would worship him for joining. @ANDAASONSAN @Shjade  \n",
       "4589    @jagregory @JohnACowie @brunns @thoughtworks i think this would be a bit diff - instead, working w/tech companies that have issues.         \n",
       "1988    Feminazi? Right. Because wanting your #gender to be treated like human beings is just like invading Poland. #equality                       \n",
       "Name: Text, dtype: object"
      ]
     },
     "execution_count": 14,
     "metadata": {},
     "output_type": "execute_result"
    }
   ],
   "source": [
    "df2[df2['Expert_Label'] == 'neither'].sample(n=10)['Text']"
   ]
  },
  {
   "cell_type": "code",
   "execution_count": 15,
   "metadata": {
    "collapsed": false
   },
   "outputs": [
    {
     "data": {
      "text/plain": [
       "3998"
      ]
     },
     "execution_count": 15,
     "metadata": {},
     "output_type": "execute_result"
    }
   ],
   "source": [
    "df[df['Label'] == 'sexism'][\"Text\"].count() + df2[df2['Expert_Label'] == 'sexism'][\"Text\"].count() + df2[df2['Expert_Label'] == 'both'][\"Text\"].count()"
   ]
  },
  {
   "cell_type": "code",
   "execution_count": 16,
   "metadata": {
    "collapsed": false
   },
   "outputs": [
    {
     "data": {
      "text/plain": [
       "2062"
      ]
     },
     "execution_count": 16,
     "metadata": {},
     "output_type": "execute_result"
    }
   ],
   "source": [
    "df[df['Label'] == 'racism'][\"Text\"].count() + df2[df2['Expert_Label'] == 'racism'][\"Text\"].count() + df2[df2['Expert_Label'] == 'both'][\"Text\"].count()"
   ]
  },
  {
   "cell_type": "code",
   "execution_count": 17,
   "metadata": {
    "collapsed": false
   },
   "outputs": [
    {
     "data": {
      "text/plain": [
       "16844"
      ]
     },
     "execution_count": 17,
     "metadata": {},
     "output_type": "execute_result"
    }
   ],
   "source": [
    "df[df['Label'] == 'none'][\"Text\"].count() + df2[df2['Expert_Label'] == 'neither'][\"Text\"].count()"
   ]
  },
  {
   "cell_type": "markdown",
   "metadata": {},
   "source": [
    "## Hashtag analysis"
   ]
  },
  {
   "cell_type": "code",
   "execution_count": 41,
   "metadata": {
    "collapsed": false
   },
   "outputs": [],
   "source": [
    "none = pd.concat([df[df['Label'] == 'none']['Text'], df2[df2['Expert_Label'] == 'neither']['Text']])\n",
    "sexism = pd.concat([df[df['Label'] == 'sexism']['Text'], df2[df2['Expert_Label'] == 'sexism']['Text'], df2[df2['Expert_Label'] == 'both']['Text']])\n",
    "racism = pd.concat([df[df['Label'] == 'racism']['Text'], df2[df2['Expert_Label'] == 'racism']['Text'], df2[df2['Expert_Label'] == 'both']['Text']])"
   ]
  },
  {
   "cell_type": "code",
   "execution_count": 51,
   "metadata": {
    "collapsed": false
   },
   "outputs": [],
   "source": [
    "def hashtags(tweet):\n",
    "    return list(map(lambda x: x.lower(), filter(lambda x: x[0] == \"#\", tweet.split())))"
   ]
  },
  {
   "cell_type": "code",
   "execution_count": 54,
   "metadata": {
    "collapsed": false
   },
   "outputs": [],
   "source": [
    "from functools import reduce\n",
    "none_hashtags = reduce(lambda x,y: x + y, list(map(lambda x: hashtags(x), none.tolist())))\n",
    "sexism_hashtags = reduce(lambda x,y: x + y, list(map(lambda x: hashtags(x), sexism.tolist())))\n",
    "racism_hashtags = reduce(lambda x,y: x + y, list(map(lambda x: hashtags(x), racism.tolist())))"
   ]
  },
  {
   "cell_type": "code",
   "execution_count": 55,
   "metadata": {
    "collapsed": false
   },
   "outputs": [],
   "source": [
    "from collections import Counter\n",
    "\n",
    "none_counter = Counter(none_hashtags)\n",
    "sexism_counter = Counter(sexism_hashtags)\n",
    "racism_counter = Counter(racism_hashtags)"
   ]
  },
  {
   "cell_type": "code",
   "execution_count": 59,
   "metadata": {
    "collapsed": false
   },
   "outputs": [
    {
     "data": {
      "text/plain": [
       "[('#mkr', 3840),\n",
       " ('#mkr2015', 212),\n",
       " ('#blameonenotall', 140),\n",
       " ('#isis', 88),\n",
       " ('#coon', 84),\n",
       " ('#stopwadhwa2015', 78),\n",
       " ('#islam', 49),\n",
       " ('#katandandre', 45),\n",
       " ('#killerblondes', 39),\n",
       " ('#kobane', 37),\n",
       " ('#gamergate', 36),\n",
       " ('#mkr.', 35),\n",
       " ('#maine', 35),\n",
       " ('#yesallwomen', 32),\n",
       " ('#mosul', 29),\n",
       " ('#hungrycampers', 29),\n",
       " ('#twitterkurds', 26),\n",
       " ('#mkr”', 25),\n",
       " ('#mykitchenrules', 23),\n",
       " ('#selfie', 22)]"
      ]
     },
     "execution_count": 59,
     "metadata": {},
     "output_type": "execute_result"
    }
   ],
   "source": [
    "none_counter.most_common(20)"
   ]
  },
  {
   "cell_type": "code",
   "execution_count": 60,
   "metadata": {
    "collapsed": false
   },
   "outputs": [
    {
     "data": {
      "text/plain": [
       "[('#mkr', 860),\n",
       " ('#notsexist', 198),\n",
       " ('#feminazi', 81),\n",
       " ('#mkr2015', 71),\n",
       " ('#womenagainstfeminism', 39),\n",
       " ('#gamergate', 33),\n",
       " ('#blameonenotall', 30),\n",
       " ('#feminism', 28),\n",
       " ('#questionsformen', 28),\n",
       " ('#killerblondes', 27),\n",
       " ('#cuntandandre', 22),\n",
       " ('#katandandre', 15),\n",
       " ('#adviceforyoungfeminists', 12),\n",
       " ('#feminismisawful', 12),\n",
       " ('#femfreefriday', 11),\n",
       " ('#yesallwomen', 10),\n",
       " ('#…', 9),\n",
       " ('#sorrynotsorry', 9),\n",
       " ('#mykitchenrules', 8),\n",
       " ('#coon', 8)]"
      ]
     },
     "execution_count": 60,
     "metadata": {},
     "output_type": "execute_result"
    }
   ],
   "source": [
    "sexism_counter.most_common(20)"
   ]
  },
  {
   "cell_type": "code",
   "execution_count": 61,
   "metadata": {
    "collapsed": false
   },
   "outputs": [
    {
     "data": {
      "text/plain": [
       "[('#islam', 111),\n",
       " ('#coon', 55),\n",
       " ('#isis', 17),\n",
       " ('#arab', 14),\n",
       " ('#islam.', 10),\n",
       " ('#feminazi', 7),\n",
       " ('#iraq', 7),\n",
       " ('#jerusalem', 6),\n",
       " ('#israel', 6),\n",
       " ('#asian', 6),\n",
       " ('#obama', 5),\n",
       " ('#terror', 5),\n",
       " ('#zionist', 4),\n",
       " ('#israel.', 4),\n",
       " ('#blameonenotall', 4),\n",
       " ('#ferguson', 4),\n",
       " ('#daesh', 4),\n",
       " ('#germanprofessor', 4),\n",
       " ('#muslim', 4),\n",
       " ('#terrorist', 3)]"
      ]
     },
     "execution_count": 61,
     "metadata": {},
     "output_type": "execute_result"
    }
   ],
   "source": [
    "racism_counter.most_common(20)"
   ]
  },
  {
   "cell_type": "markdown",
   "metadata": {
    "collapsed": true
   },
   "source": [
    "## Preprocessing"
   ]
  },
  {
   "cell_type": "code",
   "execution_count": 18,
   "metadata": {
    "collapsed": false
   },
   "outputs": [
    {
     "ename": "ImportError",
     "evalue": "No module named 'preprocess'",
     "output_type": "error",
     "traceback": [
      "\u001b[0;31m---------------------------------------------------------------------------\u001b[0m",
      "\u001b[0;31mImportError\u001b[0m                               Traceback (most recent call last)",
      "\u001b[0;32m<ipython-input-18-55d46a8995ff>\u001b[0m in \u001b[0;36m<module>\u001b[0;34m()\u001b[0m\n\u001b[0;32m----> 1\u001b[0;31m \u001b[0;32mfrom\u001b[0m \u001b[0mpreprocess\u001b[0m \u001b[0;32mimport\u001b[0m \u001b[0mpreprocess_tweet\u001b[0m\u001b[0;34m\u001b[0m\u001b[0m\n\u001b[0m",
      "\u001b[0;31mImportError\u001b[0m: No module named 'preprocess'"
     ]
    }
   ],
   "source": [
    "from preprocess import preprocess_tweet"
   ]
  },
  {
   "cell_type": "code",
   "execution_count": null,
   "metadata": {
    "collapsed": false
   },
   "outputs": [],
   "source": [
    "samples = df.sample(n=100)\n",
    "\n",
    "for i, row in samples.iterrows():\n",
    "    tweet = row['Text']\n",
    "    print(tweet)\n",
    "    print(preprocess_tweet(tweet) + \"\\n\")"
   ]
  },
  {
   "cell_type": "code",
   "execution_count": null,
   "metadata": {
    "collapsed": false
   },
   "outputs": [],
   "source": [
    "l = pd.concat([df[df['Label'] == 'sexism']['Text'], df2[df2['Expert_Label'] == 'sexism']['Text'], df2[df2['Expert_Label'] == 'both']['Text']])"
   ]
  },
  {
   "cell_type": "code",
   "execution_count": null,
   "metadata": {
    "collapsed": false
   },
   "outputs": [],
   "source": [
    "def dataframe_to_list(df):\n",
    "    df = df.drop_duplicates()\n",
    "    result = list(map(lambda x: preprocess_tweet(x), df.tolist()))\n",
    "    return list(filter(lambda x: x, result)) # filter out empty string"
   ]
  },
  {
   "cell_type": "code",
   "execution_count": null,
   "metadata": {
    "collapsed": false
   },
   "outputs": [],
   "source": [
    "l = l.sample(n=10)"
   ]
  },
  {
   "cell_type": "code",
   "execution_count": null,
   "metadata": {
    "collapsed": false
   },
   "outputs": [],
   "source": [
    "l"
   ]
  },
  {
   "cell_type": "code",
   "execution_count": null,
   "metadata": {
    "collapsed": false
   },
   "outputs": [],
   "source": [
    "dataframe_to_list(l)"
   ]
  },
  {
   "cell_type": "code",
   "execution_count": null,
   "metadata": {
    "collapsed": true
   },
   "outputs": [],
   "source": []
  }
 ],
 "metadata": {
  "anaconda-cloud": {},
  "kernelspec": {
   "display_name": "Python 3",
   "language": "python",
   "name": "python3"
  },
  "language_info": {
   "codemirror_mode": {
    "name": "ipython",
    "version": 3
   },
   "file_extension": ".py",
   "mimetype": "text/x-python",
   "name": "python",
   "nbconvert_exporter": "python",
   "pygments_lexer": "ipython3",
   "version": "3.4.5"
  }
 },
 "nbformat": 4,
 "nbformat_minor": 1
}
