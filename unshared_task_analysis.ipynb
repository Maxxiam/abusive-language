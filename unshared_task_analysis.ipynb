{
 "cells": [
  {
   "cell_type": "markdown",
   "metadata": {},
   "source": [
    "# ALW1: 1st Workshop on Abusive Language Online \n",
    "to be held at the annual meeting of the Association of Computational Linguistics (ACL) 2017 (Vancouver, Canada),\n",
    "https://sites.google.com/site/abusivelanguageworkshop2017/home\n",
    "\n",
    "## Important dates\n",
    "\n",
    "Submission due: April 27th\n",
    "Author Notification: May 17th\n",
    "Camera Ready: May 26th\n",
    "Workshop Date: August 4th\n",
    "\n",
    "## Unshared Task Dataset Analysis"
   ]
  },
  {
   "cell_type": "markdown",
   "metadata": {},
   "source": [
    "### 1. Waseem and Hovy, NAACL 2016"
   ]
  },
  {
   "cell_type": "code",
   "execution_count": 1,
   "metadata": {
    "collapsed": true
   },
   "outputs": [],
   "source": [
    "import pandas as pd\n",
    "pd.set_option('display.max_colwidth', -1)"
   ]
  },
  {
   "cell_type": "code",
   "execution_count": 2,
   "metadata": {
    "collapsed": false
   },
   "outputs": [],
   "source": [
    "df = pd.read_csv('./crawled/wassem_hovy_naacl.csv',\n",
    "                     sep=\"\\t\",\n",
    "                     header=None,\n",
    "                     skiprows=[0],\n",
    "                     names=[\"Tweet_ID\", \"Previous\", \"User_ID\", \"Text\", \"Label\"],\n",
    "                     error_bad_lines=False)"
   ]
  },
  {
   "cell_type": "code",
   "execution_count": 3,
   "metadata": {
    "collapsed": false
   },
   "outputs": [
    {
     "data": {
      "text/html": [
       "<div>\n",
       "<table border=\"1\" class=\"dataframe\">\n",
       "  <thead>\n",
       "    <tr style=\"text-align: right;\">\n",
       "      <th></th>\n",
       "      <th>Tweet_ID</th>\n",
       "      <th>Previous</th>\n",
       "      <th>User_ID</th>\n",
       "      <th>Text</th>\n",
       "      <th>Label</th>\n",
       "    </tr>\n",
       "  </thead>\n",
       "  <tbody>\n",
       "    <tr>\n",
       "      <th>count</th>\n",
       "      <td>1.620200e+04</td>\n",
       "      <td>7.687000e+03</td>\n",
       "      <td>1.620200e+04</td>\n",
       "      <td>16202</td>\n",
       "      <td>16202</td>\n",
       "    </tr>\n",
       "    <tr>\n",
       "      <th>unique</th>\n",
       "      <td>NaN</td>\n",
       "      <td>NaN</td>\n",
       "      <td>NaN</td>\n",
       "      <td>16202</td>\n",
       "      <td>3</td>\n",
       "    </tr>\n",
       "    <tr>\n",
       "      <th>top</th>\n",
       "      <td>NaN</td>\n",
       "      <td>NaN</td>\n",
       "      <td>NaN</td>\n",
       "      <td>Christ those #pancakes look AMAZEBALLS #mkr</td>\n",
       "      <td>none</td>\n",
       "    </tr>\n",
       "    <tr>\n",
       "      <th>freq</th>\n",
       "      <td>NaN</td>\n",
       "      <td>NaN</td>\n",
       "      <td>NaN</td>\n",
       "      <td>1</td>\n",
       "      <td>11115</td>\n",
       "    </tr>\n",
       "    <tr>\n",
       "      <th>mean</th>\n",
       "      <td>5.570068e+17</td>\n",
       "      <td>5.538049e+17</td>\n",
       "      <td>1.347147e+09</td>\n",
       "      <td>NaN</td>\n",
       "      <td>NaN</td>\n",
       "    </tr>\n",
       "    <tr>\n",
       "      <th>std</th>\n",
       "      <td>3.764030e+16</td>\n",
       "      <td>3.975646e+16</td>\n",
       "      <td>1.277989e+09</td>\n",
       "      <td>NaN</td>\n",
       "      <td>NaN</td>\n",
       "    </tr>\n",
       "    <tr>\n",
       "      <th>min</th>\n",
       "      <td>3.193999e+17</td>\n",
       "      <td>3.241139e+17</td>\n",
       "      <td>2.105021e+06</td>\n",
       "      <td>NaN</td>\n",
       "      <td>NaN</td>\n",
       "    </tr>\n",
       "    <tr>\n",
       "      <th>25%</th>\n",
       "      <td>5.627451e+17</td>\n",
       "      <td>5.597213e+17</td>\n",
       "      <td>1.970792e+07</td>\n",
       "      <td>NaN</td>\n",
       "      <td>NaN</td>\n",
       "    </tr>\n",
       "    <tr>\n",
       "      <th>50%</th>\n",
       "      <td>5.696500e+17</td>\n",
       "      <td>5.659425e+17</td>\n",
       "      <td>9.306205e+08</td>\n",
       "      <td>NaN</td>\n",
       "      <td>NaN</td>\n",
       "    </tr>\n",
       "    <tr>\n",
       "      <th>75%</th>\n",
       "      <td>5.750016e+17</td>\n",
       "      <td>5.723631e+17</td>\n",
       "      <td>2.941146e+09</td>\n",
       "      <td>NaN</td>\n",
       "      <td>NaN</td>\n",
       "    </tr>\n",
       "    <tr>\n",
       "      <th>max</th>\n",
       "      <td>6.183671e+17</td>\n",
       "      <td>5.767807e+17</td>\n",
       "      <td>3.079113e+09</td>\n",
       "      <td>NaN</td>\n",
       "      <td>NaN</td>\n",
       "    </tr>\n",
       "  </tbody>\n",
       "</table>\n",
       "</div>"
      ],
      "text/plain": [
       "            Tweet_ID      Previous       User_ID  \\\n",
       "count   1.620200e+04  7.687000e+03  1.620200e+04   \n",
       "unique NaN           NaN           NaN             \n",
       "top    NaN           NaN           NaN             \n",
       "freq   NaN           NaN           NaN             \n",
       "mean    5.570068e+17  5.538049e+17  1.347147e+09   \n",
       "std     3.764030e+16  3.975646e+16  1.277989e+09   \n",
       "min     3.193999e+17  3.241139e+17  2.105021e+06   \n",
       "25%     5.627451e+17  5.597213e+17  1.970792e+07   \n",
       "50%     5.696500e+17  5.659425e+17  9.306205e+08   \n",
       "75%     5.750016e+17  5.723631e+17  2.941146e+09   \n",
       "max     6.183671e+17  5.767807e+17  3.079113e+09   \n",
       "\n",
       "                                               Text  Label  \n",
       "count   16202                                        16202  \n",
       "unique  16202                                        3      \n",
       "top     Christ those #pancakes look AMAZEBALLS #mkr  none   \n",
       "freq    1                                            11115  \n",
       "mean    NaN                                          NaN    \n",
       "std     NaN                                          NaN    \n",
       "min     NaN                                          NaN    \n",
       "25%     NaN                                          NaN    \n",
       "50%     NaN                                          NaN    \n",
       "75%     NaN                                          NaN    \n",
       "max     NaN                                          NaN    "
      ]
     },
     "execution_count": 3,
     "metadata": {},
     "output_type": "execute_result"
    }
   ],
   "source": [
    "df.describe(include='all')"
   ]
  },
  {
   "cell_type": "code",
   "execution_count": 4,
   "metadata": {
    "collapsed": false
   },
   "outputs": [
    {
     "name": "stderr",
     "output_type": "stream",
     "text": [
      "/Users/parkjiho/anaconda2/envs/tf/lib/python3.4/site-packages/matplotlib/font_manager.py:280: UserWarning: Matplotlib is building the font cache using fc-list. This may take a moment.\n",
      "  'Matplotlib is building the font cache using fc-list. '\n"
     ]
    },
    {
     "data": {
      "text/plain": [
       "<matplotlib.axes._subplots.AxesSubplot at 0x10da0b5c0>"
      ]
     },
     "execution_count": 4,
     "metadata": {},
     "output_type": "execute_result"
    },
    {
     "data": {
      "image/png": "[encoded data removed]",
      "text/plain": [
       "<matplotlib.figure.Figure at 0x10c19e048>"
      ]
     },
     "metadata": {},
     "output_type": "display_data"
    }
   ],
   "source": [
    "import matplotlib.pyplot as plt\n",
    "\n",
    "%matplotlib inline\n",
    "df['Label'].value_counts().plot(kind=\"bar\")"
   ]
  },
  {
   "cell_type": "markdown",
   "metadata": {},
   "source": [
    "#### Label: Sexism "
   ]
  },
  {
   "cell_type": "code",
   "execution_count": 5,
   "metadata": {
    "collapsed": false
   },
   "outputs": [
    {
     "data": {
      "text/plain": [
       "4028    @susanhaggard1 @sara771987 Does she have a legal obligation to report? I don't think she does...                                            \n",
       "4845    RT @harrysteanson Am not sexist but feminists don't half milk the \"men are all the same\" bollocks                                           \n",
       "3910    I think Drasco just offered Colin an old fashioned wristy #MKR                                                                              \n",
       "3807    RT @sharkYObitch I'm not sexist but right now I hate girls !!!!                                                                             \n",
       "3762    @trishesdishes Why ignore my question to deflect with yours? Are you aware men have LESS legal rights? Is that equality?                    \n",
       "4192    RT @NotA_Misogynist I'm not sexist but girls get more attention when they tweet, thats why they have 832057238K followers, RTs and faves    \n",
       "4684    RT @Kal1699: @MT8_9 I can't favorite enough! What reproductive rights do men have? None! \"Keep in your pants!\" \"Takes two to tango!\" \"Men s…\n",
       "4557    Because femininity is so horrible! @JonnyG313 I'm not sexist but if a dude cries because of a girl in a wedding dress then he has a vagina  \n",
       "2158    @Femitheist @trishesdishes ...have to pay. If she knows he can walk way w/o paying...I think she might drive a bit safer. I understand...   \n",
       "2888    RT @BenOX4D I'm not sexist, but when a woman presents a football show I just can't take her seriously.                                      \n",
       "Name: Text, dtype: object"
      ]
     },
     "execution_count": 5,
     "metadata": {},
     "output_type": "execute_result"
    }
   ],
   "source": [
    "df[df['Label'] == 'sexism'].sample(n=10)['Text']"
   ]
  },
  {
   "cell_type": "markdown",
   "metadata": {},
   "source": [
    "#### Label: Racism"
   ]
  },
  {
   "cell_type": "code",
   "execution_count": 6,
   "metadata": {
    "collapsed": false
   },
   "outputs": [
    {
     "data": {
      "text/plain": [
       "1776    @REMY119 The Muslims have exterminated Christians and Jews all over the ME and continue today. Where are the UN resolutions?                    \n",
       "19      @Pray_4_Life @Pontifex People who call being against Islam racist know that Islam is not race but want to intimidate others into shutting up    \n",
       "1310    @LUVSHINECAFE @bradybaggett When religious war, jihad, is a cornerstone of the religion there is no possibility for reform.                     \n",
       "1364    @OmarShakir91 @EatingMyPeaz Hamaz never stopped it's war on Israel. Islam never stopped it's war on humanity.                                   \n",
       "1242    @zh_ha89 I just told you that women owned property before Islam. Had nothing to do with Islam. Islam is sexist to the very core.                \n",
       "1449    RT @curdistani: ISIS intend turn war of Islamism into ethnic war of Pan Arabism&amp;Kurd in Mosul. As evidence show they are conducting Pan ara…\n",
       "1203    @MaxBlumenthal Max asks as his Palestinian friends are beheading gays, doing honor killings, driving Palestinian Christians out of existence    \n",
       "1295    @MaxBlumenthal @Ajzionts I think your Muslim friends are raping girls around the world. http://t.co/liSKP9U8Uq                                  \n",
       "1307    @harun_yahya You and your religious brothers are the real filth of the earth. PKK rescued Yezidis from your animal friends.                     \n",
       "468     RT @CruisingBye: @depressedfuck1 @VileIslam Your doctrine supports terrorism &amp; violence http://t.co/U3iMwdACc0                              \n",
       "Name: Text, dtype: object"
      ]
     },
     "execution_count": 6,
     "metadata": {},
     "output_type": "execute_result"
    }
   ],
   "source": [
    "df[df['Label'] == 'racism'].sample(n=10)['Text']"
   ]
  },
  {
   "cell_type": "markdown",
   "metadata": {},
   "source": [
    "#### Label: None"
   ]
  },
  {
   "cell_type": "code",
   "execution_count": 7,
   "metadata": {
    "collapsed": false
   },
   "outputs": [
    {
     "data": {
      "text/plain": [
       "5808     @RealityForger @lastcontract 👍                                                                                                                  \n",
       "14178    RT @mczub: @freebsdgirl it feels like only new people claim sexism exist because the sexism already drove away the veterans                     \n",
       "6314     RT @LisaMRomano: My little lemon tarts #mkr http://t.co/XcwiPfRXmo                                                                              \n",
       "15188    RT @AskRocket: From what I can see, there's a large gap between \"promo girl\" and \"model\". #mkr #killerblondes?                                  \n",
       "7774     @DrHaque @MaxBlumenthal @NYCJulieNYC @mehdirhasan @tnr You have to be dumber than a rock to think that ISIS wants a Jewish state.               \n",
       "7598     RT @honest_update: Welcome to the latest episode of \"CTO thinks he can still code\" with your host \"poor fucker who has to clean it up\".         \n",
       "6770     RT @HeavyPebble: @iverson_tracey actually compared to #muslim slaughter of Muslims &amp; #christians, v few. Far more killed eg in #syria http:…\n",
       "5669     Has anyone fallen into the irony vortex @MadJoyPad created? I have life preservers.                                                             \n",
       "16035    RT @sales88194029: Someone is going home #mkr ...that obviously cannot cook !                                                                   \n",
       "9010     I JUST GOT MAD AT MY HAIR SO I CUT IT.                                                                                                          \n",
       "Name: Text, dtype: object"
      ]
     },
     "execution_count": 7,
     "metadata": {},
     "output_type": "execute_result"
    }
   ],
   "source": [
    "df[df['Label'] == 'none'].sample(n=10)['Text']"
   ]
  },
  {
   "cell_type": "markdown",
   "metadata": {},
   "source": [
    "### 2. Waseem, NLP and CSS 2016"
   ]
  },
  {
   "cell_type": "code",
   "execution_count": 8,
   "metadata": {
    "collapsed": false
   },
   "outputs": [],
   "source": [
    "df2 = pd.read_csv('./crawled/wassem_css.csv',\n",
    "                     sep=\"\\t\",\n",
    "                     header=None,\n",
    "                     skiprows=[0],\n",
    "                     names=[\"Tweet_ID\", \"Previous\", \"User_ID\", \"Text\", \"Expert_Label\", \"Amateur_Label\"],\n",
    "                     error_bad_lines=False)"
   ]
  },
  {
   "cell_type": "code",
   "execution_count": 9,
   "metadata": {
    "collapsed": false
   },
   "outputs": [
    {
     "data": {
      "text/html": [
       "<div>\n",
       "<table border=\"1\" class=\"dataframe\">\n",
       "  <thead>\n",
       "    <tr style=\"text-align: right;\">\n",
       "      <th></th>\n",
       "      <th>Tweet_ID</th>\n",
       "      <th>Previous</th>\n",
       "      <th>User_ID</th>\n",
       "      <th>Text</th>\n",
       "      <th>Expert_Label</th>\n",
       "      <th>Amateur_Label</th>\n",
       "    </tr>\n",
       "  </thead>\n",
       "  <tbody>\n",
       "    <tr>\n",
       "      <th>count</th>\n",
       "      <td>6.667000e+03</td>\n",
       "      <td>3.564000e+03</td>\n",
       "      <td>6.667000e+03</td>\n",
       "      <td>6667</td>\n",
       "      <td>6667</td>\n",
       "      <td>6667</td>\n",
       "    </tr>\n",
       "    <tr>\n",
       "      <th>unique</th>\n",
       "      <td>NaN</td>\n",
       "      <td>NaN</td>\n",
       "      <td>NaN</td>\n",
       "      <td>6667</td>\n",
       "      <td>4</td>\n",
       "      <td>150</td>\n",
       "    </tr>\n",
       "    <tr>\n",
       "      <th>top</th>\n",
       "      <td>NaN</td>\n",
       "      <td>NaN</td>\n",
       "      <td>NaN</td>\n",
       "      <td>plz. Zebra Katz. plz.</td>\n",
       "      <td>neither</td>\n",
       "      <td>[neither,neither,neither]</td>\n",
       "    </tr>\n",
       "    <tr>\n",
       "      <th>freq</th>\n",
       "      <td>NaN</td>\n",
       "      <td>NaN</td>\n",
       "      <td>NaN</td>\n",
       "      <td>1</td>\n",
       "      <td>5729</td>\n",
       "      <td>4215</td>\n",
       "    </tr>\n",
       "    <tr>\n",
       "      <th>mean</th>\n",
       "      <td>5.770472e+17</td>\n",
       "      <td>5.768513e+17</td>\n",
       "      <td>2.585746e+08</td>\n",
       "      <td>NaN</td>\n",
       "      <td>NaN</td>\n",
       "      <td>NaN</td>\n",
       "    </tr>\n",
       "    <tr>\n",
       "      <th>std</th>\n",
       "      <td>1.447716e+16</td>\n",
       "      <td>1.369519e+16</td>\n",
       "      <td>6.929351e+08</td>\n",
       "      <td>NaN</td>\n",
       "      <td>NaN</td>\n",
       "      <td>NaN</td>\n",
       "    </tr>\n",
       "    <tr>\n",
       "      <th>min</th>\n",
       "      <td>3.193999e+17</td>\n",
       "      <td>3.241139e+17</td>\n",
       "      <td>8.577610e+05</td>\n",
       "      <td>NaN</td>\n",
       "      <td>NaN</td>\n",
       "      <td>NaN</td>\n",
       "    </tr>\n",
       "    <tr>\n",
       "      <th>25%</th>\n",
       "      <td>5.682742e+17</td>\n",
       "      <td>5.670718e+17</td>\n",
       "      <td>1.385734e+07</td>\n",
       "      <td>NaN</td>\n",
       "      <td>NaN</td>\n",
       "      <td>NaN</td>\n",
       "    </tr>\n",
       "    <tr>\n",
       "      <th>50%</th>\n",
       "      <td>5.723475e+17</td>\n",
       "      <td>5.728788e+17</td>\n",
       "      <td>1.385734e+07</td>\n",
       "      <td>NaN</td>\n",
       "      <td>NaN</td>\n",
       "      <td>NaN</td>\n",
       "    </tr>\n",
       "    <tr>\n",
       "      <th>75%</th>\n",
       "      <td>5.895577e+17</td>\n",
       "      <td>5.944008e+17</td>\n",
       "      <td>1.385734e+07</td>\n",
       "      <td>NaN</td>\n",
       "      <td>NaN</td>\n",
       "      <td>NaN</td>\n",
       "    </tr>\n",
       "    <tr>\n",
       "      <th>max</th>\n",
       "      <td>6.183671e+17</td>\n",
       "      <td>6.036935e+17</td>\n",
       "      <td>3.294745e+09</td>\n",
       "      <td>NaN</td>\n",
       "      <td>NaN</td>\n",
       "      <td>NaN</td>\n",
       "    </tr>\n",
       "  </tbody>\n",
       "</table>\n",
       "</div>"
      ],
      "text/plain": [
       "            Tweet_ID      Previous       User_ID                   Text  \\\n",
       "count   6.667000e+03  3.564000e+03  6.667000e+03  6667                    \n",
       "unique NaN           NaN           NaN            6667                    \n",
       "top    NaN           NaN           NaN            plz. Zebra Katz. plz.   \n",
       "freq   NaN           NaN           NaN            1                       \n",
       "mean    5.770472e+17  5.768513e+17  2.585746e+08  NaN                     \n",
       "std     1.447716e+16  1.369519e+16  6.929351e+08  NaN                     \n",
       "min     3.193999e+17  3.241139e+17  8.577610e+05  NaN                     \n",
       "25%     5.682742e+17  5.670718e+17  1.385734e+07  NaN                     \n",
       "50%     5.723475e+17  5.728788e+17  1.385734e+07  NaN                     \n",
       "75%     5.895577e+17  5.944008e+17  1.385734e+07  NaN                     \n",
       "max     6.183671e+17  6.036935e+17  3.294745e+09  NaN                     \n",
       "\n",
       "       Expert_Label              Amateur_Label  \n",
       "count   6667         6667                       \n",
       "unique  4            150                        \n",
       "top     neither      [neither,neither,neither]  \n",
       "freq    5729         4215                       \n",
       "mean    NaN          NaN                        \n",
       "std     NaN          NaN                        \n",
       "min     NaN          NaN                        \n",
       "25%     NaN          NaN                        \n",
       "50%     NaN          NaN                        \n",
       "75%     NaN          NaN                        \n",
       "max     NaN          NaN                        "
      ]
     },
     "execution_count": 9,
     "metadata": {},
     "output_type": "execute_result"
    }
   ],
   "source": [
    "df2.describe(include='all')"
   ]
  },
  {
   "cell_type": "code",
   "execution_count": 10,
   "metadata": {
    "collapsed": false
   },
   "outputs": [
    {
     "data": {
      "text/plain": [
       "<matplotlib.axes._subplots.AxesSubplot at 0x110d41080>"
      ]
     },
     "execution_count": 10,
     "metadata": {},
     "output_type": "execute_result"
    },
    {
     "data": {
      "image/png": "[encoded data removed]",
      "text/plain": [
       "<matplotlib.figure.Figure at 0x110d9a278>"
      ]
     },
     "metadata": {},
     "output_type": "display_data"
    }
   ],
   "source": [
    "%matplotlib inline\n",
    "df2['Expert_Label'].value_counts().plot(kind=\"bar\")"
   ]
  },
  {
   "cell_type": "markdown",
   "metadata": {},
   "source": [
    "#### Label: Sexism"
   ]
  },
  {
   "cell_type": "code",
   "execution_count": 11,
   "metadata": {
    "collapsed": false
   },
   "outputs": [
    {
     "data": {
      "text/plain": [
       "399    #BlameOneNotAll seems like another instance where 1st world women gets to wag their fingers because someone else spoke in the room.                    \n",
       "499    RT @iparthsv: #ShameOnSharad Indian women did not do bahishkar of fairness cream, and now they can't take a sexist statement. #feminazi                \n",
       "859    Feminism is okay. Believing in a woman-over-man feminazi world is not. Women=men, men=women.                                                           \n",
       "672    @nat_com1 @Feminazi_Front Evolution doesn't have a brain to be sexist with but it did make men &amp; women different &amp; unequal biologically.       \n",
       "607    #Feminazi just scolded me because I made fun of her and her stupid Brazilian wax. Says men don't understand what women go through.                     \n",
       "193    ''feminazi''                                                                                                                                           \n",
       "528    ... http://t.co/TXoM9j0E7V #asian #filipino #free #indian #japanese #oriental #thai #video #videos #vietnamese #whoriental #XXX                        \n",
       "694    Bitch be old as hell. Like a feminazi and shit! #WalkingDead                                                                                           \n",
       "311    http://t.co/DZj5QCkc4s Feminazi Blog Reminds Liberals Today Is “National Day of Appreciation for Abortion Providers”… #CNRapp                          \n",
       "785    Erol is the world's leading light on #psychopaths, all psychopaths have a female brain &gt;&gt; https://t.co/L1lL5BkyLH &lt;&lt; #MGTOW #Feminazi #PTSD\n",
       "Name: Text, dtype: object"
      ]
     },
     "execution_count": 11,
     "metadata": {},
     "output_type": "execute_result"
    }
   ],
   "source": [
    "df2[df2['Expert_Label'] == 'sexism'].sample(n=10)['Text']"
   ]
  },
  {
   "cell_type": "markdown",
   "metadata": {},
   "source": [
    "#### Label: Racism"
   ]
  },
  {
   "cell_type": "code",
   "execution_count": 12,
   "metadata": {
    "collapsed": false
   },
   "outputs": [
    {
     "data": {
      "text/plain": [
       "62     @funkflex you coon ass nigga #FuckBoy #Coon #StraightPussy #ScaredOfTheMedia                                                                 \n",
       "109    RT @ShawnaB_Me: Can we re-retire the word #Coon                                                                                              \n",
       "78     #isis #isil #terror #terrorism #terrorist #terrorists #israel #islam #islamic #zion #zionist #arab https://t.co/T5Aqhn10TS                   \n",
       "49     baby you can drive my car http://t.co/CyhEMc8aVy #asian #juicyasian #sex #nsfw #adult #xxx                                                   \n",
       "91     what's sad is that somewhere in Detroit @RealBenCarson is being called #Coon or a #Sellout                                                   \n",
       "67     @Ibramblebush quit cryin ya fuckin coon the dumshit shoukdnt fucked with tha cops yard ape got had @PornoMexico2 @Oprah @asswhitegirls #coon \n",
       "71     watced movie bout obama bein president called rise of the planet of the apes just nwo @Oprah @BillCosby @TheOGKooLAiD @KimKardashian #coon   \n",
       "110    @cthagod ---&gt; PERFECT EXAMPLE OF A COON. #STILL can't get over the \"white nubian goddess\" comment.... FOH!!!! #COON Let's talk about that!\n",
       "115    Feminazi Femi卐                                                                                                                               \n",
       "60     This was in 2013 I didn't know bout it..Russell Simmons put out this garbage..fuck that #coon knew he… https://t.co/GZYG5GYRXb               \n",
       "Name: Text, dtype: object"
      ]
     },
     "execution_count": 12,
     "metadata": {},
     "output_type": "execute_result"
    }
   ],
   "source": [
    "df2[df2['Expert_Label'] == 'racism'].sample(n=10)['Text']"
   ]
  },
  {
   "cell_type": "markdown",
   "metadata": {},
   "source": [
    "#### Label: Both"
   ]
  },
  {
   "cell_type": "code",
   "execution_count": 13,
   "metadata": {
    "collapsed": false
   },
   "outputs": [
    {
     "data": {
      "text/plain": [
       "8     RT @ChrisWarcraft: I would rather lose 100k followers by standing up for others in a bad position than gain 100 by keeping my mouth shut fo…     \n",
       "24    Erol exposes the #Feminazi groomed by Zionist Jews to join them in hell, for eternity, as #misery craves company &gt;&gt; https://t.co/2ootOyI4gj\n",
       "18    #GermanProfessor gives meaning to term FemiNazi.Doesn't hire \"Indian Men\" bcz of \"Indias's Rape Problem\" http://t.co/zyvMzmeEA6 @TarekFatah      \n",
       "29    @VestryHouse You can just see her credentials. Black FemiNazi.                                                                                   \n",
       "0     @TVBachelor @NewJerzeyBoy what about the feminazi and the isis member?                                                                           \n",
       "6     @ANN_Lynzee the thing i fight with is when i see minorities mob signing off on the exact behavior they know is terrible.                         \n",
       "30    Someone that will be like, \"Randi, put down the toffee. You're going to get a stomach ache.\" I have a stomach ache.                              \n",
       "5     “@UberFacts: KFC Japan has created a fried chicken keyboard, mouse, and USB drive.” #asian @TomCatKiefer                                         \n",
       "11    Hey @rosemcgowan why not fight a real enemy like islams treatment of women? Oh that's right ,would require a spine. Talentless twat feminazi     \n",
       "31    \"@931wzak: Don Lemon Defends N-Word Singing Oklahoma Frat Mom http://t.co/qreIfmwbrc http://t.co/zyJvrqKIKt\" #coon                               \n",
       "Name: Text, dtype: object"
      ]
     },
     "execution_count": 13,
     "metadata": {},
     "output_type": "execute_result"
    }
   ],
   "source": [
    "df2[df2['Expert_Label'] == 'both'].sample(n=10)['Text']"
   ]
  },
  {
   "cell_type": "code",
   "execution_count": 14,
   "metadata": {
    "collapsed": false
   },
   "outputs": [
    {
     "data": {
      "text/plain": [
       "6650    @scaryjen @Alfuriuskj @Nayadrikj undead 4ever.                                                                                              \n",
       "3592    @ClariceFox4 @FOX4 Booooooooo #Coon                                                                                                         \n",
       "1025    Oh. How strange. Nero, glorious leader of a campaign that is supposedly not about harassment, is mocking harassment. https://t.co/1KhIcgC7UF\n",
       "3227    @substitute it's.... well, it's not horrible. just boring.                                                                                  \n",
       "2550    Entering GDC expo hall. Look for the neon pink backpack :)                                                                                  \n",
       "4289    OK, no. @TheDebtList_com is the worst idea I've seen on twitter so far.                                                                     \n",
       "4352    Just a reminder, this is the kind of logic &amp; reasoning that we've come to expect from GG: http://t.co/7RjxqC3ZsG                        \n",
       "2053    @TheQuinnspiracy btw I've got a lot of museum BM that would fit you. Retro Tetris leggings. You can borrow if you are into that kinda thing \n",
       "3201    @chilblane lol. time to look at a new social group and write a blocklist, i guess.                                                          \n",
       "5447    Salut ! #animal #all_shots #beautifulpictures #cat #chat #coon #catlover #catlovers #catstagram… https://t.co/cw5VZ3m7iE                    \n",
       "Name: Text, dtype: object"
      ]
     },
     "execution_count": 14,
     "metadata": {},
     "output_type": "execute_result"
    }
   ],
   "source": [
    "df2[df2['Expert_Label'] == 'neither'].sample(n=10)['Text']"
   ]
  },
  {
   "cell_type": "code",
   "execution_count": 15,
   "metadata": {
    "collapsed": false
   },
   "outputs": [
    {
     "data": {
      "text/plain": [
       "3998"
      ]
     },
     "execution_count": 15,
     "metadata": {},
     "output_type": "execute_result"
    }
   ],
   "source": [
    "df[df['Label'] == 'sexism'][\"Text\"].count() + df2[df2['Expert_Label'] == 'sexism'][\"Text\"].count() + df2[df2['Expert_Label'] == 'both'][\"Text\"].count()"
   ]
  },
  {
   "cell_type": "code",
   "execution_count": 16,
   "metadata": {
    "collapsed": false
   },
   "outputs": [
    {
     "data": {
      "text/plain": [
       "2062"
      ]
     },
     "execution_count": 16,
     "metadata": {},
     "output_type": "execute_result"
    }
   ],
   "source": [
    "df[df['Label'] == 'racism'][\"Text\"].count() + df2[df2['Expert_Label'] == 'racism'][\"Text\"].count() + df2[df2['Expert_Label'] == 'both'][\"Text\"].count()"
   ]
  },
  {
   "cell_type": "code",
   "execution_count": 17,
   "metadata": {
    "collapsed": false
   },
   "outputs": [
    {
     "data": {
      "text/plain": [
       "16844"
      ]
     },
     "execution_count": 17,
     "metadata": {},
     "output_type": "execute_result"
    }
   ],
   "source": [
    "df[df['Label'] == 'none'][\"Text\"].count() + df2[df2['Expert_Label'] == 'neither'][\"Text\"].count()"
   ]
  },
  {
   "cell_type": "markdown",
   "metadata": {
    "collapsed": true
   },
   "source": [
    "## Preprocessing"
   ]
  },
  {
   "cell_type": "code",
   "execution_count": 22,
   "metadata": {
    "collapsed": true
   },
   "outputs": [],
   "source": [
    "from preprocess import preprocess_tweet"
   ]
  },
  {
   "cell_type": "code",
   "execution_count": 23,
   "metadata": {
    "collapsed": false
   },
   "outputs": [
    {
     "name": "stdout",
     "output_type": "stream",
     "text": [
      "RT @marlenac: So, if you thought that this whole Wadwha silencing women thing was theoretical, here is our proof: http://t.co/toNOu1pK6o #s…\n",
      ": so , if you thought that this whole wadwha silencing women thing was theoretical , here is our proof :  s …\n",
      "\n",
      "@BurcuCekmece Oktar blabbers on about the YPG that the people of Kobane love while ignoring ISIS that the people of Kobane hate. Oktar lies\n",
      "oktar blabbers on about the ypg that the people of kobane love while ignoring isis that the people of kobane hate . oktar lies\n",
      "\n",
      "I don't understand how people don't like Vicki and Celine. They're my kind of people (although I'm also from SA so it might explain it) #mkr\n",
      "i don't understand how people don't like vicki and celine . they're my kind of people ( although i'm also from sa so it might explain it ) mkr\n",
      "\n",
      "@BadeOzcelik Where does Oktar find all of you bimbos to endlessly repeat his stupidity.\n",
      "where does oktar find all of you bimbos to endlessly repeat his stupidity .\n",
      "\n",
      "We knew when we started this that a movement based on harassment would do anything in their power to stop it.\n",
      "we knew when we started this that a movement based on harassment would do anything in their power to stop it .\n",
      "\n",
      "@TheInfoIslam We all saw Cantlie's video of how Kobane was entirely taken by the Daesh and only mopping up was left. We are still laughing.\n",
      "we all saw cantlie's video of how kobane was entirely taken by the daesh and only mopping up was left . we are still laughing .\n",
      "\n",
      "@PardusXY The idea...or the argument?\n",
      "the idea ... or the argument ?\n",
      "\n",
      "RT @jeanniology: Obama implies murder of 3 Muslims in NC is religious bigotry but terrorists slaughtering Jews in a Paris kosher deli is a …\n",
      ": obama implies murder of 3 muslims in nc is religious bigotry but terrorists slaughtering jews in a paris kosher deli is a …\n",
      "\n",
      "@NiyamaKandeGrif This is Islamophobia. #Islam http://t.co/wVzM9DtMcm\n",
      "this is islamophobia . islam\n",
      "\n",
      "HOW THE FUCK ARE KAT AND ANDRE STILL IN THE COMPETITION FUCK #MKR\n",
      "how the fuck are kat and andre still in the competition fuck mkr\n",
      "\n",
      "@Bahai144 @greta So go and fight ISIS yourself instead of being a babbling internet coward? What is stopping you?\n",
      "so go and fight isis yourself instead of being a babbling internet coward ? what is stopping you ?\n",
      "\n",
      "@dankmtl Hard to get stupider than you. Still no change in ratios justified by anything Israel did.\n",
      "hard to get stupider than you . still no change in ratios justified by anything israel did .\n",
      "\n",
      "@Stanford @wadhwa @StanfordMed No thank you.\n",
      "no thank you .\n",
      "\n",
      "@i_magpie @uygaraktas And Baghdadi has displaced millions, idiot.\n",
      "and baghdadi has displaced millions , idiot .\n",
      "\n",
      ".@SirScatters @LostSailorNY Not being gay is not homophobia. Some do try to conflate them, somehow...\n",
      ". not being gay is not homophobia . some do try to conflate them , somehow ...\n",
      "\n",
      "I think I need to make a Facebook page, too. UGH. So weird. All of it. I am still coming to terms with this being my life.\n",
      "i think i need to make a facebook page , too . ugh . so weird . all of it . i am still coming to terms with this being my life .\n",
      "\n",
      "OMG this churner feels like razor blades on my hand! Oh wait... #mkr\n",
      "omg this churner feels like razor blades on my hand ! oh wait ... mkr\n",
      "\n",
      "RT @jessxlove i swear im not sexist but female tattoo artists bug me\n",
      "i swear im not sexist but female tattoo artists bug me\n",
      "\n",
      "@harmlesstree2 Here5 https://t.co/xWJzpSodGj\n",
      "here 5\n",
      "\n",
      "@AliTahmizian Kardashians need to be forgotten, not emulated.\n",
      "kardashians need to be forgotten , not emulated .\n",
      "\n",
      "CANNOT STOP LAUGHING AT THAT GUY http://t.co/1cyqF7E0XB\n",
      "cannot stop laughing at that guy\n",
      "\n",
      "NO! #MKR\n",
      "no ! mkr\n",
      "\n",
      "@ENDSexAbuseNOW Who is to blame for that?\n",
      "who is to blame for that ?\n",
      "\n",
      "“@squishilicious: A preview of the main #MKR (ok, actual food served to me by Gosford Hospital). Mmm carrots. http://t.co/KkOciqce8j” WTF!!\n",
      "“ : a preview of the main mkr ( ok , actual food served to me by gosford hospital ) . mmm carrots . ” wtf ! !\n",
      "\n",
      "RT @ColbyHarris902: I honestly can't believe they added female Soldiers to Call Of Duty Ghosts, I'm not sexist but it's kinda weird and a l…\n",
      ": i honestly can't believe they added female soldiers to call of duty ghosts , i'm not sexist but it's kinda weird and a l …\n",
      "\n",
      "RT @allisonekane: Colin, are you having a lend? 7 for main and dessert? Little skill was demonstrated throughout. #MKR\n",
      ": colin , are you having a lend ? 7 for main and dessert ? little skill was demonstrated throughout . mkr\n",
      "\n",
      "@aliabdalhamid @izrinhariri In Islam, the only \"innocent souls\" are Muslims. Anyone else is fair game for any abuse.\n",
      "in islam , the only \" innocent souls \" are muslims . anyone else is fair game for any abuse .\n",
      "\n",
      "@Pyrrha108 I bet Choudary didn't sign that Fatwa.\n",
      "i bet choudary didn't sign that fatwa .\n",
      "\n",
      "@asem_1994 People were making scientific discoveries, including Algebra, before Islam.\n",
      "people were making scientific discoveries , including algebra , before islam .\n",
      "\n",
      "Kat's dealer obviously delivers #mkr #whatdrugproblem\n",
      "kat's dealer obviously delivers mkr whatdrugproblem\n",
      "\n",
      "@sudixitca A few manufacturing jobs are already migrating back to the US. The Chinese won't work cheap forever.\n",
      "a few manufacturing jobs are already migrating back to the us . the chinese won't work cheap forever .\n",
      "\n",
      "i played the video for him and he stopped.\n",
      "i played the video for him and he stopped .\n",
      "\n",
      "More instant restaurants? Are you serioussssss #MKR\n",
      "more instant restaurants ? are you seriousss mkr\n",
      "\n",
      "Want 2 get men 2 approach other men on buses, trains, and sidewalks pestering them 2 b best friends, 24/7 and see how they fucking like it.\n",
      "want 2 get men 2 approach other men on buses , trains , and sidewalks pestering them 2 b best friends , 24/7 and see how they fucking like it .\n",
      "\n",
      "@DianH4 Not only do that, but they can dump their wives, leaving them nothing, by saying three times, \"I Divorce you\". Barbaric.\n",
      "not only do that , but they can dump their wives , leaving them nothing , by saying three times , \" i divorce you \" . barbaric .\n",
      "\n",
      "RT @Marct009: @SkyNews Black Widow I can understand she was an original character. I am not sexist but Thor has always been a guy.. Can't s…\n",
      ": black widow i can understand she was an original character . i am not sexist but thor has always been a guy .. can't s …\n",
      "\n",
      "Haha Kate, wiped the smile off your face too #mkr\n",
      "haha kate , wiped the smile off your face too mkr\n",
      "\n",
      "@milfgaardian not sure. i kind of like when it fades on short hair, if it's dyed well. it's less monotone.\n",
      "not sure . i kind of like when it fades on short hair , if it's dyed well . it's less monotone .\n",
      "\n",
      "RT @SydneyEditor1: Lots of raw food around #MKR\n",
      ": lots of raw food around mkr\n",
      "\n",
      "RT @TRobinsonNewEra: In memory of Dan Uzan (Z'L) #jewish heroic guard assassinated at sinagogue #Copenhagen saving the 80 people inside. ht…\n",
      ": in memory of dan uzan ( z'l ) jewish heroic guard assassinated at sinagogue copenhagen saving the 80 people inside . ht …\n",
      "\n",
      "Presented without comment: http://t.co/pBhlLdmpCP\n",
      "presented without comment :\n",
      "\n",
      "RT @SicknessTheDick: @YesYoureSexist lol, actually it's my twitter, pretty sure i can say whatever the fuck i want here. ;P\n",
      ": lol , actually it's my twitter , pretty sure i can say whatever the fuck i want here . ;p\n",
      "\n",
      "@MaxBlumenthal @yaghiadam75 http://t.co/rLWZo41yxJ\n",
      "\n",
      "\n",
      "@truaemusic You are defending the prophet Mohammed and he was a murderer, sexist, imperialist and bigot.\n",
      "you are defending the prophet mohammed and he was a murderer , sexist , imperialist and bigot .\n",
      "\n",
      "@congressman_aly I know that they have the same policy of breeding like rats and population imperialism as their prophet Mohammed.\n",
      "i know that they have the same policy of breeding like rats and population imperialism as their prophet mohammed .\n",
      "\n",
      "@ingyusarms Earthly tyrants are also egotistical and want everyone to admire them and bow down to them. So the Quran writer imagined god.\n",
      "earthly tyrants are also egotistical and want everyone to admire them and bow down to them . so the quran writer imagined god .\n",
      "\n",
      "@Ammaawah @jm111t That's only because they don't follow Islam. Islam tells women to stay at home. http://t.co/UQLoWj1GjS\n",
      "that's only because they don't follow islam . islam tells women to stay at home .\n",
      "\n",
      "Please tell me #CuntAndAndre go to sudden death tonight #CantCook #CuntCook #MKR #WontStopTillTheyDrop\n",
      "please tell me cuntandandre go to sudden death tonight cantcook cuntcook mkr wontstoptilltheydrop\n",
      "\n",
      "Good on you Ash and Camila #yum #mkr\n",
      "good on you ash and camila yum mkr\n",
      "\n",
      "@discerningmumin Do you think of democracy in the Hamas sense? One man, one vote, one time.\n",
      "do you think of democracy in the hamas sense ? one man , one vote , one time .\n",
      "\n",
      "Can't wait to see the winners #mkr\n",
      "can't wait to see the winners mkr\n",
      "\n",
      "Are these two serious! #mkr\n",
      "are these two serious ! mkr\n",
      "\n",
      "Kat the contradictory cow. Says she regrets voting strategically but does it again #mkr #mkr2015\n",
      "kat the contradictory cow . says she regrets voting strategically but does it again mkr mkr2015\n",
      "\n",
      "add a filter to toggle showing phone-verified accts in clients (requires devpolicy update, natch).\n",
      "add a filter to toggle showing phone-verified accts in clients ( requires devpolicy update , natch ) .\n",
      "\n",
      "RT @TorreyFlocka: I'm not sexist it's just funny to attack women's rights because they all get so defensive\n",
      ": i'm not sexist it's just funny to attack women's rights because they all get so defensive\n",
      "\n",
      "@TheVictoryFront @ALWiss5 It's a toss up. http://t.co/b4RH3WJXcd\n",
      "it's a toss up .\n",
      "\n",
      "RT @Adobe: For those seeing #WhiteandGold in #TheDress (http://t.co/pNG9tXu5pU), @HopeTaylorPhoto ends the debate. http://t.co/W7TwQJy13m\n",
      ": for those seeing whiteandgold in thedress ( ) , ends the debate .\n",
      "\n",
      "RT @NewIdeamagazine: They weren't kidding when they said deconstructed! #mkr\n",
      ": they weren't kidding when they said deconstructed ! mkr\n",
      "\n",
      "RT @JillWetzler: You get recruiters contacting you, actually telling you they want to improve their diversity and they want you to help.\n",
      ": you get recruiters contacting you , actually telling you they want to improve their diversity and they want you to help .\n",
      "\n",
      "RT @Smouv @rmv1989 The only position they belong in ;) haha #NotSexist\n",
      "the only position they belong in ;) haha notsexist\n",
      "\n",
      "@gamerfortruth @athenahollow he had a huge ego, never produced anything, and everyone hated him. kind of like twitter.\n",
      "he had a huge ego , never produced anything , and everyone hated him . kind of like twitter .\n",
      "\n",
      "@bkerensa sometimes!\n",
      "sometimes !\n",
      "\n",
      "@JRCallsTheNews @EA_Pakistani @ShamiAnalyst Yeap, Mosul is a city full of sick people and they have murdered half the doctors.\n",
      "yeap , mosul is a city full of sick people and they have murdered half the doctors .\n",
      "\n",
      "RT @RavenHUWolf: Bloodthirsty Muslims flock to ISIS' theatre that loop jihadi atrocities they enjoy watching. http://t.co/c96V6MwGnz http:/…\n",
      ": bloodthirsty muslims flock to isis ' theatre that loop jihadi atrocities they enjoy watching . http :/ …\n",
      "\n",
      "*yawn* @Eminent_dude Im sorry but women cannot drive, call me sexist or whatever but it's true.\n",
      "* yawn * im sorry but women cannot drive , call me sexist or whatever but it's true .\n",
      "\n",
      "I hope Colin doesn't like it #mkr\n",
      "i hope colin doesn't like it mkr\n",
      "\n",
      "I hope Kat and Andre are eliminated next #mkr I'll make it happen\n",
      "i hope kat and andre are eliminated next mkr i'll make it happen\n",
      "\n",
      "Have realized that 8 hours in, my logic goes to hell and it's all rabbit holes and uncommitted code. Good reason to take a break.\n",
      "have realized that 8 hours in , my logic goes to hell and it's all rabbit holes and uncommitted code . good reason to take a break .\n",
      "\n",
      "RT @PatrickMurphy75: @TeamSkyNick the Belgium blonde near the end was a great spot\n",
      ": the belgium blonde near the end was a great spot\n",
      "\n",
      "RT @Oneiorosgrip: #adviceforyoungfeminists Be sure to employ double standards to excuse your bigotry. No one will notice. http://t.co/9wvQH…\n",
      ": adviceforyoungfeminists be sure to employ double standards to excuse your bigotry . no one will notice .\n",
      "\n",
      "RT @dcm81: #killerblondes ?? Have the producers lost the plot or have my eyes failed? In what universe are they even remotely hot in?? #MKR\n",
      ": killerblondes ? ? have the producers lost the plot or have my eyes failed ? in what universe are they even remotely hot in ? ? mkr\n",
      "\n",
      "Bugger forgot Simon Reeve was on SBS tonight #mkr\n",
      "bugger forgot simon reeve was on sbs tonight mkr\n",
      "\n",
      "Hey, @kcgreenn, thought you'd like to know a plagiarized version of one of your comics is going around with altered, offensive dialogue.\n",
      "hey , , thought you'd like to know a plagiarized version of one of your comics is going around with altered , offensive dialogue .\n",
      "\n",
      "@drurbanski we've got a PR firm. I might toss this their way.\n",
      "we've got a pr firm . i might toss this their way .\n",
      "\n",
      "So many delicious breakfast dishes! I would seriously struggle to pick one #mkr\n",
      "so many delicious breakfast dishes ! i would seriously struggle to pick one mkr\n",
      "\n",
      "@DennisCEarl well, given that vivek got an article pulled, it likely has something to do with them being in support of free speech.\n",
      "well , given that vivek got an article pulled , it likely has something to do with them being in support of free speech .\n",
      "\n",
      "So Kat and Andre from #mkr just leave a bad taste in your mouth. Very poor losers that's for sure.\n",
      "so kat and andre from mkr just leave a bad taste in your mouth . very poor losers that's for sure .\n",
      "\n",
      "RT @schmeezi Again and again I am reminded harshly that having a women boss truly sucks #sorrynotsorry #itsfact #notsexist\n",
      "again and again i am reminded harshly that having a women boss truly sucks sorrynotsorry itsfact notsexist\n",
      "\n",
      "RT @Oli_Peace Can't believe they are releasing a female Thor comic book series. I'm not sexist but I really don't think it would work.\n",
      "can't believe they are releasing a female thor comic book series . i'm not sexist but i really don't think it would work .\n",
      "\n",
      "@abunaseeha3 They didn't caputure any. They just accused some poor saps and executed them.\n",
      "they didn't caputure any . they just accused some poor saps and executed them .\n",
      "\n",
      "Kat &amp; Andre are about as popular as Jake Bilardi right now #MKR #topical\n",
      "kat & andre are about as popular as jake bilardi right now mkr topical\n",
      "\n",
      "RT @RetireTheLeft: A Muslim can lie to further Islam! RT http://t.co/miPJwErJDQ #STOPIslam #BillWarnerPhD #PoliticalIslam #CSPI #BanSharia\n",
      ": a muslim can lie to further islam ! rt stopislam billwarnerphd politicalislam cspi bansharia\n",
      "\n",
      "@LibyaLiberty @SumbelinaZ You are lying. Most Muslims are still extremists. http://t.co/u7L1uPRN7L\n",
      "you are lying . most muslims are still extremists .\n",
      "\n",
      "@UmarMal I'm talking about western Kuffir states, not just America.\n",
      "i'm talking about western kuffir states , not just america .\n",
      "\n",
      "@ZorazZora @zackbeauchamp This is an idiotic study made with an objective in mind. Terrorism is not included in the murder rate.\n",
      "this is an idiotic study made with an objective in mind . terrorism is not included in the murder rate .\n",
      "\n",
      "@eevee @Manami_Fox @femfreq that has got to be one of the weirdest insults i've ever seen slung by an MRA/gater/whatever.\n",
      "that has got to be one of the weirdest insults i've ever seen slung by an mra / gater / whatever .\n",
      "\n",
      "RT @Larryputt: Islam Or Else? Really That's What They Are taught! To pray those who Earned Anger &amp; Those That Have went Astray! http://t.co…\n",
      ": islam or else ? really that's what they are taught ! to pray those who earned anger & those that have went astray !\n",
      "\n",
      "What. 😦 #mkr That was. Not ok.\n",
      "what . 😦 mkr that was . not ok .\n",
      "\n",
      "@KirinDave it's going to be an NPO, so I'll never get rich off of it. :P The goal is just to make enough to live comfortably.\n",
      "it's going to be an npo , so i'll never get rich off of it . :p the goal is just to make enough to live comfortably .\n",
      "\n",
      "@EloisePeace agree! I lose interest after instant restaurants. Think they're cashing in on that fact this year. #mkr\n",
      "agree ! i lose interest after instant restaurants . think they're cashing in on that fact this year . mkr\n",
      "\n",
      "RT @kr1sh84: Well done #mkr for keeping scum on the show. Hope Kat and Andre end up poisoning all you fuckers.\n",
      ": well done mkr for keeping scum on the show . hope kat and andre end up poisoning all you fuckers .\n",
      "\n",
      "RT @Strubbestition I'm not sexist, but personal opinions shouldn't be considered sexist remarks (in almost all cases)\n",
      "i'm not sexist , but personal opinions shouldn't be considered sexist remarks ( in almost all cases )\n",
      "\n",
      "@adnanifares There were no chemical missles fired. The Pesh hit ISIS chemical weapons with their rockets.\n",
      "there were no chemical missles fired . the pesh hit isis chemical weapons with their rockets .\n",
      "\n",
      "@PoliticalAnt @zene55 @bq281473 @foxnewspolitics @BarackObama There is no difference between what ISIS does and what Mohammed did.\n",
      "there is no difference between what isis does and what mohammed did .\n",
      "\n",
      "RT @WhatAboutBob7: What ISIS Thinks Of #Gays! Iraq: Isis cruelty graphically revealed in gay man's savage rooftop execution in Mosul! http:…\n",
      ": what isis thinks of gays ! iraq : isis cruelty graphically revealed in gay man's savage rooftop execution in mosul ! http : …\n",
      "\n",
      "RT @umair4v: Identity of Women http://t.co/L4lPllgGI1\n",
      ": identity of women\n",
      "\n",
      "@SamanthaZeitlin I'm about to wander outside and enjoy the sun for a few minutes.\n",
      "i'm about to wander outside and enjoy the sun for a few minutes .\n",
      "\n",
      "#MKR. Kat, you snake. Even if you win and open your own restaurant. Who's going to go?\n",
      "mkr . kat , you snake . even if you win and open your own restaurant . who's going to go ?\n",
      "\n",
      "@thefallofmath http://t.co/LsYU3isDbX\n",
      "\n",
      "\n",
      "Oh another trip around the country? Will they be cooking shark? Because this show just jumped one and maimed it beyond recognition #mkr\n",
      "oh another trip around the country ? will they be cooking shark ? because this show just jumped one and maimed it beyond recognition mkr\n",
      "\n"
     ]
    }
   ],
   "source": [
    "samples = df.sample(n=100)\n",
    "\n",
    "for i, row in samples.iterrows():\n",
    "    tweet = row['Text']\n",
    "    print(tweet)\n",
    "    print(preprocess_tweet(tweet) + \"\\n\")"
   ]
  },
  {
   "cell_type": "code",
   "execution_count": 36,
   "metadata": {
    "collapsed": false
   },
   "outputs": [],
   "source": [
    "l = pd.concat([df[df['Label'] == 'sexism']['Text'], df2[df2['Expert_Label'] == 'sexism']['Text'], df2[df2['Expert_Label'] == 'both']['Text']])"
   ]
  },
  {
   "cell_type": "code",
   "execution_count": 65,
   "metadata": {
    "collapsed": false
   },
   "outputs": [],
   "source": [
    "def dataframe_to_list(df):\n",
    "    df = df.drop_duplicates()\n",
    "    result = list(map(lambda x: preprocess_tweet(x), df.tolist()))\n",
    "    return list(filter(lambda x: x, result)) # filter out empty string"
   ]
  },
  {
   "cell_type": "code",
   "execution_count": 66,
   "metadata": {
    "collapsed": false
   },
   "outputs": [],
   "source": [
    "l = l.sample(n=10)"
   ]
  },
  {
   "cell_type": "code",
   "execution_count": 67,
   "metadata": {
    "collapsed": false
   },
   "outputs": [
    {
     "data": {
      "text/plain": [
       "3206    RT @Cjalred: And don't you dare call me sexist for generalizing women. If I had a dollar for every time I heard a woman say \"men are all th…\n",
       "249     People get offended by the generic term feminazi but it's never been so true for certain individuals                                        \n",
       "4748    @Roostrwoodstock @EnaLolena Your friends were not drug out of their home bitch. Every word out of your mouth is a Putin paid propaganda.    \n",
       "141     I hate the #BlameOneNotAll campaign I know not all men are rapists but ALL men benefit from male privilege and ALL men are guilty of sexism \n",
       "3721    Please do! @TomFordyce1 Women's t20 cricket, I'm not sexist but I'd rather kick myself in the eye                                           \n",
       "3872    Only if you have privilege. @Snoogens_604 Im not sexist, racist, or have contempt for handicapped people, but a funny joke is a funny joke  \n",
       "5078    yeah so annoying how they're doing their jobs @Dean_Carr Call me sexist but woman football commentators annoy me so much, they never shut up\n",
       "2882    RT @mrMICHAUD I'm not sexist but I do not like one woman rapper out                                                                         \n",
       "3394    @DrJoanBeckwith You don't regard Ford as a problematic figure? http://t.co/8DmIDw7XPs                                                       \n",
       "2384    Oh Katie and Nikki, just because you're both (bottle) blondes that doesn't automatically make you pretty. #MKR #MKR2015                     \n",
       "Name: Text, dtype: object"
      ]
     },
     "execution_count": 67,
     "metadata": {},
     "output_type": "execute_result"
    }
   ],
   "source": [
    "l"
   ]
  },
  {
   "cell_type": "code",
   "execution_count": 68,
   "metadata": {
    "collapsed": false
   },
   "outputs": [
    {
     "data": {
      "text/plain": [
       "[': and don\\'t you dare call me sexist for generalizing women . if i had a dollar for every time i heard a woman say \" men are all th …',\n",
       " \"people get offended by the generic term feminazi but it's never been so true for certain individuals\",\n",
       " 'your friends were not drug out of their home bitch . every word out of your mouth is a putin paid propaganda .',\n",
       " 'i hate the blameonenotall campaign i know not all men are rapists but all men benefit from male privilege and all men are guilty of sexism',\n",
       " \"please do ! women's t20 cricket , i'm not sexist but i'd rather kick myself in the eye\",\n",
       " 'only if you have privilege . im not sexist , racist , or have contempt for handicapped people , but a funny joke is a funny joke',\n",
       " \"yeah so annoying how they're doing their jobs call me sexist but woman football commentators annoy me so much , they never shut up\",\n",
       " \"i'm not sexist but i do not like one woman rapper out\",\n",
       " \"you don't regard ford as a problematic figure ?\",\n",
       " \"oh katie and nikki , just because you're both ( bottle ) blondes that doesn't automatically make you pretty . mkr mkr2015\"]"
      ]
     },
     "execution_count": 68,
     "metadata": {},
     "output_type": "execute_result"
    }
   ],
   "source": [
    "dataframe_to_list(l)"
   ]
  },
  {
   "cell_type": "code",
   "execution_count": null,
   "metadata": {
    "collapsed": true
   },
   "outputs": [],
   "source": []
  }
 ],
 "metadata": {
  "anaconda-cloud": {},
  "kernelspec": {
   "display_name": "Python 3",
   "language": "python",
   "name": "python3"
  },
  "language_info": {
   "codemirror_mode": {
    "name": "ipython",
    "version": 3
   },
   "file_extension": ".py",
   "mimetype": "text/x-python",
   "name": "python",
   "nbconvert_exporter": "python",
   "pygments_lexer": "ipython3",
   "version": "3.4.5"
  }
 },
 "nbformat": 4,
 "nbformat_minor": 1
}
