{
 "cells": [
  {
   "cell_type": "markdown",
   "metadata": {},
   "source": [
    "# ALW1: 1st Workshop on Abusive Language Online \n",
    "to be held at the annual meeting of the Association of Computational Linguistics (ACL) 2017 (Vancouver, Canada),\n",
    "https://sites.google.com/site/abusivelanguageworkshop2017/home\n",
    "\n",
    "## Important dates\n",
    "\n",
    "Submission due: April 27th\n",
    "Author Notification: May 17th\n",
    "Camera Ready: May 26th\n",
    "Workshop Date: August 4th\n",
    "\n",
    "## Unshared Task Dataset Analysis"
   ]
  },
  {
   "cell_type": "markdown",
   "metadata": {},
   "source": [
    "### 1. Waseem and Hovy, NAACL 2016"
   ]
  },
  {
   "cell_type": "code",
   "execution_count": 1,
   "metadata": {
    "collapsed": true
   },
   "outputs": [],
   "source": [
    "import pandas as pd\n",
    "pd.set_option('display.max_colwidth', -1)"
   ]
  },
  {
   "cell_type": "code",
   "execution_count": 2,
   "metadata": {
    "collapsed": false
   },
   "outputs": [],
   "source": [
    "df = pd.read_csv('wassem_hovy_naacl.csv',\n",
    "                     sep=\"\\t\",\n",
    "                     header=None,\n",
    "                     skiprows=[0],\n",
    "                     names=[\"Tweet_ID\", \"Previous\", \"User_ID\", \"Text\", \"Label\"],\n",
    "                     error_bad_lines=False)"
   ]
  },
  {
   "cell_type": "code",
   "execution_count": 3,
   "metadata": {
    "collapsed": false
   },
   "outputs": [
    {
     "data": {
      "text/html": [
       "<div>\n",
       "<table border=\"1\" class=\"dataframe\">\n",
       "  <thead>\n",
       "    <tr style=\"text-align: right;\">\n",
       "      <th></th>\n",
       "      <th>Tweet_ID</th>\n",
       "      <th>Previous</th>\n",
       "      <th>User_ID</th>\n",
       "      <th>Text</th>\n",
       "      <th>Label</th>\n",
       "    </tr>\n",
       "  </thead>\n",
       "  <tbody>\n",
       "    <tr>\n",
       "      <th>count</th>\n",
       "      <td>1.620200e+04</td>\n",
       "      <td>7.687000e+03</td>\n",
       "      <td>1.620200e+04</td>\n",
       "      <td>16202</td>\n",
       "      <td>16202</td>\n",
       "    </tr>\n",
       "    <tr>\n",
       "      <th>unique</th>\n",
       "      <td>NaN</td>\n",
       "      <td>NaN</td>\n",
       "      <td>NaN</td>\n",
       "      <td>16202</td>\n",
       "      <td>3</td>\n",
       "    </tr>\n",
       "    <tr>\n",
       "      <th>top</th>\n",
       "      <td>NaN</td>\n",
       "      <td>NaN</td>\n",
       "      <td>NaN</td>\n",
       "      <td>Dumb blondes with pretty faces? You're definitely right on one of those statements... Guess which one... #MKR</td>\n",
       "      <td>none</td>\n",
       "    </tr>\n",
       "    <tr>\n",
       "      <th>freq</th>\n",
       "      <td>NaN</td>\n",
       "      <td>NaN</td>\n",
       "      <td>NaN</td>\n",
       "      <td>1</td>\n",
       "      <td>11115</td>\n",
       "    </tr>\n",
       "    <tr>\n",
       "      <th>mean</th>\n",
       "      <td>5.570068e+17</td>\n",
       "      <td>5.538049e+17</td>\n",
       "      <td>1.347147e+09</td>\n",
       "      <td>NaN</td>\n",
       "      <td>NaN</td>\n",
       "    </tr>\n",
       "    <tr>\n",
       "      <th>std</th>\n",
       "      <td>3.764030e+16</td>\n",
       "      <td>3.975646e+16</td>\n",
       "      <td>1.277989e+09</td>\n",
       "      <td>NaN</td>\n",
       "      <td>NaN</td>\n",
       "    </tr>\n",
       "    <tr>\n",
       "      <th>min</th>\n",
       "      <td>3.193999e+17</td>\n",
       "      <td>3.241139e+17</td>\n",
       "      <td>2.105021e+06</td>\n",
       "      <td>NaN</td>\n",
       "      <td>NaN</td>\n",
       "    </tr>\n",
       "    <tr>\n",
       "      <th>25%</th>\n",
       "      <td>5.627451e+17</td>\n",
       "      <td>5.597213e+17</td>\n",
       "      <td>1.970792e+07</td>\n",
       "      <td>NaN</td>\n",
       "      <td>NaN</td>\n",
       "    </tr>\n",
       "    <tr>\n",
       "      <th>50%</th>\n",
       "      <td>5.696500e+17</td>\n",
       "      <td>5.659425e+17</td>\n",
       "      <td>9.306205e+08</td>\n",
       "      <td>NaN</td>\n",
       "      <td>NaN</td>\n",
       "    </tr>\n",
       "    <tr>\n",
       "      <th>75%</th>\n",
       "      <td>5.750016e+17</td>\n",
       "      <td>5.723631e+17</td>\n",
       "      <td>2.941146e+09</td>\n",
       "      <td>NaN</td>\n",
       "      <td>NaN</td>\n",
       "    </tr>\n",
       "    <tr>\n",
       "      <th>max</th>\n",
       "      <td>6.183671e+17</td>\n",
       "      <td>5.767807e+17</td>\n",
       "      <td>3.079113e+09</td>\n",
       "      <td>NaN</td>\n",
       "      <td>NaN</td>\n",
       "    </tr>\n",
       "  </tbody>\n",
       "</table>\n",
       "</div>"
      ],
      "text/plain": [
       "            Tweet_ID      Previous       User_ID  \\\n",
       "count   1.620200e+04  7.687000e+03  1.620200e+04   \n",
       "unique NaN           NaN           NaN             \n",
       "top    NaN           NaN           NaN             \n",
       "freq   NaN           NaN           NaN             \n",
       "mean    5.570068e+17  5.538049e+17  1.347147e+09   \n",
       "std     3.764030e+16  3.975646e+16  1.277989e+09   \n",
       "min     3.193999e+17  3.241139e+17  2.105021e+06   \n",
       "25%     5.627451e+17  5.597213e+17  1.970792e+07   \n",
       "50%     5.696500e+17  5.659425e+17  9.306205e+08   \n",
       "75%     5.750016e+17  5.723631e+17  2.941146e+09   \n",
       "max     6.183671e+17  5.767807e+17  3.079113e+09   \n",
       "\n",
       "                                                                                                                 Text  \\\n",
       "count   16202                                                                                                           \n",
       "unique  16202                                                                                                           \n",
       "top     Dumb blondes with pretty faces? You're definitely right on one of those statements... Guess which one... #MKR   \n",
       "freq    1                                                                                                               \n",
       "mean    NaN                                                                                                             \n",
       "std     NaN                                                                                                             \n",
       "min     NaN                                                                                                             \n",
       "25%     NaN                                                                                                             \n",
       "50%     NaN                                                                                                             \n",
       "75%     NaN                                                                                                             \n",
       "max     NaN                                                                                                             \n",
       "\n",
       "        Label  \n",
       "count   16202  \n",
       "unique  3      \n",
       "top     none   \n",
       "freq    11115  \n",
       "mean    NaN    \n",
       "std     NaN    \n",
       "min     NaN    \n",
       "25%     NaN    \n",
       "50%     NaN    \n",
       "75%     NaN    \n",
       "max     NaN    "
      ]
     },
     "execution_count": 3,
     "metadata": {},
     "output_type": "execute_result"
    }
   ],
   "source": [
    "df.describe(include='all')"
   ]
  },
  {
   "cell_type": "code",
   "execution_count": 4,
   "metadata": {
    "collapsed": false
   },
   "outputs": [
    {
     "data": {
      "text/plain": [
       "<matplotlib.axes._subplots.AxesSubplot at 0x107587f90>"
      ]
     },
     "execution_count": 4,
     "metadata": {},
     "output_type": "execute_result"
    },
    {
     "data": {
      "image/png": "[encoded data removed]",
      "text/plain": [
       "<matplotlib.figure.Figure at 0x1075871d0>"
      ]
     },
     "metadata": {},
     "output_type": "display_data"
    }
   ],
   "source": [
    "import matplotlib.pyplot as plt\n",
    "\n",
    "%matplotlib inline\n",
    "df['Label'].value_counts().plot(kind=\"bar\")"
   ]
  },
  {
   "cell_type": "markdown",
   "metadata": {},
   "source": [
    "#### Label: Sexism "
   ]
  },
  {
   "cell_type": "code",
   "execution_count": 5,
   "metadata": {
    "collapsed": false
   },
   "outputs": [
    {
     "data": {
      "text/plain": [
       "2287    @vivant @tomsaw200 You sure? http://t.co/THwiZ2qDBR                                                                           \n",
       "3952    is kat like the devil incarnate?? #mkr #laughingatAnnie                                                                       \n",
       "3557    http://t.co/5a8IkXqSIx @anandkothekar #ArnabGoswami is a woman. Just can't stop talking. #NotSexist                           \n",
       "3139    #MKR if those girls use the word Sass one more time.. it does not mean what they think it means. #dictionary #dumbblonde #ergh\n",
       "2955    Stick it up em Kat, you're the sort of bitch that really makes the show #MKR                                                  \n",
       "4991    RT @D1BoundJoJo_ I'm not sexist but I don't like female refs                                                                  \n",
       "3776    @TheShujaatAli I like a multimedia approach.                                                                                  \n",
       "4186    RT @AkheemV Bout beckles, not another woman prime minister #Sorry, not sexist but look what going on......                    \n",
       "4235    @HumanistFury @Lesleywallace1 Feminist shirt never gets tossed. But no shock...fems own our schools.                          \n",
       "5015    RT @iamarkus: How is Katie be a model when she could feed the table with her right arm. #MKR #MKR2015                         \n",
       "Name: Text, dtype: object"
      ]
     },
     "execution_count": 5,
     "metadata": {},
     "output_type": "execute_result"
    }
   ],
   "source": [
    "df[df['Label'] == 'sexism'].sample(n=10)['Text']"
   ]
  },
  {
   "cell_type": "markdown",
   "metadata": {},
   "source": [
    "#### Label: Racism"
   ]
  },
  {
   "cell_type": "code",
   "execution_count": 6,
   "metadata": {
    "collapsed": false
   },
   "outputs": [
    {
     "data": {
      "text/plain": [
       "90      @CamilleHughes16 @_Watch_Observe_ The idea about all of these \"moderate\" Muslims is oversold. Most are extremists. http://t.co/cQJ6cNdGow   \n",
       "1801    @SirajZarook @BilalIGhumman @OdiniaInvictus @IsraeliRegime ....are not destructive and inhuman by design, like Islam.                       \n",
       "149     @urgedharry @nyazpolitics @greenlinerzjm Laugh all you want. Islam is a steaming pile of shit. Good night. Blocked.                         \n",
       "183     @DianH4 Not only do that, but they can dump their wives, leaving them nothing, by saying three times, \"I Divorce you\". Barbaric.            \n",
       "550     @BDSSupporter The Zionist label is just something scum like you use to attack Jews.                                                         \n",
       "1844    RT @Canine_Rights: @KizzyCoy1 exactly, is this why Europe has Sharia no go zones, so they can hide their child rapists?                     \n",
       "1594    @zakirnaikirf Saying that Islam is a way of life means that it tells you that you cannot have democracy and must instead follow a pedophile.\n",
       "138     @Sheikh_Times3 Nice of ISIS to get them together in one place so we can take out the trash.                                                 \n",
       "748     @Bruciebabe @MaxBlumenthal Every non Muslim demographic in every Muslim country is shrinking because of attacks from Muslims.               \n",
       "271     @greenlinerzjm Mohammed was a slave trader, caravan robber, murderer, beheader, rapist, sexist, bigot, liar and pedophile. Just like ISIS.  \n",
       "Name: Text, dtype: object"
      ]
     },
     "execution_count": 6,
     "metadata": {},
     "output_type": "execute_result"
    }
   ],
   "source": [
    "df[df['Label'] == 'racism'].sample(n=10)['Text']"
   ]
  },
  {
   "cell_type": "markdown",
   "metadata": {},
   "source": [
    "#### Label: None"
   ]
  },
  {
   "cell_type": "code",
   "execution_count": 7,
   "metadata": {
    "collapsed": false
   },
   "outputs": [
    {
     "data": {
      "text/plain": [
       "15020    @BlackGirlDanger cigarette trousers?                                                                                                       \n",
       "12677    Let me make this perfectly fucking clear. Every female major target of GamerGate is seeing a fuckton more mentions tonight. #LawAndOrderSVU\n",
       "15050    Annies back! #MKR                                                                                                                          \n",
       "16096    RT @SeaEph: #MKR has jumped the Shark Fin Soup #MKR                                                                                        \n",
       "13039    Is that watercress with the dessert? #mkr                                                                                                  \n",
       "11544    @dankmtl can be verified from countless sources.                                                                                           \n",
       "7185     @Sheikh_Times3 How would you kill the terrorists in Sinai?                                                                                 \n",
       "10627    @LifeInKhilafah Since both the Daesh and your prophet murdered women and children, you are talking like a hypocrite.                       \n",
       "14754    I'm actually disappointed. The WA couple are horrible. On the plus side they'll go home quickly because their cooking SUCKS #MKR           \n",
       "12133    Someone get me an ETA on when the storm is going to get out of the Northern California mountains?                                          \n",
       "Name: Text, dtype: object"
      ]
     },
     "execution_count": 7,
     "metadata": {},
     "output_type": "execute_result"
    }
   ],
   "source": [
    "df[df['Label'] == 'none'].sample(n=10)['Text']"
   ]
  },
  {
   "cell_type": "markdown",
   "metadata": {},
   "source": [
    "### 2. Waseem, NLP and CSS 2016"
   ]
  },
  {
   "cell_type": "code",
   "execution_count": 8,
   "metadata": {
    "collapsed": false
   },
   "outputs": [],
   "source": [
    "df2 = pd.read_csv('wassem_css.csv',\n",
    "                     sep=\"\\t\",\n",
    "                     header=None,\n",
    "                     skiprows=[0],\n",
    "                     names=[\"Tweet_ID\", \"Previous\", \"User_ID\", \"Text\", \"Expert_Label\", \"Amateur_Label\"],\n",
    "                     error_bad_lines=False)"
   ]
  },
  {
   "cell_type": "code",
   "execution_count": 9,
   "metadata": {
    "collapsed": false
   },
   "outputs": [
    {
     "data": {
      "text/html": [
       "<div>\n",
       "<table border=\"1\" class=\"dataframe\">\n",
       "  <thead>\n",
       "    <tr style=\"text-align: right;\">\n",
       "      <th></th>\n",
       "      <th>Tweet_ID</th>\n",
       "      <th>Previous</th>\n",
       "      <th>User_ID</th>\n",
       "      <th>Text</th>\n",
       "      <th>Expert_Label</th>\n",
       "      <th>Amateur_Label</th>\n",
       "    </tr>\n",
       "  </thead>\n",
       "  <tbody>\n",
       "    <tr>\n",
       "      <th>count</th>\n",
       "      <td>6.667000e+03</td>\n",
       "      <td>3.564000e+03</td>\n",
       "      <td>6.667000e+03</td>\n",
       "      <td>6667</td>\n",
       "      <td>6667</td>\n",
       "      <td>6667</td>\n",
       "    </tr>\n",
       "    <tr>\n",
       "      <th>unique</th>\n",
       "      <td>NaN</td>\n",
       "      <td>NaN</td>\n",
       "      <td>NaN</td>\n",
       "      <td>6667</td>\n",
       "      <td>4</td>\n",
       "      <td>150</td>\n",
       "    </tr>\n",
       "    <tr>\n",
       "      <th>top</th>\n",
       "      <td>NaN</td>\n",
       "      <td>NaN</td>\n",
       "      <td>NaN</td>\n",
       "      <td>@bryneaux i hate cats</td>\n",
       "      <td>neither</td>\n",
       "      <td>[neither,neither,neither]</td>\n",
       "    </tr>\n",
       "    <tr>\n",
       "      <th>freq</th>\n",
       "      <td>NaN</td>\n",
       "      <td>NaN</td>\n",
       "      <td>NaN</td>\n",
       "      <td>1</td>\n",
       "      <td>5729</td>\n",
       "      <td>4215</td>\n",
       "    </tr>\n",
       "    <tr>\n",
       "      <th>mean</th>\n",
       "      <td>5.770472e+17</td>\n",
       "      <td>5.768513e+17</td>\n",
       "      <td>2.585746e+08</td>\n",
       "      <td>NaN</td>\n",
       "      <td>NaN</td>\n",
       "      <td>NaN</td>\n",
       "    </tr>\n",
       "    <tr>\n",
       "      <th>std</th>\n",
       "      <td>1.447716e+16</td>\n",
       "      <td>1.369519e+16</td>\n",
       "      <td>6.929351e+08</td>\n",
       "      <td>NaN</td>\n",
       "      <td>NaN</td>\n",
       "      <td>NaN</td>\n",
       "    </tr>\n",
       "    <tr>\n",
       "      <th>min</th>\n",
       "      <td>3.193999e+17</td>\n",
       "      <td>3.241139e+17</td>\n",
       "      <td>8.577610e+05</td>\n",
       "      <td>NaN</td>\n",
       "      <td>NaN</td>\n",
       "      <td>NaN</td>\n",
       "    </tr>\n",
       "    <tr>\n",
       "      <th>25%</th>\n",
       "      <td>5.682742e+17</td>\n",
       "      <td>5.670718e+17</td>\n",
       "      <td>1.385734e+07</td>\n",
       "      <td>NaN</td>\n",
       "      <td>NaN</td>\n",
       "      <td>NaN</td>\n",
       "    </tr>\n",
       "    <tr>\n",
       "      <th>50%</th>\n",
       "      <td>5.723475e+17</td>\n",
       "      <td>5.728788e+17</td>\n",
       "      <td>1.385734e+07</td>\n",
       "      <td>NaN</td>\n",
       "      <td>NaN</td>\n",
       "      <td>NaN</td>\n",
       "    </tr>\n",
       "    <tr>\n",
       "      <th>75%</th>\n",
       "      <td>5.895577e+17</td>\n",
       "      <td>5.944008e+17</td>\n",
       "      <td>1.385734e+07</td>\n",
       "      <td>NaN</td>\n",
       "      <td>NaN</td>\n",
       "      <td>NaN</td>\n",
       "    </tr>\n",
       "    <tr>\n",
       "      <th>max</th>\n",
       "      <td>6.183671e+17</td>\n",
       "      <td>6.036935e+17</td>\n",
       "      <td>3.294745e+09</td>\n",
       "      <td>NaN</td>\n",
       "      <td>NaN</td>\n",
       "      <td>NaN</td>\n",
       "    </tr>\n",
       "  </tbody>\n",
       "</table>\n",
       "</div>"
      ],
      "text/plain": [
       "            Tweet_ID      Previous       User_ID                   Text  \\\n",
       "count   6.667000e+03  3.564000e+03  6.667000e+03  6667                    \n",
       "unique NaN           NaN           NaN            6667                    \n",
       "top    NaN           NaN           NaN            @bryneaux i hate cats   \n",
       "freq   NaN           NaN           NaN            1                       \n",
       "mean    5.770472e+17  5.768513e+17  2.585746e+08  NaN                     \n",
       "std     1.447716e+16  1.369519e+16  6.929351e+08  NaN                     \n",
       "min     3.193999e+17  3.241139e+17  8.577610e+05  NaN                     \n",
       "25%     5.682742e+17  5.670718e+17  1.385734e+07  NaN                     \n",
       "50%     5.723475e+17  5.728788e+17  1.385734e+07  NaN                     \n",
       "75%     5.895577e+17  5.944008e+17  1.385734e+07  NaN                     \n",
       "max     6.183671e+17  6.036935e+17  3.294745e+09  NaN                     \n",
       "\n",
       "       Expert_Label              Amateur_Label  \n",
       "count   6667         6667                       \n",
       "unique  4            150                        \n",
       "top     neither      [neither,neither,neither]  \n",
       "freq    5729         4215                       \n",
       "mean    NaN          NaN                        \n",
       "std     NaN          NaN                        \n",
       "min     NaN          NaN                        \n",
       "25%     NaN          NaN                        \n",
       "50%     NaN          NaN                        \n",
       "75%     NaN          NaN                        \n",
       "max     NaN          NaN                        "
      ]
     },
     "execution_count": 9,
     "metadata": {},
     "output_type": "execute_result"
    }
   ],
   "source": [
    "df2.describe(include='all')"
   ]
  },
  {
   "cell_type": "code",
   "execution_count": 10,
   "metadata": {
    "collapsed": false
   },
   "outputs": [
    {
     "data": {
      "text/plain": [
       "<matplotlib.axes._subplots.AxesSubplot at 0x107ee1250>"
      ]
     },
     "execution_count": 10,
     "metadata": {},
     "output_type": "execute_result"
    },
    {
     "data": {
      "image/png": "[encoded data removed]",
      "text/plain": [
       "<matplotlib.figure.Figure at 0x107ed7890>"
      ]
     },
     "metadata": {},
     "output_type": "display_data"
    }
   ],
   "source": [
    "%matplotlib inline\n",
    "df2['Expert_Label'].value_counts().plot(kind=\"bar\")"
   ]
  },
  {
   "cell_type": "markdown",
   "metadata": {},
   "source": [
    "#### Label: Sexism"
   ]
  },
  {
   "cell_type": "code",
   "execution_count": 28,
   "metadata": {
    "collapsed": false
   },
   "outputs": [
    {
     "data": {
      "text/plain": [
       "631    @nat_com1 @Feminazi_Front No. However, we do have unequal biology. I'm not the one who thinks its worth complaining about.                  \n",
       "656    Feminazi's taking over Atheism. @ChaiKnight                                                                                                 \n",
       "596    @mosqeptiq @hale_razor if she picks @SenWarren to be her VP, I will take comfort in the collective implosion of feminazi vaginas everywhere.\n",
       "457    I love it when men open doors for me. But then I'm a lady and not a feminazi. http://t.co/RiAI2yRQEb                                        \n",
       "301    @LabourNorthWest @UKLabour @Y_FovargueMP @JulieForBurnley Ah the feminazi battle bus invading a town near you soon!                         \n",
       "355    Wow! Basically all men are responsible for rape unless they are manginas http://t.co/CpRvdWEqu9 #BlameOneNotAll                             \n",
       "747    @HPluckrose @Feminazi_Front they might/could do                                                                                             \n",
       "277    Absolutely #blondemoment #MKR                                                                                                               \n",
       "199    @Bourgholtzer feminazi                                                                                                                      \n",
       "297    @ng_geist @TheMercedesXXX @GailDines I honestly have to wonder if any of these feminazi types are for real. :P                              \n",
       "Name: Text, dtype: object"
      ]
     },
     "execution_count": 28,
     "metadata": {},
     "output_type": "execute_result"
    }
   ],
   "source": [
    "df2[df2['Expert_Label'] == 'sexism'].sample(n=10)['Text']"
   ]
  },
  {
   "cell_type": "markdown",
   "metadata": {},
   "source": [
    "#### Label: Racism"
   ]
  },
  {
   "cell_type": "code",
   "execution_count": 12,
   "metadata": {
    "collapsed": false
   },
   "outputs": [
    {
     "data": {
      "text/plain": [
       "48     They warned me Australians were racist. Who knew they were this bad!! #wtf #coles #coon… https://t.co/tMgTG8hD5J                            \n",
       "64     RT @SwiftOnSecurity: Kids these days will never know open WiFi with everything going over HTTP. And net send. Oh my god. net send. What glo…\n",
       "59     RT @vex0rian: #BlameOneNotAll because the problem is clearly not systemic at all. That's why all problems ended 1000 years ago when the onl…\n",
       "101    Company profile CLAY COUNTY AKC COON HUNTERS CLUB, INC. - http://t.co/kXadsg15Jb #CLAY #COUNTY #AKC #COON #HUNTERS #CLUB, #INC.             \n",
       "40     Thank u God for blessing real #hustlers &amp; for real niggas #MEEKMILLSEASON s/o #Coon #... (Vine by TheTheoryis) https://t.co/ed0k1K7pkm  \n",
       "109    RT @ShawnaB_Me: Can we re-retire the word #Coon                                                                                             \n",
       "96     A new low for extremist #Qatari @AJArabic . Iran is behind terror attack on Shia #Arab mosque in #Qatif http://t.co/XgVcN62i0R @StateDept   \n",
       "86     RT @loveucats: 😘😻#cat #mainecoon #cute #kitten #best_cats #coon #relax #meow #funny #fun #tiger… http://t.co/M9K1gElGXR http://t.…        \n",
       "63     #Sprint is #Hiring! #Retail #Sales #Associate #Job in #Coon Rapids #MN Apply now! http://t.co/0ISep8dx84                                    \n",
       "57     #coon http://t.co/0cOnlI7XtT                                                                                                                \n",
       "Name: Text, dtype: object"
      ]
     },
     "execution_count": 12,
     "metadata": {},
     "output_type": "execute_result"
    }
   ],
   "source": [
    "df2[df2['Expert_Label'] == 'racism'].sample(n=10)['Text']"
   ]
  },
  {
   "cell_type": "markdown",
   "metadata": {},
   "source": [
    "#### Label: Both"
   ]
  },
  {
   "cell_type": "code",
   "execution_count": 13,
   "metadata": {
    "collapsed": false
   },
   "outputs": [
    {
     "data": {
      "text/plain": [
       "33    @SwarajyaMag #GermanProfessor gives meaning to term FemiNazi.Doesn't hire \"Indian Men\" bcz of \"Indias's Rape Problem\" http://t.co/zyvMzmeEA6     \n",
       "20    I'm not worried about a bitch that live with her mother you can't even get a place in your name you got rules stay in a child's place #COON      \n",
       "9     Whoever you're TOLD you're #persecuting, are persecuting YOU. eg #LGBT #Feminazi, Ashkenazi fake Jews [#JEWFS] http://t.co/GCMR2KgIWA            \n",
       "24    Erol exposes the #Feminazi groomed by Zionist Jews to join them in hell, for eternity, as #misery craves company &gt;&gt; https://t.co/2ootOyI4gj\n",
       "11    Hey @rosemcgowan why not fight a real enemy like islams treatment of women? Oh that's right ,would require a spine. Talentless twat feminazi     \n",
       "3     If you believe a #holohoax or #gays, LGBT &amp; #Feminazi are persecuted; buy a Towel ⇒ http://t.co/iHhcrVAxm2 http://t.co/kRWGfEBsN7            \n",
       "8     RT @ChrisWarcraft: I would rather lose 100k followers by standing up for others in a bad position than gain 100 by keeping my mouth shut fo…     \n",
       "23    Abandon #HateBritain, the #JewfnitedState &amp; their #LGBT, #Feminazi, #Pigs &amp; #PaedophileRing http://t.co/OmAmKf6SHS                       \n",
       "14    RT @ChopraTP: #GermanProfessor gives meaning to term FemiNazi.Doesn't hire \"Indian Men\" bcz of \"Indias's Rape Problem\" http://t.co/zyvMzmeE…     \n",
       "31    \"@931wzak: Don Lemon Defends N-Word Singing Oklahoma Frat Mom http://t.co/qreIfmwbrc http://t.co/zyJvrqKIKt\" #coon                               \n",
       "Name: Text, dtype: object"
      ]
     },
     "execution_count": 13,
     "metadata": {},
     "output_type": "execute_result"
    }
   ],
   "source": [
    "df2[df2['Expert_Label'] == 'both'].sample(n=10)['Text']"
   ]
  },
  {
   "cell_type": "code",
   "execution_count": 15,
   "metadata": {
    "collapsed": false
   },
   "outputs": [
    {
     "data": {
      "text/plain": [
       "4991    cohen coon PowerPoint Slides - http://t.co/Khz2GOdiwf #cohen #coon                                                                       \n",
       "3574    @HardLuckRabbit i'm really short. That has appeal.                                                                                       \n",
       "5768    it's vaguely terrifying even just committing a planning doc. https://t.co/gL3zWg26Kt                                                     \n",
       "1043    Making the change it takes to make change. http://t.co/ehybqdrR3r                                                                        \n",
       "6666    I am sorry, journalists, but this is kind of a place for me to just vent. &gt;.&gt; i like you, i really do, but not for this. &lt;3     \n",
       "4707    @tomdcc nothing will ever be perfect, but this is a good start towards fixing a HUGE percentage of harassment.                           \n",
       "5575    @albertinho thank you for making the petition. ^.^                                                                                       \n",
       "2191    @funjon that's... actually kind of interesting. i'll give them a call later next week. i need to talk to them anyways.                   \n",
       "4264    @GlennF @a_man_in_black maltese/cocker spaniel mix. :)                                                                                   \n",
       "1778    @MrTheGeoff that is not a question i can answer at this moment in time. :) the most i can say is that i've been in meetings at twitterhq.\n",
       "Name: Text, dtype: object"
      ]
     },
     "execution_count": 15,
     "metadata": {},
     "output_type": "execute_result"
    }
   ],
   "source": [
    "df2[df2['Expert_Label'] == 'neither'].sample(n=10)['Text']"
   ]
  },
  {
   "cell_type": "code",
   "execution_count": 25,
   "metadata": {
    "collapsed": false
   },
   "outputs": [
    {
     "data": {
      "text/plain": [
       "3998"
      ]
     },
     "execution_count": 25,
     "metadata": {},
     "output_type": "execute_result"
    }
   ],
   "source": [
    "df[df['Label'] == 'sexism'][\"Text\"].count() + df2[df2['Expert_Label'] == 'sexism'][\"Text\"].count() + df2[df2['Expert_Label'] == 'both'][\"Text\"].count()"
   ]
  },
  {
   "cell_type": "code",
   "execution_count": 26,
   "metadata": {
    "collapsed": false
   },
   "outputs": [
    {
     "data": {
      "text/plain": [
       "2062"
      ]
     },
     "execution_count": 26,
     "metadata": {},
     "output_type": "execute_result"
    }
   ],
   "source": [
    "df[df['Label'] == 'racism'][\"Text\"].count() + df2[df2['Expert_Label'] == 'racism'][\"Text\"].count() + df2[df2['Expert_Label'] == 'both'][\"Text\"].count()"
   ]
  },
  {
   "cell_type": "code",
   "execution_count": 27,
   "metadata": {
    "collapsed": false
   },
   "outputs": [
    {
     "data": {
      "text/plain": [
       "16844"
      ]
     },
     "execution_count": 27,
     "metadata": {},
     "output_type": "execute_result"
    }
   ],
   "source": [
    "df[df['Label'] == 'none'][\"Text\"].count() + df2[df2['Expert_Label'] == 'neither'][\"Text\"].count()"
   ]
  },
  {
   "cell_type": "code",
   "execution_count": null,
   "metadata": {
    "collapsed": true
   },
   "outputs": [],
   "source": []
  }
 ],
 "metadata": {
  "anaconda-cloud": {},
  "kernelspec": {
   "display_name": "Python [conda env:tensorflow]",
   "language": "python",
   "name": "conda-env-tensorflow-py"
  },
  "language_info": {
   "codemirror_mode": {
    "name": "ipython",
    "version": 2
   },
   "file_extension": ".py",
   "mimetype": "text/x-python",
   "name": "python",
   "nbconvert_exporter": "python",
   "pygments_lexer": "ipython2",
   "version": "2.7.12"
  }
 },
 "nbformat": 4,
 "nbformat_minor": 1
}
