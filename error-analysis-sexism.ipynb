{
 "cells": [
  {
   "cell_type": "markdown",
   "metadata": {},
   "source": [
    "# Error analysis"
   ]
  },
  {
   "cell_type": "markdown",
   "metadata": {},
   "source": [
    "## Load Pretrained model"
   ]
  },
  {
   "cell_type": "code",
   "execution_count": 1,
   "metadata": {
    "collapsed": true
   },
   "outputs": [],
   "source": [
    "import tensorflow as tf\n",
    "import numpy as np"
   ]
  },
  {
   "cell_type": "code",
   "execution_count": 2,
   "metadata": {
    "collapsed": true
   },
   "outputs": [],
   "source": [
    "saver_paths = [\"./logs/sf2/char/ckpt\", \"./logs/sf2/word/ckpt\", \"./logs/sf2/hybrid/ckpt\"]\n",
    "checkpoint_files = list(map(tf.train.get_checkpoint_state, saver_paths))"
   ]
  },
  {
   "cell_type": "code",
   "execution_count": 3,
   "metadata": {
    "collapsed": false
   },
   "outputs": [
    {
     "data": {
      "text/plain": [
       "[model_checkpoint_path: \"/home/homes/jhpark/hate-speech/logs/sf2/char/ckpt/model-final.ckpt\"\n",
       " all_model_checkpoint_paths: \"/home/homes/jhpark/hate-speech/logs/sf2/char/ckpt/model-final.ckpt\",\n",
       " model_checkpoint_path: \"/home/homes/jhpark/hate-speech/logs/sf2/word/ckpt/model-final.ckpt\"\n",
       " all_model_checkpoint_paths: \"/home/homes/jhpark/hate-speech/logs/sf2/word/ckpt/model-final.ckpt\",\n",
       " model_checkpoint_path: \"/home/homes/jhpark/hate-speech/logs/sf2/hybrid/ckpt/model-final.ckpt\"\n",
       " all_model_checkpoint_paths: \"/home/homes/jhpark/hate-speech/logs/sf2/hybrid/ckpt/model-final.ckpt\"]"
      ]
     },
     "execution_count": 3,
     "metadata": {},
     "output_type": "execute_result"
    }
   ],
   "source": [
    "checkpoint_files"
   ]
  },
  {
   "cell_type": "code",
   "execution_count": 4,
   "metadata": {
    "collapsed": true
   },
   "outputs": [],
   "source": [
    "# create session for evaluation\n",
    "gpu_options = tf.GPUOptions(per_process_gpu_memory_fraction=0.9)\n",
    "session_conf = tf.ConfigProto(allow_soft_placement=True, gpu_options=gpu_options)\n"
   ]
  },
  {
   "cell_type": "code",
   "execution_count": 5,
   "metadata": {
    "collapsed": false
   },
   "outputs": [
    {
     "name": "stdout",
     "output_type": "stream",
     "text": [
      "\n",
      "Data Summary:\n",
      "Train: Total Positive Labels=3284 (0.2372)\n",
      "Test: Total Positive Labels=580 (0.2371)\n",
      "\n",
      "dataset passed the assertion test\n"
     ]
    }
   ],
   "source": [
    "from data.hybrid import load_data_from_file\n",
    "\n",
    "(x_train, y_train, x_test, y_test, initW, vocab) = load_data_from_file(\"sexism_final2_binary\")\n",
    "word_text_len = x_train[0][\"word\"].shape[0]\n",
    "word_vocab_size = len(vocab.vocabulary_)\n",
    "char_text_len = x_train[0][\"char\"].shape[0]\n",
    "char_vocab_size = x_train[0][\"char\"].shape[1]\n"
   ]
  },
  {
   "cell_type": "code",
   "execution_count": 6,
   "metadata": {
    "collapsed": false
   },
   "outputs": [],
   "source": [
    "from data.hybrid import extract_from_batch\n",
    "\n",
    "batchW, batchC = extract_from_batch(x_test)\n",
    "feed_dicts = []\n",
    "feed_dicts.append({\"input/Placeholder_1:0\": y_test, \"input/Placeholder:0\": batchC, \"nn-layers/fully-connected-layer-0/dropout_1/keras_learning_phase:0\": 0})\n",
    "feed_dicts.append({\"input/labels:0\": y_test, \"input/X:0\": batchW, \"dropout_keep_prob:0\": 1})\n",
    "feed_dicts.append({\"input/labels:0\": y_test, \"input/X_word:0\": batchW, \"input/X_char:0\": batchC, \"dropout_keep_prob:0\": 1})\n",
    "\n",
    "output_names = [\"prediction/prediction\", \"output/prediction\", \"output/prediction\"]"
   ]
  },
  {
   "cell_type": "code",
   "execution_count": 7,
   "metadata": {
    "collapsed": false
   },
   "outputs": [
    {
     "name": "stdout",
     "output_type": "stream",
     "text": [
      "/home/homes/jhpark/hate-speech/logs/sf2/char/ckpt/model-final.ckpt\n",
      "(2446,)\n",
      "/home/homes/jhpark/hate-speech/logs/sf2/word/ckpt/model-final.ckpt\n",
      "(2446,)\n",
      "/home/homes/jhpark/hate-speech/logs/sf2/hybrid/ckpt/model-final.ckpt\n",
      "(2446,)\n"
     ]
    }
   ],
   "source": [
    "preds = []\n",
    "for i, ckpt in enumerate(checkpoint_files):\n",
    "    print(ckpt.all_model_checkpoint_paths[0])\n",
    "    tf.reset_default_graph()\n",
    "    saver = tf.train.import_meta_graph(\"{}.meta\".format(ckpt.all_model_checkpoint_paths[0]))\n",
    "\n",
    "    with tf.Session(config=session_conf) as sess:\n",
    "        saver.restore(sess, ckpt.model_checkpoint_path)\n",
    "        graph = tf.get_default_graph()\n",
    "        pred = sess.run(output_names[i] + \":0\", feed_dicts[i])\n",
    "        print(pred.shape)\n",
    "        preds.append(pred)"
   ]
  },
  {
   "cell_type": "code",
   "execution_count": 8,
   "metadata": {
    "collapsed": false
   },
   "outputs": [
    {
     "name": "stderr",
     "output_type": "stream",
     "text": [
      "Using TensorFlow backend.\n"
     ]
    },
    {
     "name": "stdout",
     "output_type": "stream",
     "text": [
      "precision=0.6703 recall=0.6448 f1=0.6573\n",
      "precision=0.6938 recall=0.6603 f1=0.6767\n",
      "precision=0.6892 recall=0.6845 f1=0.6869\n"
     ]
    }
   ],
   "source": [
    "from model.helper import calculate_metrics\n",
    "for pred in preds:\n",
    "    precision, recall, f1 = calculate_metrics(y_test, pred)\n",
    "    print(\"precision=%.4f recall=%.4f f1=%.4f\" % (precision, recall, f1))"
   ]
  },
  {
   "cell_type": "markdown",
   "metadata": {},
   "source": [
    "since the metrics are same as the final output, we can validate that the pre-trained model has been loaded successfully"
   ]
  },
  {
   "cell_type": "markdown",
   "metadata": {},
   "source": [
    "## Load original test data"
   ]
  },
  {
   "cell_type": "code",
   "execution_count": 9,
   "metadata": {
    "collapsed": true
   },
   "outputs": [],
   "source": [
    "from data.preprocess import load_from_file\n",
    "data = load_from_file(\"sexism_final2_binary\")"
   ]
  },
  {
   "cell_type": "code",
   "execution_count": 10,
   "metadata": {
    "collapsed": false
   },
   "outputs": [
    {
     "data": {
      "text/plain": [
       "array(['time to cheer on twinners on mkr! learn more about them here:',\n",
       "       'annie and lloyd wonder why no one is lining up.. who the eff eats meatballs for breakfast.. mkr',\n",
       "       '\"@nasalasercomm: what do lasercomm and thedress have in common? nasa\\'s getting in to it too!',\n",
       "       \"i've always wanted one of those huge english hats. the kind you see royalty wearing.\",\n",
       "       'their house situation is so weird tho. i am not for walking across a park to get to the front door! mkr',\n",
       "       'lol which salty reject started blameonenotall', 'fuck. yes.',\n",
       "       'while i\\'m in rant mode can i also address the term \"feminazi\"?',\n",
       "       \"it's free food. seriously, they don't care mkr\",\n",
       "       'rape is not a rhetorical device. rape is not a rhetorical device. rape is not a rhetorical device.'], \n",
       "      dtype='<U147')"
      ]
     },
     "execution_count": 10,
     "metadata": {},
     "output_type": "execute_result"
    }
   ],
   "source": [
    "data[\"x_test\"][:10]"
   ]
  },
  {
   "cell_type": "code",
   "execution_count": 11,
   "metadata": {
    "collapsed": false
   },
   "outputs": [
    {
     "data": {
      "text/plain": [
       "['timetocheerontwinnersonmkr!learnmoreaboutthemhere:',\n",
       " 'annieandlloydwonderwhynooneisliningup..whotheeffeatsmeatballsforbreakfast..mkr',\n",
       " '@nasalasercomm:whatdolasercommandthedresshaveincommon?nasasgettingintoittoo!',\n",
       " 'ivealwayswantedoneofthosehugeenglishhats.thekindyouseeroyaltywearing.',\n",
       " 'theirhousesituationissoweirdtho.iamnotforwalkingacrossaparktogettothefrontdoor!mkr',\n",
       " 'lolwhichsaltyrejectstartedblameonenotall',\n",
       " 'fuck.yes.',\n",
       " 'whileiminrantmodecanialsoaddressthetermfeminazi?',\n",
       " 'itsfreefood.seriously,theydontcaremkr',\n",
       " 'rapeisnotarhetoricaldevice.rapeisnotarhetoricaldevice.rapeisnotarhetoricaldevice.']"
      ]
     },
     "execution_count": 11,
     "metadata": {},
     "output_type": "execute_result"
    }
   ],
   "source": [
    "from data.char import one_hot_to_chars\n",
    "[\"\".join(one_hot_to_chars(x)) for x in batchC[:10]]"
   ]
  },
  {
   "cell_type": "markdown",
   "metadata": {},
   "source": [
    "## Loading Baseline"
   ]
  },
  {
   "cell_type": "code",
   "execution_count": 12,
   "metadata": {
    "collapsed": true
   },
   "outputs": [],
   "source": [
    "import numpy as np\n",
    "from sklearn.linear_model import LinearRegression\n",
    "from data.preprocess import load_from_file\n",
    "from sklearn.feature_extraction.text import CountVectorizer, TfidfTransformer"
   ]
  },
  {
   "cell_type": "code",
   "execution_count": 13,
   "metadata": {
    "collapsed": true
   },
   "outputs": [],
   "source": [
    "def evaluate(pred_scores, target):\n",
    "    pred = list(map(lambda x: 1 if x >= 0.5 else 0, pred_scores))\n",
    "    precision, recall, f1 = calculate_metrics(target, pred)\n",
    "    print(\"Training: Precision=%.2f Recall=%.2f, F1=%.2f\" %(precision, recall, f1))\n",
    "    return f1"
   ]
  },
  {
   "cell_type": "code",
   "execution_count": 14,
   "metadata": {
    "collapsed": true
   },
   "outputs": [],
   "source": [
    "def lr_with_freq(data):\n",
    "    vect = CountVectorizer(ngram_range=(2,5), analyzer=\"char\")\n",
    "    X_train_counts = vect.fit_transform(data[\"x_train\"])\n",
    "    print(X_train_counts.shape)\n",
    "    \n",
    "    tfidf_transformer = TfidfTransformer()\n",
    "    X_train_tfidf = tfidf_transformer.fit_transform(X_train_counts)\n",
    "    \n",
    "    lr = LinearRegression().fit(X_train_tfidf, data[\"y_train\"])\n",
    "    evaluate(lr.predict(X_train_tfidf), data[\"y_train\"])\n",
    "    \n",
    "    X_test_counts = vect.transform(data[\"x_test\"])\n",
    "    pred_scores = lr.predict(tfidf_transformer.transform(X_test_counts))\n",
    "    evaluate(pred_scores, data[\"y_test\"])\n",
    "    return lr, pred_scores"
   ]
  },
  {
   "cell_type": "code",
   "execution_count": 15,
   "metadata": {
    "collapsed": false
   },
   "outputs": [
    {
     "name": "stdout",
     "output_type": "stream",
     "text": [
      "(13846, 214687)\n",
      "Training: Precision=0.98 Recall=0.98, F1=0.98\n",
      "Training: Precision=0.70 Recall=0.63, F1=0.66\n"
     ]
    }
   ],
   "source": [
    "_, baseline_pred = lr_with_freq(data)"
   ]
  },
  {
   "cell_type": "code",
   "execution_count": 16,
   "metadata": {
    "collapsed": true
   },
   "outputs": [],
   "source": [
    "baseline_pred = list(map(lambda x: 1 if x >= 0.5 else 0, baseline_pred))"
   ]
  },
  {
   "cell_type": "code",
   "execution_count": 17,
   "metadata": {
    "collapsed": false
   },
   "outputs": [
    {
     "data": {
      "text/plain": [
       "2446"
      ]
     },
     "execution_count": 17,
     "metadata": {},
     "output_type": "execute_result"
    }
   ],
   "source": [
    "len(baseline_pred)"
   ]
  },
  {
   "cell_type": "markdown",
   "metadata": {},
   "source": [
    "## Baseline vs CNN"
   ]
  },
  {
   "cell_type": "code",
   "execution_count": 42,
   "metadata": {
    "collapsed": false
   },
   "outputs": [],
   "source": [
    "both_word_right = []\n",
    "both_word_wrong = []\n",
    "for i in range(len(baseline_pred)):\n",
    "    if baseline_pred[i] == char_pred[i] and char_pred[i] == 0 and word_pred[i] == 1 and y_test[i] == 1:\n",
    "        both_word_right.append(data[\"x_test\"][i])\n",
    "    if char_pred[i] == 1 and word_pred[i] == 0  and y_test[i] == 1:\n",
    "        both_word_wrong.append(data[\"x_test\"][i])\n",
    "    \n",
    "                             "
   ]
  },
  {
   "cell_type": "code",
   "execution_count": 43,
   "metadata": {
    "collapsed": false
   },
   "outputs": [
    {
     "data": {
      "text/plain": [
       "['do men pretend to give birth? no? then women should stop pretending to make a difference in politics.',\n",
       " 'so what you are saying is, only women get raped? never knew rape was a culture either. good to know.',\n",
       " \".@notchrissmith free market. they get what they negotiate. producers feel it's fair or not. the actor/actress can accept or not. askhermore\",\n",
       " 'certain threads: 👦 tech isn’t sexist 👧 yes it is 👦 no it isn’t 👧👧 yes it is 👦 no it isn’t 👧👧👧 yes it is 👦 no it isn’t 👧👧👧👧 …',\n",
       " 'katie and nikki go down. maybe not well. but down none the less. mkr',\n",
       " \"katieandnikki stop calling yourselves pretty and hot..you're not and saying it a million times doesn't make you either...stfu mkr\",\n",
       " \"i know it's hard for a jihadi bitch to understand but reading comprehension is all that is required.\",\n",
       " 'i see you use social media. i want all social media sites to go down for a week just to see how the girls react. notsexist',\n",
       " \"sexist is when people don't go because it's women. people aren't going because it's of a poor qua…\",\n",
       " 'kat is actually psychotic. off mkr into a psychiatric ward mkr',\n",
       " 'how is that rotten egg kat not in sudden death?! mkr',\n",
       " 'if being pro-due process makes you pro-rape, does being anti-death penalty make you pro-murder?',\n",
       " 'really you acted surprise? wow thats low kat mkr',\n",
       " 'these are deash guns, cunt.',\n",
       " \"your face isn't a excuse you self righteous son of a bitch. oh and don't worry i wasn't referring to your mo…\",\n",
       " 'and i still prefer kat to freakshow annie mkr',\n",
       " \"did she really just tell them that in order to walk you just 'put one foot in front of the other'? mkr\",\n",
       " 'i need a drink or 5. watching &amp; listening to kat just does my head in mkr2015 mkr',\n",
       " 'mkr nikki has hot teeth',\n",
       " 'girls should know guys over protective with his thing, especially his girl. he doesnt like sharing',\n",
       " '\"google false rape accusation 41%\" might work.',\n",
       " 'i dozed off and missed mkr let me guess, kat was a see you next tuesday? 😉',\n",
       " \"kat you don't look suspicious at all! mkr\",\n",
       " \"why is kat over there looking smug? she can't even cook. mkr\",\n",
       " 'sorry killerblondes but you are a long long way from refined. mkr',\n",
       " \"£34,000 is £9000 above the national average wage plus it's tax free...\",\n",
       " 'i hate when u open the door for a hot chick and then her ugly friend wants u to keep it open for her. bitch open it your…']"
      ]
     },
     "execution_count": 43,
     "metadata": {},
     "output_type": "execute_result"
    }
   ],
   "source": [
    "both_word_right"
   ]
  },
  {
   "cell_type": "markdown",
   "metadata": {},
   "source": [
    "### Char vs Word"
   ]
  },
  {
   "cell_type": "code",
   "execution_count": 18,
   "metadata": {
    "collapsed": true
   },
   "outputs": [],
   "source": [
    "char_pred = preds[0]\n",
    "word_pred = preds[1]\n",
    "hybrid_pred = preds[2]\n"
   ]
  },
  {
   "cell_type": "code",
   "execution_count": 19,
   "metadata": {
    "collapsed": false
   },
   "outputs": [],
   "source": [
    "word_right = []\n",
    "word_wrong = []\n",
    "for i in range(len(baseline_pred)):\n",
    "    if char_pred[i] == 0 and word_pred[i] == 1 and y_test[i] == 1:\n",
    "        word_right.append(data[\"x_test\"][i])\n",
    "    if char_pred[i] == 1 and word_pred[i] == 0  and y_test[i] == 1:\n",
    "        word_wrong.append(data[\"x_test\"][i])\n",
    "    \n",
    "                             "
   ]
  },
  {
   "cell_type": "code",
   "execution_count": 20,
   "metadata": {
    "collapsed": false
   },
   "outputs": [
    {
     "data": {
      "text/plain": [
       "47"
      ]
     },
     "execution_count": 20,
     "metadata": {},
     "output_type": "execute_result"
    }
   ],
   "source": [
    "len(word_right)"
   ]
  },
  {
   "cell_type": "code",
   "execution_count": 21,
   "metadata": {
    "collapsed": false
   },
   "outputs": [
    {
     "data": {
      "text/plain": [
       "38"
      ]
     },
     "execution_count": 21,
     "metadata": {},
     "output_type": "execute_result"
    }
   ],
   "source": [
    "len(word_wrong)"
   ]
  },
  {
   "cell_type": "code",
   "execution_count": 22,
   "metadata": {
    "collapsed": false
   },
   "outputs": [
    {
     "data": {
      "text/plain": [
       "['do men pretend to give birth? no? then women should stop pretending to make a difference in politics.',\n",
       " 'so what you are saying is, only women get raped? never knew rape was a culture either. good to know.',\n",
       " \".@notchrissmith free market. they get what they negotiate. producers feel it's fair or not. the actor/actress can accept or not. askhermore\",\n",
       " 'go hot girls!!! mkr',\n",
       " 'certain threads: 👦 tech isn’t sexist 👧 yes it is 👦 no it isn’t 👧👧 yes it is 👦 no it isn’t 👧👧👧 yes it is 👦 no it isn’t 👧👧👧👧 …',\n",
       " \"the baby doesn't have a dad in her life and her mom is a whore. this is a future stripper of america in the making\",\n",
       " \"i'm gonna gouge my eyes out if this bitch doesn't get off mkr catandandre\",\n",
       " 'katie and nikki go down. maybe not well. but down none the less. mkr',\n",
       " \"katieandnikki stop calling yourselves pretty and hot..you're not and saying it a million times doesn't make you either...stfu mkr\",\n",
       " \"i know it's hard for a jihadi bitch to understand but reading comprehension is all that is required.\",\n",
       " 'i see you use social media. i want all social media sites to go down for a week just to see how the girls react. notsexist',\n",
       " \"sexist is when people don't go because it's women. people aren't going because it's of a poor qua…\",\n",
       " 'kat is actually psychotic. off mkr into a psychiatric ward mkr',\n",
       " 'kat is the king joffrey of mkr',\n",
       " 'how is that rotten egg kat not in sudden death?! mkr',\n",
       " 'if being pro-due process makes you pro-rape, does being anti-death penalty make you pro-murder?',\n",
       " 'mkr do the blondes keep pronouncing \"porno models\" incorrectly ? actually that\\'s harsh, sorry to all the ladies in the porn biz !',\n",
       " 'really you acted surprise? wow thats low kat mkr',\n",
       " \"you just said men don't need equality.\",\n",
       " 'these are deash guns, cunt.',\n",
       " \"your face isn't a excuse you self righteous son of a bitch. oh and don't worry i wasn't referring to your mo…\",\n",
       " \"it's not kat and andre - it's cuntandandre tweeps ! get the hashtag going! mkr\",\n",
       " 'and i still prefer kat to freakshow annie mkr',\n",
       " 'i ask this every year. so looking forward to the older blonde. cue geggy tah \"whoever you are\" mkr',\n",
       " 'iloveobama for knowingly retelling the wage gap myth &amp; 1in5 myth plus blaming all men for rape via itsonus all to prop up hillary 2016.',\n",
       " \"did she really just tell them that in order to walk you just 'put one foot in front of the other'? mkr\",\n",
       " 'i need a drink or 5. watching &amp; listening to kat just does my head in mkr2015 mkr',\n",
       " 'every girl should be sad for not being a boy',\n",
       " 'can you explain what that 77 refers to?',\n",
       " 'wow! basically all men are responsible for rape unless they are manginas blameonenotall',\n",
       " 'she blocked me and i blocked her, why is that sexual abuse apologist in my tl?',\n",
       " 'mkr nikki has hot teeth',\n",
       " 'girls should know guys over protective with his thing, especially his girl. he doesnt like sharing',\n",
       " '\"google false rape accusation 41%\" might work.',\n",
       " 'i dozed off and missed mkr let me guess, kat was a see you next tuesday? 😉',\n",
       " \"kat you don't look suspicious at all! mkr\",\n",
       " \"why is kat over there looking smug? she can't even cook. mkr\",\n",
       " 'i scream \"what a dumb cunt\" at the contestants on mkr way too much for someone who just over-salted a cucumber.',\n",
       " 'kat is a sociopath mkr',\n",
       " 'sorry killerblondes but you are a long long way from refined. mkr',\n",
       " \"£34,000 is £9000 above the national average wage plus it's tax free...\",\n",
       " '.@marciacrocker01 ..mistake. i find both abortion &amp; child abandonment detestable. but, if one gets an awful choice, both must',\n",
       " \"oh shut up kat! can't stand her grrrrrr mkr\",\n",
       " 'i hate when u open the door for a hot chick and then her ugly friend wants u to keep it open for her. bitch open it your…',\n",
       " \"separate conversations. she told a guy concerned about circumcision that he can't get laid. exactly what she whined about.\",\n",
       " 'guys who sell drugs get more girls than guys with degrees, but that says more about women than men ☕️🐸',\n",
       " \"you're a moderator of a bigbang fansite, shouldn't you be more objective? seriously, sometimes girls can't think properly.\"]"
      ]
     },
     "execution_count": 22,
     "metadata": {},
     "output_type": "execute_result"
    }
   ],
   "source": [
    "word_right"
   ]
  },
  {
   "cell_type": "code",
   "execution_count": 23,
   "metadata": {
    "collapsed": false
   },
   "outputs": [
    {
     "data": {
      "text/plain": [
       "['oh...like the new name, btw...\"punching down\" another inane tool they use to silence dissent...and facts...and logic.',\n",
       " \"omg kat! calling them suckers? i can't wait to see what they said about your slop... who's the suckers now? ha-ha!!! mkr...\",\n",
       " 'you know kat and andre are awful when i want katie and nikki to go through mkr',\n",
       " \"...a mf'ing state of the union invite.\",\n",
       " 'the feminazi pigs will always run into a battering ram and pulpify, because this is an environment never designed for them to win in.',\n",
       " \".@mt8_9 fathers who can't pay child support is the only noncombatant group who can be …\",\n",
       " \"i said it for months. didn't know how good mckinnon was...\",\n",
       " 'the amount of times i wonder where people got their licenses is directly proportional to the number of female drivers o…',\n",
       " 'you should be able to save from here...right click or hold down on them and you should get a save option.',\n",
       " '...as a result there is a possible supply of 100% of the population for all \"female\" jobs vs. maybe 20% for some \"male\" jobs.',\n",
       " \"blameonenotall for all feminist's talk of not hating men,they sure come out in force when men dare speak about what affects em.\",\n",
       " \"have you ever had a female judge outraged at you for not paying child support for someone else's\",\n",
       " 'your cooking is still shit kat mkr',\n",
       " 'honestly. some of the rougher female heads on tv are compiled right here mkr',\n",
       " \"meh...if myers regains form, you'll forget he ever existed. armia and lemieux are great assets.\",\n",
       " 'yeah. my eye opener was a pay gap article. i know a little about econ...tried to explain why it was math, not sexism. but...',\n",
       " 'familiar w/ it. insane. patriarchy has clearly failed this man...',\n",
       " 'adviceforyoungfeminists isis is killing people, our solution, \"teach isis not to kill\"',\n",
       " 'to each their own...commenting more on the power dynamic of male fems vs fems etc',\n",
       " '.@pelorshope dunno...ran out of characters...meant which other character in the 1986 transformers movies did he voice?',\n",
       " \"it's obvious the blonde bimbos make better tv according to channel 7. shit cooks mkr\",\n",
       " 'feminist shirt never gets tossed. but no shock...fems own our schools.',\n",
       " 'howtospotafeminist licking all the video games to claim them &amp; leave her scent. peeing standing up is still problematic, so we compromised.',\n",
       " \"wow, this woman's cousin deserves a trophy for not abusing her! blameonenotall the dumbest hashtag i've ever seen\",\n",
       " '.@trishesdishes can you be legally forced into parental obligations? can your genitals be cut at birth? does your right to vote have an *?',\n",
       " \"you know that's pure propaganda for dumb people right?\",\n",
       " 'no as says it\\'s just \"school policy\" to deny legal rights to people who look like rapists. \"rapial profiling\" duh.',\n",
       " 'so i take it katie is a plus size model right? mkr',\n",
       " 'mkr praying these two bloody bimbos will leave the comp in the next round',\n",
       " 'what is often *called* feminism now is not what is defined by the dictionary. same thing',\n",
       " 'seriously.. sa vs sa i will have to go for annie and lloyd mkr ugh and kat is back to her nasty self...',\n",
       " \"great. so, you support men's right to financial abortion, cool.\",\n",
       " '.@cooperlewis_ none. i was going to go w/ \"toxic femininity\" or something if they answered but 50shadesisabuse has great plate discipline.',\n",
       " \"honestly... belzer or ric ocasek of the cars...i'm torn...?\",\n",
       " 'no. just listing two of the only degrees more useless than mine...',\n",
       " \"...and whose definition is that anyway, margaret sanger's?\",\n",
       " '.@scarmichael18 so, you will continue to oppose equality no matter the logic...?',\n",
       " 'take a guess...what %?']"
      ]
     },
     "execution_count": 23,
     "metadata": {},
     "output_type": "execute_result"
    }
   ],
   "source": [
    "word_wrong"
   ]
  },
  {
   "cell_type": "markdown",
   "metadata": {},
   "source": [
    "### Word vs Hybrid"
   ]
  },
  {
   "cell_type": "code",
   "execution_count": 24,
   "metadata": {
    "collapsed": true
   },
   "outputs": [],
   "source": [
    "hybrid_right = []\n",
    "hybrid_wrong = []\n",
    "for i in range(len(baseline_pred)):\n",
    "    if word_pred[i] == 0 and hybrid_pred[i] == 1 and y_test[i] == 1:\n",
    "        hybrid_right.append(data[\"x_test\"][i])\n",
    "    if word_pred[i] == 1 and hybrid_pred[i] == 0  and y_test[i] == 1:\n",
    "        hybrid_wrong.append(data[\"x_test\"][i])\n",
    "    \n",
    "                             "
   ]
  },
  {
   "cell_type": "code",
   "execution_count": 25,
   "metadata": {
    "collapsed": false
   },
   "outputs": [
    {
     "data": {
      "text/plain": [
       "['do the killa models give a killa dessert?? mkr',\n",
       " \"omg kat! calling them suckers? i can't wait to see what they said about your slop... who's the suckers now? ha-ha!!! mkr...\",\n",
       " \"mkr annie's never cooked on a bbq before. see...she is an alien.\",\n",
       " 'from zero to \"cunt\" in eight seconds. too bad that word really means \"i\\'m an insecure whiny baby\" and says nothing about me.',\n",
       " 'the feminazi pigs will always run into a battering ram and pulpify, because this is an environment never designed for them to win in.',\n",
       " \".@mt8_9 fathers who can't pay child support is the only noncombatant group who can be …\",\n",
       " 'you should be able to save from here...right click or hold down on them and you should get a save option.',\n",
       " 'kat so full of grace. not. mkr',\n",
       " \"blameonenotall for all feminist's talk of not hating men,they sure come out in force when men dare speak about what affects em.\",\n",
       " \"have you ever had a female judge outraged at you for not paying child support for someone else's\",\n",
       " 'your cooking is still shit kat mkr',\n",
       " 'honestly. some of the rougher female heads on tv are compiled right here mkr',\n",
       " '.@theshujaatali well, i assume you saw my clem ford stuff. no msm will write the truth about her. maybe?',\n",
       " 'yeah. my eye opener was a pay gap article. i know a little about econ...tried to explain why it was math, not sexism. but...',\n",
       " 'she has such an ego that it will kill her in the end: she had option of begging jury for mercy--she refused. nosoul …',\n",
       " 'familiar w/ it. insane. patriarchy has clearly failed this man...',\n",
       " \"is kat sideshow bob's love child?? mkr\",\n",
       " 'her response is pretty terrifying.',\n",
       " \"it's actually only one face. it's just as wide and flat as the front of a townhouse so...easy mistake to make.\",\n",
       " 'feminist shirt never gets tossed. but no shock...fems own our schools.',\n",
       " 'howtospotafeminist licking all the video games to claim them &amp; leave her scent. peeing standing up is still problematic, so we compromised.',\n",
       " '.@trishesdishes can you be legally forced into parental obligations? can your genitals be cut at birth? does your right to vote have an *?',\n",
       " 'with a bit of luck nikki can do some promo work for a dentist and get some free whitening gel. mkr',\n",
       " 'allegedly did hartnells ugly wife.',\n",
       " 'summary of kat-stupid,vicious,aggressive,disrespectful,dishonest,shameless,lack of cooking skills.please feel free to add more. mkr bully',\n",
       " \"i love it when men need to create a system of inequality because they know they can't compete with women at home or at work\",\n",
       " 'so true, all women over 12 should play football, but repeated concussions might make us as stupid as you.',\n",
       " 'what is often *called* feminism now is not what is defined by the dictionary. same thing',\n",
       " 'dude i was just saying that! like [women] know anything about football. lol',\n",
       " 'seriously.. sa vs sa i will have to go for annie and lloyd mkr ugh and kat is back to her nasty self...',\n",
       " \"great. so, you support men's right to financial abortion, cool.\",\n",
       " 'honestly no idea what that is...',\n",
       " '.@cooperlewis_ none. i was going to go w/ \"toxic femininity\" or something if they answered but 50shadesisabuse has great plate discipline.',\n",
       " \"i've finally figured out what she models. camel toes. mkr\",\n",
       " 'kat has an amazing future after mkr i think a role as wicked step mother..... she just needs to age a bit',\n",
       " 'hey or what is talking about? she seems to be trying to imply that au wages are assigned, not negotiated.']"
      ]
     },
     "execution_count": 25,
     "metadata": {},
     "output_type": "execute_result"
    }
   ],
   "source": [
    "hybrid_right"
   ]
  },
  {
   "cell_type": "code",
   "execution_count": 37,
   "metadata": {
    "collapsed": false
   },
   "outputs": [
    {
     "data": {
      "text/plain": [
       "36"
      ]
     },
     "execution_count": 37,
     "metadata": {},
     "output_type": "execute_result"
    }
   ],
   "source": [
    "len(hybrid_right)"
   ]
  },
  {
   "cell_type": "code",
   "execution_count": 26,
   "metadata": {
    "collapsed": false
   },
   "outputs": [
    {
     "data": {
      "text/plain": [
       "[\".@notchrissmith free market. they get what they negotiate. producers feel it's fair or not. the actor/actress can accept or not. askhermore\",\n",
       " 'cuntandandre cuntandandre cuntandandre, here we go again, you strategic arseholes! mkr',\n",
       " 'katie and nikki go down. maybe not well. but down none the less. mkr',\n",
       " \"sexist is when people don't go because it's women. people aren't going because it's of a poor qua…\",\n",
       " 'kat is the king joffrey of mkr',\n",
       " \"females need to stop thinking that they'll be treated exactly the same as males...society wont let it happen factsoflife n…\",\n",
       " \"ladies: i don't think that you can't drive, i just know that you can't park or back out of a parking space. facts notsex…\",\n",
       " 'if being pro-due process makes you pro-rape, does being anti-death penalty make you pro-murder?',\n",
       " 'really you acted surprise? wow thats low kat mkr',\n",
       " 'these are deash guns, cunt.',\n",
       " 'i ask this every year. so looking forward to the older blonde. cue geggy tah \"whoever you are\" mkr',\n",
       " 'every girl should be sad for not being a boy',\n",
       " 'can you explain what that 77 refers to?',\n",
       " 'girls should know guys over protective with his thing, especially his girl. he doesnt like sharing',\n",
       " '\"google false rape accusation 41%\" might work.',\n",
       " '“this is what a feminist looks like?” well, this is what an anti-feminist looks like. rt',\n",
       " \"kat you don't look suspicious at all! mkr\",\n",
       " \"why is kat over there looking smug? she can't even cook. mkr\",\n",
       " 'katie and nikki, nice from afar but far from nice mkr',\n",
       " 'sorry killerblondes but you are a long long way from refined. mkr',\n",
       " \"£34,000 is £9000 above the national average wage plus it's tax free...\",\n",
       " \"you're a moderator of a bigbang fansite, shouldn't you be more objective? seriously, sometimes girls can't think properly.\"]"
      ]
     },
     "execution_count": 26,
     "metadata": {},
     "output_type": "execute_result"
    }
   ],
   "source": [
    "hybrid_wrong"
   ]
  },
  {
   "cell_type": "code",
   "execution_count": 36,
   "metadata": {
    "collapsed": false
   },
   "outputs": [
    {
     "data": {
      "text/plain": [
       "22"
      ]
     },
     "execution_count": 36,
     "metadata": {},
     "output_type": "execute_result"
    }
   ],
   "source": [
    "len(hybrid_wrong)"
   ]
  },
  {
   "cell_type": "code",
   "execution_count": 33,
   "metadata": {
    "collapsed": true
   },
   "outputs": [],
   "source": [
    "correct = 0\n",
    "hybrid_also_correct = 0\n",
    "char_also_correct = 0\n",
    "\n",
    "for i in range(len(baseline_pred)):\n",
    "    if char_pred[i] != y_test[i]:\n",
    "        correct += 1\n",
    "        if word_pred[i] == char_pred[i]:\n",
    "            hybrid_also_correct +=1\n",
    "        if word_pred[i] == char_pred[i]:\n",
    "            char_also_correct +=1\n",
    "                             "
   ]
  },
  {
   "cell_type": "code",
   "execution_count": 34,
   "metadata": {
    "collapsed": false
   },
   "outputs": [
    {
     "data": {
      "text/plain": [
       "0.9425587467362925"
      ]
     },
     "execution_count": 34,
     "metadata": {},
     "output_type": "execute_result"
    }
   ],
   "source": [
    "hybrid_also_correct/correct"
   ]
  },
  {
   "cell_type": "code",
   "execution_count": 35,
   "metadata": {
    "collapsed": false
   },
   "outputs": [
    {
     "data": {
      "text/plain": [
       "0.8772845953002611"
      ]
     },
     "execution_count": 35,
     "metadata": {},
     "output_type": "execute_result"
    }
   ],
   "source": [
    "char_also_correct/correct"
   ]
  },
  {
   "cell_type": "code",
   "execution_count": null,
   "metadata": {
    "collapsed": true
   },
   "outputs": [],
   "source": []
  }
 ],
 "metadata": {
  "anaconda-cloud": {},
  "kernelspec": {
   "display_name": "Python 3",
   "language": "python",
   "name": "python3"
  },
  "language_info": {
   "codemirror_mode": {
    "name": "ipython",
    "version": 3
   },
   "file_extension": ".py",
   "mimetype": "text/x-python",
   "name": "python",
   "nbconvert_exporter": "python",
   "pygments_lexer": "ipython3",
   "version": "3.4.5"
  }
 },
 "nbformat": 4,
 "nbformat_minor": 2
}
